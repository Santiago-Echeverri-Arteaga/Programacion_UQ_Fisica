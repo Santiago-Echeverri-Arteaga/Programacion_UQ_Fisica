{
 "cells": [
  {
   "attachments": {},
   "cell_type": "markdown",
   "metadata": {},
   "source": [
    "# Tabla tipo Excel"
   ]
  },
  {
   "cell_type": "code",
   "execution_count": 4,
   "metadata": {},
   "outputs": [
    {
     "data": {
      "text/html": [
       "<div>\n",
       "<style scoped>\n",
       "    .dataframe tbody tr th:only-of-type {\n",
       "        vertical-align: middle;\n",
       "    }\n",
       "\n",
       "    .dataframe tbody tr th {\n",
       "        vertical-align: top;\n",
       "    }\n",
       "\n",
       "    .dataframe thead th {\n",
       "        text-align: right;\n",
       "    }\n",
       "</style>\n",
       "<table border=\"1\" class=\"dataframe\">\n",
       "  <thead>\n",
       "    <tr style=\"text-align: right;\">\n",
       "      <th></th>\n",
       "      <th>Name</th>\n",
       "      <th>Position</th>\n",
       "      <th>Velocity</th>\n",
       "    </tr>\n",
       "  </thead>\n",
       "  <tbody>\n",
       "    <tr>\n",
       "      <th>0</th>\n",
       "      <td>Alice</td>\n",
       "      <td>1</td>\n",
       "      <td>2.3</td>\n",
       "    </tr>\n",
       "    <tr>\n",
       "      <th>1</th>\n",
       "      <td>Bob</td>\n",
       "      <td>3</td>\n",
       "      <td>4.2</td>\n",
       "    </tr>\n",
       "    <tr>\n",
       "      <th>2</th>\n",
       "      <td>Charles</td>\n",
       "      <td>5</td>\n",
       "      <td>6.0</td>\n",
       "    </tr>\n",
       "    <tr>\n",
       "      <th>3</th>\n",
       "      <td>Dante</td>\n",
       "      <td>7</td>\n",
       "      <td>8.0</td>\n",
       "    </tr>\n",
       "    <tr>\n",
       "      <th>4</th>\n",
       "      <td>Elias</td>\n",
       "      <td>9</td>\n",
       "      <td>10.0</td>\n",
       "    </tr>\n",
       "    <tr>\n",
       "      <th>5</th>\n",
       "      <td>Freya</td>\n",
       "      <td>11</td>\n",
       "      <td>12.0</td>\n",
       "    </tr>\n",
       "    <tr>\n",
       "      <th>6</th>\n",
       "      <td>Gavo</td>\n",
       "      <td>13</td>\n",
       "      <td>14.0</td>\n",
       "    </tr>\n",
       "  </tbody>\n",
       "</table>\n",
       "</div>"
      ],
      "text/plain": [
       "      Name  Position  Velocity\n",
       "0    Alice         1       2.3\n",
       "1      Bob         3       4.2\n",
       "2  Charles         5       6.0\n",
       "3    Dante         7       8.0\n",
       "4    Elias         9      10.0\n",
       "5    Freya        11      12.0\n",
       "6     Gavo        13      14.0"
      ]
     },
     "metadata": {},
     "output_type": "display_data"
    },
    {
     "name": "stdout",
     "output_type": "stream",
     "text": [
      "<class 'pandas.core.frame.DataFrame'>\n",
      "RangeIndex: 7 entries, 0 to 6\n",
      "Data columns (total 3 columns):\n",
      " #   Column    Non-Null Count  Dtype  \n",
      "---  ------    --------------  -----  \n",
      " 0   Name      7 non-null      object \n",
      " 1   Position  7 non-null      int64  \n",
      " 2   Velocity  7 non-null      float64\n",
      "dtypes: float64(1), int64(1), object(1)\n",
      "memory usage: 296.0+ bytes\n"
     ]
    },
    {
     "data": {
      "text/plain": [
       "None"
      ]
     },
     "metadata": {},
     "output_type": "display_data"
    },
    {
     "data": {
      "text/html": [
       "<div>\n",
       "<style scoped>\n",
       "    .dataframe tbody tr th:only-of-type {\n",
       "        vertical-align: middle;\n",
       "    }\n",
       "\n",
       "    .dataframe tbody tr th {\n",
       "        vertical-align: top;\n",
       "    }\n",
       "\n",
       "    .dataframe thead th {\n",
       "        text-align: right;\n",
       "    }\n",
       "</style>\n",
       "<table border=\"1\" class=\"dataframe\">\n",
       "  <thead>\n",
       "    <tr style=\"text-align: right;\">\n",
       "      <th></th>\n",
       "      <th>Position</th>\n",
       "      <th>Velocity</th>\n",
       "    </tr>\n",
       "  </thead>\n",
       "  <tbody>\n",
       "    <tr>\n",
       "      <th>count</th>\n",
       "      <td>7.000000</td>\n",
       "      <td>7.000000</td>\n",
       "    </tr>\n",
       "    <tr>\n",
       "      <th>mean</th>\n",
       "      <td>7.000000</td>\n",
       "      <td>8.071429</td>\n",
       "    </tr>\n",
       "    <tr>\n",
       "      <th>std</th>\n",
       "      <td>4.320494</td>\n",
       "      <td>4.220867</td>\n",
       "    </tr>\n",
       "    <tr>\n",
       "      <th>min</th>\n",
       "      <td>1.000000</td>\n",
       "      <td>2.300000</td>\n",
       "    </tr>\n",
       "    <tr>\n",
       "      <th>25%</th>\n",
       "      <td>4.000000</td>\n",
       "      <td>5.100000</td>\n",
       "    </tr>\n",
       "    <tr>\n",
       "      <th>50%</th>\n",
       "      <td>7.000000</td>\n",
       "      <td>8.000000</td>\n",
       "    </tr>\n",
       "    <tr>\n",
       "      <th>75%</th>\n",
       "      <td>10.000000</td>\n",
       "      <td>11.000000</td>\n",
       "    </tr>\n",
       "    <tr>\n",
       "      <th>max</th>\n",
       "      <td>13.000000</td>\n",
       "      <td>14.000000</td>\n",
       "    </tr>\n",
       "  </tbody>\n",
       "</table>\n",
       "</div>"
      ],
      "text/plain": [
       "        Position   Velocity\n",
       "count   7.000000   7.000000\n",
       "mean    7.000000   8.071429\n",
       "std     4.320494   4.220867\n",
       "min     1.000000   2.300000\n",
       "25%     4.000000   5.100000\n",
       "50%     7.000000   8.000000\n",
       "75%    10.000000  11.000000\n",
       "max    13.000000  14.000000"
      ]
     },
     "metadata": {},
     "output_type": "display_data"
    },
    {
     "data": {
      "text/html": [
       "<div>\n",
       "<style scoped>\n",
       "    .dataframe tbody tr th:only-of-type {\n",
       "        vertical-align: middle;\n",
       "    }\n",
       "\n",
       "    .dataframe tbody tr th {\n",
       "        vertical-align: top;\n",
       "    }\n",
       "\n",
       "    .dataframe thead th {\n",
       "        text-align: right;\n",
       "    }\n",
       "</style>\n",
       "<table border=\"1\" class=\"dataframe\">\n",
       "  <thead>\n",
       "    <tr style=\"text-align: right;\">\n",
       "      <th></th>\n",
       "      <th>Velocity</th>\n",
       "      <th>Name</th>\n",
       "    </tr>\n",
       "  </thead>\n",
       "  <tbody>\n",
       "    <tr>\n",
       "      <th>0</th>\n",
       "      <td>2.3</td>\n",
       "      <td>Alice</td>\n",
       "    </tr>\n",
       "    <tr>\n",
       "      <th>1</th>\n",
       "      <td>4.2</td>\n",
       "      <td>Bob</td>\n",
       "    </tr>\n",
       "    <tr>\n",
       "      <th>2</th>\n",
       "      <td>6.0</td>\n",
       "      <td>Charles</td>\n",
       "    </tr>\n",
       "    <tr>\n",
       "      <th>3</th>\n",
       "      <td>8.0</td>\n",
       "      <td>Dante</td>\n",
       "    </tr>\n",
       "    <tr>\n",
       "      <th>4</th>\n",
       "      <td>10.0</td>\n",
       "      <td>Elias</td>\n",
       "    </tr>\n",
       "    <tr>\n",
       "      <th>5</th>\n",
       "      <td>12.0</td>\n",
       "      <td>Freya</td>\n",
       "    </tr>\n",
       "    <tr>\n",
       "      <th>6</th>\n",
       "      <td>14.0</td>\n",
       "      <td>Gavo</td>\n",
       "    </tr>\n",
       "  </tbody>\n",
       "</table>\n",
       "</div>"
      ],
      "text/plain": [
       "   Velocity     Name\n",
       "0       2.3    Alice\n",
       "1       4.2      Bob\n",
       "2       6.0  Charles\n",
       "3       8.0    Dante\n",
       "4      10.0    Elias\n",
       "5      12.0    Freya\n",
       "6      14.0     Gavo"
      ]
     },
     "metadata": {},
     "output_type": "display_data"
    }
   ],
   "source": [
    "import pandas as pd\n",
    "lista =[[\"Name\",\"Position\",\"Velocity\"],[\"Alice\",1,2.3],[\"Bob\",3,4.2],[\"Charles\",5,6],\n",
    "                      [\"Dante\",7,8],[\"Elias\",9,10],[\"Freya\",11,12],[\"Gavo\",13,14]]\n",
    "tabla = pd.DataFrame(lista[1:],columns=lista[0])\n",
    "display(tabla)\n",
    "display(tabla.info())\n",
    "display(tabla.describe())\n",
    "display(tabla[[\"Velocity\",\"Name\"]])"
   ]
  },
  {
   "attachments": {},
   "cell_type": "markdown",
   "metadata": {},
   "source": [
    "# Matrices"
   ]
  },
  {
   "cell_type": "code",
   "execution_count": 5,
   "metadata": {},
   "outputs": [
    {
     "name": "stdout",
     "output_type": "stream",
     "text": [
      "Suma:\n",
      " [[ 2.+2.j  3.-1.j]\n",
      " [-4.+2.j  1.-1.j]]\n",
      "Producto:\n",
      " [[ 1.+2.j  3.-1.j]\n",
      " [-4.+2.j  0.-1.j]]\n",
      "Producto elemento a elemento:\n",
      " [[ 1.+2.j  0.+0.j]\n",
      " [-0.+0.j  0.-1.j]]\n",
      "Determinante matriz 1:\n",
      " (12-11.000000000000002j)\n",
      "Determinante matriz 2:\n",
      " 1.0\n",
      "Inversa matriz 1:\n",
      " [[ 0.04150943-0.04528302j -0.17735849-0.07924528j]\n",
      " [ 0.26415094+0.0754717j  -0.03773585+0.13207547j]]\n",
      "Inversa matriz 2:\n",
      " [[1. 0.]\n",
      " [0. 1.]]\n",
      "Solution:\n",
      " [-1.  1.]\n",
      "Rango Matriz: 1\n"
     ]
    }
   ],
   "source": [
    "import numpy as np\n",
    "matriz_1 = np.array([[1+2.j,3-1.j],[-4+2.j,-1.j]])\n",
    "matriz_2 = np.array([[1,0],[0,1]])\n",
    "print(\"Suma:\\n\",matriz_1+matriz_2)\n",
    "print(\"Producto:\\n\",matriz_1@matriz_2)\n",
    "print(\"Producto elemento a elemento:\\n\",matriz_1*matriz_2)\n",
    "print(\"Determinante matriz 1:\\n\",np.linalg.det(matriz_1))\n",
    "print(\"Determinante matriz 2:\\n\",np.linalg.det(matriz_2))\n",
    "print(\"Inversa matriz 1:\\n\",np.linalg.inv(matriz_1))\n",
    "print(\"Inversa matriz 2:\\n\",np.linalg.inv(matriz_2))\n",
    "a = np.array([[1, 2], [3, 5]])\n",
    "a2 = np.array([[1, 2], [2, 4]])\n",
    "b = np.array([1, 2])\n",
    "x = np.linalg.solve(a, b)\n",
    "print(\"Solution:\\n\",x)\n",
    "print(\"Rango Matriz:\",np.linalg.matrix_rank(a2))\n"
   ]
  },
  {
   "attachments": {},
   "cell_type": "markdown",
   "metadata": {},
   "source": [
    "# Integrales, derivadas y solución de ecuaciones diferenciales"
   ]
  },
  {
   "cell_type": "code",
   "execution_count": 6,
   "metadata": {},
   "outputs": [
    {
     "name": "stdout",
     "output_type": "stream",
     "text": [
      "El resultado de la integral es 17.864263511008033 (1.5512094454703522e-11)\n"
     ]
    }
   ],
   "source": [
    "from math import cos, exp, pi\n",
    "from scipy.integrate import quad\n",
    "\n",
    "f = lambda x: exp(cos(-2 * x * pi)) + 3.2\n",
    "\n",
    "res, err = quad(f, -2, 2)\n",
    "\n",
    "print(\"El resultado de la integral es {0} ({1})\"\n",
    "    .format(res, err))"
   ]
  },
  {
   "cell_type": "code",
   "execution_count": 32,
   "metadata": {},
   "outputs": [
    {
     "name": "stdout",
     "output_type": "stream",
     "text": [
      "Derivada: 4.999999999921734\n"
     ]
    },
    {
     "name": "stderr",
     "output_type": "stream",
     "text": [
      "/var/folders/pb/ldktvl7n1cjb78yx2vbmbmdr0000gn/T/ipykernel_19552/851416168.py:3: DeprecationWarning: scipy.misc.derivative is deprecated in SciPy v1.10.0; and will be completely removed in SciPy v1.12.0. You may consider using findiff: https://github.com/maroba/findiff or numdifftools: https://github.com/pbrod/numdifftools\n",
      "  print(\"Derivada:\",derivative(f, 1.0, dx=1e-6))\n"
     ]
    }
   ],
   "source": [
    "from scipy.misc import derivative\n",
    "f = lambda x: x**3 + x**2\n",
    "print(\"Derivada:\",derivative(f, 1.0, dx=1e-6))"
   ]
  },
  {
   "cell_type": "code",
   "execution_count": 7,
   "metadata": {},
   "outputs": [
    {
     "name": "stdout",
     "output_type": "stream",
     "text": [
      "Resultado de la ecuación diferencial en el punto x:  0.36799888294287614\n"
     ]
    }
   ],
   "source": [
    "from scipy.integrate import solve_ivp\n",
    "import numpy as np\n",
    "\n",
    "f = lambda t, y: -2 * y * t\n",
    "\n",
    "y0 = [1]           # initial value y0=y(t0)\n",
    "t0 = 0             # integration limits for t: start at t0=0\n",
    "tf = 2             # and finish at tf=2\n",
    "x = 1\n",
    "\n",
    "sol = solve_ivp(fun=f, t_span=[t0, tf], y0=y0, t_eval=[x])  # computation of SOLution \n",
    "\n",
    "print(\"Resultado de la ecuación diferencial en el punto x: \",sol.y[0,0])"
   ]
  },
  {
   "cell_type": "code",
   "execution_count": 11,
   "metadata": {},
   "outputs": [
    {
     "data": {
      "text/plain": [
       "Text(0, 0.5, 'y(t)')"
      ]
     },
     "execution_count": 11,
     "metadata": {},
     "output_type": "execute_result"
    },
    {
     "data": {
      "image/png": "[encoded data removed]",
      "text/plain": [
       "<Figure size 640x480 with 1 Axes>"
      ]
     },
     "metadata": {},
     "output_type": "display_data"
    }
   ],
   "source": [
    "import matplotlib.pyplot as plt\n",
    "ts = np.linspace(t0, tf, 1000000)  # 100 points between t0 and tf\n",
    "sol = solve_ivp(fun=f, t_span=[t0, tf], y0=y0, t_eval=ts) \n",
    "\n",
    "plt.plot(sol.t, sol.y[0], '.')\n",
    "plt.xlabel('t'); plt.ylabel('y(t)')"
   ]
  },
  {
   "cell_type": "code",
   "execution_count": 12,
   "metadata": {},
   "outputs": [
    {
     "data": {
      "text/latex": [
       "$\\displaystyle \\frac{x^{3}}{3} - \\frac{3 x^{2}}{2} + 2 x$"
      ],
      "text/plain": [
       " 3      2      \n",
       "x    3⋅x       \n",
       "── - ──── + 2⋅x\n",
       "3     2        "
      ]
     },
     "execution_count": 12,
     "metadata": {},
     "output_type": "execute_result"
    }
   ],
   "source": [
    "from sympy import integrate, init_printing\n",
    "from sympy.abc import x\n",
    "init_printing(use_latex=\"mathjax\")\n",
    "f = x**2 - 3*x + 2\n",
    "integrate(f)"
   ]
  },
  {
   "attachments": {},
   "cell_type": "markdown",
   "metadata": {},
   "source": [
    "# Mecánica cuántica"
   ]
  },
  {
   "cell_type": "code",
   "execution_count": 14,
   "metadata": {},
   "outputs": [
    {
     "data": {
      "image/png": "[encoded data removed]",
      "text/plain": [
       "<Figure size 640x480 with 1 Axes>"
      ]
     },
     "metadata": {},
     "output_type": "display_data"
    }
   ],
   "source": [
    "import numpy as np\n",
    "import matplotlib.pyplot as plt\n",
    "import qutip\n",
    "\n",
    "N = 4                      # number of cavity fock states\n",
    "wc = 1.0 * 1.5 * np.pi\n",
    "wa = 1.0 * 2 * np.pi  # cavity and atom frequency\n",
    "g  = 0.1 * 2 * np.pi       # coupling strength\n",
    "kappa = 0.75               # cavity dissipation rate\n",
    "gamma = 0.25               # atom dissipation rate\n",
    "\n",
    "# Jaynes-Cummings Hamiltonian\n",
    "a  = qutip.tensor(qutip.destroy(N), qutip.qeye(2))\n",
    "sm = qutip.tensor(qutip.qeye(N), qutip.destroy(2))\n",
    "H = wc*a.dag()*a + wa*sm.dag()*sm + g*(a.dag()*sm + a*sm.dag())\n",
    "\n",
    "# collapse operators\n",
    "n_th = 0.25\n",
    "c_ops = [np.sqrt(kappa * (1 + n_th)) * a, np.sqrt(kappa * n_th) * a.dag(), np.sqrt(gamma) * sm]\n",
    "\n",
    "wlist2 = np.linspace(0.25, 1.75, 200) * 2 * np.pi\n",
    "spec2 = qutip.spectrum(H, wlist2, c_ops, a.dag(), a)\n",
    "\n",
    "# plot the spectra\n",
    "fig, ax = plt.subplots(1, 1)\n",
    "ax.plot(wlist2 / (2 * np.pi), spec2, 'k')\n",
    "ax.set_xlabel('Frecuencia')\n",
    "ax.set_ylabel('Espectro de fotoluminiscencia (u.a.)')\n",
    "ax.set_xlim(wlist2[0]/(2*np.pi), wlist2[-1]/(2*np.pi))\n",
    "plt.show()"
   ]
  }
 ],
 "metadata": {
  "kernelspec": {
   "display_name": "Python 3",
   "language": "python",
   "name": "python3"
  },
  "language_info": {
   "codemirror_mode": {
    "name": "ipython",
    "version": 3
   },
   "file_extension": ".py",
   "mimetype": "text/x-python",
   "name": "python",
   "nbconvert_exporter": "python",
   "pygments_lexer": "ipython3",
   "version": "3.9.6"
  },
  "orig_nbformat": 4
 },
 "nbformat": 4,
 "nbformat_minor": 2
}
