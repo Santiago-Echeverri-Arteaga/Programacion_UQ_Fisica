{
 "cells": [
  {
   "cell_type": "markdown",
   "metadata": {},
   "source": [
    "# Herencia en clase\n",
    "\n",
    "En el presente notebook encontrarán ejemplos de herencia en clases, polimorfismo, encapsulación, abstracción.\n",
    "\n",
    "## Vectores\n",
    "\n",
    "Se muestra inicialmente un ejemplo de vectores en el que el vector 3d Hereda la clase de vector 2D para generalizarla"
   ]
  },
  {
   "cell_type": "code",
   "execution_count": 1,
   "metadata": {},
   "outputs": [],
   "source": [
    "class Vector2D:\n",
    "    def __init__(self, x, y):\n",
    "        self.x = x\n",
    "        self.y = y\n",
    "    def __str__(self):\n",
    "        return(f\"({self.x},{self.y})\")"
   ]
  },
  {
   "cell_type": "code",
   "execution_count": 3,
   "metadata": {},
   "outputs": [
    {
     "name": "stdout",
     "output_type": "stream",
     "text": [
      "(1,2)\n"
     ]
    }
   ],
   "source": [
    "v1 = Vector2D(1,2)\n",
    "print(v1)"
   ]
  },
  {
   "cell_type": "code",
   "execution_count": 16,
   "metadata": {},
   "outputs": [],
   "source": [
    "class Vector3D(Vector2D):\n",
    "    def __init__(self, x, y, z):\n",
    "        super().__init__(x**2, x*y)\n",
    "        self.z = z\n",
    "    def __str__(self):\n",
    "        cadena = super().__str__()[:-1]+f\",{self.z})\"\n",
    "        return(cadena)"
   ]
  },
  {
   "cell_type": "code",
   "execution_count": 18,
   "metadata": {},
   "outputs": [
    {
     "name": "stdout",
     "output_type": "stream",
     "text": [
      "(4,6,5)\n"
     ]
    }
   ],
   "source": [
    "v2 = Vector3D(2,3,5)\n",
    "print(v2)"
   ]
  },
  {
   "cell_type": "markdown",
   "metadata": {},
   "source": [
    "## Clase Partícula\n",
    "\n",
    "La clase partícula encorpora encapsulación por medio del decorador `@property` con lo que dichas variables pasan a ser privadas y se establece automáticamente un decorador con el mismo nombre de la variable (pero sin los __) y un .setter al final. Este decorador permite decorar algún método con el nombre de la variable para permitir cambiar el valor de dicho atributo para alguna instancia de la clase por fuera de su definición. Además, al usar el decorador property en algún método con el mismo nombre se establece lo que sería el `getter`, esto es, la forma en que se accede a su valor por fuera de la definición.\n",
    "\n",
    "Por otro lado, de está definiendo la clase carga eléctrica con herencia, por lo que hereda todos los métodos de la clase padre. Además se usa el decorador `@classmethod`, la cual es útil para herencia y para casos donde no se desea acceder a atributos de la instancia (del `self`) sino de la clase como tal (Crear la clase o acceder a métodos).\n",
    "\n",
    "Finalmente se ven dos partículas que tienen herencia múltiple, en donde se aprecia que a pesar de que la carga es una clase privada, se permite usar dicha variable en la definición de la clase"
   ]
  },
  {
   "cell_type": "code",
   "execution_count": 40,
   "metadata": {},
   "outputs": [
    {
     "name": "stdout",
     "output_type": "stream",
     "text": [
      "<class '__main__.Muon'>\n",
      "Velocidad inicial del electrón: 3.00e+06 m/s\n",
      "Masa del electrón: 9.11e-31 kg\n"
     ]
    }
   ],
   "source": [
    "class Particula:\n",
    "    def __init__(self, masa, velocidad):\n",
    "        self._masa = masa  # Atributo privado\n",
    "        self._velocidad = velocidad  # Atributo privado\n",
    "\n",
    "    # Getter para masa\n",
    "    @property\n",
    "    def masa(self):\n",
    "        return self._masa\n",
    "    \n",
    "    # Getter para velocidad\n",
    "    @property\n",
    "    def velocidad(self):\n",
    "        return self._velocidad\n",
    "\n",
    "    # Setter para velocidad\n",
    "    @velocidad.setter\n",
    "    def velocidad(self, nueva_velocidad):\n",
    "        if nueva_velocidad < 0:\n",
    "            raise ValueError(\"La velocidad no puede ser negativa.\")\n",
    "        self._velocidad = nueva_velocidad\n",
    "\n",
    "    # Método decorado para calcular la energía cinética\n",
    "    @property\n",
    "    def energia_cinetica(self):\n",
    "        return 0.5 * self._masa * self._velocidad**2\n",
    "\n",
    "class CargaElectrica:\n",
    "    def __init__(self, carga):\n",
    "        self._carga = carga\n",
    "\n",
    "    @property\n",
    "    def carga(self):\n",
    "        return self._carga\n",
    "\n",
    "class Electron(Particula, CargaElectrica):\n",
    "    def __init__(self, masa, velocidad, carga=-1.602e-19):\n",
    "        Particula.__init__(self, masa, velocidad)\n",
    "        CargaElectrica.__init__(self, carga)\n",
    "\n",
    "    @classmethod\n",
    "    def desde_velocidad(cls, velocidad):\n",
    "        masa_electron = 9.10938356e-31  # masa del electrón en kg\n",
    "        return cls(masa_electron, velocidad)\n",
    "    \n",
    "class Muon(Electron):\n",
    "    def __init__(self, masa, velocidad, carga=-1.602e-19):\n",
    "        super().__init__(masa, velocidad, carga)\n",
    "\n",
    "\n",
    "\n",
    "\n",
    "# Aplicación de la clase con el setter\n",
    "e1 = Electron(1,2)\n",
    "m1 = Muon(1,2)\n",
    "print(type(m1.desde_velocidad(12)))\n",
    "electron_rapido = Electron.desde_velocidad(3e6)  # Crear electrón con velocidad 3e6 m/s\n",
    "\n",
    "print(f\"Velocidad inicial del electrón: {electron_rapido.velocidad:.2e} m/s\")\n",
    "print(f\"Masa del electrón: {electron_rapido.masa:.2e} kg\")\n",
    "\n"
   ]
  },
  {
   "cell_type": "code",
   "execution_count": 20,
   "metadata": {},
   "outputs": [
    {
     "ename": "ValueError",
     "evalue": "La velocidad no puede ser negativa.",
     "output_type": "error",
     "traceback": [
      "\u001b[0;31m---------------------------------------------------------------------------\u001b[0m",
      "\u001b[0;31mValueError\u001b[0m                                Traceback (most recent call last)",
      "Cell \u001b[0;32mIn[20], line 1\u001b[0m\n\u001b[0;32m----> 1\u001b[0m \u001b[43melectron_rapido\u001b[49m\u001b[38;5;241;43m.\u001b[39;49m\u001b[43mvelocidad\u001b[49m \u001b[38;5;241m=\u001b[39m \u001b[38;5;241m-\u001b[39m\u001b[38;5;241m1e6\u001b[39m  \u001b[38;5;66;03m# Cambiar la velocidad del electrón\u001b[39;00m\n\u001b[1;32m      2\u001b[0m electron_rapido\u001b[38;5;241m.\u001b[39mvelocidad\n",
      "Cell \u001b[0;32mIn[15], line 20\u001b[0m, in \u001b[0;36mParticula.velocidad\u001b[0;34m(self, nueva_velocidad)\u001b[0m\n\u001b[1;32m     17\u001b[0m \u001b[38;5;129m@velocidad\u001b[39m\u001b[38;5;241m.\u001b[39msetter\n\u001b[1;32m     18\u001b[0m \u001b[38;5;28;01mdef\u001b[39;00m \u001b[38;5;21mvelocidad\u001b[39m(\u001b[38;5;28mself\u001b[39m, nueva_velocidad):\n\u001b[1;32m     19\u001b[0m     \u001b[38;5;28;01mif\u001b[39;00m nueva_velocidad \u001b[38;5;241m<\u001b[39m \u001b[38;5;241m0\u001b[39m:\n\u001b[0;32m---> 20\u001b[0m         \u001b[38;5;28;01mraise\u001b[39;00m \u001b[38;5;167;01mValueError\u001b[39;00m(\u001b[38;5;124m\"\u001b[39m\u001b[38;5;124mLa velocidad no puede ser negativa.\u001b[39m\u001b[38;5;124m\"\u001b[39m)\n\u001b[1;32m     21\u001b[0m     \u001b[38;5;28mself\u001b[39m\u001b[38;5;241m.\u001b[39m_velocidad \u001b[38;5;241m=\u001b[39m nueva_velocidad\n",
      "\u001b[0;31mValueError\u001b[0m: La velocidad no puede ser negativa."
     ]
    }
   ],
   "source": [
    "electron_rapido.velocidad = -1e6  # Cambiar la velocidad del electrón\n",
    "electron_rapido.velocidad"
   ]
  },
  {
   "cell_type": "code",
   "execution_count": 27,
   "metadata": {},
   "outputs": [
    {
     "name": "stdout",
     "output_type": "stream",
     "text": [
      "Nueva energía cinética: 4.55e-19 J\n"
     ]
    }
   ],
   "source": [
    "print(f\"Nueva energía cinética: {electron_rapido.energia_cinetica:.2e} J\")"
   ]
  },
  {
   "cell_type": "code",
   "execution_count": 35,
   "metadata": {},
   "outputs": [
    {
     "name": "stdout",
     "output_type": "stream",
     "text": [
      "El muon es tipo de dato <class '__main__.Muon'>\n"
     ]
    }
   ],
   "source": [
    "# Al llamar desde_velocidad desde la subclase Muon, cls será Muon\n",
    "muon_rapido = Muon.desde_velocidad(3e6)  # Crea un muón con velocidad 3e6 m/s\n",
    "print(f\"El muon es tipo de dato {type(muon_rapido)}\") # o probar con isinstance(muon_rapido, Muon)"
   ]
  },
  {
   "cell_type": "code",
   "execution_count": 41,
   "metadata": {},
   "outputs": [
    {
     "name": "stdout",
     "output_type": "stream",
     "text": [
      "8\n"
     ]
    }
   ],
   "source": [
    "# Si no se necesita acceso a la clase ni a la instancia\n",
    "\n",
    "class Matematica:\n",
    "    @staticmethod\n",
    "    def suma(a, b):\n",
    "        return a + b\n",
    "\n",
    "print(Matematica.suma(5, 3))"
   ]
  },
  {
   "cell_type": "markdown",
   "metadata": {},
   "source": [
    "## Métodos Abstractos\n",
    "\n",
    "Se usa el decorador `@abstractmethod` y se hereda de la clase `ABC` para hacer la clase Model abstracta, esto es, que no se puedan definir instancias de Model, pero que sus métodos sean útiles en las clases heredadas. Se aprecia que se está usando en la clase `Model` un atributo que es `tabla`, el cual no se define en el constructor ni en la clase heredada en el constructor, pero si en el contexto de la clase. Además, al usar el decorador `@abstractmethod` sobre un método (Usualmente en blanco) se exige a las clases que heredan que definan dicho método."
   ]
  },
  {
   "cell_type": "code",
   "execution_count": 48,
   "metadata": {},
   "outputs": [
    {
     "name": "stdout",
     "output_type": "stream",
     "text": [
      "Guardando usuario\n",
      "Buscando por id 123 en la tabla Usuario\n"
     ]
    }
   ],
   "source": [
    "from abc import ABC, abstractmethod\n",
    "\n",
    "class Model(ABC):\n",
    "    @property\n",
    "    @abstractmethod\n",
    "    def tabla(self):\n",
    "        pass\n",
    "    \n",
    "    @abstractmethod\n",
    "    def guardar(self):\n",
    "        pass\n",
    "    \n",
    "    @classmethod\n",
    "    def buscar_por_id(self, _id):\n",
    "        print(f\"Buscando por id {_id} en la tabla {self.tabla}\")\n",
    "        \n",
    "class Usuario(Model):\n",
    "    tabla = \"Usuario\"\n",
    "    \n",
    "    def guardar(self):\n",
    "        print(\"Guardando usuario\")\n",
    "        \n",
    "#modelo = Model()\n",
    "usuario = Usuario()\n",
    "usuario.guardar()\n",
    "usuario.buscar_por_id(123)"
   ]
  },
  {
   "cell_type": "code",
   "execution_count": null,
   "metadata": {},
   "outputs": [],
   "source": []
  }
 ],
 "metadata": {
  "kernelspec": {
   "display_name": "tensorflow",
   "language": "python",
   "name": "python3"
  },
  "language_info": {
   "codemirror_mode": {
    "name": "ipython",
    "version": 3
   },
   "file_extension": ".py",
   "mimetype": "text/x-python",
   "name": "python",
   "nbconvert_exporter": "python",
   "pygments_lexer": "ipython3",
   "version": "3.10.9"
  }
 },
 "nbformat": 4,
 "nbformat_minor": 2
}
