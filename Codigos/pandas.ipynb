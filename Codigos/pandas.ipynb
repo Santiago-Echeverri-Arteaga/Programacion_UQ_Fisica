{
 "cells": [
  {
   "cell_type": "code",
   "execution_count": 1,
   "metadata": {},
   "outputs": [],
   "source": [
    "import pandas as pd"
   ]
  },
  {
   "cell_type": "code",
   "execution_count": 9,
   "metadata": {},
   "outputs": [
    {
     "name": "stdout",
     "output_type": "stream",
     "text": [
      "a     1\n",
      "b    31\n",
      "c     4\n",
      "d    80\n",
      "dtype: int64\n",
      "80\n",
      "31\n",
      "b    31\n",
      "d    80\n",
      "dtype: int64\n"
     ]
    }
   ],
   "source": [
    "data = pd.Series([1,31,4,80], index = ['a', 'b', 'c', 'd'])\n",
    "print(data)\n",
    "print(data[3])\n",
    "print(data['b'])\n",
    "print(data[data>30])"
   ]
  },
  {
   "cell_type": "code",
   "execution_count": 13,
   "metadata": {},
   "outputs": [
    {
     "name": "stdout",
     "output_type": "stream",
     "text": [
      "a     11\n",
      "b    341\n",
      "c     44\n",
      "d    880\n",
      "dtype: int64\n"
     ]
    },
    {
     "data": {
      "text/plain": [
       "a    1.000000e+00\n",
       "b   -1.000000e+00\n",
       "c   -2.449294e-16\n",
       "d   -4.898587e-15\n",
       "dtype: float64"
      ]
     },
     "execution_count": 13,
     "metadata": {},
     "output_type": "execute_result"
    }
   ],
   "source": [
    "print(data+10*data)\n",
    "import numpy as np\n",
    "np.sin(np.pi*data/2)"
   ]
  },
  {
   "cell_type": "code",
   "execution_count": 21,
   "metadata": {},
   "outputs": [
    {
     "data": {
      "text/plain": [
       "a     1\n",
       "b    10\n",
       "dtype: int64"
      ]
     },
     "execution_count": 21,
     "metadata": {},
     "output_type": "execute_result"
    }
   ],
   "source": [
    "31 in data.values\n",
    "data[1]=10\n",
    "data[0:2]"
   ]
  },
  {
   "cell_type": "code",
   "execution_count": 39,
   "metadata": {},
   "outputs": [
    {
     "data": {
      "text/plain": [
       "ohio      35000\n",
       "texas       500\n",
       "oregon    35000\n",
       "utah       5000\n",
       "dtype: int64"
      ]
     },
     "execution_count": 39,
     "metadata": {},
     "output_type": "execute_result"
    }
   ],
   "source": [
    "dic = {'ohio':35000, 'texas':500, 'oregon':35000, 'utah':5000}\n",
    "data2 = pd.Series(dic)\n",
    "data2[data2.notnull()]\n"
   ]
  },
  {
   "cell_type": "code",
   "execution_count": 40,
   "metadata": {},
   "outputs": [
    {
     "name": "stdout",
     "output_type": "stream",
     "text": [
      "nan\n"
     ]
    }
   ],
   "source": [
    "print(np.nan)"
   ]
  },
  {
   "cell_type": "code",
   "execution_count": 46,
   "metadata": {},
   "outputs": [
    {
     "name": "stdout",
     "output_type": "stream",
     "text": [
      "Estado\n",
      "ohio      35000\n",
      "texas       500\n",
      "oregon    35000\n",
      "utah       5000\n",
      "Name: Poblacion, dtype: int64\n"
     ]
    }
   ],
   "source": [
    "data2.name = \"Poblacion\"\n",
    "data2.index.name=\"Estado\"\n",
    "print(data2)"
   ]
  },
  {
   "cell_type": "code",
   "execution_count": 71,
   "metadata": {},
   "outputs": [
    {
     "name": "stdout",
     "output_type": "stream",
     "text": [
      "        ball  pen  pencil  paper\n",
      "red        0    1       2      3\n",
      "blue       4    5       6      7\n",
      "yellow     8    9      10     11\n",
      "white     12   13      14     15\n",
      "\n",
      "\n",
      "ball      12\n",
      "pen       13\n",
      "pencil    14\n",
      "paper     15\n",
      "Name: white, dtype: int64\n"
     ]
    }
   ],
   "source": [
    "data3=pd.DataFrame(np.arange(16).reshape((4,4)),index=['red','blue','yellow','white'],columns=['ball','pen','pencil','paper'])\n",
    "#print(type(data3['paper']))\n",
    "#print(type(data3[['paper']]))\n",
    "print(data3)\n",
    "print(\"\\n\")\n",
    "print(data3.iloc[3])"
   ]
  },
  {
   "cell_type": "code",
   "execution_count": 72,
   "metadata": {},
   "outputs": [
    {
     "name": "stderr",
     "output_type": "stream",
     "text": [
      "/var/folders/pb/ldktvl7n1cjb78yx2vbmbmdr0000gn/T/ipykernel_10632/950318403.py:1: DtypeWarning: Columns (14) have mixed types. Specify dtype option on import or set low_memory=False.\n",
      "  covid = pd.read_csv('COVID19.csv')\n"
     ]
    }
   ],
   "source": [
    "covid = pd.read_csv('COVID19.csv')"
   ]
  },
  {
   "cell_type": "code",
   "execution_count": 76,
   "metadata": {},
   "outputs": [
    {
     "data": {
      "text/html": [
       "<div>\n",
       "<style scoped>\n",
       "    .dataframe tbody tr th:only-of-type {\n",
       "        vertical-align: middle;\n",
       "    }\n",
       "\n",
       "    .dataframe tbody tr th {\n",
       "        vertical-align: top;\n",
       "    }\n",
       "\n",
       "    .dataframe thead th {\n",
       "        text-align: right;\n",
       "    }\n",
       "</style>\n",
       "<table border=\"1\" class=\"dataframe\">\n",
       "  <thead>\n",
       "    <tr style=\"text-align: right;\">\n",
       "      <th></th>\n",
       "      <th>ID de caso</th>\n",
       "      <th>Código DIVIPOLA departamento</th>\n",
       "      <th>Código DIVIPOLA municipio</th>\n",
       "      <th>Edad</th>\n",
       "      <th>Unidad de medida de edad</th>\n",
       "      <th>Código ISO del país</th>\n",
       "      <th>Pertenencia étnica</th>\n",
       "    </tr>\n",
       "  </thead>\n",
       "  <tbody>\n",
       "    <tr>\n",
       "      <th>count</th>\n",
       "      <td>5.003977e+06</td>\n",
       "      <td>5.003977e+06</td>\n",
       "      <td>5.003977e+06</td>\n",
       "      <td>5.003977e+06</td>\n",
       "      <td>5.003977e+06</td>\n",
       "      <td>3140.000000</td>\n",
       "      <td>4.997444e+06</td>\n",
       "    </tr>\n",
       "    <tr>\n",
       "      <th>mean</th>\n",
       "      <td>2.502029e+06</td>\n",
       "      <td>1.327586e+03</td>\n",
       "      <td>2.827735e+04</td>\n",
       "      <td>3.950413e+01</td>\n",
       "      <td>1.003588e+00</td>\n",
       "      <td>594.338854</td>\n",
       "      <td>5.905555e+00</td>\n",
       "    </tr>\n",
       "    <tr>\n",
       "      <th>std</th>\n",
       "      <td>1.444524e+06</td>\n",
       "      <td>5.942108e+03</td>\n",
       "      <td>2.610482e+04</td>\n",
       "      <td>1.795638e+01</td>\n",
       "      <td>6.500582e-02</td>\n",
       "      <td>287.720892</td>\n",
       "      <td>6.089527e-01</td>\n",
       "    </tr>\n",
       "    <tr>\n",
       "      <th>min</th>\n",
       "      <td>1.000000e+00</td>\n",
       "      <td>5.000000e+00</td>\n",
       "      <td>5.001000e+03</td>\n",
       "      <td>1.000000e+00</td>\n",
       "      <td>1.000000e+00</td>\n",
       "      <td>4.000000</td>\n",
       "      <td>1.000000e+00</td>\n",
       "    </tr>\n",
       "    <tr>\n",
       "      <th>25%</th>\n",
       "      <td>1.251035e+06</td>\n",
       "      <td>1.100000e+01</td>\n",
       "      <td>1.100100e+04</td>\n",
       "      <td>2.600000e+01</td>\n",
       "      <td>1.000000e+00</td>\n",
       "      <td>380.000000</td>\n",
       "      <td>6.000000e+00</td>\n",
       "    </tr>\n",
       "    <tr>\n",
       "      <th>50%</th>\n",
       "      <td>2.502029e+06</td>\n",
       "      <td>1.700000e+01</td>\n",
       "      <td>1.100100e+04</td>\n",
       "      <td>3.700000e+01</td>\n",
       "      <td>1.000000e+00</td>\n",
       "      <td>724.000000</td>\n",
       "      <td>6.000000e+00</td>\n",
       "    </tr>\n",
       "    <tr>\n",
       "      <th>75%</th>\n",
       "      <td>3.753023e+06</td>\n",
       "      <td>6.800000e+01</td>\n",
       "      <td>5.000600e+04</td>\n",
       "      <td>5.200000e+01</td>\n",
       "      <td>1.000000e+00</td>\n",
       "      <td>840.000000</td>\n",
       "      <td>6.000000e+00</td>\n",
       "    </tr>\n",
       "    <tr>\n",
       "      <th>max</th>\n",
       "      <td>5.004017e+06</td>\n",
       "      <td>4.700100e+04</td>\n",
       "      <td>9.977300e+04</td>\n",
       "      <td>1.160000e+02</td>\n",
       "      <td>3.000000e+00</td>\n",
       "      <td>1724.000000</td>\n",
       "      <td>6.000000e+00</td>\n",
       "    </tr>\n",
       "  </tbody>\n",
       "</table>\n",
       "</div>"
      ],
      "text/plain": [
       "         ID de caso  Código DIVIPOLA departamento  Código DIVIPOLA municipio  \\\n",
       "count  5.003977e+06                  5.003977e+06               5.003977e+06   \n",
       "mean   2.502029e+06                  1.327586e+03               2.827735e+04   \n",
       "std    1.444524e+06                  5.942108e+03               2.610482e+04   \n",
       "min    1.000000e+00                  5.000000e+00               5.001000e+03   \n",
       "25%    1.251035e+06                  1.100000e+01               1.100100e+04   \n",
       "50%    2.502029e+06                  1.700000e+01               1.100100e+04   \n",
       "75%    3.753023e+06                  6.800000e+01               5.000600e+04   \n",
       "max    5.004017e+06                  4.700100e+04               9.977300e+04   \n",
       "\n",
       "               Edad  Unidad de medida de edad  Código ISO del país  \\\n",
       "count  5.003977e+06              5.003977e+06          3140.000000   \n",
       "mean   3.950413e+01              1.003588e+00           594.338854   \n",
       "std    1.795638e+01              6.500582e-02           287.720892   \n",
       "min    1.000000e+00              1.000000e+00             4.000000   \n",
       "25%    2.600000e+01              1.000000e+00           380.000000   \n",
       "50%    3.700000e+01              1.000000e+00           724.000000   \n",
       "75%    5.200000e+01              1.000000e+00           840.000000   \n",
       "max    1.160000e+02              3.000000e+00          1724.000000   \n",
       "\n",
       "       Pertenencia étnica  \n",
       "count        4.997444e+06  \n",
       "mean         5.905555e+00  \n",
       "std          6.089527e-01  \n",
       "min          1.000000e+00  \n",
       "25%          6.000000e+00  \n",
       "50%          6.000000e+00  \n",
       "75%          6.000000e+00  \n",
       "max          6.000000e+00  "
      ]
     },
     "execution_count": 76,
     "metadata": {},
     "output_type": "execute_result"
    }
   ],
   "source": [
    "covid.describe()"
   ]
  },
  {
   "cell_type": "code",
   "execution_count": 82,
   "metadata": {},
   "outputs": [
    {
     "name": "stdout",
     "output_type": "stream",
     "text": [
      "<class 'pandas.core.frame.DataFrame'>\n",
      "Index: 4 entries, red to white\n",
      "Data columns (total 4 columns):\n",
      " #   Column  Non-Null Count  Dtype\n",
      "---  ------  --------------  -----\n",
      " 0   ball    4 non-null      int64\n",
      " 1   pen     4 non-null      int64\n",
      " 2   pencil  4 non-null      int64\n",
      " 3   paper   4 non-null      int64\n",
      "dtypes: int64(4)\n",
      "memory usage: 160.0+ bytes\n"
     ]
    }
   ],
   "source": [
    "data3.info()"
   ]
  }
 ],
 "metadata": {
  "kernelspec": {
   "display_name": "Python 3.10 (tensorflow)",
   "language": "python",
   "name": "tensorflow"
  },
  "language_info": {
   "codemirror_mode": {
    "name": "ipython",
    "version": 3
   },
   "file_extension": ".py",
   "mimetype": "text/x-python",
   "name": "python",
   "nbconvert_exporter": "python",
   "pygments_lexer": "ipython3",
   "version": "3.10.9"
  },
  "orig_nbformat": 4
 },
 "nbformat": 4,
 "nbformat_minor": 2
}
