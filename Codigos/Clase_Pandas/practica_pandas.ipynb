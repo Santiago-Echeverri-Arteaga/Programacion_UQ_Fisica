{
 "cells": [
  {
   "cell_type": "markdown",
   "id": "6e10dd8f-f865-4e4a-9414-fa759ea6e96b",
   "metadata": {},
   "source": [
    "# Conociendo Pandas &#128060;\n",
    "\n",
    "## Programación\n",
    "\n",
    "### Universidad del Quindío / Ph.D. Santiago Echeverri Arteaga"
   ]
  },
  {
   "cell_type": "markdown",
   "id": "0f3ef0dc-92cd-4ada-a6bc-be27b9544632",
   "metadata": {},
   "source": [
    "\\begin{equation}\n",
    "    x' = x\\cos(\\phi) - y\\sin(\\phi)\n",
    "\\end{equation}\n",
    "\n",
    "\\begin{equation}\n",
    "    y' = x\\sin(\\phi) + y\\cos(\\phi)\n",
    "\\end{equation}"
   ]
  },
  {
   "cell_type": "markdown",
   "id": "ed54bda0-e3bd-41b7-bddf-c5e415d87926",
   "metadata": {},
   "source": [
    "### Importar módulos"
   ]
  },
  {
   "cell_type": "code",
   "execution_count": 1,
   "id": "b0c2c045-60db-47b2-930e-e215a136bded",
   "metadata": {},
   "outputs": [],
   "source": [
    "import pandas as pd\n",
    "import numpy as np\n",
    "import datetime #Para manejo de fechas\n",
    "import pytz #Para zonas horarias\n",
    "import json #Para archivos json\n",
    "from pandas.io.json import json_normalize #Para normalizar archivos json"
   ]
  },
  {
   "cell_type": "markdown",
   "id": "50db1169-fd58-496e-b347-42fbc494e848",
   "metadata": {
    "jp-MarkdownHeadingCollapsed": true
   },
   "source": [
    "### Series"
   ]
  },
  {
   "cell_type": "code",
   "execution_count": 2,
   "id": "76e47419-59d6-4346-86d0-cb8ebca08bf7",
   "metadata": {},
   "outputs": [
    {
     "name": "stdout",
     "output_type": "stream",
     "text": [
      "\t\tMostrando la serie\n"
     ]
    },
    {
     "data": {
      "text/plain": [
       "Bogota        3500.0\n",
       "Armenia       1450.0\n",
       "Ibague        2000.0\n",
       "Cartagena        0.0\n",
       "San Andrés       NaN\n",
       "dtype: float64"
      ]
     },
     "metadata": {},
     "output_type": "display_data"
    }
   ],
   "source": [
    "sdata = {'Bogota':3500, 'Armenia':1450, 'Ibague':2000, 'Cartagena':0, 'San Andrés':np.nan}\n",
    "serie1 = pd.Series(sdata)\n",
    "print(\"\\t\\tMostrando la serie\")\n",
    "display(serie1)"
   ]
  },
  {
   "cell_type": "code",
   "execution_count": 3,
   "id": "be731ab1",
   "metadata": {},
   "outputs": [
    {
     "name": "stdout",
     "output_type": "stream",
     "text": [
      "\t\tMostrando valores únicos\n"
     ]
    },
    {
     "data": {
      "text/plain": [
       "array([3500., 1450., 2000.,    0.,   nan])"
      ]
     },
     "metadata": {},
     "output_type": "display_data"
    },
    {
     "name": "stdout",
     "output_type": "stream",
     "text": [
      "\t\tMostrando conteo de valores\n"
     ]
    },
    {
     "data": {
      "text/plain": [
       "3500.0    1\n",
       "1450.0    1\n",
       "2000.0    1\n",
       "0.0       1\n",
       "dtype: int64"
      ]
     },
     "metadata": {},
     "output_type": "display_data"
    }
   ],
   "source": [
    "print(\"\\t\\tMostrando valores únicos\")\n",
    "display(serie1.unique())\n",
    "print(\"\\t\\tMostrando conteo de valores\")\n",
    "display(serie1.value_counts())"
   ]
  },
  {
   "cell_type": "code",
   "execution_count": 133,
   "id": "7a2c43c4",
   "metadata": {},
   "outputs": [
    {
     "name": "stdout",
     "output_type": "stream",
     "text": [
      "\t\tMostrando datos filtrados\n"
     ]
    },
    {
     "data": {
      "text/plain": [
       "Bogota     3500.0\n",
       "Armenia    1450.0\n",
       "Ibague     2000.0\n",
       "dtype: float64"
      ]
     },
     "metadata": {},
     "output_type": "display_data"
    },
    {
     "name": "stdout",
     "output_type": "stream",
     "text": [
      "\t\tMostrando filtro\n"
     ]
    },
    {
     "data": {
      "text/plain": [
       "Bogota         True\n",
       "Armenia        True\n",
       "Ibague         True\n",
       "Cartagena     False\n",
       "San Andrés    False\n",
       "dtype: bool"
      ]
     },
     "metadata": {},
     "output_type": "display_data"
    }
   ],
   "source": [
    "print(\"\\t\\tMostrando datos filtrados\")\n",
    "display(serie1[serie1>0])\n",
    "print(\"\\t\\tMostrando filtro\")\n",
    "display(serie1>0)"
   ]
  },
  {
   "cell_type": "code",
   "execution_count": 134,
   "id": "6b26be7b",
   "metadata": {},
   "outputs": [
    {
     "name": "stdout",
     "output_type": "stream",
     "text": [
      "\t\tMostrando nulos\n"
     ]
    },
    {
     "data": {
      "text/plain": [
       "Bogota        False\n",
       "Armenia       False\n",
       "Ibague        False\n",
       "Cartagena     False\n",
       "San Andrés     True\n",
       "dtype: bool"
      ]
     },
     "metadata": {},
     "output_type": "display_data"
    },
    {
     "name": "stdout",
     "output_type": "stream",
     "text": [
      "\t\tMostrando no nulos\n"
     ]
    },
    {
     "data": {
      "text/plain": [
       "Bogota         True\n",
       "Armenia        True\n",
       "Ibague         True\n",
       "Cartagena      True\n",
       "San Andrés    False\n",
       "dtype: bool"
      ]
     },
     "metadata": {},
     "output_type": "display_data"
    }
   ],
   "source": [
    "print(\"\\t\\tMostrando nulos\")\n",
    "display(serie1.isnull())\n",
    "print(\"\\t\\tMostrando no nulos\")\n",
    "display(serie1.notnull())"
   ]
  },
  {
   "cell_type": "code",
   "execution_count": 4,
   "id": "2a811dfd-c4ab-451c-9731-2306b7b1c0ba",
   "metadata": {},
   "outputs": [
    {
     "data": {
      "text/plain": [
       "Amazonas         NaN\n",
       "Armenia       3450.0\n",
       "Bogota        6000.0\n",
       "Cartagena     3000.0\n",
       "Ibague           NaN\n",
       "San Andrés       NaN\n",
       "dtype: float64"
      ]
     },
     "execution_count": 4,
     "metadata": {},
     "output_type": "execute_result"
    }
   ],
   "source": [
    "#sdata2 = {'Bogota':2500, 'Armenia':2000, 'Cartagena':3000, 'San Andrés':15000, 'Amazonas':1500}\n",
    "sdata2 = [2500,2000,3000,15000,1500]\n",
    "states = ['Bogota', 'Armenia', 'Cartagena', 'San Andrés', 'Amazonas']\n",
    "serie2 = pd.Series(sdata2, index=states)\n",
    "serie1+serie2"
   ]
  },
  {
   "cell_type": "markdown",
   "id": "3f9ad5a1-4877-4812-8484-48772ca6c0bc",
   "metadata": {
    "jp-MarkdownHeadingCollapsed": true
   },
   "source": [
    "### DataFrames"
   ]
  },
  {
   "cell_type": "code",
   "execution_count": 7,
   "id": "5a68d42f-8f8b-4e70-ba77-f9b62ba9204a",
   "metadata": {},
   "outputs": [
    {
     "name": "stdout",
     "output_type": "stream",
     "text": [
      "\t FRAME\n"
     ]
    },
    {
     "data": {
      "text/html": [
       "<div>\n",
       "<style scoped>\n",
       "    .dataframe tbody tr th:only-of-type {\n",
       "        vertical-align: middle;\n",
       "    }\n",
       "\n",
       "    .dataframe tbody tr th {\n",
       "        vertical-align: top;\n",
       "    }\n",
       "\n",
       "    .dataframe thead th {\n",
       "        text-align: right;\n",
       "    }\n",
       "</style>\n",
       "<table border=\"1\" class=\"dataframe\">\n",
       "  <thead>\n",
       "    <tr style=\"text-align: right;\">\n",
       "      <th></th>\n",
       "      <th>state</th>\n",
       "      <th>year</th>\n",
       "      <th>pop</th>\n",
       "    </tr>\n",
       "  </thead>\n",
       "  <tbody>\n",
       "    <tr>\n",
       "      <th>Alice</th>\n",
       "      <td>Ohio</td>\n",
       "      <td>2000</td>\n",
       "      <td>1.5</td>\n",
       "    </tr>\n",
       "    <tr>\n",
       "      <th>Bob</th>\n",
       "      <td>Ohio</td>\n",
       "      <td>2001</td>\n",
       "      <td>1.7</td>\n",
       "    </tr>\n",
       "    <tr>\n",
       "      <th>Charles</th>\n",
       "      <td>Ohio</td>\n",
       "      <td>2002</td>\n",
       "      <td>3.6</td>\n",
       "    </tr>\n",
       "    <tr>\n",
       "      <th>Dana</th>\n",
       "      <td>Nevada</td>\n",
       "      <td>2001</td>\n",
       "      <td>2.4</td>\n",
       "    </tr>\n",
       "    <tr>\n",
       "      <th>Eli</th>\n",
       "      <td>Nevada</td>\n",
       "      <td>2002</td>\n",
       "      <td>2.9</td>\n",
       "    </tr>\n",
       "    <tr>\n",
       "      <th>Frank</th>\n",
       "      <td>Nevada</td>\n",
       "      <td>2003</td>\n",
       "      <td>3.2</td>\n",
       "    </tr>\n",
       "  </tbody>\n",
       "</table>\n",
       "</div>"
      ],
      "text/plain": [
       "          state  year  pop\n",
       "Alice      Ohio  2000  1.5\n",
       "Bob        Ohio  2001  1.7\n",
       "Charles    Ohio  2002  3.6\n",
       "Dana     Nevada  2001  2.4\n",
       "Eli      Nevada  2002  2.9\n",
       "Frank    Nevada  2003  3.2"
      ]
     },
     "metadata": {},
     "output_type": "display_data"
    },
    {
     "name": "stdout",
     "output_type": "stream",
     "text": [
      "\t COLUMNS\n"
     ]
    },
    {
     "data": {
      "text/plain": [
       "Index(['state', 'year', 'pop'], dtype='object')"
      ]
     },
     "metadata": {},
     "output_type": "display_data"
    }
   ],
   "source": [
    "asignacion = ['Alice', 'Bob', 'Charles', 'Dana', 'Eli', 'Frank']\n",
    "data = {'state': ['Ohio', 'Ohio', 'Ohio', 'Nevada', 'Nevada', 'Nevada'], \n",
    "        'year':[2000,2001,2002,2001,2002,2003],\n",
    "       'pop':[1.5, 1.7, 3.6, 2.4, 2.9, 3.2]}\n",
    "frame = pd.DataFrame(data, index=asignacion)\n",
    "print('\\t FRAME')\n",
    "display(frame)\n",
    "print('\\t COLUMNS')\n",
    "display(frame.columns)"
   ]
  },
  {
   "cell_type": "code",
   "execution_count": 20,
   "id": "e88b21ff",
   "metadata": {},
   "outputs": [
    {
     "data": {
      "text/html": [
       "<div>\n",
       "<style scoped>\n",
       "    .dataframe tbody tr th:only-of-type {\n",
       "        vertical-align: middle;\n",
       "    }\n",
       "\n",
       "    .dataframe tbody tr th {\n",
       "        vertical-align: top;\n",
       "    }\n",
       "\n",
       "    .dataframe thead th {\n",
       "        text-align: right;\n",
       "    }\n",
       "</style>\n",
       "<table border=\"1\" class=\"dataframe\">\n",
       "  <thead>\n",
       "    <tr style=\"text-align: right;\">\n",
       "      <th></th>\n",
       "      <th>year</th>\n",
       "      <th>state</th>\n",
       "    </tr>\n",
       "  </thead>\n",
       "  <tbody>\n",
       "    <tr>\n",
       "      <th>Alice</th>\n",
       "      <td>2000</td>\n",
       "      <td>Ohio</td>\n",
       "    </tr>\n",
       "    <tr>\n",
       "      <th>Bob</th>\n",
       "      <td>2001</td>\n",
       "      <td>Ohio</td>\n",
       "    </tr>\n",
       "    <tr>\n",
       "      <th>Charles</th>\n",
       "      <td>2002</td>\n",
       "      <td>Ohio</td>\n",
       "    </tr>\n",
       "    <tr>\n",
       "      <th>Dana</th>\n",
       "      <td>2001</td>\n",
       "      <td>Nevada</td>\n",
       "    </tr>\n",
       "    <tr>\n",
       "      <th>Eli</th>\n",
       "      <td>2002</td>\n",
       "      <td>Nevada</td>\n",
       "    </tr>\n",
       "    <tr>\n",
       "      <th>Frank</th>\n",
       "      <td>2003</td>\n",
       "      <td>Nevada</td>\n",
       "    </tr>\n",
       "  </tbody>\n",
       "</table>\n",
       "</div>"
      ],
      "text/plain": [
       "         year   state\n",
       "Alice    2000    Ohio\n",
       "Bob      2001    Ohio\n",
       "Charles  2002    Ohio\n",
       "Dana     2001  Nevada\n",
       "Eli      2002  Nevada\n",
       "Frank    2003  Nevada"
      ]
     },
     "execution_count": 20,
     "metadata": {},
     "output_type": "execute_result"
    }
   ],
   "source": [
    "frame[[\"year\", \"state\"]]"
   ]
  },
  {
   "cell_type": "code",
   "execution_count": 26,
   "id": "9c1d63c9",
   "metadata": {},
   "outputs": [
    {
     "data": {
      "text/plain": [
       "array([[2.000e+03, 1.500e+00],\n",
       "       [2.001e+03, 1.700e+00],\n",
       "       [2.002e+03, 3.600e+00],\n",
       "       [2.001e+03, 2.400e+00],\n",
       "       [2.002e+03, 2.900e+00],\n",
       "       [2.003e+03, 3.200e+00]])"
      ]
     },
     "execution_count": 26,
     "metadata": {},
     "output_type": "execute_result"
    }
   ],
   "source": [
    "frame[[name for name in frame.columns if (frame.dtypes != object)[name]]].values"
   ]
  },
  {
   "cell_type": "code",
   "execution_count": 138,
   "id": "656316ce",
   "metadata": {},
   "outputs": [
    {
     "name": "stdout",
     "output_type": "stream",
     "text": [
      "\t INDEX\n"
     ]
    },
    {
     "data": {
      "text/plain": [
       "Index(['Alice', 'Bob', 'Charles', 'Dana', 'Eli', 'Frank'], dtype='object')"
      ]
     },
     "metadata": {},
     "output_type": "display_data"
    },
    {
     "name": "stdout",
     "output_type": "stream",
     "text": [
      "\t VALUES\n"
     ]
    },
    {
     "data": {
      "text/plain": [
       "array([['Ohio', 2000, 1.5],\n",
       "       ['Ohio', 2001, 1.7],\n",
       "       ['Ohio', 2002, 3.6],\n",
       "       ['Nevada', 2001, 2.4],\n",
       "       ['Nevada', 2002, 2.9],\n",
       "       ['Nevada', 2003, 3.2]], dtype=object)"
      ]
     },
     "metadata": {},
     "output_type": "display_data"
    }
   ],
   "source": [
    "print('\\t INDEX')\n",
    "display(frame.index)\n",
    "print('\\t VALUES')\n",
    "display(frame.values)"
   ]
  },
  {
   "cell_type": "code",
   "execution_count": 12,
   "id": "b3b166e3",
   "metadata": {},
   "outputs": [
    {
     "name": "stdout",
     "output_type": "stream",
     "text": [
      "\t UNA SOLA COLUMNA CON [ ]\n"
     ]
    },
    {
     "data": {
      "text/plain": [
       "Alice      2000\n",
       "Bob        2001\n",
       "Charles    2002\n",
       "Dana       2001\n",
       "Eli        2002\n",
       "Frank      2003\n",
       "Name: year, dtype: int64"
      ]
     },
     "metadata": {},
     "output_type": "display_data"
    },
    {
     "name": "stdout",
     "output_type": "stream",
     "text": [
      "\t UNA SOLA COLUMNA CON [[ ]]\n"
     ]
    },
    {
     "data": {
      "text/html": [
       "<div>\n",
       "<style scoped>\n",
       "    .dataframe tbody tr th:only-of-type {\n",
       "        vertical-align: middle;\n",
       "    }\n",
       "\n",
       "    .dataframe tbody tr th {\n",
       "        vertical-align: top;\n",
       "    }\n",
       "\n",
       "    .dataframe thead th {\n",
       "        text-align: right;\n",
       "    }\n",
       "</style>\n",
       "<table border=\"1\" class=\"dataframe\">\n",
       "  <thead>\n",
       "    <tr style=\"text-align: right;\">\n",
       "      <th></th>\n",
       "      <th>year</th>\n",
       "    </tr>\n",
       "  </thead>\n",
       "  <tbody>\n",
       "    <tr>\n",
       "      <th>Alice</th>\n",
       "      <td>2000</td>\n",
       "    </tr>\n",
       "    <tr>\n",
       "      <th>Bob</th>\n",
       "      <td>2001</td>\n",
       "    </tr>\n",
       "    <tr>\n",
       "      <th>Charles</th>\n",
       "      <td>2002</td>\n",
       "    </tr>\n",
       "    <tr>\n",
       "      <th>Dana</th>\n",
       "      <td>2001</td>\n",
       "    </tr>\n",
       "    <tr>\n",
       "      <th>Eli</th>\n",
       "      <td>2002</td>\n",
       "    </tr>\n",
       "    <tr>\n",
       "      <th>Frank</th>\n",
       "      <td>2003</td>\n",
       "    </tr>\n",
       "  </tbody>\n",
       "</table>\n",
       "</div>"
      ],
      "text/plain": [
       "         year\n",
       "Alice    2000\n",
       "Bob      2001\n",
       "Charles  2002\n",
       "Dana     2001\n",
       "Eli      2002\n",
       "Frank    2003"
      ]
     },
     "metadata": {},
     "output_type": "display_data"
    }
   ],
   "source": [
    "print('\\t UNA SOLA COLUMNA CON [ ]')\n",
    "display(frame['year'])\n",
    "print('\\t UNA SOLA COLUMNA CON [[ ]]')\n",
    "display(frame[['year']])"
   ]
  },
  {
   "cell_type": "code",
   "execution_count": 13,
   "id": "22417abb",
   "metadata": {},
   "outputs": [
    {
     "name": "stdout",
     "output_type": "stream",
     "text": [
      "\t LOC\n"
     ]
    },
    {
     "data": {
      "text/plain": [
       "state    Nevada\n",
       "year       2001\n",
       "pop         2.4\n",
       "Name: Dana, dtype: object"
      ]
     },
     "metadata": {},
     "output_type": "display_data"
    },
    {
     "name": "stdout",
     "output_type": "stream",
     "text": [
      "\t ILOC\n"
     ]
    },
    {
     "data": {
      "text/plain": [
       "state    Nevada\n",
       "year       2001\n",
       "pop         2.4\n",
       "Name: Dana, dtype: object"
      ]
     },
     "metadata": {},
     "output_type": "display_data"
    }
   ],
   "source": [
    "print('\\t LOC')\n",
    "display(frame.loc['Dana'])\n",
    "print('\\t ILOC')\n",
    "display(frame.iloc[3])"
   ]
  },
  {
   "cell_type": "code",
   "execution_count": 4,
   "id": "fc7b9f2f-b885-483a-a28c-72f467dd5489",
   "metadata": {},
   "outputs": [
    {
     "data": {
      "text/html": [
       "<div>\n",
       "<style scoped>\n",
       "    .dataframe tbody tr th:only-of-type {\n",
       "        vertical-align: middle;\n",
       "    }\n",
       "\n",
       "    .dataframe tbody tr th {\n",
       "        vertical-align: top;\n",
       "    }\n",
       "\n",
       "    .dataframe thead th {\n",
       "        text-align: right;\n",
       "    }\n",
       "</style>\n",
       "<table border=\"1\" class=\"dataframe\">\n",
       "  <thead>\n",
       "    <tr style=\"text-align: right;\">\n",
       "      <th></th>\n",
       "      <th>Nevada</th>\n",
       "      <th>Ohio</th>\n",
       "    </tr>\n",
       "  </thead>\n",
       "  <tbody>\n",
       "    <tr>\n",
       "      <th>2001</th>\n",
       "      <td>2.4</td>\n",
       "      <td>1.7</td>\n",
       "    </tr>\n",
       "    <tr>\n",
       "      <th>2002</th>\n",
       "      <td>2.9</td>\n",
       "      <td>3.6</td>\n",
       "    </tr>\n",
       "    <tr>\n",
       "      <th>2000</th>\n",
       "      <td>NaN</td>\n",
       "      <td>1.5</td>\n",
       "    </tr>\n",
       "  </tbody>\n",
       "</table>\n",
       "</div>"
      ],
      "text/plain": [
       "      Nevada  Ohio\n",
       "2001     2.4   1.7\n",
       "2002     2.9   3.6\n",
       "2000     NaN   1.5"
      ]
     },
     "execution_count": 4,
     "metadata": {},
     "output_type": "execute_result"
    }
   ],
   "source": [
    "df2 = pd.DataFrame({'Nevada':{2001:2.4, 2002:2.9},\n",
    "              'Ohio':{2000:1.5, 2001:1.7, 2002:3.6}})\n",
    "df2"
   ]
  },
  {
   "cell_type": "code",
   "execution_count": 5,
   "id": "4e129ea8-2810-4920-ad7b-88dd8e9ad231",
   "metadata": {},
   "outputs": [
    {
     "name": "stdout",
     "output_type": "stream",
     "text": [
      "\t ISIN\n"
     ]
    },
    {
     "data": {
      "text/html": [
       "<div>\n",
       "<style scoped>\n",
       "    .dataframe tbody tr th:only-of-type {\n",
       "        vertical-align: middle;\n",
       "    }\n",
       "\n",
       "    .dataframe tbody tr th {\n",
       "        vertical-align: top;\n",
       "    }\n",
       "\n",
       "    .dataframe thead th {\n",
       "        text-align: right;\n",
       "    }\n",
       "</style>\n",
       "<table border=\"1\" class=\"dataframe\">\n",
       "  <thead>\n",
       "    <tr style=\"text-align: right;\">\n",
       "      <th></th>\n",
       "      <th>Nevada</th>\n",
       "      <th>Ohio</th>\n",
       "    </tr>\n",
       "  </thead>\n",
       "  <tbody>\n",
       "    <tr>\n",
       "      <th>2001</th>\n",
       "      <td>True</td>\n",
       "      <td>False</td>\n",
       "    </tr>\n",
       "    <tr>\n",
       "      <th>2002</th>\n",
       "      <td>False</td>\n",
       "      <td>False</td>\n",
       "    </tr>\n",
       "    <tr>\n",
       "      <th>2000</th>\n",
       "      <td>False</td>\n",
       "      <td>True</td>\n",
       "    </tr>\n",
       "  </tbody>\n",
       "</table>\n",
       "</div>"
      ],
      "text/plain": [
       "      Nevada   Ohio\n",
       "2001    True  False\n",
       "2002   False  False\n",
       "2000   False   True"
      ]
     },
     "metadata": {},
     "output_type": "display_data"
    },
    {
     "name": "stdout",
     "output_type": "stream",
     "text": [
      "\t df2 < 2\n"
     ]
    },
    {
     "data": {
      "text/html": [
       "<div>\n",
       "<style scoped>\n",
       "    .dataframe tbody tr th:only-of-type {\n",
       "        vertical-align: middle;\n",
       "    }\n",
       "\n",
       "    .dataframe tbody tr th {\n",
       "        vertical-align: top;\n",
       "    }\n",
       "\n",
       "    .dataframe thead th {\n",
       "        text-align: right;\n",
       "    }\n",
       "</style>\n",
       "<table border=\"1\" class=\"dataframe\">\n",
       "  <thead>\n",
       "    <tr style=\"text-align: right;\">\n",
       "      <th></th>\n",
       "      <th>Nevada</th>\n",
       "      <th>Ohio</th>\n",
       "    </tr>\n",
       "  </thead>\n",
       "  <tbody>\n",
       "    <tr>\n",
       "      <th>2001</th>\n",
       "      <td>False</td>\n",
       "      <td>True</td>\n",
       "    </tr>\n",
       "    <tr>\n",
       "      <th>2002</th>\n",
       "      <td>False</td>\n",
       "      <td>False</td>\n",
       "    </tr>\n",
       "    <tr>\n",
       "      <th>2000</th>\n",
       "      <td>False</td>\n",
       "      <td>True</td>\n",
       "    </tr>\n",
       "  </tbody>\n",
       "</table>\n",
       "</div>"
      ],
      "text/plain": [
       "      Nevada   Ohio\n",
       "2001   False   True\n",
       "2002   False  False\n",
       "2000   False   True"
      ]
     },
     "metadata": {},
     "output_type": "display_data"
    },
    {
     "name": "stdout",
     "output_type": "stream",
     "text": [
      "\t .T\n"
     ]
    },
    {
     "data": {
      "text/html": [
       "<div>\n",
       "<style scoped>\n",
       "    .dataframe tbody tr th:only-of-type {\n",
       "        vertical-align: middle;\n",
       "    }\n",
       "\n",
       "    .dataframe tbody tr th {\n",
       "        vertical-align: top;\n",
       "    }\n",
       "\n",
       "    .dataframe thead th {\n",
       "        text-align: right;\n",
       "    }\n",
       "</style>\n",
       "<table border=\"1\" class=\"dataframe\">\n",
       "  <thead>\n",
       "    <tr style=\"text-align: right;\">\n",
       "      <th></th>\n",
       "      <th>2001</th>\n",
       "      <th>2002</th>\n",
       "      <th>2000</th>\n",
       "    </tr>\n",
       "  </thead>\n",
       "  <tbody>\n",
       "    <tr>\n",
       "      <th>Nevada</th>\n",
       "      <td>2.4</td>\n",
       "      <td>2.9</td>\n",
       "      <td>NaN</td>\n",
       "    </tr>\n",
       "    <tr>\n",
       "      <th>Ohio</th>\n",
       "      <td>1.7</td>\n",
       "      <td>3.6</td>\n",
       "      <td>1.5</td>\n",
       "    </tr>\n",
       "  </tbody>\n",
       "</table>\n",
       "</div>"
      ],
      "text/plain": [
       "        2001  2002  2000\n",
       "Nevada   2.4   2.9   NaN\n",
       "Ohio     1.7   3.6   1.5"
      ]
     },
     "metadata": {},
     "output_type": "display_data"
    },
    {
     "name": "stdout",
     "output_type": "stream",
     "text": [
      "\t IDXMIN\n"
     ]
    },
    {
     "data": {
      "text/plain": [
       "Nevada    2001\n",
       "Ohio      2000\n",
       "dtype: int64"
      ]
     },
     "metadata": {},
     "output_type": "display_data"
    },
    {
     "name": "stdout",
     "output_type": "stream",
     "text": [
      "\t IDXMAX\n"
     ]
    },
    {
     "data": {
      "text/plain": [
       "Nevada    2002\n",
       "Ohio      2002\n",
       "dtype: int64"
      ]
     },
     "metadata": {},
     "output_type": "display_data"
    },
    {
     "name": "stdout",
     "output_type": "stream",
     "text": [
      "\t ¿ES ÚNICO EL INDEX?\n"
     ]
    },
    {
     "data": {
      "text/plain": [
       "True"
      ]
     },
     "metadata": {},
     "output_type": "display_data"
    },
    {
     "name": "stdout",
     "output_type": "stream",
     "text": [
      "\t INDEX\n"
     ]
    },
    {
     "data": {
      "text/plain": [
       "Int64Index([2001, 2002, 2000], dtype='int64')"
      ]
     },
     "metadata": {},
     "output_type": "display_data"
    }
   ],
   "source": [
    "print('\\t ISIN')\n",
    "display(df2.isin([2.4,1.5]))\n",
    "print('\\t df2 < 2')\n",
    "display(df2<2)\n",
    "print('\\t .T')\n",
    "display(df2.T)\n",
    "print('\\t IDXMIN')\n",
    "display(df2.idxmin())\n",
    "print('\\t IDXMAX')\n",
    "display(df2.idxmax())\n",
    "print('\\t ¿ES ÚNICO EL INDEX?')\n",
    "display(df2.index.is_unique)\n",
    "print('\\t INDEX')\n",
    "display(df2.index)"
   ]
  },
  {
   "cell_type": "code",
   "execution_count": 143,
   "id": "d56b4bc0-0283-460a-8b0c-4b593d501646",
   "metadata": {},
   "outputs": [
    {
     "data": {
      "text/html": [
       "<div>\n",
       "<style scoped>\n",
       "    .dataframe tbody tr th:only-of-type {\n",
       "        vertical-align: middle;\n",
       "    }\n",
       "\n",
       "    .dataframe tbody tr th {\n",
       "        vertical-align: top;\n",
       "    }\n",
       "\n",
       "    .dataframe thead th {\n",
       "        text-align: right;\n",
       "    }\n",
       "</style>\n",
       "<table border=\"1\" class=\"dataframe\">\n",
       "  <thead>\n",
       "    <tr style=\"text-align: right;\">\n",
       "      <th></th>\n",
       "      <th>Nevada</th>\n",
       "      <th>Ohio</th>\n",
       "    </tr>\n",
       "  </thead>\n",
       "  <tbody>\n",
       "    <tr>\n",
       "      <th>1</th>\n",
       "      <td>2.4</td>\n",
       "      <td>1.7</td>\n",
       "    </tr>\n",
       "    <tr>\n",
       "      <th>2</th>\n",
       "      <td>2.9</td>\n",
       "      <td>3.6</td>\n",
       "    </tr>\n",
       "    <tr>\n",
       "      <th>0</th>\n",
       "      <td>NaN</td>\n",
       "      <td>1.5</td>\n",
       "    </tr>\n",
       "  </tbody>\n",
       "</table>\n",
       "</div>"
      ],
      "text/plain": [
       "   Nevada  Ohio\n",
       "1     2.4   1.7\n",
       "2     2.9   3.6\n",
       "0     NaN   1.5"
      ]
     },
     "execution_count": 143,
     "metadata": {},
     "output_type": "execute_result"
    }
   ],
   "source": [
    "df2.rename({2000:0,2001:1,2002:2})"
   ]
  },
  {
   "cell_type": "code",
   "execution_count": 27,
   "id": "01c2839a-7e9a-4b47-b816-f2cc40f420d2",
   "metadata": {},
   "outputs": [
    {
     "data": {
      "text/plain": [
       "one      1\n",
       "two      2\n",
       "three    3\n",
       "four     4\n",
       "dtype: int64"
      ]
     },
     "metadata": {},
     "output_type": "display_data"
    },
    {
     "name": "stdout",
     "output_type": "stream",
     "text": [
      "\n",
      "\tREINDEX\n",
      "\n"
     ]
    },
    {
     "data": {
      "text/plain": [
       "three    3.0\n",
       "four     4.0\n",
       "five     NaN\n",
       "one      1.0\n",
       "dtype: float64"
      ]
     },
     "metadata": {},
     "output_type": "display_data"
    }
   ],
   "source": [
    "ser = pd.Series([1,2,3,4], index=['one','two','three','four'])\n",
    "display(ser)\n",
    "print('\\n\\tREINDEX\\n')\n",
    "display(ser.reindex(['three','four','five','one']))"
   ]
  },
  {
   "cell_type": "markdown",
   "id": "06acd8a7-9d9b-4061-84c9-e201058399a8",
   "metadata": {
    "jp-MarkdownHeadingCollapsed": true
   },
   "source": [
    "### Drop Values"
   ]
  },
  {
   "cell_type": "code",
   "execution_count": 28,
   "id": "9f558562",
   "metadata": {},
   "outputs": [
    {
     "data": {
      "text/plain": [
       "array([[ 0,  1,  2,  3],\n",
       "       [ 4,  5,  6,  7],\n",
       "       [ 8,  9, 10, 11],\n",
       "       [12, 13, 14, 15]])"
      ]
     },
     "execution_count": 28,
     "metadata": {},
     "output_type": "execute_result"
    }
   ],
   "source": [
    "np.arange(16).reshape((4,4))"
   ]
  },
  {
   "cell_type": "code",
   "execution_count": 34,
   "id": "939bb8b0",
   "metadata": {},
   "outputs": [
    {
     "data": {
      "text/html": [
       "<div>\n",
       "<style scoped>\n",
       "    .dataframe tbody tr th:only-of-type {\n",
       "        vertical-align: middle;\n",
       "    }\n",
       "\n",
       "    .dataframe tbody tr th {\n",
       "        vertical-align: top;\n",
       "    }\n",
       "\n",
       "    .dataframe thead th {\n",
       "        text-align: right;\n",
       "    }\n",
       "</style>\n",
       "<table border=\"1\" class=\"dataframe\">\n",
       "  <thead>\n",
       "    <tr style=\"text-align: right;\">\n",
       "      <th></th>\n",
       "      <th>ball</th>\n",
       "      <th>pen</th>\n",
       "      <th>pencil</th>\n",
       "      <th>paper</th>\n",
       "    </tr>\n",
       "  </thead>\n",
       "  <tbody>\n",
       "    <tr>\n",
       "      <th>red</th>\n",
       "      <td>0</td>\n",
       "      <td>1</td>\n",
       "      <td>2</td>\n",
       "      <td>3</td>\n",
       "    </tr>\n",
       "    <tr>\n",
       "      <th>blue</th>\n",
       "      <td>-10</td>\n",
       "      <td>-10</td>\n",
       "      <td>-10</td>\n",
       "      <td>-10</td>\n",
       "    </tr>\n",
       "    <tr>\n",
       "      <th>yellow</th>\n",
       "      <td>-10</td>\n",
       "      <td>-10</td>\n",
       "      <td>-10</td>\n",
       "      <td>-10</td>\n",
       "    </tr>\n",
       "    <tr>\n",
       "      <th>white</th>\n",
       "      <td>-10</td>\n",
       "      <td>-10</td>\n",
       "      <td>-10</td>\n",
       "      <td>-10</td>\n",
       "    </tr>\n",
       "  </tbody>\n",
       "</table>\n",
       "</div>"
      ],
      "text/plain": [
       "        ball  pen  pencil  paper\n",
       "red        0    1       2      3\n",
       "blue     -10  -10     -10    -10\n",
       "yellow   -10  -10     -10    -10\n",
       "white    -10  -10     -10    -10"
      ]
     },
     "execution_count": 34,
     "metadata": {},
     "output_type": "execute_result"
    }
   ],
   "source": [
    "frame[frame.ball>0]=-10\n",
    "frame"
   ]
  },
  {
   "cell_type": "code",
   "execution_count": 30,
   "id": "b63c9c8e-dac7-49fa-a54c-55f64ee32080",
   "metadata": {},
   "outputs": [
    {
     "data": {
      "text/html": [
       "<div>\n",
       "<style scoped>\n",
       "    .dataframe tbody tr th:only-of-type {\n",
       "        vertical-align: middle;\n",
       "    }\n",
       "\n",
       "    .dataframe tbody tr th {\n",
       "        vertical-align: top;\n",
       "    }\n",
       "\n",
       "    .dataframe thead th {\n",
       "        text-align: right;\n",
       "    }\n",
       "</style>\n",
       "<table border=\"1\" class=\"dataframe\">\n",
       "  <thead>\n",
       "    <tr style=\"text-align: right;\">\n",
       "      <th></th>\n",
       "      <th>ball</th>\n",
       "      <th>pen</th>\n",
       "      <th>pencil</th>\n",
       "      <th>paper</th>\n",
       "    </tr>\n",
       "  </thead>\n",
       "  <tbody>\n",
       "    <tr>\n",
       "      <th>red</th>\n",
       "      <td>0</td>\n",
       "      <td>1</td>\n",
       "      <td>2</td>\n",
       "      <td>3</td>\n",
       "    </tr>\n",
       "    <tr>\n",
       "      <th>blue</th>\n",
       "      <td>4</td>\n",
       "      <td>5</td>\n",
       "      <td>6</td>\n",
       "      <td>7</td>\n",
       "    </tr>\n",
       "    <tr>\n",
       "      <th>yellow</th>\n",
       "      <td>8</td>\n",
       "      <td>9</td>\n",
       "      <td>10</td>\n",
       "      <td>11</td>\n",
       "    </tr>\n",
       "    <tr>\n",
       "      <th>white</th>\n",
       "      <td>12</td>\n",
       "      <td>13</td>\n",
       "      <td>14</td>\n",
       "      <td>15</td>\n",
       "    </tr>\n",
       "  </tbody>\n",
       "</table>\n",
       "</div>"
      ],
      "text/plain": [
       "        ball  pen  pencil  paper\n",
       "red        0    1       2      3\n",
       "blue       4    5       6      7\n",
       "yellow     8    9      10     11\n",
       "white     12   13      14     15"
      ]
     },
     "metadata": {},
     "output_type": "display_data"
    },
    {
     "data": {
      "text/html": [
       "<div>\n",
       "<style scoped>\n",
       "    .dataframe tbody tr th:only-of-type {\n",
       "        vertical-align: middle;\n",
       "    }\n",
       "\n",
       "    .dataframe tbody tr th {\n",
       "        vertical-align: top;\n",
       "    }\n",
       "\n",
       "    .dataframe thead th {\n",
       "        text-align: right;\n",
       "    }\n",
       "</style>\n",
       "<table border=\"1\" class=\"dataframe\">\n",
       "  <thead>\n",
       "    <tr style=\"text-align: right;\">\n",
       "      <th></th>\n",
       "      <th>ball</th>\n",
       "      <th>pen</th>\n",
       "      <th>pencil</th>\n",
       "      <th>paper</th>\n",
       "    </tr>\n",
       "  </thead>\n",
       "  <tbody>\n",
       "    <tr>\n",
       "      <th>red</th>\n",
       "      <td>0</td>\n",
       "      <td>1</td>\n",
       "      <td>2</td>\n",
       "      <td>3</td>\n",
       "    </tr>\n",
       "    <tr>\n",
       "      <th>white</th>\n",
       "      <td>12</td>\n",
       "      <td>13</td>\n",
       "      <td>14</td>\n",
       "      <td>15</td>\n",
       "    </tr>\n",
       "  </tbody>\n",
       "</table>\n",
       "</div>"
      ],
      "text/plain": [
       "       ball  pen  pencil  paper\n",
       "red       0    1       2      3\n",
       "white    12   13      14     15"
      ]
     },
     "metadata": {},
     "output_type": "display_data"
    },
    {
     "data": {
      "text/html": [
       "<div>\n",
       "<style scoped>\n",
       "    .dataframe tbody tr th:only-of-type {\n",
       "        vertical-align: middle;\n",
       "    }\n",
       "\n",
       "    .dataframe tbody tr th {\n",
       "        vertical-align: top;\n",
       "    }\n",
       "\n",
       "    .dataframe thead th {\n",
       "        text-align: right;\n",
       "    }\n",
       "</style>\n",
       "<table border=\"1\" class=\"dataframe\">\n",
       "  <thead>\n",
       "    <tr style=\"text-align: right;\">\n",
       "      <th></th>\n",
       "      <th>ball</th>\n",
       "      <th>paper</th>\n",
       "    </tr>\n",
       "  </thead>\n",
       "  <tbody>\n",
       "    <tr>\n",
       "      <th>red</th>\n",
       "      <td>0</td>\n",
       "      <td>3</td>\n",
       "    </tr>\n",
       "    <tr>\n",
       "      <th>blue</th>\n",
       "      <td>4</td>\n",
       "      <td>7</td>\n",
       "    </tr>\n",
       "    <tr>\n",
       "      <th>yellow</th>\n",
       "      <td>8</td>\n",
       "      <td>11</td>\n",
       "    </tr>\n",
       "    <tr>\n",
       "      <th>white</th>\n",
       "      <td>12</td>\n",
       "      <td>15</td>\n",
       "    </tr>\n",
       "  </tbody>\n",
       "</table>\n",
       "</div>"
      ],
      "text/plain": [
       "        ball  paper\n",
       "red        0      3\n",
       "blue       4      7\n",
       "yellow     8     11\n",
       "white     12     15"
      ]
     },
     "metadata": {},
     "output_type": "display_data"
    }
   ],
   "source": [
    "frame = pd.DataFrame(np.arange(16).reshape((4,4)), index=['red','blue','yellow','white'], columns=['ball','pen','pencil','paper'])\n",
    "display(frame)\n",
    "display(frame.drop(['blue','yellow']))\n",
    "display(frame.drop(['pen','pencil'],axis=1))"
   ]
  },
  {
   "cell_type": "code",
   "execution_count": 12,
   "id": "370eb50a-e441-49a5-bb98-8eb9676fdfbf",
   "metadata": {},
   "outputs": [
    {
     "name": "stdout",
     "output_type": "stream",
     "text": [
      "\t\n",
      "FRAME\n"
     ]
    },
    {
     "data": {
      "text/html": [
       "<div>\n",
       "<style scoped>\n",
       "    .dataframe tbody tr th:only-of-type {\n",
       "        vertical-align: middle;\n",
       "    }\n",
       "\n",
       "    .dataframe tbody tr th {\n",
       "        vertical-align: top;\n",
       "    }\n",
       "\n",
       "    .dataframe thead th {\n",
       "        text-align: right;\n",
       "    }\n",
       "</style>\n",
       "<table border=\"1\" class=\"dataframe\">\n",
       "  <thead>\n",
       "    <tr style=\"text-align: right;\">\n",
       "      <th></th>\n",
       "      <th>ball</th>\n",
       "      <th>pen</th>\n",
       "      <th>pencil</th>\n",
       "      <th>paper</th>\n",
       "    </tr>\n",
       "  </thead>\n",
       "  <tbody>\n",
       "    <tr>\n",
       "      <th>red</th>\n",
       "      <td>0</td>\n",
       "      <td>1</td>\n",
       "      <td>2</td>\n",
       "      <td>3</td>\n",
       "    </tr>\n",
       "    <tr>\n",
       "      <th>blue</th>\n",
       "      <td>4</td>\n",
       "      <td>5</td>\n",
       "      <td>6</td>\n",
       "      <td>7</td>\n",
       "    </tr>\n",
       "    <tr>\n",
       "      <th>yellow</th>\n",
       "      <td>8</td>\n",
       "      <td>9</td>\n",
       "      <td>10</td>\n",
       "      <td>11</td>\n",
       "    </tr>\n",
       "    <tr>\n",
       "      <th>white</th>\n",
       "      <td>12</td>\n",
       "      <td>13</td>\n",
       "      <td>14</td>\n",
       "      <td>15</td>\n",
       "    </tr>\n",
       "  </tbody>\n",
       "</table>\n",
       "</div>"
      ],
      "text/plain": [
       "        ball  pen  pencil  paper\n",
       "red        0    1       2      3\n",
       "blue       4    5       6      7\n",
       "yellow     8    9      10     11\n",
       "white     12   13      14     15"
      ]
     },
     "metadata": {},
     "output_type": "display_data"
    },
    {
     "name": "stdout",
     "output_type": "stream",
     "text": [
      "\t\n",
      "SERIE\n"
     ]
    },
    {
     "data": {
      "text/plain": [
       "ball      1\n",
       "pen       5\n",
       "pencil    3\n",
       "paper     2\n",
       "dtype: int64"
      ]
     },
     "metadata": {},
     "output_type": "display_data"
    },
    {
     "name": "stdout",
     "output_type": "stream",
     "text": [
      "\t\n",
      "RESTA\n"
     ]
    },
    {
     "data": {
      "text/html": [
       "<div>\n",
       "<style scoped>\n",
       "    .dataframe tbody tr th:only-of-type {\n",
       "        vertical-align: middle;\n",
       "    }\n",
       "\n",
       "    .dataframe tbody tr th {\n",
       "        vertical-align: top;\n",
       "    }\n",
       "\n",
       "    .dataframe thead th {\n",
       "        text-align: right;\n",
       "    }\n",
       "</style>\n",
       "<table border=\"1\" class=\"dataframe\">\n",
       "  <thead>\n",
       "    <tr style=\"text-align: right;\">\n",
       "      <th></th>\n",
       "      <th>ball</th>\n",
       "      <th>pen</th>\n",
       "      <th>pencil</th>\n",
       "      <th>paper</th>\n",
       "    </tr>\n",
       "  </thead>\n",
       "  <tbody>\n",
       "    <tr>\n",
       "      <th>red</th>\n",
       "      <td>-1</td>\n",
       "      <td>-4</td>\n",
       "      <td>-1</td>\n",
       "      <td>1</td>\n",
       "    </tr>\n",
       "    <tr>\n",
       "      <th>blue</th>\n",
       "      <td>3</td>\n",
       "      <td>0</td>\n",
       "      <td>3</td>\n",
       "      <td>5</td>\n",
       "    </tr>\n",
       "    <tr>\n",
       "      <th>yellow</th>\n",
       "      <td>7</td>\n",
       "      <td>4</td>\n",
       "      <td>7</td>\n",
       "      <td>9</td>\n",
       "    </tr>\n",
       "    <tr>\n",
       "      <th>white</th>\n",
       "      <td>11</td>\n",
       "      <td>8</td>\n",
       "      <td>11</td>\n",
       "      <td>13</td>\n",
       "    </tr>\n",
       "  </tbody>\n",
       "</table>\n",
       "</div>"
      ],
      "text/plain": [
       "        ball  pen  pencil  paper\n",
       "red       -1   -4      -1      1\n",
       "blue       3    0       3      5\n",
       "yellow     7    4       7      9\n",
       "white     11    8      11     13"
      ]
     },
     "metadata": {},
     "output_type": "display_data"
    },
    {
     "name": "stdout",
     "output_type": "stream",
     "text": [
      "\t\n",
      "NUEVA SERIE\n"
     ]
    },
    {
     "data": {
      "text/plain": [
       "ball      1\n",
       "pen       5\n",
       "pencil    3\n",
       "paper     2\n",
       "mug       9\n",
       "dtype: int64"
      ]
     },
     "metadata": {},
     "output_type": "display_data"
    },
    {
     "name": "stdout",
     "output_type": "stream",
     "text": [
      "\t\n",
      "RESTA\n"
     ]
    },
    {
     "data": {
      "text/html": [
       "<div>\n",
       "<style scoped>\n",
       "    .dataframe tbody tr th:only-of-type {\n",
       "        vertical-align: middle;\n",
       "    }\n",
       "\n",
       "    .dataframe tbody tr th {\n",
       "        vertical-align: top;\n",
       "    }\n",
       "\n",
       "    .dataframe thead th {\n",
       "        text-align: right;\n",
       "    }\n",
       "</style>\n",
       "<table border=\"1\" class=\"dataframe\">\n",
       "  <thead>\n",
       "    <tr style=\"text-align: right;\">\n",
       "      <th></th>\n",
       "      <th>ball</th>\n",
       "      <th>mug</th>\n",
       "      <th>paper</th>\n",
       "      <th>pen</th>\n",
       "      <th>pencil</th>\n",
       "    </tr>\n",
       "  </thead>\n",
       "  <tbody>\n",
       "    <tr>\n",
       "      <th>red</th>\n",
       "      <td>-1</td>\n",
       "      <td>NaN</td>\n",
       "      <td>1</td>\n",
       "      <td>-4</td>\n",
       "      <td>-1</td>\n",
       "    </tr>\n",
       "    <tr>\n",
       "      <th>blue</th>\n",
       "      <td>3</td>\n",
       "      <td>NaN</td>\n",
       "      <td>5</td>\n",
       "      <td>0</td>\n",
       "      <td>3</td>\n",
       "    </tr>\n",
       "    <tr>\n",
       "      <th>yellow</th>\n",
       "      <td>7</td>\n",
       "      <td>NaN</td>\n",
       "      <td>9</td>\n",
       "      <td>4</td>\n",
       "      <td>7</td>\n",
       "    </tr>\n",
       "    <tr>\n",
       "      <th>white</th>\n",
       "      <td>11</td>\n",
       "      <td>NaN</td>\n",
       "      <td>13</td>\n",
       "      <td>8</td>\n",
       "      <td>11</td>\n",
       "    </tr>\n",
       "  </tbody>\n",
       "</table>\n",
       "</div>"
      ],
      "text/plain": [
       "        ball  mug  paper  pen  pencil\n",
       "red       -1  NaN      1   -4      -1\n",
       "blue       3  NaN      5    0       3\n",
       "yellow     7  NaN      9    4       7\n",
       "white     11  NaN     13    8      11"
      ]
     },
     "metadata": {},
     "output_type": "display_data"
    }
   ],
   "source": [
    "frame = pd.DataFrame(np.arange(16).reshape((4,4)),  index=['red','blue','yellow','white'], columns=['ball','pen','pencil','paper'])\n",
    "print('\\t\\nFRAME')\n",
    "display(frame)\n",
    "\n",
    "ser = pd.Series([1,5,3,2], index=['ball','pen','pencil','paper'])\n",
    "print('\\t\\nSERIE')\n",
    "display(ser)\n",
    "\n",
    "print('\\t\\nRESTA')\n",
    "display(frame - ser)\n",
    "\n",
    "ser['mug'] = 9\n",
    "print('\\t\\nNUEVA SERIE')\n",
    "display(ser)\n",
    "\n",
    "print('\\t\\nRESTA')\n",
    "display(frame - ser)"
   ]
  },
  {
   "cell_type": "markdown",
   "id": "162bcada-e003-4621-9dce-0440264dca87",
   "metadata": {
    "jp-MarkdownHeadingCollapsed": true
   },
   "source": [
    "### Operaciones"
   ]
  },
  {
   "cell_type": "code",
   "execution_count": 45,
   "id": "0ec2a687",
   "metadata": {},
   "outputs": [
    {
     "data": {
      "text/html": [
       "<div>\n",
       "<style scoped>\n",
       "    .dataframe tbody tr th:only-of-type {\n",
       "        vertical-align: middle;\n",
       "    }\n",
       "\n",
       "    .dataframe tbody tr th {\n",
       "        vertical-align: top;\n",
       "    }\n",
       "\n",
       "    .dataframe thead th {\n",
       "        text-align: right;\n",
       "    }\n",
       "</style>\n",
       "<table border=\"1\" class=\"dataframe\">\n",
       "  <thead>\n",
       "    <tr style=\"text-align: right;\">\n",
       "      <th></th>\n",
       "      <th>ball</th>\n",
       "      <th>pen</th>\n",
       "      <th>pencil</th>\n",
       "      <th>paper</th>\n",
       "    </tr>\n",
       "  </thead>\n",
       "  <tbody>\n",
       "    <tr>\n",
       "      <th>red</th>\n",
       "      <td>0</td>\n",
       "      <td>1</td>\n",
       "      <td>2</td>\n",
       "      <td>3</td>\n",
       "    </tr>\n",
       "    <tr>\n",
       "      <th>blue</th>\n",
       "      <td>4</td>\n",
       "      <td>5</td>\n",
       "      <td>6</td>\n",
       "      <td>7</td>\n",
       "    </tr>\n",
       "    <tr>\n",
       "      <th>yellow</th>\n",
       "      <td>8</td>\n",
       "      <td>9</td>\n",
       "      <td>10</td>\n",
       "      <td>11</td>\n",
       "    </tr>\n",
       "    <tr>\n",
       "      <th>white</th>\n",
       "      <td>12</td>\n",
       "      <td>13</td>\n",
       "      <td>14</td>\n",
       "      <td>15</td>\n",
       "    </tr>\n",
       "  </tbody>\n",
       "</table>\n",
       "</div>"
      ],
      "text/plain": [
       "        ball  pen  pencil  paper\n",
       "red        0    1       2      3\n",
       "blue       4    5       6      7\n",
       "yellow     8    9      10     11\n",
       "white     12   13      14     15"
      ]
     },
     "metadata": {},
     "output_type": "display_data"
    },
    {
     "data": {
      "text/html": [
       "<div>\n",
       "<style scoped>\n",
       "    .dataframe tbody tr th:only-of-type {\n",
       "        vertical-align: middle;\n",
       "    }\n",
       "\n",
       "    .dataframe tbody tr th {\n",
       "        vertical-align: top;\n",
       "    }\n",
       "\n",
       "    .dataframe thead th {\n",
       "        text-align: right;\n",
       "    }\n",
       "</style>\n",
       "<table border=\"1\" class=\"dataframe\">\n",
       "  <thead>\n",
       "    <tr style=\"text-align: right;\">\n",
       "      <th></th>\n",
       "      <th>ball</th>\n",
       "      <th>pen</th>\n",
       "      <th>pencil</th>\n",
       "      <th>paper</th>\n",
       "      <th>pen2</th>\n",
       "    </tr>\n",
       "  </thead>\n",
       "  <tbody>\n",
       "    <tr>\n",
       "      <th>red</th>\n",
       "      <td>0</td>\n",
       "      <td>1</td>\n",
       "      <td>2</td>\n",
       "      <td>3</td>\n",
       "      <td>1</td>\n",
       "    </tr>\n",
       "    <tr>\n",
       "      <th>blue</th>\n",
       "      <td>4</td>\n",
       "      <td>5</td>\n",
       "      <td>6</td>\n",
       "      <td>7</td>\n",
       "      <td>25</td>\n",
       "    </tr>\n",
       "    <tr>\n",
       "      <th>yellow</th>\n",
       "      <td>8</td>\n",
       "      <td>9</td>\n",
       "      <td>10</td>\n",
       "      <td>11</td>\n",
       "      <td>81</td>\n",
       "    </tr>\n",
       "    <tr>\n",
       "      <th>white</th>\n",
       "      <td>12</td>\n",
       "      <td>13</td>\n",
       "      <td>14</td>\n",
       "      <td>15</td>\n",
       "      <td>169</td>\n",
       "    </tr>\n",
       "  </tbody>\n",
       "</table>\n",
       "</div>"
      ],
      "text/plain": [
       "        ball  pen  pencil  paper  pen2\n",
       "red        0    1       2      3     1\n",
       "blue       4    5       6      7    25\n",
       "yellow     8    9      10     11    81\n",
       "white     12   13      14     15   169"
      ]
     },
     "metadata": {},
     "output_type": "display_data"
    }
   ],
   "source": [
    "frame = pd.DataFrame(np.arange(16).reshape((4,4)), index=['red','blue','yellow','white'], columns=['ball','pen','pencil','paper'])\n",
    "display(frame)\n",
    "\n",
    "frame[\"pen2\"]=frame.pen.transform(lambda x:x**2)\n",
    "display(frame)"
   ]
  },
  {
   "cell_type": "code",
   "execution_count": 40,
   "id": "adf10dfa-f6bb-416b-a104-593d2ec63a7e",
   "metadata": {},
   "outputs": [
    {
     "data": {
      "text/html": [
       "<div>\n",
       "<style scoped>\n",
       "    .dataframe tbody tr th:only-of-type {\n",
       "        vertical-align: middle;\n",
       "    }\n",
       "\n",
       "    .dataframe tbody tr th {\n",
       "        vertical-align: top;\n",
       "    }\n",
       "\n",
       "    .dataframe thead th {\n",
       "        text-align: right;\n",
       "    }\n",
       "</style>\n",
       "<table border=\"1\" class=\"dataframe\">\n",
       "  <thead>\n",
       "    <tr style=\"text-align: right;\">\n",
       "      <th></th>\n",
       "      <th>ball</th>\n",
       "      <th>pen</th>\n",
       "      <th>pencil</th>\n",
       "      <th>paper</th>\n",
       "    </tr>\n",
       "  </thead>\n",
       "  <tbody>\n",
       "    <tr>\n",
       "      <th>red</th>\n",
       "      <td>0</td>\n",
       "      <td>1</td>\n",
       "      <td>2</td>\n",
       "      <td>3</td>\n",
       "    </tr>\n",
       "    <tr>\n",
       "      <th>blue</th>\n",
       "      <td>4</td>\n",
       "      <td>5</td>\n",
       "      <td>6</td>\n",
       "      <td>7</td>\n",
       "    </tr>\n",
       "    <tr>\n",
       "      <th>yellow</th>\n",
       "      <td>8</td>\n",
       "      <td>9</td>\n",
       "      <td>10</td>\n",
       "      <td>11</td>\n",
       "    </tr>\n",
       "    <tr>\n",
       "      <th>white</th>\n",
       "      <td>12</td>\n",
       "      <td>13</td>\n",
       "      <td>14</td>\n",
       "      <td>15</td>\n",
       "    </tr>\n",
       "  </tbody>\n",
       "</table>\n",
       "</div>"
      ],
      "text/plain": [
       "        ball  pen  pencil  paper\n",
       "red        0    1       2      3\n",
       "blue       4    5       6      7\n",
       "yellow     8    9      10     11\n",
       "white     12   13      14     15"
      ]
     },
     "metadata": {},
     "output_type": "display_data"
    },
    {
     "name": "stdout",
     "output_type": "stream",
     "text": [
      "\n",
      "\tSQRT\n",
      "\n"
     ]
    },
    {
     "data": {
      "text/html": [
       "<div>\n",
       "<style scoped>\n",
       "    .dataframe tbody tr th:only-of-type {\n",
       "        vertical-align: middle;\n",
       "    }\n",
       "\n",
       "    .dataframe tbody tr th {\n",
       "        vertical-align: top;\n",
       "    }\n",
       "\n",
       "    .dataframe thead th {\n",
       "        text-align: right;\n",
       "    }\n",
       "</style>\n",
       "<table border=\"1\" class=\"dataframe\">\n",
       "  <thead>\n",
       "    <tr style=\"text-align: right;\">\n",
       "      <th></th>\n",
       "      <th>ball</th>\n",
       "      <th>pen</th>\n",
       "      <th>pencil</th>\n",
       "      <th>paper</th>\n",
       "    </tr>\n",
       "  </thead>\n",
       "  <tbody>\n",
       "    <tr>\n",
       "      <th>red</th>\n",
       "      <td>0.000000</td>\n",
       "      <td>1.000000</td>\n",
       "      <td>1.414214</td>\n",
       "      <td>1.732051</td>\n",
       "    </tr>\n",
       "    <tr>\n",
       "      <th>blue</th>\n",
       "      <td>2.000000</td>\n",
       "      <td>2.236068</td>\n",
       "      <td>2.449490</td>\n",
       "      <td>2.645751</td>\n",
       "    </tr>\n",
       "    <tr>\n",
       "      <th>yellow</th>\n",
       "      <td>2.828427</td>\n",
       "      <td>3.000000</td>\n",
       "      <td>3.162278</td>\n",
       "      <td>3.316625</td>\n",
       "    </tr>\n",
       "    <tr>\n",
       "      <th>white</th>\n",
       "      <td>3.464102</td>\n",
       "      <td>3.605551</td>\n",
       "      <td>3.741657</td>\n",
       "      <td>3.872983</td>\n",
       "    </tr>\n",
       "  </tbody>\n",
       "</table>\n",
       "</div>"
      ],
      "text/plain": [
       "            ball       pen    pencil     paper\n",
       "red     0.000000  1.000000  1.414214  1.732051\n",
       "blue    2.000000  2.236068  2.449490  2.645751\n",
       "yellow  2.828427  3.000000  3.162278  3.316625\n",
       "white   3.464102  3.605551  3.741657  3.872983"
      ]
     },
     "metadata": {},
     "output_type": "display_data"
    },
    {
     "name": "stdout",
     "output_type": "stream",
     "text": [
      "\n",
      "\t¿Qué es esta salida?\n",
      "\n"
     ]
    },
    {
     "data": {
      "text/html": [
       "<div>\n",
       "<style scoped>\n",
       "    .dataframe tbody tr th:only-of-type {\n",
       "        vertical-align: middle;\n",
       "    }\n",
       "\n",
       "    .dataframe tbody tr th {\n",
       "        vertical-align: top;\n",
       "    }\n",
       "\n",
       "    .dataframe thead th {\n",
       "        text-align: right;\n",
       "    }\n",
       "</style>\n",
       "<table border=\"1\" class=\"dataframe\">\n",
       "  <thead>\n",
       "    <tr style=\"text-align: right;\">\n",
       "      <th></th>\n",
       "      <th>ball</th>\n",
       "      <th>pen</th>\n",
       "      <th>pencil</th>\n",
       "      <th>paper</th>\n",
       "    </tr>\n",
       "  </thead>\n",
       "  <tbody>\n",
       "    <tr>\n",
       "      <th>Suma</th>\n",
       "      <td>24.000000</td>\n",
       "      <td>28.000000</td>\n",
       "      <td>32.000000</td>\n",
       "      <td>36.000000</td>\n",
       "    </tr>\n",
       "    <tr>\n",
       "      <th>STD</th>\n",
       "      <td>4.472136</td>\n",
       "      <td>4.472136</td>\n",
       "      <td>4.472136</td>\n",
       "      <td>4.472136</td>\n",
       "    </tr>\n",
       "    <tr>\n",
       "      <th>Mean</th>\n",
       "      <td>6.000000</td>\n",
       "      <td>7.000000</td>\n",
       "      <td>8.000000</td>\n",
       "      <td>9.000000</td>\n",
       "    </tr>\n",
       "  </tbody>\n",
       "</table>\n",
       "</div>"
      ],
      "text/plain": [
       "           ball        pen     pencil      paper\n",
       "Suma  24.000000  28.000000  32.000000  36.000000\n",
       "STD    4.472136   4.472136   4.472136   4.472136\n",
       "Mean   6.000000   7.000000   8.000000   9.000000"
      ]
     },
     "metadata": {},
     "output_type": "display_data"
    },
    {
     "name": "stdout",
     "output_type": "stream",
     "text": [
      "\n",
      "\t¿Qué es esta salida?\n",
      "\n"
     ]
    },
    {
     "data": {
      "text/plain": [
       "red       3\n",
       "blue      3\n",
       "yellow    3\n",
       "white     3\n",
       "dtype: int64"
      ]
     },
     "metadata": {},
     "output_type": "display_data"
    }
   ],
   "source": [
    "frame = pd.DataFrame(np.arange(16).reshape((4,4)), index=['red','blue','yellow','white'], columns=['ball','pen','pencil','paper'])\n",
    "display(frame)\n",
    "\n",
    "print('\\n\\tSQRT\\n')\n",
    "display(np.sqrt(frame))\n",
    "\n",
    "f = lambda x: x.max() - x.min()\n",
    "def g(x):\n",
    "    return(pd.Series([sum(x),np.std(x),np.mean(x)],index=[\"Suma\",\"STD\",\"Mean\"]))\n",
    "print('\\n\\t¿Qué es esta salida?\\n')\n",
    "display(frame.apply(g))\n",
    "\n",
    "print('\\n\\t¿Qué es esta salida?\\n')\n",
    "display(frame.apply(f, axis=1))"
   ]
  },
  {
   "cell_type": "code",
   "execution_count": 20,
   "id": "5ff1938c-f5c4-411e-9bf6-d7ce3819b4e5",
   "metadata": {},
   "outputs": [
    {
     "data": {
      "text/html": [
       "<div>\n",
       "<style scoped>\n",
       "    .dataframe tbody tr th:only-of-type {\n",
       "        vertical-align: middle;\n",
       "    }\n",
       "\n",
       "    .dataframe tbody tr th {\n",
       "        vertical-align: top;\n",
       "    }\n",
       "\n",
       "    .dataframe thead th {\n",
       "        text-align: right;\n",
       "    }\n",
       "</style>\n",
       "<table border=\"1\" class=\"dataframe\">\n",
       "  <thead>\n",
       "    <tr style=\"text-align: right;\">\n",
       "      <th></th>\n",
       "      <th>ball</th>\n",
       "      <th>pen</th>\n",
       "      <th>pencil</th>\n",
       "      <th>paper</th>\n",
       "    </tr>\n",
       "  </thead>\n",
       "  <tbody>\n",
       "    <tr>\n",
       "      <th>minimo</th>\n",
       "      <td>0.000000</td>\n",
       "      <td>1.000000</td>\n",
       "      <td>2.000000</td>\n",
       "      <td>3.000000</td>\n",
       "    </tr>\n",
       "    <tr>\n",
       "      <th>maximo</th>\n",
       "      <td>12.000000</td>\n",
       "      <td>13.000000</td>\n",
       "      <td>14.000000</td>\n",
       "      <td>15.000000</td>\n",
       "    </tr>\n",
       "    <tr>\n",
       "      <th>suma</th>\n",
       "      <td>24.000000</td>\n",
       "      <td>28.000000</td>\n",
       "      <td>32.000000</td>\n",
       "      <td>36.000000</td>\n",
       "    </tr>\n",
       "    <tr>\n",
       "      <th>media</th>\n",
       "      <td>6.000000</td>\n",
       "      <td>7.000000</td>\n",
       "      <td>8.000000</td>\n",
       "      <td>9.000000</td>\n",
       "    </tr>\n",
       "    <tr>\n",
       "      <th>standard deviation</th>\n",
       "      <td>5.163978</td>\n",
       "      <td>5.163978</td>\n",
       "      <td>5.163978</td>\n",
       "      <td>5.163978</td>\n",
       "    </tr>\n",
       "  </tbody>\n",
       "</table>\n",
       "</div>"
      ],
      "text/plain": [
       "                         ball        pen     pencil      paper\n",
       "minimo               0.000000   1.000000   2.000000   3.000000\n",
       "maximo              12.000000  13.000000  14.000000  15.000000\n",
       "suma                24.000000  28.000000  32.000000  36.000000\n",
       "media                6.000000   7.000000   8.000000   9.000000\n",
       "standard deviation   5.163978   5.163978   5.163978   5.163978"
      ]
     },
     "execution_count": 20,
     "metadata": {},
     "output_type": "execute_result"
    }
   ],
   "source": [
    "def f(x):\n",
    "            return pd.Series([x.min(), x.max(), x.sum(), x.mean(), x.std()], index=['minimo','maximo', 'suma', 'media', 'standard deviation'])\n",
    "frame.apply(f, axis=0)"
   ]
  },
  {
   "cell_type": "code",
   "execution_count": 207,
   "id": "3a6747fd",
   "metadata": {},
   "outputs": [
    {
     "data": {
      "text/html": [
       "<div>\n",
       "<style scoped>\n",
       "    .dataframe tbody tr th:only-of-type {\n",
       "        vertical-align: middle;\n",
       "    }\n",
       "\n",
       "    .dataframe tbody tr th {\n",
       "        vertical-align: top;\n",
       "    }\n",
       "\n",
       "    .dataframe thead th {\n",
       "        text-align: right;\n",
       "    }\n",
       "</style>\n",
       "<table border=\"1\" class=\"dataframe\">\n",
       "  <thead>\n",
       "    <tr style=\"text-align: right;\">\n",
       "      <th></th>\n",
       "      <th>Armenia</th>\n",
       "      <th>Bogotá</th>\n",
       "    </tr>\n",
       "  </thead>\n",
       "  <tbody>\n",
       "    <tr>\n",
       "      <th>Matemáticas</th>\n",
       "      <td>45</td>\n",
       "      <td>70</td>\n",
       "    </tr>\n",
       "    <tr>\n",
       "      <th>Español</th>\n",
       "      <td>26</td>\n",
       "      <td>48</td>\n",
       "    </tr>\n",
       "    <tr>\n",
       "      <th>Filosofía</th>\n",
       "      <td>17</td>\n",
       "      <td>50</td>\n",
       "    </tr>\n",
       "    <tr>\n",
       "      <th>Física</th>\n",
       "      <td>18</td>\n",
       "      <td>48</td>\n",
       "    </tr>\n",
       "    <tr>\n",
       "      <th>Medicina</th>\n",
       "      <td>50</td>\n",
       "      <td>50</td>\n",
       "    </tr>\n",
       "  </tbody>\n",
       "</table>\n",
       "</div>"
      ],
      "text/plain": [
       "             Armenia  Bogotá\n",
       "Matemáticas       45      70\n",
       "Español           26      48\n",
       "Filosofía         17      50\n",
       "Física            18      48\n",
       "Medicina          50      50"
      ]
     },
     "execution_count": 207,
     "metadata": {},
     "output_type": "execute_result"
    }
   ],
   "source": [
    "pd.DataFrame({\"Armenia\":{\"Matemáticas\":45,\"Español\":26, \"Filosofía\":17, \"Física\":18,\"Medicina\":50},\n",
    "              \"Bogotá\":{\"Matemáticas\":70,\"Español\":48, \"Filosofía\":50, \"Física\":48, \"Medicina\":50}})"
   ]
  },
  {
   "cell_type": "code",
   "execution_count": 22,
   "id": "775c1486-bba3-4dad-945f-fb7b639028b7",
   "metadata": {},
   "outputs": [
    {
     "data": {
      "text/plain": [
       "ball      5.163978\n",
       "pen       5.163978\n",
       "pencil    5.163978\n",
       "paper     5.163978\n",
       "dtype: float64"
      ]
     },
     "execution_count": 22,
     "metadata": {},
     "output_type": "execute_result"
    }
   ],
   "source": [
    "frame.std()"
   ]
  },
  {
   "cell_type": "code",
   "execution_count": 23,
   "id": "dfc395c8-0ab0-4b11-938f-b94e0b5bb5cd",
   "metadata": {},
   "outputs": [
    {
     "data": {
      "text/html": [
       "<div>\n",
       "<style scoped>\n",
       "    .dataframe tbody tr th:only-of-type {\n",
       "        vertical-align: middle;\n",
       "    }\n",
       "\n",
       "    .dataframe tbody tr th {\n",
       "        vertical-align: top;\n",
       "    }\n",
       "\n",
       "    .dataframe thead th {\n",
       "        text-align: right;\n",
       "    }\n",
       "</style>\n",
       "<table border=\"1\" class=\"dataframe\">\n",
       "  <thead>\n",
       "    <tr style=\"text-align: right;\">\n",
       "      <th></th>\n",
       "      <th>ball</th>\n",
       "      <th>pen</th>\n",
       "      <th>pencil</th>\n",
       "      <th>paper</th>\n",
       "    </tr>\n",
       "  </thead>\n",
       "  <tbody>\n",
       "    <tr>\n",
       "      <th>count</th>\n",
       "      <td>4.000000</td>\n",
       "      <td>4.000000</td>\n",
       "      <td>4.000000</td>\n",
       "      <td>4.000000</td>\n",
       "    </tr>\n",
       "    <tr>\n",
       "      <th>mean</th>\n",
       "      <td>6.000000</td>\n",
       "      <td>7.000000</td>\n",
       "      <td>8.000000</td>\n",
       "      <td>9.000000</td>\n",
       "    </tr>\n",
       "    <tr>\n",
       "      <th>std</th>\n",
       "      <td>5.163978</td>\n",
       "      <td>5.163978</td>\n",
       "      <td>5.163978</td>\n",
       "      <td>5.163978</td>\n",
       "    </tr>\n",
       "    <tr>\n",
       "      <th>min</th>\n",
       "      <td>0.000000</td>\n",
       "      <td>1.000000</td>\n",
       "      <td>2.000000</td>\n",
       "      <td>3.000000</td>\n",
       "    </tr>\n",
       "    <tr>\n",
       "      <th>25%</th>\n",
       "      <td>3.000000</td>\n",
       "      <td>4.000000</td>\n",
       "      <td>5.000000</td>\n",
       "      <td>6.000000</td>\n",
       "    </tr>\n",
       "    <tr>\n",
       "      <th>50%</th>\n",
       "      <td>6.000000</td>\n",
       "      <td>7.000000</td>\n",
       "      <td>8.000000</td>\n",
       "      <td>9.000000</td>\n",
       "    </tr>\n",
       "    <tr>\n",
       "      <th>75%</th>\n",
       "      <td>9.000000</td>\n",
       "      <td>10.000000</td>\n",
       "      <td>11.000000</td>\n",
       "      <td>12.000000</td>\n",
       "    </tr>\n",
       "    <tr>\n",
       "      <th>max</th>\n",
       "      <td>12.000000</td>\n",
       "      <td>13.000000</td>\n",
       "      <td>14.000000</td>\n",
       "      <td>15.000000</td>\n",
       "    </tr>\n",
       "  </tbody>\n",
       "</table>\n",
       "</div>"
      ],
      "text/plain": [
       "            ball        pen     pencil      paper\n",
       "count   4.000000   4.000000   4.000000   4.000000\n",
       "mean    6.000000   7.000000   8.000000   9.000000\n",
       "std     5.163978   5.163978   5.163978   5.163978\n",
       "min     0.000000   1.000000   2.000000   3.000000\n",
       "25%     3.000000   4.000000   5.000000   6.000000\n",
       "50%     6.000000   7.000000   8.000000   9.000000\n",
       "75%     9.000000  10.000000  11.000000  12.000000\n",
       "max    12.000000  13.000000  14.000000  15.000000"
      ]
     },
     "execution_count": 23,
     "metadata": {},
     "output_type": "execute_result"
    }
   ],
   "source": [
    "frame.describe()"
   ]
  },
  {
   "cell_type": "code",
   "execution_count": 36,
   "id": "ff5c29bc-e1f9-4e8a-b6d6-d4c5508e3e6e",
   "metadata": {},
   "outputs": [
    {
     "data": {
      "text/html": [
       "<div>\n",
       "<style scoped>\n",
       "    .dataframe tbody tr th:only-of-type {\n",
       "        vertical-align: middle;\n",
       "    }\n",
       "\n",
       "    .dataframe tbody tr th {\n",
       "        vertical-align: top;\n",
       "    }\n",
       "\n",
       "    .dataframe thead th {\n",
       "        text-align: right;\n",
       "    }\n",
       "</style>\n",
       "<table border=\"1\" class=\"dataframe\">\n",
       "  <thead>\n",
       "    <tr style=\"text-align: right;\">\n",
       "      <th></th>\n",
       "      <th>ball</th>\n",
       "      <th>pen</th>\n",
       "      <th>pencil</th>\n",
       "      <th>paper</th>\n",
       "    </tr>\n",
       "  </thead>\n",
       "  <tbody>\n",
       "    <tr>\n",
       "      <th>red</th>\n",
       "      <td>0</td>\n",
       "      <td>1</td>\n",
       "      <td>2</td>\n",
       "      <td>3</td>\n",
       "    </tr>\n",
       "    <tr>\n",
       "      <th>blue</th>\n",
       "      <td>4</td>\n",
       "      <td>5</td>\n",
       "      <td>6</td>\n",
       "      <td>7</td>\n",
       "    </tr>\n",
       "    <tr>\n",
       "      <th>yellow</th>\n",
       "      <td>8</td>\n",
       "      <td>9</td>\n",
       "      <td>10</td>\n",
       "      <td>11</td>\n",
       "    </tr>\n",
       "    <tr>\n",
       "      <th>white</th>\n",
       "      <td>12</td>\n",
       "      <td>13</td>\n",
       "      <td>14</td>\n",
       "      <td>15</td>\n",
       "    </tr>\n",
       "  </tbody>\n",
       "</table>\n",
       "</div>"
      ],
      "text/plain": [
       "        ball  pen  pencil  paper\n",
       "red        0    1       2      3\n",
       "blue       4    5       6      7\n",
       "yellow     8    9      10     11\n",
       "white     12   13      14     15"
      ]
     },
     "metadata": {},
     "output_type": "display_data"
    },
    {
     "data": {
      "text/html": [
       "<div>\n",
       "<style scoped>\n",
       "    .dataframe tbody tr th:only-of-type {\n",
       "        vertical-align: middle;\n",
       "    }\n",
       "\n",
       "    .dataframe tbody tr th {\n",
       "        vertical-align: top;\n",
       "    }\n",
       "\n",
       "    .dataframe thead th {\n",
       "        text-align: right;\n",
       "    }\n",
       "</style>\n",
       "<table border=\"1\" class=\"dataframe\">\n",
       "  <thead>\n",
       "    <tr style=\"text-align: right;\">\n",
       "      <th></th>\n",
       "      <th>ball</th>\n",
       "      <th>pen</th>\n",
       "      <th>pencil</th>\n",
       "      <th>paper</th>\n",
       "    </tr>\n",
       "  </thead>\n",
       "  <tbody>\n",
       "    <tr>\n",
       "      <th>blue</th>\n",
       "      <td>4</td>\n",
       "      <td>5</td>\n",
       "      <td>6</td>\n",
       "      <td>7</td>\n",
       "    </tr>\n",
       "    <tr>\n",
       "      <th>red</th>\n",
       "      <td>0</td>\n",
       "      <td>1</td>\n",
       "      <td>2</td>\n",
       "      <td>3</td>\n",
       "    </tr>\n",
       "    <tr>\n",
       "      <th>white</th>\n",
       "      <td>12</td>\n",
       "      <td>13</td>\n",
       "      <td>14</td>\n",
       "      <td>15</td>\n",
       "    </tr>\n",
       "    <tr>\n",
       "      <th>yellow</th>\n",
       "      <td>8</td>\n",
       "      <td>9</td>\n",
       "      <td>10</td>\n",
       "      <td>11</td>\n",
       "    </tr>\n",
       "  </tbody>\n",
       "</table>\n",
       "</div>"
      ],
      "text/plain": [
       "        ball  pen  pencil  paper\n",
       "blue       4    5       6      7\n",
       "red        0    1       2      3\n",
       "white     12   13      14     15\n",
       "yellow     8    9      10     11"
      ]
     },
     "execution_count": 36,
     "metadata": {},
     "output_type": "execute_result"
    }
   ],
   "source": [
    "display(frame)\n",
    "frame.sort_index(axis=0) #axis=1"
   ]
  },
  {
   "cell_type": "code",
   "execution_count": 38,
   "id": "8178b39c-7fac-43a6-825b-dcc89ad8c1f4",
   "metadata": {},
   "outputs": [
    {
     "data": {
      "text/html": [
       "<div>\n",
       "<style scoped>\n",
       "    .dataframe tbody tr th:only-of-type {\n",
       "        vertical-align: middle;\n",
       "    }\n",
       "\n",
       "    .dataframe tbody tr th {\n",
       "        vertical-align: top;\n",
       "    }\n",
       "\n",
       "    .dataframe thead th {\n",
       "        text-align: right;\n",
       "    }\n",
       "</style>\n",
       "<table border=\"1\" class=\"dataframe\">\n",
       "  <thead>\n",
       "    <tr style=\"text-align: right;\">\n",
       "      <th></th>\n",
       "      <th>ball</th>\n",
       "      <th>pen</th>\n",
       "      <th>pencil</th>\n",
       "      <th>paper</th>\n",
       "    </tr>\n",
       "  </thead>\n",
       "  <tbody>\n",
       "    <tr>\n",
       "      <th>white</th>\n",
       "      <td>12</td>\n",
       "      <td>13</td>\n",
       "      <td>14</td>\n",
       "      <td>15</td>\n",
       "    </tr>\n",
       "    <tr>\n",
       "      <th>yellow</th>\n",
       "      <td>8</td>\n",
       "      <td>9</td>\n",
       "      <td>10</td>\n",
       "      <td>11</td>\n",
       "    </tr>\n",
       "    <tr>\n",
       "      <th>blue</th>\n",
       "      <td>4</td>\n",
       "      <td>5</td>\n",
       "      <td>6</td>\n",
       "      <td>7</td>\n",
       "    </tr>\n",
       "    <tr>\n",
       "      <th>red</th>\n",
       "      <td>0</td>\n",
       "      <td>1</td>\n",
       "      <td>2</td>\n",
       "      <td>3</td>\n",
       "    </tr>\n",
       "  </tbody>\n",
       "</table>\n",
       "</div>"
      ],
      "text/plain": [
       "        ball  pen  pencil  paper\n",
       "white     12   13      14     15\n",
       "yellow     8    9      10     11\n",
       "blue       4    5       6      7\n",
       "red        0    1       2      3"
      ]
     },
     "execution_count": 38,
     "metadata": {},
     "output_type": "execute_result"
    }
   ],
   "source": [
    "frame.sort_values(by='paper', ascending=False)"
   ]
  },
  {
   "cell_type": "markdown",
   "id": "43869546-4cf3-40e6-b771-84ef4c4f6a2e",
   "metadata": {
    "jp-MarkdownHeadingCollapsed": true
   },
   "source": [
    "### Correlación y Covarianza"
   ]
  },
  {
   "cell_type": "code",
   "execution_count": 46,
   "id": "4ebfd11d-6035-4a48-8cfd-5b5ead463304",
   "metadata": {},
   "outputs": [
    {
     "data": {
      "text/plain": [
       "2006    0.3\n",
       "2007    0.4\n",
       "2008    0.3\n",
       "2009    0.4\n",
       "2010    0.5\n",
       "2011    0.4\n",
       "2012    0.3\n",
       "2013    0.2\n",
       "dtype: float64"
      ]
     },
     "metadata": {},
     "output_type": "display_data"
    },
    {
     "data": {
      "text/plain": [
       "2006    0.1\n",
       "2007    0.2\n",
       "2008    0.3\n",
       "2009    0.4\n",
       "2010    0.4\n",
       "2011    0.3\n",
       "2012    0.2\n",
       "2013    0.1\n",
       "dtype: float64"
      ]
     },
     "metadata": {},
     "output_type": "display_data"
    },
    {
     "name": "stdout",
     "output_type": "stream",
     "text": [
      "Corr: 0.7745966692414834, Cov: 0.008571428571428572\n"
     ]
    }
   ],
   "source": [
    "seq2 = pd.Series([0.3,0.4,0.3,0.4,0.5,0.4,0.3,0.2],['2006','2007','2008','2009','2010','2011','2012','2013'])\n",
    "display(seq2)\n",
    "seq = pd.Series([0.1,0.2,0.3,0.4,0.4,0.3,0.2,0.1],['2006','2007','2008','2009','2010','2011','2012','2013'])\n",
    "display(seq)\n",
    "print(\"Corr: {}, Cov: {}\".format(seq.corr(seq2),seq.cov(seq2))) "
   ]
  },
  {
   "cell_type": "code",
   "execution_count": 47,
   "id": "cc478d01-7ed2-40bf-a387-e3e66daa5a2e",
   "metadata": {},
   "outputs": [
    {
     "data": {
      "text/html": [
       "<div>\n",
       "<style scoped>\n",
       "    .dataframe tbody tr th:only-of-type {\n",
       "        vertical-align: middle;\n",
       "    }\n",
       "\n",
       "    .dataframe tbody tr th {\n",
       "        vertical-align: top;\n",
       "    }\n",
       "\n",
       "    .dataframe thead th {\n",
       "        text-align: right;\n",
       "    }\n",
       "</style>\n",
       "<table border=\"1\" class=\"dataframe\">\n",
       "  <thead>\n",
       "    <tr style=\"text-align: right;\">\n",
       "      <th></th>\n",
       "      <th>A</th>\n",
       "      <th>B</th>\n",
       "      <th>C</th>\n",
       "      <th>D</th>\n",
       "      <th>E</th>\n",
       "      <th>F</th>\n",
       "      <th>G</th>\n",
       "      <th>H</th>\n",
       "    </tr>\n",
       "  </thead>\n",
       "  <tbody>\n",
       "    <tr>\n",
       "      <th>2006</th>\n",
       "      <td>0.075641</td>\n",
       "      <td>0.473160</td>\n",
       "      <td>0.239433</td>\n",
       "      <td>0.118903</td>\n",
       "      <td>0.149847</td>\n",
       "      <td>0.458818</td>\n",
       "      <td>0.358708</td>\n",
       "      <td>0.100803</td>\n",
       "    </tr>\n",
       "    <tr>\n",
       "      <th>2007</th>\n",
       "      <td>0.875085</td>\n",
       "      <td>0.952089</td>\n",
       "      <td>0.048033</td>\n",
       "      <td>0.119762</td>\n",
       "      <td>0.483552</td>\n",
       "      <td>0.120884</td>\n",
       "      <td>0.117063</td>\n",
       "      <td>0.000714</td>\n",
       "    </tr>\n",
       "    <tr>\n",
       "      <th>2008</th>\n",
       "      <td>0.393475</td>\n",
       "      <td>0.216913</td>\n",
       "      <td>0.829551</td>\n",
       "      <td>0.995772</td>\n",
       "      <td>0.371854</td>\n",
       "      <td>0.950157</td>\n",
       "      <td>0.886986</td>\n",
       "      <td>0.926752</td>\n",
       "    </tr>\n",
       "    <tr>\n",
       "      <th>2009</th>\n",
       "      <td>0.134609</td>\n",
       "      <td>0.431826</td>\n",
       "      <td>0.372028</td>\n",
       "      <td>0.869029</td>\n",
       "      <td>0.450602</td>\n",
       "      <td>0.966153</td>\n",
       "      <td>0.181699</td>\n",
       "      <td>0.581486</td>\n",
       "    </tr>\n",
       "    <tr>\n",
       "      <th>2010</th>\n",
       "      <td>0.921340</td>\n",
       "      <td>0.889377</td>\n",
       "      <td>0.582291</td>\n",
       "      <td>0.831309</td>\n",
       "      <td>0.239027</td>\n",
       "      <td>0.151732</td>\n",
       "      <td>0.034540</td>\n",
       "      <td>0.726172</td>\n",
       "    </tr>\n",
       "    <tr>\n",
       "      <th>2011</th>\n",
       "      <td>0.163611</td>\n",
       "      <td>0.695948</td>\n",
       "      <td>0.079682</td>\n",
       "      <td>0.555716</td>\n",
       "      <td>0.347321</td>\n",
       "      <td>0.046628</td>\n",
       "      <td>0.939045</td>\n",
       "      <td>0.904828</td>\n",
       "    </tr>\n",
       "    <tr>\n",
       "      <th>2012</th>\n",
       "      <td>0.949393</td>\n",
       "      <td>0.053971</td>\n",
       "      <td>0.804811</td>\n",
       "      <td>0.342283</td>\n",
       "      <td>0.615269</td>\n",
       "      <td>0.614094</td>\n",
       "      <td>0.795033</td>\n",
       "      <td>0.887951</td>\n",
       "    </tr>\n",
       "    <tr>\n",
       "      <th>2013</th>\n",
       "      <td>0.583265</td>\n",
       "      <td>0.401146</td>\n",
       "      <td>0.363033</td>\n",
       "      <td>0.841527</td>\n",
       "      <td>0.157653</td>\n",
       "      <td>0.098148</td>\n",
       "      <td>0.961987</td>\n",
       "      <td>0.229146</td>\n",
       "    </tr>\n",
       "  </tbody>\n",
       "</table>\n",
       "</div>"
      ],
      "text/plain": [
       "             A         B         C         D         E         F         G  \\\n",
       "2006  0.075641  0.473160  0.239433  0.118903  0.149847  0.458818  0.358708   \n",
       "2007  0.875085  0.952089  0.048033  0.119762  0.483552  0.120884  0.117063   \n",
       "2008  0.393475  0.216913  0.829551  0.995772  0.371854  0.950157  0.886986   \n",
       "2009  0.134609  0.431826  0.372028  0.869029  0.450602  0.966153  0.181699   \n",
       "2010  0.921340  0.889377  0.582291  0.831309  0.239027  0.151732  0.034540   \n",
       "2011  0.163611  0.695948  0.079682  0.555716  0.347321  0.046628  0.939045   \n",
       "2012  0.949393  0.053971  0.804811  0.342283  0.615269  0.614094  0.795033   \n",
       "2013  0.583265  0.401146  0.363033  0.841527  0.157653  0.098148  0.961987   \n",
       "\n",
       "             H  \n",
       "2006  0.100803  \n",
       "2007  0.000714  \n",
       "2008  0.926752  \n",
       "2009  0.581486  \n",
       "2010  0.726172  \n",
       "2011  0.904828  \n",
       "2012  0.887951  \n",
       "2013  0.229146  "
      ]
     },
     "execution_count": 47,
     "metadata": {},
     "output_type": "execute_result"
    }
   ],
   "source": [
    "frame2 = pd.DataFrame(np.random.random((8,8)),index=['2006','2007','2008','2009','2010','2011','2012','2013'],\n",
    "                     columns=['A','B','C','D','E','F','G','H'])\n",
    "frame2"
   ]
  },
  {
   "cell_type": "code",
   "execution_count": 48,
   "id": "1d9554d0-6b27-4bc6-a95c-564e471d2ded",
   "metadata": {},
   "outputs": [
    {
     "data": {
      "text/html": [
       "<div>\n",
       "<style scoped>\n",
       "    .dataframe tbody tr th:only-of-type {\n",
       "        vertical-align: middle;\n",
       "    }\n",
       "\n",
       "    .dataframe tbody tr th {\n",
       "        vertical-align: top;\n",
       "    }\n",
       "\n",
       "    .dataframe thead th {\n",
       "        text-align: right;\n",
       "    }\n",
       "</style>\n",
       "<table border=\"1\" class=\"dataframe\">\n",
       "  <thead>\n",
       "    <tr style=\"text-align: right;\">\n",
       "      <th></th>\n",
       "      <th>A</th>\n",
       "      <th>B</th>\n",
       "      <th>C</th>\n",
       "      <th>D</th>\n",
       "      <th>E</th>\n",
       "      <th>F</th>\n",
       "      <th>G</th>\n",
       "      <th>H</th>\n",
       "    </tr>\n",
       "  </thead>\n",
       "  <tbody>\n",
       "    <tr>\n",
       "      <th>A</th>\n",
       "      <td>1.000000</td>\n",
       "      <td>0.152520</td>\n",
       "      <td>0.335760</td>\n",
       "      <td>-0.107341</td>\n",
       "      <td>0.359474</td>\n",
       "      <td>-0.314495</td>\n",
       "      <td>-0.177866</td>\n",
       "      <td>0.013598</td>\n",
       "    </tr>\n",
       "    <tr>\n",
       "      <th>B</th>\n",
       "      <td>0.152520</td>\n",
       "      <td>1.000000</td>\n",
       "      <td>-0.673982</td>\n",
       "      <td>-0.207448</td>\n",
       "      <td>-0.251862</td>\n",
       "      <td>-0.664076</td>\n",
       "      <td>-0.608823</td>\n",
       "      <td>-0.388623</td>\n",
       "    </tr>\n",
       "    <tr>\n",
       "      <th>C</th>\n",
       "      <td>0.335760</td>\n",
       "      <td>-0.673982</td>\n",
       "      <td>1.000000</td>\n",
       "      <td>0.476352</td>\n",
       "      <td>0.250695</td>\n",
       "      <td>0.586013</td>\n",
       "      <td>0.243889</td>\n",
       "      <td>0.614283</td>\n",
       "    </tr>\n",
       "    <tr>\n",
       "      <th>D</th>\n",
       "      <td>-0.107341</td>\n",
       "      <td>-0.207448</td>\n",
       "      <td>0.476352</td>\n",
       "      <td>1.000000</td>\n",
       "      <td>-0.178678</td>\n",
       "      <td>0.327903</td>\n",
       "      <td>0.235482</td>\n",
       "      <td>0.527987</td>\n",
       "    </tr>\n",
       "    <tr>\n",
       "      <th>E</th>\n",
       "      <td>0.359474</td>\n",
       "      <td>-0.251862</td>\n",
       "      <td>0.250695</td>\n",
       "      <td>-0.178678</td>\n",
       "      <td>1.000000</td>\n",
       "      <td>0.371335</td>\n",
       "      <td>-0.015410</td>\n",
       "      <td>0.362646</td>\n",
       "    </tr>\n",
       "    <tr>\n",
       "      <th>F</th>\n",
       "      <td>-0.314495</td>\n",
       "      <td>-0.664076</td>\n",
       "      <td>0.586013</td>\n",
       "      <td>0.327903</td>\n",
       "      <td>0.371335</td>\n",
       "      <td>1.000000</td>\n",
       "      <td>0.007754</td>\n",
       "      <td>0.345729</td>\n",
       "    </tr>\n",
       "    <tr>\n",
       "      <th>G</th>\n",
       "      <td>-0.177866</td>\n",
       "      <td>-0.608823</td>\n",
       "      <td>0.243889</td>\n",
       "      <td>0.235482</td>\n",
       "      <td>-0.015410</td>\n",
       "      <td>0.007754</td>\n",
       "      <td>1.000000</td>\n",
       "      <td>0.408483</td>\n",
       "    </tr>\n",
       "    <tr>\n",
       "      <th>H</th>\n",
       "      <td>0.013598</td>\n",
       "      <td>-0.388623</td>\n",
       "      <td>0.614283</td>\n",
       "      <td>0.527987</td>\n",
       "      <td>0.362646</td>\n",
       "      <td>0.345729</td>\n",
       "      <td>0.408483</td>\n",
       "      <td>1.000000</td>\n",
       "    </tr>\n",
       "  </tbody>\n",
       "</table>\n",
       "</div>"
      ],
      "text/plain": [
       "          A         B         C         D         E         F         G  \\\n",
       "A  1.000000  0.152520  0.335760 -0.107341  0.359474 -0.314495 -0.177866   \n",
       "B  0.152520  1.000000 -0.673982 -0.207448 -0.251862 -0.664076 -0.608823   \n",
       "C  0.335760 -0.673982  1.000000  0.476352  0.250695  0.586013  0.243889   \n",
       "D -0.107341 -0.207448  0.476352  1.000000 -0.178678  0.327903  0.235482   \n",
       "E  0.359474 -0.251862  0.250695 -0.178678  1.000000  0.371335 -0.015410   \n",
       "F -0.314495 -0.664076  0.586013  0.327903  0.371335  1.000000  0.007754   \n",
       "G -0.177866 -0.608823  0.243889  0.235482 -0.015410  0.007754  1.000000   \n",
       "H  0.013598 -0.388623  0.614283  0.527987  0.362646  0.345729  0.408483   \n",
       "\n",
       "          H  \n",
       "A  0.013598  \n",
       "B -0.388623  \n",
       "C  0.614283  \n",
       "D  0.527987  \n",
       "E  0.362646  \n",
       "F  0.345729  \n",
       "G  0.408483  \n",
       "H  1.000000  "
      ]
     },
     "execution_count": 48,
     "metadata": {},
     "output_type": "execute_result"
    }
   ],
   "source": [
    "frame2.corr()"
   ]
  },
  {
   "cell_type": "code",
   "execution_count": 29,
   "id": "036449b8-366b-4180-8d3a-d822f580b1e9",
   "metadata": {},
   "outputs": [
    {
     "data": {
      "text/html": [
       "<div>\n",
       "<style scoped>\n",
       "    .dataframe tbody tr th:only-of-type {\n",
       "        vertical-align: middle;\n",
       "    }\n",
       "\n",
       "    .dataframe tbody tr th {\n",
       "        vertical-align: top;\n",
       "    }\n",
       "\n",
       "    .dataframe thead th {\n",
       "        text-align: right;\n",
       "    }\n",
       "</style>\n",
       "<table border=\"1\" class=\"dataframe\">\n",
       "  <thead>\n",
       "    <tr style=\"text-align: right;\">\n",
       "      <th></th>\n",
       "      <th>A</th>\n",
       "      <th>B</th>\n",
       "      <th>C</th>\n",
       "      <th>D</th>\n",
       "      <th>E</th>\n",
       "      <th>F</th>\n",
       "      <th>G</th>\n",
       "      <th>H</th>\n",
       "    </tr>\n",
       "  </thead>\n",
       "  <tbody>\n",
       "    <tr>\n",
       "      <th>A</th>\n",
       "      <td>0.084451</td>\n",
       "      <td>0.033493</td>\n",
       "      <td>0.025033</td>\n",
       "      <td>-0.031857</td>\n",
       "      <td>0.054699</td>\n",
       "      <td>-0.003812</td>\n",
       "      <td>0.021167</td>\n",
       "      <td>-0.010858</td>\n",
       "    </tr>\n",
       "    <tr>\n",
       "      <th>B</th>\n",
       "      <td>0.033493</td>\n",
       "      <td>0.036172</td>\n",
       "      <td>0.001863</td>\n",
       "      <td>-0.037451</td>\n",
       "      <td>0.039897</td>\n",
       "      <td>0.003091</td>\n",
       "      <td>0.020667</td>\n",
       "      <td>-0.027067</td>\n",
       "    </tr>\n",
       "    <tr>\n",
       "      <th>C</th>\n",
       "      <td>0.025033</td>\n",
       "      <td>0.001863</td>\n",
       "      <td>0.051233</td>\n",
       "      <td>0.005587</td>\n",
       "      <td>0.024557</td>\n",
       "      <td>-0.005594</td>\n",
       "      <td>0.008243</td>\n",
       "      <td>0.014771</td>\n",
       "    </tr>\n",
       "    <tr>\n",
       "      <th>D</th>\n",
       "      <td>-0.031857</td>\n",
       "      <td>-0.037451</td>\n",
       "      <td>0.005587</td>\n",
       "      <td>0.058806</td>\n",
       "      <td>-0.011856</td>\n",
       "      <td>-0.010828</td>\n",
       "      <td>-0.023066</td>\n",
       "      <td>0.038682</td>\n",
       "    </tr>\n",
       "    <tr>\n",
       "      <th>E</th>\n",
       "      <td>0.054699</td>\n",
       "      <td>0.039897</td>\n",
       "      <td>0.024557</td>\n",
       "      <td>-0.011856</td>\n",
       "      <td>0.128661</td>\n",
       "      <td>-0.057703</td>\n",
       "      <td>0.034914</td>\n",
       "      <td>-0.018935</td>\n",
       "    </tr>\n",
       "    <tr>\n",
       "      <th>F</th>\n",
       "      <td>-0.003812</td>\n",
       "      <td>0.003091</td>\n",
       "      <td>-0.005594</td>\n",
       "      <td>-0.010828</td>\n",
       "      <td>-0.057703</td>\n",
       "      <td>0.099553</td>\n",
       "      <td>-0.005818</td>\n",
       "      <td>-0.011666</td>\n",
       "    </tr>\n",
       "    <tr>\n",
       "      <th>G</th>\n",
       "      <td>0.021167</td>\n",
       "      <td>0.020667</td>\n",
       "      <td>0.008243</td>\n",
       "      <td>-0.023066</td>\n",
       "      <td>0.034914</td>\n",
       "      <td>-0.005818</td>\n",
       "      <td>0.021103</td>\n",
       "      <td>-0.020293</td>\n",
       "    </tr>\n",
       "    <tr>\n",
       "      <th>H</th>\n",
       "      <td>-0.010858</td>\n",
       "      <td>-0.027067</td>\n",
       "      <td>0.014771</td>\n",
       "      <td>0.038682</td>\n",
       "      <td>-0.018935</td>\n",
       "      <td>-0.011666</td>\n",
       "      <td>-0.020293</td>\n",
       "      <td>0.044302</td>\n",
       "    </tr>\n",
       "  </tbody>\n",
       "</table>\n",
       "</div>"
      ],
      "text/plain": [
       "          A         B         C         D         E         F         G  \\\n",
       "A  0.084451  0.033493  0.025033 -0.031857  0.054699 -0.003812  0.021167   \n",
       "B  0.033493  0.036172  0.001863 -0.037451  0.039897  0.003091  0.020667   \n",
       "C  0.025033  0.001863  0.051233  0.005587  0.024557 -0.005594  0.008243   \n",
       "D -0.031857 -0.037451  0.005587  0.058806 -0.011856 -0.010828 -0.023066   \n",
       "E  0.054699  0.039897  0.024557 -0.011856  0.128661 -0.057703  0.034914   \n",
       "F -0.003812  0.003091 -0.005594 -0.010828 -0.057703  0.099553 -0.005818   \n",
       "G  0.021167  0.020667  0.008243 -0.023066  0.034914 -0.005818  0.021103   \n",
       "H -0.010858 -0.027067  0.014771  0.038682 -0.018935 -0.011666 -0.020293   \n",
       "\n",
       "          H  \n",
       "A -0.010858  \n",
       "B -0.027067  \n",
       "C  0.014771  \n",
       "D  0.038682  \n",
       "E -0.018935  \n",
       "F -0.011666  \n",
       "G -0.020293  \n",
       "H  0.044302  "
      ]
     },
     "execution_count": 29,
     "metadata": {},
     "output_type": "execute_result"
    }
   ],
   "source": [
    "frame2.cov()"
   ]
  },
  {
   "cell_type": "code",
   "execution_count": 30,
   "id": "3ab33433-965d-49ef-9e1c-0323f9c4426c",
   "metadata": {},
   "outputs": [
    {
     "data": {
      "text/plain": [
       "A    0.114185\n",
       "B    0.177193\n",
       "C    0.326568\n",
       "D   -0.205932\n",
       "E   -0.197328\n",
       "F    0.573006\n",
       "G    0.217802\n",
       "H    0.139938\n",
       "dtype: float64"
      ]
     },
     "execution_count": 30,
     "metadata": {},
     "output_type": "execute_result"
    }
   ],
   "source": [
    "frame2.corrwith(seq,axis=0)"
   ]
  },
  {
   "cell_type": "markdown",
   "id": "9a8b9c8c-1589-4be3-a747-69f363def075",
   "metadata": {
    "jp-MarkdownHeadingCollapsed": true
   },
   "source": [
    "### Quitar nulos\n",
    "\n",
    "#### ¿Qué hace el concat?"
   ]
  },
  {
   "cell_type": "code",
   "execution_count": 32,
   "id": "a6682d61-f800-4ba7-85a6-4ab879a14ebd",
   "metadata": {},
   "outputs": [
    {
     "data": {
      "text/html": [
       "<div>\n",
       "<style scoped>\n",
       "    .dataframe tbody tr th:only-of-type {\n",
       "        vertical-align: middle;\n",
       "    }\n",
       "\n",
       "    .dataframe tbody tr th {\n",
       "        vertical-align: top;\n",
       "    }\n",
       "\n",
       "    .dataframe thead th {\n",
       "        text-align: right;\n",
       "    }\n",
       "</style>\n",
       "<table border=\"1\" class=\"dataframe\">\n",
       "  <thead>\n",
       "    <tr style=\"text-align: right;\">\n",
       "      <th></th>\n",
       "      <th>A</th>\n",
       "      <th>B</th>\n",
       "      <th>C</th>\n",
       "      <th>D</th>\n",
       "      <th>E</th>\n",
       "      <th>F</th>\n",
       "      <th>G</th>\n",
       "      <th>H</th>\n",
       "      <th>J</th>\n",
       "    </tr>\n",
       "  </thead>\n",
       "  <tbody>\n",
       "    <tr>\n",
       "      <th>2006</th>\n",
       "      <td>0.769347</td>\n",
       "      <td>NaN</td>\n",
       "      <td>0.784709</td>\n",
       "      <td>0.724154</td>\n",
       "      <td>0.865791</td>\n",
       "      <td>NaN</td>\n",
       "      <td>0.615451</td>\n",
       "      <td>0.912082</td>\n",
       "      <td>NaN</td>\n",
       "    </tr>\n",
       "    <tr>\n",
       "      <th>2007</th>\n",
       "      <td>NaN</td>\n",
       "      <td>NaN</td>\n",
       "      <td>NaN</td>\n",
       "      <td>NaN</td>\n",
       "      <td>0.739834</td>\n",
       "      <td>NaN</td>\n",
       "      <td>0.811475</td>\n",
       "      <td>NaN</td>\n",
       "      <td>NaN</td>\n",
       "    </tr>\n",
       "    <tr>\n",
       "      <th>2008</th>\n",
       "      <td>0.993288</td>\n",
       "      <td>NaN</td>\n",
       "      <td>NaN</td>\n",
       "      <td>NaN</td>\n",
       "      <td>NaN</td>\n",
       "      <td>0.935622</td>\n",
       "      <td>0.707364</td>\n",
       "      <td>0.517903</td>\n",
       "      <td>NaN</td>\n",
       "    </tr>\n",
       "    <tr>\n",
       "      <th>2009</th>\n",
       "      <td>NaN</td>\n",
       "      <td>NaN</td>\n",
       "      <td>0.947484</td>\n",
       "      <td>NaN</td>\n",
       "      <td>NaN</td>\n",
       "      <td>0.775542</td>\n",
       "      <td>0.619816</td>\n",
       "      <td>0.848293</td>\n",
       "      <td>NaN</td>\n",
       "    </tr>\n",
       "    <tr>\n",
       "      <th>2010</th>\n",
       "      <td>0.765891</td>\n",
       "      <td>0.509260</td>\n",
       "      <td>0.673049</td>\n",
       "      <td>NaN</td>\n",
       "      <td>0.842434</td>\n",
       "      <td>0.884172</td>\n",
       "      <td>0.719542</td>\n",
       "      <td>0.719095</td>\n",
       "      <td>NaN</td>\n",
       "    </tr>\n",
       "    <tr>\n",
       "      <th>2011</th>\n",
       "      <td>NaN</td>\n",
       "      <td>NaN</td>\n",
       "      <td>NaN</td>\n",
       "      <td>0.617656</td>\n",
       "      <td>NaN</td>\n",
       "      <td>0.835165</td>\n",
       "      <td>0.671950</td>\n",
       "      <td>0.640210</td>\n",
       "      <td>NaN</td>\n",
       "    </tr>\n",
       "    <tr>\n",
       "      <th>2012</th>\n",
       "      <td>0.782014</td>\n",
       "      <td>0.544309</td>\n",
       "      <td>0.798615</td>\n",
       "      <td>NaN</td>\n",
       "      <td>0.960156</td>\n",
       "      <td>0.722389</td>\n",
       "      <td>0.920908</td>\n",
       "      <td>NaN</td>\n",
       "      <td>NaN</td>\n",
       "    </tr>\n",
       "    <tr>\n",
       "      <th>2013</th>\n",
       "      <td>NaN</td>\n",
       "      <td>NaN</td>\n",
       "      <td>NaN</td>\n",
       "      <td>0.541872</td>\n",
       "      <td>NaN</td>\n",
       "      <td>0.810283</td>\n",
       "      <td>NaN</td>\n",
       "      <td>0.634406</td>\n",
       "      <td>NaN</td>\n",
       "    </tr>\n",
       "    <tr>\n",
       "      <th>2014</th>\n",
       "      <td>NaN</td>\n",
       "      <td>NaN</td>\n",
       "      <td>NaN</td>\n",
       "      <td>NaN</td>\n",
       "      <td>NaN</td>\n",
       "      <td>NaN</td>\n",
       "      <td>NaN</td>\n",
       "      <td>NaN</td>\n",
       "      <td>NaN</td>\n",
       "    </tr>\n",
       "  </tbody>\n",
       "</table>\n",
       "</div>"
      ],
      "text/plain": [
       "             A         B         C         D         E         F         G  \\\n",
       "2006  0.769347       NaN  0.784709  0.724154  0.865791       NaN  0.615451   \n",
       "2007       NaN       NaN       NaN       NaN  0.739834       NaN  0.811475   \n",
       "2008  0.993288       NaN       NaN       NaN       NaN  0.935622  0.707364   \n",
       "2009       NaN       NaN  0.947484       NaN       NaN  0.775542  0.619816   \n",
       "2010  0.765891  0.509260  0.673049       NaN  0.842434  0.884172  0.719542   \n",
       "2011       NaN       NaN       NaN  0.617656       NaN  0.835165  0.671950   \n",
       "2012  0.782014  0.544309  0.798615       NaN  0.960156  0.722389  0.920908   \n",
       "2013       NaN       NaN       NaN  0.541872       NaN  0.810283       NaN   \n",
       "2014       NaN       NaN       NaN       NaN       NaN       NaN       NaN   \n",
       "\n",
       "             H   J  \n",
       "2006  0.912082 NaN  \n",
       "2007       NaN NaN  \n",
       "2008  0.517903 NaN  \n",
       "2009  0.848293 NaN  \n",
       "2010  0.719095 NaN  \n",
       "2011  0.640210 NaN  \n",
       "2012       NaN NaN  \n",
       "2013  0.634406 NaN  \n",
       "2014       NaN NaN  "
      ]
     },
     "execution_count": 32,
     "metadata": {},
     "output_type": "execute_result"
    }
   ],
   "source": [
    "null = pd.DataFrame(np.nan,index=['2014'],columns=['A','B','C','D','E','F','G','H'])\n",
    "filtered = frame2[frame2>0.5]\n",
    "data = pd.concat([filtered,null])\n",
    "data['J']=np.nan\n",
    "data"
   ]
  },
  {
   "cell_type": "code",
   "execution_count": 33,
   "id": "d47a2ac2-5f1d-4a3c-9ee4-7a23e8db4bfc",
   "metadata": {},
   "outputs": [
    {
     "data": {
      "text/html": [
       "<div>\n",
       "<style scoped>\n",
       "    .dataframe tbody tr th:only-of-type {\n",
       "        vertical-align: middle;\n",
       "    }\n",
       "\n",
       "    .dataframe tbody tr th {\n",
       "        vertical-align: top;\n",
       "    }\n",
       "\n",
       "    .dataframe thead th {\n",
       "        text-align: right;\n",
       "    }\n",
       "</style>\n",
       "<table border=\"1\" class=\"dataframe\">\n",
       "  <thead>\n",
       "    <tr style=\"text-align: right;\">\n",
       "      <th></th>\n",
       "      <th>A</th>\n",
       "      <th>B</th>\n",
       "      <th>C</th>\n",
       "      <th>D</th>\n",
       "      <th>E</th>\n",
       "      <th>F</th>\n",
       "      <th>G</th>\n",
       "      <th>H</th>\n",
       "      <th>J</th>\n",
       "    </tr>\n",
       "  </thead>\n",
       "  <tbody>\n",
       "    <tr>\n",
       "      <th>2006</th>\n",
       "      <td>False</td>\n",
       "      <td>True</td>\n",
       "      <td>False</td>\n",
       "      <td>False</td>\n",
       "      <td>False</td>\n",
       "      <td>True</td>\n",
       "      <td>False</td>\n",
       "      <td>False</td>\n",
       "      <td>True</td>\n",
       "    </tr>\n",
       "    <tr>\n",
       "      <th>2007</th>\n",
       "      <td>True</td>\n",
       "      <td>True</td>\n",
       "      <td>True</td>\n",
       "      <td>True</td>\n",
       "      <td>False</td>\n",
       "      <td>True</td>\n",
       "      <td>False</td>\n",
       "      <td>True</td>\n",
       "      <td>True</td>\n",
       "    </tr>\n",
       "    <tr>\n",
       "      <th>2008</th>\n",
       "      <td>False</td>\n",
       "      <td>True</td>\n",
       "      <td>True</td>\n",
       "      <td>True</td>\n",
       "      <td>True</td>\n",
       "      <td>False</td>\n",
       "      <td>False</td>\n",
       "      <td>False</td>\n",
       "      <td>True</td>\n",
       "    </tr>\n",
       "    <tr>\n",
       "      <th>2009</th>\n",
       "      <td>True</td>\n",
       "      <td>True</td>\n",
       "      <td>False</td>\n",
       "      <td>True</td>\n",
       "      <td>True</td>\n",
       "      <td>False</td>\n",
       "      <td>False</td>\n",
       "      <td>False</td>\n",
       "      <td>True</td>\n",
       "    </tr>\n",
       "    <tr>\n",
       "      <th>2010</th>\n",
       "      <td>False</td>\n",
       "      <td>False</td>\n",
       "      <td>False</td>\n",
       "      <td>True</td>\n",
       "      <td>False</td>\n",
       "      <td>False</td>\n",
       "      <td>False</td>\n",
       "      <td>False</td>\n",
       "      <td>True</td>\n",
       "    </tr>\n",
       "    <tr>\n",
       "      <th>2011</th>\n",
       "      <td>True</td>\n",
       "      <td>True</td>\n",
       "      <td>True</td>\n",
       "      <td>False</td>\n",
       "      <td>True</td>\n",
       "      <td>False</td>\n",
       "      <td>False</td>\n",
       "      <td>False</td>\n",
       "      <td>True</td>\n",
       "    </tr>\n",
       "    <tr>\n",
       "      <th>2012</th>\n",
       "      <td>False</td>\n",
       "      <td>False</td>\n",
       "      <td>False</td>\n",
       "      <td>True</td>\n",
       "      <td>False</td>\n",
       "      <td>False</td>\n",
       "      <td>False</td>\n",
       "      <td>True</td>\n",
       "      <td>True</td>\n",
       "    </tr>\n",
       "    <tr>\n",
       "      <th>2013</th>\n",
       "      <td>True</td>\n",
       "      <td>True</td>\n",
       "      <td>True</td>\n",
       "      <td>False</td>\n",
       "      <td>True</td>\n",
       "      <td>False</td>\n",
       "      <td>True</td>\n",
       "      <td>False</td>\n",
       "      <td>True</td>\n",
       "    </tr>\n",
       "    <tr>\n",
       "      <th>2014</th>\n",
       "      <td>True</td>\n",
       "      <td>True</td>\n",
       "      <td>True</td>\n",
       "      <td>True</td>\n",
       "      <td>True</td>\n",
       "      <td>True</td>\n",
       "      <td>True</td>\n",
       "      <td>True</td>\n",
       "      <td>True</td>\n",
       "    </tr>\n",
       "  </tbody>\n",
       "</table>\n",
       "</div>"
      ],
      "text/plain": [
       "          A      B      C      D      E      F      G      H     J\n",
       "2006  False   True  False  False  False   True  False  False  True\n",
       "2007   True   True   True   True  False   True  False   True  True\n",
       "2008  False   True   True   True   True  False  False  False  True\n",
       "2009   True   True  False   True   True  False  False  False  True\n",
       "2010  False  False  False   True  False  False  False  False  True\n",
       "2011   True   True   True  False   True  False  False  False  True\n",
       "2012  False  False  False   True  False  False  False   True  True\n",
       "2013   True   True   True  False   True  False   True  False  True\n",
       "2014   True   True   True   True   True   True   True   True  True"
      ]
     },
     "execution_count": 33,
     "metadata": {},
     "output_type": "execute_result"
    }
   ],
   "source": [
    "data.isnull()"
   ]
  },
  {
   "cell_type": "code",
   "execution_count": 34,
   "id": "b128095e-ea4f-45d5-9560-27a1f9871a2a",
   "metadata": {},
   "outputs": [
    {
     "data": {
      "text/html": [
       "<div>\n",
       "<style scoped>\n",
       "    .dataframe tbody tr th:only-of-type {\n",
       "        vertical-align: middle;\n",
       "    }\n",
       "\n",
       "    .dataframe tbody tr th {\n",
       "        vertical-align: top;\n",
       "    }\n",
       "\n",
       "    .dataframe thead th {\n",
       "        text-align: right;\n",
       "    }\n",
       "</style>\n",
       "<table border=\"1\" class=\"dataframe\">\n",
       "  <thead>\n",
       "    <tr style=\"text-align: right;\">\n",
       "      <th></th>\n",
       "      <th>A</th>\n",
       "      <th>B</th>\n",
       "      <th>C</th>\n",
       "      <th>D</th>\n",
       "      <th>E</th>\n",
       "      <th>F</th>\n",
       "      <th>G</th>\n",
       "      <th>H</th>\n",
       "      <th>J</th>\n",
       "    </tr>\n",
       "  </thead>\n",
       "  <tbody>\n",
       "  </tbody>\n",
       "</table>\n",
       "</div>"
      ],
      "text/plain": [
       "Empty DataFrame\n",
       "Columns: [A, B, C, D, E, F, G, H, J]\n",
       "Index: []"
      ]
     },
     "execution_count": 34,
     "metadata": {},
     "output_type": "execute_result"
    }
   ],
   "source": [
    "data.dropna()"
   ]
  },
  {
   "cell_type": "code",
   "execution_count": 35,
   "id": "fc9707b0-562c-483d-9da0-7bf4572eca7d",
   "metadata": {},
   "outputs": [
    {
     "data": {
      "text/html": [
       "<div>\n",
       "<style scoped>\n",
       "    .dataframe tbody tr th:only-of-type {\n",
       "        vertical-align: middle;\n",
       "    }\n",
       "\n",
       "    .dataframe tbody tr th {\n",
       "        vertical-align: top;\n",
       "    }\n",
       "\n",
       "    .dataframe thead th {\n",
       "        text-align: right;\n",
       "    }\n",
       "</style>\n",
       "<table border=\"1\" class=\"dataframe\">\n",
       "  <thead>\n",
       "    <tr style=\"text-align: right;\">\n",
       "      <th></th>\n",
       "      <th>A</th>\n",
       "      <th>B</th>\n",
       "      <th>C</th>\n",
       "      <th>D</th>\n",
       "      <th>E</th>\n",
       "      <th>F</th>\n",
       "      <th>G</th>\n",
       "      <th>H</th>\n",
       "      <th>J</th>\n",
       "    </tr>\n",
       "  </thead>\n",
       "  <tbody>\n",
       "    <tr>\n",
       "      <th>2006</th>\n",
       "      <td>0.769347</td>\n",
       "      <td>NaN</td>\n",
       "      <td>0.784709</td>\n",
       "      <td>0.724154</td>\n",
       "      <td>0.865791</td>\n",
       "      <td>NaN</td>\n",
       "      <td>0.615451</td>\n",
       "      <td>0.912082</td>\n",
       "      <td>NaN</td>\n",
       "    </tr>\n",
       "    <tr>\n",
       "      <th>2007</th>\n",
       "      <td>NaN</td>\n",
       "      <td>NaN</td>\n",
       "      <td>NaN</td>\n",
       "      <td>NaN</td>\n",
       "      <td>0.739834</td>\n",
       "      <td>NaN</td>\n",
       "      <td>0.811475</td>\n",
       "      <td>NaN</td>\n",
       "      <td>NaN</td>\n",
       "    </tr>\n",
       "    <tr>\n",
       "      <th>2008</th>\n",
       "      <td>0.993288</td>\n",
       "      <td>NaN</td>\n",
       "      <td>NaN</td>\n",
       "      <td>NaN</td>\n",
       "      <td>NaN</td>\n",
       "      <td>0.935622</td>\n",
       "      <td>0.707364</td>\n",
       "      <td>0.517903</td>\n",
       "      <td>NaN</td>\n",
       "    </tr>\n",
       "    <tr>\n",
       "      <th>2009</th>\n",
       "      <td>NaN</td>\n",
       "      <td>NaN</td>\n",
       "      <td>0.947484</td>\n",
       "      <td>NaN</td>\n",
       "      <td>NaN</td>\n",
       "      <td>0.775542</td>\n",
       "      <td>0.619816</td>\n",
       "      <td>0.848293</td>\n",
       "      <td>NaN</td>\n",
       "    </tr>\n",
       "    <tr>\n",
       "      <th>2010</th>\n",
       "      <td>0.765891</td>\n",
       "      <td>0.509260</td>\n",
       "      <td>0.673049</td>\n",
       "      <td>NaN</td>\n",
       "      <td>0.842434</td>\n",
       "      <td>0.884172</td>\n",
       "      <td>0.719542</td>\n",
       "      <td>0.719095</td>\n",
       "      <td>NaN</td>\n",
       "    </tr>\n",
       "    <tr>\n",
       "      <th>2011</th>\n",
       "      <td>NaN</td>\n",
       "      <td>NaN</td>\n",
       "      <td>NaN</td>\n",
       "      <td>0.617656</td>\n",
       "      <td>NaN</td>\n",
       "      <td>0.835165</td>\n",
       "      <td>0.671950</td>\n",
       "      <td>0.640210</td>\n",
       "      <td>NaN</td>\n",
       "    </tr>\n",
       "    <tr>\n",
       "      <th>2012</th>\n",
       "      <td>0.782014</td>\n",
       "      <td>0.544309</td>\n",
       "      <td>0.798615</td>\n",
       "      <td>NaN</td>\n",
       "      <td>0.960156</td>\n",
       "      <td>0.722389</td>\n",
       "      <td>0.920908</td>\n",
       "      <td>NaN</td>\n",
       "      <td>NaN</td>\n",
       "    </tr>\n",
       "    <tr>\n",
       "      <th>2013</th>\n",
       "      <td>NaN</td>\n",
       "      <td>NaN</td>\n",
       "      <td>NaN</td>\n",
       "      <td>0.541872</td>\n",
       "      <td>NaN</td>\n",
       "      <td>0.810283</td>\n",
       "      <td>NaN</td>\n",
       "      <td>0.634406</td>\n",
       "      <td>NaN</td>\n",
       "    </tr>\n",
       "  </tbody>\n",
       "</table>\n",
       "</div>"
      ],
      "text/plain": [
       "             A         B         C         D         E         F         G  \\\n",
       "2006  0.769347       NaN  0.784709  0.724154  0.865791       NaN  0.615451   \n",
       "2007       NaN       NaN       NaN       NaN  0.739834       NaN  0.811475   \n",
       "2008  0.993288       NaN       NaN       NaN       NaN  0.935622  0.707364   \n",
       "2009       NaN       NaN  0.947484       NaN       NaN  0.775542  0.619816   \n",
       "2010  0.765891  0.509260  0.673049       NaN  0.842434  0.884172  0.719542   \n",
       "2011       NaN       NaN       NaN  0.617656       NaN  0.835165  0.671950   \n",
       "2012  0.782014  0.544309  0.798615       NaN  0.960156  0.722389  0.920908   \n",
       "2013       NaN       NaN       NaN  0.541872       NaN  0.810283       NaN   \n",
       "\n",
       "             H   J  \n",
       "2006  0.912082 NaN  \n",
       "2007       NaN NaN  \n",
       "2008  0.517903 NaN  \n",
       "2009  0.848293 NaN  \n",
       "2010  0.719095 NaN  \n",
       "2011  0.640210 NaN  \n",
       "2012       NaN NaN  \n",
       "2013  0.634406 NaN  "
      ]
     },
     "execution_count": 35,
     "metadata": {},
     "output_type": "execute_result"
    }
   ],
   "source": [
    "data.dropna(how='all',axis=0)"
   ]
  },
  {
   "cell_type": "code",
   "execution_count": 36,
   "id": "e0224fe5-d428-4f9c-a0a3-704caf7af437",
   "metadata": {},
   "outputs": [
    {
     "data": {
      "text/html": [
       "<div>\n",
       "<style scoped>\n",
       "    .dataframe tbody tr th:only-of-type {\n",
       "        vertical-align: middle;\n",
       "    }\n",
       "\n",
       "    .dataframe tbody tr th {\n",
       "        vertical-align: top;\n",
       "    }\n",
       "\n",
       "    .dataframe thead th {\n",
       "        text-align: right;\n",
       "    }\n",
       "</style>\n",
       "<table border=\"1\" class=\"dataframe\">\n",
       "  <thead>\n",
       "    <tr style=\"text-align: right;\">\n",
       "      <th></th>\n",
       "      <th>A</th>\n",
       "      <th>B</th>\n",
       "      <th>C</th>\n",
       "      <th>D</th>\n",
       "      <th>E</th>\n",
       "      <th>F</th>\n",
       "      <th>G</th>\n",
       "      <th>H</th>\n",
       "      <th>J</th>\n",
       "    </tr>\n",
       "  </thead>\n",
       "  <tbody>\n",
       "    <tr>\n",
       "      <th>2006</th>\n",
       "      <td>0.769347</td>\n",
       "      <td>NaN</td>\n",
       "      <td>0.784709</td>\n",
       "      <td>0.724154</td>\n",
       "      <td>0.865791</td>\n",
       "      <td>NaN</td>\n",
       "      <td>0.615451</td>\n",
       "      <td>0.912082</td>\n",
       "      <td>NaN</td>\n",
       "    </tr>\n",
       "    <tr>\n",
       "      <th>2008</th>\n",
       "      <td>0.993288</td>\n",
       "      <td>NaN</td>\n",
       "      <td>NaN</td>\n",
       "      <td>NaN</td>\n",
       "      <td>NaN</td>\n",
       "      <td>0.935622</td>\n",
       "      <td>0.707364</td>\n",
       "      <td>0.517903</td>\n",
       "      <td>NaN</td>\n",
       "    </tr>\n",
       "    <tr>\n",
       "      <th>2009</th>\n",
       "      <td>NaN</td>\n",
       "      <td>NaN</td>\n",
       "      <td>0.947484</td>\n",
       "      <td>NaN</td>\n",
       "      <td>NaN</td>\n",
       "      <td>0.775542</td>\n",
       "      <td>0.619816</td>\n",
       "      <td>0.848293</td>\n",
       "      <td>NaN</td>\n",
       "    </tr>\n",
       "    <tr>\n",
       "      <th>2010</th>\n",
       "      <td>0.765891</td>\n",
       "      <td>0.509260</td>\n",
       "      <td>0.673049</td>\n",
       "      <td>NaN</td>\n",
       "      <td>0.842434</td>\n",
       "      <td>0.884172</td>\n",
       "      <td>0.719542</td>\n",
       "      <td>0.719095</td>\n",
       "      <td>NaN</td>\n",
       "    </tr>\n",
       "    <tr>\n",
       "      <th>2011</th>\n",
       "      <td>NaN</td>\n",
       "      <td>NaN</td>\n",
       "      <td>NaN</td>\n",
       "      <td>0.617656</td>\n",
       "      <td>NaN</td>\n",
       "      <td>0.835165</td>\n",
       "      <td>0.671950</td>\n",
       "      <td>0.640210</td>\n",
       "      <td>NaN</td>\n",
       "    </tr>\n",
       "    <tr>\n",
       "      <th>2012</th>\n",
       "      <td>0.782014</td>\n",
       "      <td>0.544309</td>\n",
       "      <td>0.798615</td>\n",
       "      <td>NaN</td>\n",
       "      <td>0.960156</td>\n",
       "      <td>0.722389</td>\n",
       "      <td>0.920908</td>\n",
       "      <td>NaN</td>\n",
       "      <td>NaN</td>\n",
       "    </tr>\n",
       "  </tbody>\n",
       "</table>\n",
       "</div>"
      ],
      "text/plain": [
       "             A         B         C         D         E         F         G  \\\n",
       "2006  0.769347       NaN  0.784709  0.724154  0.865791       NaN  0.615451   \n",
       "2008  0.993288       NaN       NaN       NaN       NaN  0.935622  0.707364   \n",
       "2009       NaN       NaN  0.947484       NaN       NaN  0.775542  0.619816   \n",
       "2010  0.765891  0.509260  0.673049       NaN  0.842434  0.884172  0.719542   \n",
       "2011       NaN       NaN       NaN  0.617656       NaN  0.835165  0.671950   \n",
       "2012  0.782014  0.544309  0.798615       NaN  0.960156  0.722389  0.920908   \n",
       "\n",
       "             H   J  \n",
       "2006  0.912082 NaN  \n",
       "2008  0.517903 NaN  \n",
       "2009  0.848293 NaN  \n",
       "2010  0.719095 NaN  \n",
       "2011  0.640210 NaN  \n",
       "2012       NaN NaN  "
      ]
     },
     "execution_count": 36,
     "metadata": {},
     "output_type": "execute_result"
    }
   ],
   "source": [
    "data.dropna(thresh=4)"
   ]
  },
  {
   "cell_type": "code",
   "execution_count": 37,
   "id": "78fdfc88-ef7f-4ae8-b169-5d626980e36b",
   "metadata": {},
   "outputs": [],
   "source": [
    "data.fillna(data.mean(),inplace=True)#inplace=True"
   ]
  },
  {
   "cell_type": "code",
   "execution_count": 38,
   "id": "9dc515fc-c37c-4d26-a60f-0afea93f80bc",
   "metadata": {},
   "outputs": [
    {
     "data": {
      "text/html": [
       "<div>\n",
       "<style scoped>\n",
       "    .dataframe tbody tr th:only-of-type {\n",
       "        vertical-align: middle;\n",
       "    }\n",
       "\n",
       "    .dataframe tbody tr th {\n",
       "        vertical-align: top;\n",
       "    }\n",
       "\n",
       "    .dataframe thead th {\n",
       "        text-align: right;\n",
       "    }\n",
       "</style>\n",
       "<table border=\"1\" class=\"dataframe\">\n",
       "  <thead>\n",
       "    <tr style=\"text-align: right;\">\n",
       "      <th></th>\n",
       "      <th>A</th>\n",
       "      <th>B</th>\n",
       "      <th>C</th>\n",
       "      <th>D</th>\n",
       "      <th>E</th>\n",
       "      <th>F</th>\n",
       "      <th>G</th>\n",
       "      <th>H</th>\n",
       "      <th>J</th>\n",
       "    </tr>\n",
       "  </thead>\n",
       "  <tbody>\n",
       "    <tr>\n",
       "      <th>2006</th>\n",
       "      <td>0.769347</td>\n",
       "      <td>0.526784</td>\n",
       "      <td>0.784709</td>\n",
       "      <td>0.724154</td>\n",
       "      <td>0.865791</td>\n",
       "      <td>0.827196</td>\n",
       "      <td>0.615451</td>\n",
       "      <td>0.912082</td>\n",
       "      <td>NaN</td>\n",
       "    </tr>\n",
       "    <tr>\n",
       "      <th>2007</th>\n",
       "      <td>0.827635</td>\n",
       "      <td>0.526784</td>\n",
       "      <td>0.800964</td>\n",
       "      <td>0.627894</td>\n",
       "      <td>0.739834</td>\n",
       "      <td>0.827196</td>\n",
       "      <td>0.811475</td>\n",
       "      <td>0.711998</td>\n",
       "      <td>NaN</td>\n",
       "    </tr>\n",
       "    <tr>\n",
       "      <th>2008</th>\n",
       "      <td>0.993288</td>\n",
       "      <td>0.526784</td>\n",
       "      <td>0.800964</td>\n",
       "      <td>0.627894</td>\n",
       "      <td>0.852054</td>\n",
       "      <td>0.935622</td>\n",
       "      <td>0.707364</td>\n",
       "      <td>0.517903</td>\n",
       "      <td>NaN</td>\n",
       "    </tr>\n",
       "    <tr>\n",
       "      <th>2009</th>\n",
       "      <td>0.827635</td>\n",
       "      <td>0.526784</td>\n",
       "      <td>0.947484</td>\n",
       "      <td>0.627894</td>\n",
       "      <td>0.852054</td>\n",
       "      <td>0.775542</td>\n",
       "      <td>0.619816</td>\n",
       "      <td>0.848293</td>\n",
       "      <td>NaN</td>\n",
       "    </tr>\n",
       "    <tr>\n",
       "      <th>2010</th>\n",
       "      <td>0.765891</td>\n",
       "      <td>0.509260</td>\n",
       "      <td>0.673049</td>\n",
       "      <td>0.627894</td>\n",
       "      <td>0.842434</td>\n",
       "      <td>0.884172</td>\n",
       "      <td>0.719542</td>\n",
       "      <td>0.719095</td>\n",
       "      <td>NaN</td>\n",
       "    </tr>\n",
       "    <tr>\n",
       "      <th>2011</th>\n",
       "      <td>0.827635</td>\n",
       "      <td>0.526784</td>\n",
       "      <td>0.800964</td>\n",
       "      <td>0.617656</td>\n",
       "      <td>0.852054</td>\n",
       "      <td>0.835165</td>\n",
       "      <td>0.671950</td>\n",
       "      <td>0.640210</td>\n",
       "      <td>NaN</td>\n",
       "    </tr>\n",
       "    <tr>\n",
       "      <th>2012</th>\n",
       "      <td>0.782014</td>\n",
       "      <td>0.544309</td>\n",
       "      <td>0.798615</td>\n",
       "      <td>0.627894</td>\n",
       "      <td>0.960156</td>\n",
       "      <td>0.722389</td>\n",
       "      <td>0.920908</td>\n",
       "      <td>0.711998</td>\n",
       "      <td>NaN</td>\n",
       "    </tr>\n",
       "    <tr>\n",
       "      <th>2013</th>\n",
       "      <td>0.827635</td>\n",
       "      <td>0.526784</td>\n",
       "      <td>0.800964</td>\n",
       "      <td>0.541872</td>\n",
       "      <td>0.852054</td>\n",
       "      <td>0.810283</td>\n",
       "      <td>0.723787</td>\n",
       "      <td>0.634406</td>\n",
       "      <td>NaN</td>\n",
       "    </tr>\n",
       "    <tr>\n",
       "      <th>2014</th>\n",
       "      <td>0.827635</td>\n",
       "      <td>0.526784</td>\n",
       "      <td>0.800964</td>\n",
       "      <td>0.627894</td>\n",
       "      <td>0.852054</td>\n",
       "      <td>0.827196</td>\n",
       "      <td>0.723787</td>\n",
       "      <td>0.711998</td>\n",
       "      <td>NaN</td>\n",
       "    </tr>\n",
       "  </tbody>\n",
       "</table>\n",
       "</div>"
      ],
      "text/plain": [
       "             A         B         C         D         E         F         G  \\\n",
       "2006  0.769347  0.526784  0.784709  0.724154  0.865791  0.827196  0.615451   \n",
       "2007  0.827635  0.526784  0.800964  0.627894  0.739834  0.827196  0.811475   \n",
       "2008  0.993288  0.526784  0.800964  0.627894  0.852054  0.935622  0.707364   \n",
       "2009  0.827635  0.526784  0.947484  0.627894  0.852054  0.775542  0.619816   \n",
       "2010  0.765891  0.509260  0.673049  0.627894  0.842434  0.884172  0.719542   \n",
       "2011  0.827635  0.526784  0.800964  0.617656  0.852054  0.835165  0.671950   \n",
       "2012  0.782014  0.544309  0.798615  0.627894  0.960156  0.722389  0.920908   \n",
       "2013  0.827635  0.526784  0.800964  0.541872  0.852054  0.810283  0.723787   \n",
       "2014  0.827635  0.526784  0.800964  0.627894  0.852054  0.827196  0.723787   \n",
       "\n",
       "             H   J  \n",
       "2006  0.912082 NaN  \n",
       "2007  0.711998 NaN  \n",
       "2008  0.517903 NaN  \n",
       "2009  0.848293 NaN  \n",
       "2010  0.719095 NaN  \n",
       "2011  0.640210 NaN  \n",
       "2012  0.711998 NaN  \n",
       "2013  0.634406 NaN  \n",
       "2014  0.711998 NaN  "
      ]
     },
     "execution_count": 38,
     "metadata": {},
     "output_type": "execute_result"
    }
   ],
   "source": [
    "data"
   ]
  },
  {
   "cell_type": "code",
   "execution_count": 39,
   "id": "dfc4f0f6-0af0-4894-b999-de291ab73cdd",
   "metadata": {},
   "outputs": [
    {
     "data": {
      "text/html": [
       "<div>\n",
       "<style scoped>\n",
       "    .dataframe tbody tr th:only-of-type {\n",
       "        vertical-align: middle;\n",
       "    }\n",
       "\n",
       "    .dataframe tbody tr th {\n",
       "        vertical-align: top;\n",
       "    }\n",
       "\n",
       "    .dataframe thead th {\n",
       "        text-align: right;\n",
       "    }\n",
       "</style>\n",
       "<table border=\"1\" class=\"dataframe\">\n",
       "  <thead>\n",
       "    <tr style=\"text-align: right;\">\n",
       "      <th></th>\n",
       "      <th>A</th>\n",
       "      <th>B</th>\n",
       "      <th>C</th>\n",
       "      <th>D</th>\n",
       "      <th>E</th>\n",
       "      <th>F</th>\n",
       "      <th>G</th>\n",
       "      <th>H</th>\n",
       "      <th>J</th>\n",
       "    </tr>\n",
       "  </thead>\n",
       "  <tbody>\n",
       "    <tr>\n",
       "      <th>2006</th>\n",
       "      <td>0.769347</td>\n",
       "      <td>0.526784</td>\n",
       "      <td>0.784709</td>\n",
       "      <td>0.724154</td>\n",
       "      <td>0.865791</td>\n",
       "      <td>0.827196</td>\n",
       "      <td>0.615451</td>\n",
       "      <td>0.912082</td>\n",
       "      <td>0.0</td>\n",
       "    </tr>\n",
       "    <tr>\n",
       "      <th>2007</th>\n",
       "      <td>0.827635</td>\n",
       "      <td>0.526784</td>\n",
       "      <td>0.800964</td>\n",
       "      <td>0.627894</td>\n",
       "      <td>0.739834</td>\n",
       "      <td>0.827196</td>\n",
       "      <td>0.811475</td>\n",
       "      <td>0.711998</td>\n",
       "      <td>0.0</td>\n",
       "    </tr>\n",
       "    <tr>\n",
       "      <th>2008</th>\n",
       "      <td>0.993288</td>\n",
       "      <td>0.526784</td>\n",
       "      <td>0.800964</td>\n",
       "      <td>0.627894</td>\n",
       "      <td>0.852054</td>\n",
       "      <td>0.935622</td>\n",
       "      <td>0.707364</td>\n",
       "      <td>0.517903</td>\n",
       "      <td>0.0</td>\n",
       "    </tr>\n",
       "    <tr>\n",
       "      <th>2009</th>\n",
       "      <td>0.827635</td>\n",
       "      <td>0.526784</td>\n",
       "      <td>0.947484</td>\n",
       "      <td>0.627894</td>\n",
       "      <td>0.852054</td>\n",
       "      <td>0.775542</td>\n",
       "      <td>0.619816</td>\n",
       "      <td>0.848293</td>\n",
       "      <td>0.0</td>\n",
       "    </tr>\n",
       "    <tr>\n",
       "      <th>2010</th>\n",
       "      <td>0.765891</td>\n",
       "      <td>0.509260</td>\n",
       "      <td>0.673049</td>\n",
       "      <td>0.627894</td>\n",
       "      <td>0.842434</td>\n",
       "      <td>0.884172</td>\n",
       "      <td>0.719542</td>\n",
       "      <td>0.719095</td>\n",
       "      <td>0.0</td>\n",
       "    </tr>\n",
       "    <tr>\n",
       "      <th>2011</th>\n",
       "      <td>0.827635</td>\n",
       "      <td>0.526784</td>\n",
       "      <td>0.800964</td>\n",
       "      <td>0.617656</td>\n",
       "      <td>0.852054</td>\n",
       "      <td>0.835165</td>\n",
       "      <td>0.671950</td>\n",
       "      <td>0.640210</td>\n",
       "      <td>0.0</td>\n",
       "    </tr>\n",
       "    <tr>\n",
       "      <th>2012</th>\n",
       "      <td>0.782014</td>\n",
       "      <td>0.544309</td>\n",
       "      <td>0.798615</td>\n",
       "      <td>0.627894</td>\n",
       "      <td>0.960156</td>\n",
       "      <td>0.722389</td>\n",
       "      <td>0.920908</td>\n",
       "      <td>0.711998</td>\n",
       "      <td>0.0</td>\n",
       "    </tr>\n",
       "    <tr>\n",
       "      <th>2013</th>\n",
       "      <td>0.827635</td>\n",
       "      <td>0.526784</td>\n",
       "      <td>0.800964</td>\n",
       "      <td>0.541872</td>\n",
       "      <td>0.852054</td>\n",
       "      <td>0.810283</td>\n",
       "      <td>0.723787</td>\n",
       "      <td>0.634406</td>\n",
       "      <td>0.0</td>\n",
       "    </tr>\n",
       "    <tr>\n",
       "      <th>2014</th>\n",
       "      <td>0.827635</td>\n",
       "      <td>0.526784</td>\n",
       "      <td>0.800964</td>\n",
       "      <td>0.627894</td>\n",
       "      <td>0.852054</td>\n",
       "      <td>0.827196</td>\n",
       "      <td>0.723787</td>\n",
       "      <td>0.711998</td>\n",
       "      <td>0.0</td>\n",
       "    </tr>\n",
       "  </tbody>\n",
       "</table>\n",
       "</div>"
      ],
      "text/plain": [
       "             A         B         C         D         E         F         G  \\\n",
       "2006  0.769347  0.526784  0.784709  0.724154  0.865791  0.827196  0.615451   \n",
       "2007  0.827635  0.526784  0.800964  0.627894  0.739834  0.827196  0.811475   \n",
       "2008  0.993288  0.526784  0.800964  0.627894  0.852054  0.935622  0.707364   \n",
       "2009  0.827635  0.526784  0.947484  0.627894  0.852054  0.775542  0.619816   \n",
       "2010  0.765891  0.509260  0.673049  0.627894  0.842434  0.884172  0.719542   \n",
       "2011  0.827635  0.526784  0.800964  0.617656  0.852054  0.835165  0.671950   \n",
       "2012  0.782014  0.544309  0.798615  0.627894  0.960156  0.722389  0.920908   \n",
       "2013  0.827635  0.526784  0.800964  0.541872  0.852054  0.810283  0.723787   \n",
       "2014  0.827635  0.526784  0.800964  0.627894  0.852054  0.827196  0.723787   \n",
       "\n",
       "             H    J  \n",
       "2006  0.912082  0.0  \n",
       "2007  0.711998  0.0  \n",
       "2008  0.517903  0.0  \n",
       "2009  0.848293  0.0  \n",
       "2010  0.719095  0.0  \n",
       "2011  0.640210  0.0  \n",
       "2012  0.711998  0.0  \n",
       "2013  0.634406  0.0  \n",
       "2014  0.711998  0.0  "
      ]
     },
     "execution_count": 39,
     "metadata": {},
     "output_type": "execute_result"
    }
   ],
   "source": [
    "data.fillna({'J':0})"
   ]
  },
  {
   "cell_type": "markdown",
   "id": "dd55ea5c-c627-49eb-be0b-87537f557cde",
   "metadata": {
    "jp-MarkdownHeadingCollapsed": true
   },
   "source": [
    "### Removiendo duplicados"
   ]
  },
  {
   "cell_type": "code",
   "execution_count": 48,
   "id": "172d7079-5bfd-44fb-a644-c83e565dbf03",
   "metadata": {},
   "outputs": [
    {
     "data": {
      "text/html": [
       "<div>\n",
       "<style scoped>\n",
       "    .dataframe tbody tr th:only-of-type {\n",
       "        vertical-align: middle;\n",
       "    }\n",
       "\n",
       "    .dataframe tbody tr th {\n",
       "        vertical-align: top;\n",
       "    }\n",
       "\n",
       "    .dataframe thead th {\n",
       "        text-align: right;\n",
       "    }\n",
       "</style>\n",
       "<table border=\"1\" class=\"dataframe\">\n",
       "  <thead>\n",
       "    <tr style=\"text-align: right;\">\n",
       "      <th></th>\n",
       "      <th>A</th>\n",
       "      <th>B</th>\n",
       "      <th>C</th>\n",
       "      <th>D</th>\n",
       "      <th>E</th>\n",
       "      <th>F</th>\n",
       "      <th>G</th>\n",
       "      <th>H</th>\n",
       "    </tr>\n",
       "  </thead>\n",
       "  <tbody>\n",
       "    <tr>\n",
       "      <th>2006</th>\n",
       "      <td>0.167714</td>\n",
       "      <td>0.386753</td>\n",
       "      <td>0.449753</td>\n",
       "      <td>0.779523</td>\n",
       "      <td>0.091232</td>\n",
       "      <td>0.666972</td>\n",
       "      <td>0.472901</td>\n",
       "      <td>0.085163</td>\n",
       "    </tr>\n",
       "    <tr>\n",
       "      <th>2007</th>\n",
       "      <td>0.647830</td>\n",
       "      <td>0.765897</td>\n",
       "      <td>0.967093</td>\n",
       "      <td>0.711965</td>\n",
       "      <td>0.671510</td>\n",
       "      <td>0.028473</td>\n",
       "      <td>0.177457</td>\n",
       "      <td>0.612981</td>\n",
       "    </tr>\n",
       "    <tr>\n",
       "      <th>2008</th>\n",
       "      <td>0.181796</td>\n",
       "      <td>0.371912</td>\n",
       "      <td>0.257435</td>\n",
       "      <td>0.981625</td>\n",
       "      <td>0.783019</td>\n",
       "      <td>0.542138</td>\n",
       "      <td>0.401977</td>\n",
       "      <td>0.161876</td>\n",
       "    </tr>\n",
       "    <tr>\n",
       "      <th>2009</th>\n",
       "      <td>0.945025</td>\n",
       "      <td>0.365606</td>\n",
       "      <td>0.305483</td>\n",
       "      <td>0.503662</td>\n",
       "      <td>0.631243</td>\n",
       "      <td>0.291029</td>\n",
       "      <td>0.631801</td>\n",
       "      <td>0.180047</td>\n",
       "    </tr>\n",
       "    <tr>\n",
       "      <th>2010</th>\n",
       "      <td>0.990488</td>\n",
       "      <td>0.064619</td>\n",
       "      <td>0.688456</td>\n",
       "      <td>0.250252</td>\n",
       "      <td>0.498782</td>\n",
       "      <td>0.905321</td>\n",
       "      <td>0.052629</td>\n",
       "      <td>0.411949</td>\n",
       "    </tr>\n",
       "    <tr>\n",
       "      <th>2011</th>\n",
       "      <td>0.358344</td>\n",
       "      <td>0.161190</td>\n",
       "      <td>0.625784</td>\n",
       "      <td>0.333700</td>\n",
       "      <td>0.295960</td>\n",
       "      <td>0.563498</td>\n",
       "      <td>0.936386</td>\n",
       "      <td>0.358186</td>\n",
       "    </tr>\n",
       "    <tr>\n",
       "      <th>2012</th>\n",
       "      <td>0.818770</td>\n",
       "      <td>0.923382</td>\n",
       "      <td>0.256222</td>\n",
       "      <td>0.774436</td>\n",
       "      <td>0.514566</td>\n",
       "      <td>0.028427</td>\n",
       "      <td>0.100225</td>\n",
       "      <td>0.859823</td>\n",
       "    </tr>\n",
       "    <tr>\n",
       "      <th>2013</th>\n",
       "      <td>0.008927</td>\n",
       "      <td>0.385872</td>\n",
       "      <td>0.504413</td>\n",
       "      <td>0.972921</td>\n",
       "      <td>0.520057</td>\n",
       "      <td>0.057091</td>\n",
       "      <td>0.398949</td>\n",
       "      <td>0.191101</td>\n",
       "    </tr>\n",
       "    <tr>\n",
       "      <th>2014</th>\n",
       "      <td>0.000000</td>\n",
       "      <td>1.000000</td>\n",
       "      <td>2.000000</td>\n",
       "      <td>3.000000</td>\n",
       "      <td>4.000000</td>\n",
       "      <td>5.000000</td>\n",
       "      <td>6.000000</td>\n",
       "      <td>7.000000</td>\n",
       "    </tr>\n",
       "    <tr>\n",
       "      <th>2014</th>\n",
       "      <td>0.000000</td>\n",
       "      <td>1.000000</td>\n",
       "      <td>2.000000</td>\n",
       "      <td>3.000000</td>\n",
       "      <td>4.000000</td>\n",
       "      <td>5.000000</td>\n",
       "      <td>6.000000</td>\n",
       "      <td>7.000000</td>\n",
       "    </tr>\n",
       "    <tr>\n",
       "      <th>2014</th>\n",
       "      <td>10.000000</td>\n",
       "      <td>11.000000</td>\n",
       "      <td>12.000000</td>\n",
       "      <td>13.000000</td>\n",
       "      <td>14.000000</td>\n",
       "      <td>15.000000</td>\n",
       "      <td>16.000000</td>\n",
       "      <td>17.000000</td>\n",
       "    </tr>\n",
       "    <tr>\n",
       "      <th>2014</th>\n",
       "      <td>0.000000</td>\n",
       "      <td>3.000000</td>\n",
       "      <td>2.000000</td>\n",
       "      <td>3.000000</td>\n",
       "      <td>4.000000</td>\n",
       "      <td>5.000000</td>\n",
       "      <td>6.000000</td>\n",
       "      <td>4.000000</td>\n",
       "    </tr>\n",
       "  </tbody>\n",
       "</table>\n",
       "</div>"
      ],
      "text/plain": [
       "              A          B          C          D          E          F  \\\n",
       "2006   0.167714   0.386753   0.449753   0.779523   0.091232   0.666972   \n",
       "2007   0.647830   0.765897   0.967093   0.711965   0.671510   0.028473   \n",
       "2008   0.181796   0.371912   0.257435   0.981625   0.783019   0.542138   \n",
       "2009   0.945025   0.365606   0.305483   0.503662   0.631243   0.291029   \n",
       "2010   0.990488   0.064619   0.688456   0.250252   0.498782   0.905321   \n",
       "2011   0.358344   0.161190   0.625784   0.333700   0.295960   0.563498   \n",
       "2012   0.818770   0.923382   0.256222   0.774436   0.514566   0.028427   \n",
       "2013   0.008927   0.385872   0.504413   0.972921   0.520057   0.057091   \n",
       "2014   0.000000   1.000000   2.000000   3.000000   4.000000   5.000000   \n",
       "2014   0.000000   1.000000   2.000000   3.000000   4.000000   5.000000   \n",
       "2014  10.000000  11.000000  12.000000  13.000000  14.000000  15.000000   \n",
       "2014   0.000000   3.000000   2.000000   3.000000   4.000000   5.000000   \n",
       "\n",
       "              G          H  \n",
       "2006   0.472901   0.085163  \n",
       "2007   0.177457   0.612981  \n",
       "2008   0.401977   0.161876  \n",
       "2009   0.631801   0.180047  \n",
       "2010   0.052629   0.411949  \n",
       "2011   0.936386   0.358186  \n",
       "2012   0.100225   0.859823  \n",
       "2013   0.398949   0.191101  \n",
       "2014   6.000000   7.000000  \n",
       "2014   6.000000   7.000000  \n",
       "2014  16.000000  17.000000  \n",
       "2014   6.000000   4.000000  "
      ]
     },
     "metadata": {},
     "output_type": "display_data"
    }
   ],
   "source": [
    "rang = pd.DataFrame([np.arange(8)],index=['2014'],columns=['A','B','C','D','E','F','G','H'])\n",
    "rang2 = pd.DataFrame([np.arange(10,18)],index=['2014'],columns=['A','B','C','D','E','F','G','H'])\n",
    "rang3 = pd.DataFrame([[0,3,2,3,4,5,6,4]],index=['2014'],columns=['A','B','C','D','E','F','G','H'])\n",
    "data_dup = pd.concat([frame2,rang,rang,rang2,rang3])\n",
    "display(data_dup)\n"
   ]
  },
  {
   "cell_type": "code",
   "execution_count": 56,
   "id": "a0768b67-27f7-4d46-9c1d-eb7ce6d27644",
   "metadata": {},
   "outputs": [
    {
     "data": {
      "text/html": [
       "<div>\n",
       "<style scoped>\n",
       "    .dataframe tbody tr th:only-of-type {\n",
       "        vertical-align: middle;\n",
       "    }\n",
       "\n",
       "    .dataframe tbody tr th {\n",
       "        vertical-align: top;\n",
       "    }\n",
       "\n",
       "    .dataframe thead th {\n",
       "        text-align: right;\n",
       "    }\n",
       "</style>\n",
       "<table border=\"1\" class=\"dataframe\">\n",
       "  <thead>\n",
       "    <tr style=\"text-align: right;\">\n",
       "      <th></th>\n",
       "      <th>A</th>\n",
       "      <th>B</th>\n",
       "      <th>C</th>\n",
       "      <th>D</th>\n",
       "      <th>E</th>\n",
       "      <th>F</th>\n",
       "      <th>G</th>\n",
       "      <th>H</th>\n",
       "    </tr>\n",
       "  </thead>\n",
       "  <tbody>\n",
       "    <tr>\n",
       "      <th>2006</th>\n",
       "      <td>0.167714</td>\n",
       "      <td>0.386753</td>\n",
       "      <td>0.449753</td>\n",
       "      <td>0.779523</td>\n",
       "      <td>0.091232</td>\n",
       "      <td>0.666972</td>\n",
       "      <td>0.472901</td>\n",
       "      <td>0.085163</td>\n",
       "    </tr>\n",
       "    <tr>\n",
       "      <th>2007</th>\n",
       "      <td>0.647830</td>\n",
       "      <td>0.765897</td>\n",
       "      <td>0.967093</td>\n",
       "      <td>0.711965</td>\n",
       "      <td>0.671510</td>\n",
       "      <td>0.028473</td>\n",
       "      <td>0.177457</td>\n",
       "      <td>0.612981</td>\n",
       "    </tr>\n",
       "    <tr>\n",
       "      <th>2008</th>\n",
       "      <td>0.181796</td>\n",
       "      <td>0.371912</td>\n",
       "      <td>0.257435</td>\n",
       "      <td>0.981625</td>\n",
       "      <td>0.783019</td>\n",
       "      <td>0.542138</td>\n",
       "      <td>0.401977</td>\n",
       "      <td>0.161876</td>\n",
       "    </tr>\n",
       "    <tr>\n",
       "      <th>2009</th>\n",
       "      <td>0.945025</td>\n",
       "      <td>0.365606</td>\n",
       "      <td>0.305483</td>\n",
       "      <td>0.503662</td>\n",
       "      <td>0.631243</td>\n",
       "      <td>0.291029</td>\n",
       "      <td>0.631801</td>\n",
       "      <td>0.180047</td>\n",
       "    </tr>\n",
       "    <tr>\n",
       "      <th>2010</th>\n",
       "      <td>0.990488</td>\n",
       "      <td>0.064619</td>\n",
       "      <td>0.688456</td>\n",
       "      <td>0.250252</td>\n",
       "      <td>0.498782</td>\n",
       "      <td>0.905321</td>\n",
       "      <td>0.052629</td>\n",
       "      <td>0.411949</td>\n",
       "    </tr>\n",
       "    <tr>\n",
       "      <th>2011</th>\n",
       "      <td>0.358344</td>\n",
       "      <td>0.161190</td>\n",
       "      <td>0.625784</td>\n",
       "      <td>0.333700</td>\n",
       "      <td>0.295960</td>\n",
       "      <td>0.563498</td>\n",
       "      <td>0.936386</td>\n",
       "      <td>0.358186</td>\n",
       "    </tr>\n",
       "    <tr>\n",
       "      <th>2012</th>\n",
       "      <td>0.818770</td>\n",
       "      <td>0.923382</td>\n",
       "      <td>0.256222</td>\n",
       "      <td>0.774436</td>\n",
       "      <td>0.514566</td>\n",
       "      <td>0.028427</td>\n",
       "      <td>0.100225</td>\n",
       "      <td>0.859823</td>\n",
       "    </tr>\n",
       "    <tr>\n",
       "      <th>2013</th>\n",
       "      <td>0.008927</td>\n",
       "      <td>0.385872</td>\n",
       "      <td>0.504413</td>\n",
       "      <td>0.972921</td>\n",
       "      <td>0.520057</td>\n",
       "      <td>0.057091</td>\n",
       "      <td>0.398949</td>\n",
       "      <td>0.191101</td>\n",
       "    </tr>\n",
       "    <tr>\n",
       "      <th>2014</th>\n",
       "      <td>0.000000</td>\n",
       "      <td>1.000000</td>\n",
       "      <td>2.000000</td>\n",
       "      <td>3.000000</td>\n",
       "      <td>4.000000</td>\n",
       "      <td>5.000000</td>\n",
       "      <td>6.000000</td>\n",
       "      <td>7.000000</td>\n",
       "    </tr>\n",
       "    <tr>\n",
       "      <th>2014</th>\n",
       "      <td>10.000000</td>\n",
       "      <td>11.000000</td>\n",
       "      <td>12.000000</td>\n",
       "      <td>13.000000</td>\n",
       "      <td>14.000000</td>\n",
       "      <td>15.000000</td>\n",
       "      <td>16.000000</td>\n",
       "      <td>17.000000</td>\n",
       "    </tr>\n",
       "  </tbody>\n",
       "</table>\n",
       "</div>"
      ],
      "text/plain": [
       "              A          B          C          D          E          F  \\\n",
       "2006   0.167714   0.386753   0.449753   0.779523   0.091232   0.666972   \n",
       "2007   0.647830   0.765897   0.967093   0.711965   0.671510   0.028473   \n",
       "2008   0.181796   0.371912   0.257435   0.981625   0.783019   0.542138   \n",
       "2009   0.945025   0.365606   0.305483   0.503662   0.631243   0.291029   \n",
       "2010   0.990488   0.064619   0.688456   0.250252   0.498782   0.905321   \n",
       "2011   0.358344   0.161190   0.625784   0.333700   0.295960   0.563498   \n",
       "2012   0.818770   0.923382   0.256222   0.774436   0.514566   0.028427   \n",
       "2013   0.008927   0.385872   0.504413   0.972921   0.520057   0.057091   \n",
       "2014   0.000000   1.000000   2.000000   3.000000   4.000000   5.000000   \n",
       "2014  10.000000  11.000000  12.000000  13.000000  14.000000  15.000000   \n",
       "\n",
       "              G          H  \n",
       "2006   0.472901   0.085163  \n",
       "2007   0.177457   0.612981  \n",
       "2008   0.401977   0.161876  \n",
       "2009   0.631801   0.180047  \n",
       "2010   0.052629   0.411949  \n",
       "2011   0.936386   0.358186  \n",
       "2012   0.100225   0.859823  \n",
       "2013   0.398949   0.191101  \n",
       "2014   6.000000   7.000000  \n",
       "2014  16.000000  17.000000  "
      ]
     },
     "execution_count": 56,
     "metadata": {},
     "output_type": "execute_result"
    }
   ],
   "source": [
    "data_dup.drop_duplicates(['A'])"
   ]
  },
  {
   "cell_type": "code",
   "execution_count": 54,
   "id": "74d56d4a-cb35-41e4-ad53-2bb00d9161c7",
   "metadata": {},
   "outputs": [
    {
     "data": {
      "text/html": [
       "<div>\n",
       "<style scoped>\n",
       "    .dataframe tbody tr th:only-of-type {\n",
       "        vertical-align: middle;\n",
       "    }\n",
       "\n",
       "    .dataframe tbody tr th {\n",
       "        vertical-align: top;\n",
       "    }\n",
       "\n",
       "    .dataframe thead th {\n",
       "        text-align: right;\n",
       "    }\n",
       "</style>\n",
       "<table border=\"1\" class=\"dataframe\">\n",
       "  <thead>\n",
       "    <tr style=\"text-align: right;\">\n",
       "      <th></th>\n",
       "      <th>A</th>\n",
       "      <th>B</th>\n",
       "      <th>C</th>\n",
       "      <th>D</th>\n",
       "      <th>E</th>\n",
       "      <th>F</th>\n",
       "      <th>G</th>\n",
       "      <th>H</th>\n",
       "    </tr>\n",
       "  </thead>\n",
       "  <tbody>\n",
       "    <tr>\n",
       "      <th>2006</th>\n",
       "      <td>0.167714</td>\n",
       "      <td>0.386753</td>\n",
       "      <td>0.449753</td>\n",
       "      <td>0.779523</td>\n",
       "      <td>0.091232</td>\n",
       "      <td>0.666972</td>\n",
       "      <td>0.472901</td>\n",
       "      <td>0.085163</td>\n",
       "    </tr>\n",
       "    <tr>\n",
       "      <th>2007</th>\n",
       "      <td>0.647830</td>\n",
       "      <td>0.765897</td>\n",
       "      <td>0.967093</td>\n",
       "      <td>0.711965</td>\n",
       "      <td>0.671510</td>\n",
       "      <td>0.028473</td>\n",
       "      <td>0.177457</td>\n",
       "      <td>0.612981</td>\n",
       "    </tr>\n",
       "    <tr>\n",
       "      <th>2008</th>\n",
       "      <td>0.181796</td>\n",
       "      <td>0.371912</td>\n",
       "      <td>0.257435</td>\n",
       "      <td>0.981625</td>\n",
       "      <td>0.783019</td>\n",
       "      <td>0.542138</td>\n",
       "      <td>0.401977</td>\n",
       "      <td>0.161876</td>\n",
       "    </tr>\n",
       "    <tr>\n",
       "      <th>2009</th>\n",
       "      <td>0.945025</td>\n",
       "      <td>0.365606</td>\n",
       "      <td>0.305483</td>\n",
       "      <td>0.503662</td>\n",
       "      <td>0.631243</td>\n",
       "      <td>0.291029</td>\n",
       "      <td>0.631801</td>\n",
       "      <td>0.180047</td>\n",
       "    </tr>\n",
       "    <tr>\n",
       "      <th>2010</th>\n",
       "      <td>0.990488</td>\n",
       "      <td>0.064619</td>\n",
       "      <td>0.688456</td>\n",
       "      <td>0.250252</td>\n",
       "      <td>0.498782</td>\n",
       "      <td>0.905321</td>\n",
       "      <td>0.052629</td>\n",
       "      <td>0.411949</td>\n",
       "    </tr>\n",
       "    <tr>\n",
       "      <th>2011</th>\n",
       "      <td>0.358344</td>\n",
       "      <td>0.161190</td>\n",
       "      <td>0.625784</td>\n",
       "      <td>0.333700</td>\n",
       "      <td>0.295960</td>\n",
       "      <td>0.563498</td>\n",
       "      <td>0.936386</td>\n",
       "      <td>0.358186</td>\n",
       "    </tr>\n",
       "    <tr>\n",
       "      <th>2012</th>\n",
       "      <td>0.818770</td>\n",
       "      <td>0.923382</td>\n",
       "      <td>0.256222</td>\n",
       "      <td>0.774436</td>\n",
       "      <td>0.514566</td>\n",
       "      <td>0.028427</td>\n",
       "      <td>0.100225</td>\n",
       "      <td>0.859823</td>\n",
       "    </tr>\n",
       "    <tr>\n",
       "      <th>2013</th>\n",
       "      <td>0.008927</td>\n",
       "      <td>0.385872</td>\n",
       "      <td>0.504413</td>\n",
       "      <td>0.972921</td>\n",
       "      <td>0.520057</td>\n",
       "      <td>0.057091</td>\n",
       "      <td>0.398949</td>\n",
       "      <td>0.191101</td>\n",
       "    </tr>\n",
       "    <tr>\n",
       "      <th>2014</th>\n",
       "      <td>10.000000</td>\n",
       "      <td>11.000000</td>\n",
       "      <td>12.000000</td>\n",
       "      <td>13.000000</td>\n",
       "      <td>14.000000</td>\n",
       "      <td>15.000000</td>\n",
       "      <td>16.000000</td>\n",
       "      <td>17.000000</td>\n",
       "    </tr>\n",
       "    <tr>\n",
       "      <th>2014</th>\n",
       "      <td>0.000000</td>\n",
       "      <td>3.000000</td>\n",
       "      <td>2.000000</td>\n",
       "      <td>3.000000</td>\n",
       "      <td>4.000000</td>\n",
       "      <td>5.000000</td>\n",
       "      <td>6.000000</td>\n",
       "      <td>4.000000</td>\n",
       "    </tr>\n",
       "  </tbody>\n",
       "</table>\n",
       "</div>"
      ],
      "text/plain": [
       "              A          B          C          D          E          F  \\\n",
       "2006   0.167714   0.386753   0.449753   0.779523   0.091232   0.666972   \n",
       "2007   0.647830   0.765897   0.967093   0.711965   0.671510   0.028473   \n",
       "2008   0.181796   0.371912   0.257435   0.981625   0.783019   0.542138   \n",
       "2009   0.945025   0.365606   0.305483   0.503662   0.631243   0.291029   \n",
       "2010   0.990488   0.064619   0.688456   0.250252   0.498782   0.905321   \n",
       "2011   0.358344   0.161190   0.625784   0.333700   0.295960   0.563498   \n",
       "2012   0.818770   0.923382   0.256222   0.774436   0.514566   0.028427   \n",
       "2013   0.008927   0.385872   0.504413   0.972921   0.520057   0.057091   \n",
       "2014  10.000000  11.000000  12.000000  13.000000  14.000000  15.000000   \n",
       "2014   0.000000   3.000000   2.000000   3.000000   4.000000   5.000000   \n",
       "\n",
       "              G          H  \n",
       "2006   0.472901   0.085163  \n",
       "2007   0.177457   0.612981  \n",
       "2008   0.401977   0.161876  \n",
       "2009   0.631801   0.180047  \n",
       "2010   0.052629   0.411949  \n",
       "2011   0.936386   0.358186  \n",
       "2012   0.100225   0.859823  \n",
       "2013   0.398949   0.191101  \n",
       "2014  16.000000  17.000000  \n",
       "2014   6.000000   4.000000  "
      ]
     },
     "execution_count": 54,
     "metadata": {},
     "output_type": "execute_result"
    }
   ],
   "source": [
    "data_dup.drop_duplicates(['A'],keep='last')"
   ]
  },
  {
   "cell_type": "markdown",
   "id": "69bcd937-7886-4572-881e-af782c26a842",
   "metadata": {
    "jp-MarkdownHeadingCollapsed": true
   },
   "source": [
    "### Reemplazando"
   ]
  },
  {
   "cell_type": "code",
   "execution_count": 43,
   "id": "d17ac0b8-4e47-4422-bcf4-ef0a8a805968",
   "metadata": {},
   "outputs": [
    {
     "data": {
      "text/html": [
       "<div>\n",
       "<style scoped>\n",
       "    .dataframe tbody tr th:only-of-type {\n",
       "        vertical-align: middle;\n",
       "    }\n",
       "\n",
       "    .dataframe tbody tr th {\n",
       "        vertical-align: top;\n",
       "    }\n",
       "\n",
       "    .dataframe thead th {\n",
       "        text-align: right;\n",
       "    }\n",
       "</style>\n",
       "<table border=\"1\" class=\"dataframe\">\n",
       "  <thead>\n",
       "    <tr style=\"text-align: right;\">\n",
       "      <th></th>\n",
       "      <th>ball</th>\n",
       "      <th>pen</th>\n",
       "      <th>pencil</th>\n",
       "      <th>paper</th>\n",
       "    </tr>\n",
       "  </thead>\n",
       "  <tbody>\n",
       "    <tr>\n",
       "      <th>red</th>\n",
       "      <td>0</td>\n",
       "      <td>1</td>\n",
       "      <td>2</td>\n",
       "      <td>3</td>\n",
       "    </tr>\n",
       "    <tr>\n",
       "      <th>blue</th>\n",
       "      <td>4</td>\n",
       "      <td>5</td>\n",
       "      <td>6</td>\n",
       "      <td>7</td>\n",
       "    </tr>\n",
       "    <tr>\n",
       "      <th>yellow</th>\n",
       "      <td>8</td>\n",
       "      <td>9</td>\n",
       "      <td>10</td>\n",
       "      <td>11</td>\n",
       "    </tr>\n",
       "    <tr>\n",
       "      <th>white</th>\n",
       "      <td>12</td>\n",
       "      <td>13</td>\n",
       "      <td>14</td>\n",
       "      <td>15</td>\n",
       "    </tr>\n",
       "  </tbody>\n",
       "</table>\n",
       "</div>"
      ],
      "text/plain": [
       "        ball  pen  pencil  paper\n",
       "red        0    1       2      3\n",
       "blue       4    5       6      7\n",
       "yellow     8    9      10     11\n",
       "white     12   13      14     15"
      ]
     },
     "execution_count": 43,
     "metadata": {},
     "output_type": "execute_result"
    }
   ],
   "source": [
    "frame"
   ]
  },
  {
   "cell_type": "code",
   "execution_count": 44,
   "id": "3716025e-5977-4215-9575-8052d7b06776",
   "metadata": {},
   "outputs": [
    {
     "data": {
      "text/html": [
       "<div>\n",
       "<style scoped>\n",
       "    .dataframe tbody tr th:only-of-type {\n",
       "        vertical-align: middle;\n",
       "    }\n",
       "\n",
       "    .dataframe tbody tr th {\n",
       "        vertical-align: top;\n",
       "    }\n",
       "\n",
       "    .dataframe thead th {\n",
       "        text-align: right;\n",
       "    }\n",
       "</style>\n",
       "<table border=\"1\" class=\"dataframe\">\n",
       "  <thead>\n",
       "    <tr style=\"text-align: right;\">\n",
       "      <th></th>\n",
       "      <th>ball</th>\n",
       "      <th>pen</th>\n",
       "      <th>pencil</th>\n",
       "      <th>paper</th>\n",
       "    </tr>\n",
       "  </thead>\n",
       "  <tbody>\n",
       "    <tr>\n",
       "      <th>red</th>\n",
       "      <td>1000</td>\n",
       "      <td>1</td>\n",
       "      <td>2</td>\n",
       "      <td>3</td>\n",
       "    </tr>\n",
       "    <tr>\n",
       "      <th>blue</th>\n",
       "      <td>4</td>\n",
       "      <td>1500</td>\n",
       "      <td>6</td>\n",
       "      <td>7</td>\n",
       "    </tr>\n",
       "    <tr>\n",
       "      <th>yellow</th>\n",
       "      <td>8</td>\n",
       "      <td>9</td>\n",
       "      <td>10</td>\n",
       "      <td>1100</td>\n",
       "    </tr>\n",
       "    <tr>\n",
       "      <th>white</th>\n",
       "      <td>12</td>\n",
       "      <td>13</td>\n",
       "      <td>14</td>\n",
       "      <td>15</td>\n",
       "    </tr>\n",
       "  </tbody>\n",
       "</table>\n",
       "</div>"
      ],
      "text/plain": [
       "        ball   pen  pencil  paper\n",
       "red     1000     1       2      3\n",
       "blue       4  1500       6      7\n",
       "yellow     8     9      10   1100\n",
       "white     12    13      14     15"
      ]
     },
     "execution_count": 44,
     "metadata": {},
     "output_type": "execute_result"
    }
   ],
   "source": [
    "frame.replace({0:1000,5:1500,11:1100})"
   ]
  },
  {
   "cell_type": "code",
   "execution_count": 45,
   "id": "25945778-f6b8-4a97-9fb5-f6f9792b3928",
   "metadata": {},
   "outputs": [
    {
     "data": {
      "text/html": [
       "<div>\n",
       "<style scoped>\n",
       "    .dataframe tbody tr th:only-of-type {\n",
       "        vertical-align: middle;\n",
       "    }\n",
       "\n",
       "    .dataframe tbody tr th {\n",
       "        vertical-align: top;\n",
       "    }\n",
       "\n",
       "    .dataframe thead th {\n",
       "        text-align: right;\n",
       "    }\n",
       "</style>\n",
       "<table border=\"1\" class=\"dataframe\">\n",
       "  <thead>\n",
       "    <tr style=\"text-align: right;\">\n",
       "      <th></th>\n",
       "      <th>ball</th>\n",
       "      <th>pen</th>\n",
       "      <th>pencil</th>\n",
       "      <th>paper</th>\n",
       "    </tr>\n",
       "  </thead>\n",
       "  <tbody>\n",
       "    <tr>\n",
       "      <th>red</th>\n",
       "      <td>False</td>\n",
       "      <td>False</td>\n",
       "      <td>False</td>\n",
       "      <td>False</td>\n",
       "    </tr>\n",
       "    <tr>\n",
       "      <th>blue</th>\n",
       "      <td>False</td>\n",
       "      <td>False</td>\n",
       "      <td>False</td>\n",
       "      <td>False</td>\n",
       "    </tr>\n",
       "    <tr>\n",
       "      <th>yellow</th>\n",
       "      <td>False</td>\n",
       "      <td>False</td>\n",
       "      <td>False</td>\n",
       "      <td>True</td>\n",
       "    </tr>\n",
       "    <tr>\n",
       "      <th>white</th>\n",
       "      <td>True</td>\n",
       "      <td>True</td>\n",
       "      <td>True</td>\n",
       "      <td>True</td>\n",
       "    </tr>\n",
       "  </tbody>\n",
       "</table>\n",
       "</div>"
      ],
      "text/plain": [
       "         ball    pen  pencil  paper\n",
       "red     False  False   False  False\n",
       "blue    False  False   False  False\n",
       "yellow  False  False   False   True\n",
       "white    True   True    True   True"
      ]
     },
     "execution_count": 45,
     "metadata": {},
     "output_type": "execute_result"
    }
   ],
   "source": [
    "frame >10"
   ]
  },
  {
   "cell_type": "code",
   "execution_count": 46,
   "id": "268e31bb-4803-461a-bba2-bcea540f0b96",
   "metadata": {},
   "outputs": [
    {
     "data": {
      "text/html": [
       "<div>\n",
       "<style scoped>\n",
       "    .dataframe tbody tr th:only-of-type {\n",
       "        vertical-align: middle;\n",
       "    }\n",
       "\n",
       "    .dataframe tbody tr th {\n",
       "        vertical-align: top;\n",
       "    }\n",
       "\n",
       "    .dataframe thead th {\n",
       "        text-align: right;\n",
       "    }\n",
       "</style>\n",
       "<table border=\"1\" class=\"dataframe\">\n",
       "  <thead>\n",
       "    <tr style=\"text-align: right;\">\n",
       "      <th></th>\n",
       "      <th>ball</th>\n",
       "      <th>pen</th>\n",
       "      <th>pencil</th>\n",
       "      <th>paper</th>\n",
       "    </tr>\n",
       "  </thead>\n",
       "  <tbody>\n",
       "    <tr>\n",
       "      <th>red</th>\n",
       "      <td>0.0</td>\n",
       "      <td>1.0</td>\n",
       "      <td>2.0</td>\n",
       "      <td>3.0</td>\n",
       "    </tr>\n",
       "    <tr>\n",
       "      <th>blue</th>\n",
       "      <td>4.0</td>\n",
       "      <td>5.0</td>\n",
       "      <td>NaN</td>\n",
       "      <td>NaN</td>\n",
       "    </tr>\n",
       "    <tr>\n",
       "      <th>yellow</th>\n",
       "      <td>NaN</td>\n",
       "      <td>NaN</td>\n",
       "      <td>NaN</td>\n",
       "      <td>NaN</td>\n",
       "    </tr>\n",
       "    <tr>\n",
       "      <th>white</th>\n",
       "      <td>NaN</td>\n",
       "      <td>13.0</td>\n",
       "      <td>14.0</td>\n",
       "      <td>15.0</td>\n",
       "    </tr>\n",
       "  </tbody>\n",
       "</table>\n",
       "</div>"
      ],
      "text/plain": [
       "        ball   pen  pencil  paper\n",
       "red      0.0   1.0     2.0    3.0\n",
       "blue     4.0   5.0     NaN    NaN\n",
       "yellow   NaN   NaN     NaN    NaN\n",
       "white    NaN  13.0    14.0   15.0"
      ]
     },
     "execution_count": 46,
     "metadata": {},
     "output_type": "execute_result"
    }
   ],
   "source": [
    "frame.mask((frame <13) & (frame > 5),np.nan)"
   ]
  },
  {
   "cell_type": "markdown",
   "id": "e23c2049-c623-46ec-9f9f-7ac4c4d90ff7",
   "metadata": {
    "jp-MarkdownHeadingCollapsed": true
   },
   "source": [
    "### Indexación Jerárquica (Opcional)"
   ]
  },
  {
   "cell_type": "code",
   "execution_count": 47,
   "id": "93f07c57-c0dc-4514-bc07-56b3716ba8b5",
   "metadata": {},
   "outputs": [
    {
     "data": {
      "text/plain": [
       "white  up       0.481924\n",
       "       down     0.768334\n",
       "       right    0.039184\n",
       "blue   up       0.064424\n",
       "       down     0.111730\n",
       "red    up       0.495450\n",
       "       down     0.403979\n",
       "       left     0.054038\n",
       "dtype: float64"
      ]
     },
     "execution_count": 47,
     "metadata": {},
     "output_type": "execute_result"
    }
   ],
   "source": [
    "mser = pd.Series(np.random.rand(8), index=[['white','white','white','blue','blue','red','red',\n",
    "'red'], ['up','down','right','up','down','up','down','left']])\n",
    "mser"
   ]
  },
  {
   "cell_type": "code",
   "execution_count": 48,
   "id": "5b143a8f-4bb0-428d-93d1-73d5d2678957",
   "metadata": {},
   "outputs": [
    {
     "data": {
      "text/plain": [
       "up       0.481924\n",
       "down     0.768334\n",
       "right    0.039184\n",
       "dtype: float64"
      ]
     },
     "execution_count": 48,
     "metadata": {},
     "output_type": "execute_result"
    }
   ],
   "source": [
    "mser['white']"
   ]
  },
  {
   "cell_type": "code",
   "execution_count": 49,
   "id": "823abcf9-ec57-4ac9-8a89-1fb9e5c6f770",
   "metadata": {},
   "outputs": [
    {
     "data": {
      "text/plain": [
       "0.481924013299038"
      ]
     },
     "execution_count": 49,
     "metadata": {},
     "output_type": "execute_result"
    }
   ],
   "source": [
    "mser['white','up']"
   ]
  },
  {
   "cell_type": "code",
   "execution_count": 50,
   "id": "b6ad213d-bf7a-49e6-8458-c54fcfbe377f",
   "metadata": {},
   "outputs": [
    {
     "data": {
      "text/plain": [
       "white    0.481924\n",
       "blue     0.064424\n",
       "red      0.495450\n",
       "dtype: float64"
      ]
     },
     "execution_count": 50,
     "metadata": {},
     "output_type": "execute_result"
    }
   ],
   "source": [
    "mser[:,'up']"
   ]
  },
  {
   "cell_type": "code",
   "execution_count": 51,
   "id": "cf5fbee3-2934-4866-81f0-4404568b7b8f",
   "metadata": {},
   "outputs": [
    {
     "data": {
      "text/html": [
       "<div>\n",
       "<style scoped>\n",
       "    .dataframe tbody tr th:only-of-type {\n",
       "        vertical-align: middle;\n",
       "    }\n",
       "\n",
       "    .dataframe tbody tr th {\n",
       "        vertical-align: top;\n",
       "    }\n",
       "\n",
       "    .dataframe thead th {\n",
       "        text-align: right;\n",
       "    }\n",
       "</style>\n",
       "<table border=\"1\" class=\"dataframe\">\n",
       "  <thead>\n",
       "    <tr style=\"text-align: right;\">\n",
       "      <th></th>\n",
       "      <th>down</th>\n",
       "      <th>left</th>\n",
       "      <th>right</th>\n",
       "      <th>up</th>\n",
       "    </tr>\n",
       "  </thead>\n",
       "  <tbody>\n",
       "    <tr>\n",
       "      <th>blue</th>\n",
       "      <td>0.111730</td>\n",
       "      <td>NaN</td>\n",
       "      <td>NaN</td>\n",
       "      <td>0.064424</td>\n",
       "    </tr>\n",
       "    <tr>\n",
       "      <th>red</th>\n",
       "      <td>0.403979</td>\n",
       "      <td>0.054038</td>\n",
       "      <td>NaN</td>\n",
       "      <td>0.495450</td>\n",
       "    </tr>\n",
       "    <tr>\n",
       "      <th>white</th>\n",
       "      <td>0.768334</td>\n",
       "      <td>NaN</td>\n",
       "      <td>0.039184</td>\n",
       "      <td>0.481924</td>\n",
       "    </tr>\n",
       "  </tbody>\n",
       "</table>\n",
       "</div>"
      ],
      "text/plain": [
       "           down      left     right        up\n",
       "blue   0.111730       NaN       NaN  0.064424\n",
       "red    0.403979  0.054038       NaN  0.495450\n",
       "white  0.768334       NaN  0.039184  0.481924"
      ]
     },
     "execution_count": 51,
     "metadata": {},
     "output_type": "execute_result"
    }
   ],
   "source": [
    "mser.unstack()"
   ]
  },
  {
   "cell_type": "code",
   "execution_count": 52,
   "id": "bd2d72c6-6dc0-4ce9-8546-7eec00dc3695",
   "metadata": {},
   "outputs": [
    {
     "data": {
      "text/html": [
       "<div>\n",
       "<style scoped>\n",
       "    .dataframe tbody tr th:only-of-type {\n",
       "        vertical-align: middle;\n",
       "    }\n",
       "\n",
       "    .dataframe tbody tr th {\n",
       "        vertical-align: top;\n",
       "    }\n",
       "\n",
       "    .dataframe thead tr th {\n",
       "        text-align: left;\n",
       "    }\n",
       "</style>\n",
       "<table border=\"1\" class=\"dataframe\">\n",
       "  <thead>\n",
       "    <tr>\n",
       "      <th></th>\n",
       "      <th></th>\n",
       "      <th colspan=\"2\" halign=\"left\">pen</th>\n",
       "      <th colspan=\"2\" halign=\"left\">paper</th>\n",
       "    </tr>\n",
       "    <tr>\n",
       "      <th></th>\n",
       "      <th></th>\n",
       "      <th>1</th>\n",
       "      <th>2</th>\n",
       "      <th>1</th>\n",
       "      <th>2</th>\n",
       "    </tr>\n",
       "  </thead>\n",
       "  <tbody>\n",
       "    <tr>\n",
       "      <th rowspan=\"2\" valign=\"top\">white</th>\n",
       "      <th>up</th>\n",
       "      <td>-0.661014</td>\n",
       "      <td>1.687551</td>\n",
       "      <td>1.103645</td>\n",
       "      <td>-0.723735</td>\n",
       "    </tr>\n",
       "    <tr>\n",
       "      <th>down</th>\n",
       "      <td>1.894904</td>\n",
       "      <td>-0.225675</td>\n",
       "      <td>-0.379171</td>\n",
       "      <td>-0.043759</td>\n",
       "    </tr>\n",
       "    <tr>\n",
       "      <th rowspan=\"2\" valign=\"top\">red</th>\n",
       "      <th>up</th>\n",
       "      <td>1.585506</td>\n",
       "      <td>-0.046309</td>\n",
       "      <td>1.040026</td>\n",
       "      <td>1.022407</td>\n",
       "    </tr>\n",
       "    <tr>\n",
       "      <th>down</th>\n",
       "      <td>-1.634805</td>\n",
       "      <td>-1.229201</td>\n",
       "      <td>-0.729493</td>\n",
       "      <td>-0.915426</td>\n",
       "    </tr>\n",
       "  </tbody>\n",
       "</table>\n",
       "</div>"
      ],
      "text/plain": [
       "                 pen               paper          \n",
       "                   1         2         1         2\n",
       "white up   -0.661014  1.687551  1.103645 -0.723735\n",
       "      down  1.894904 -0.225675 -0.379171 -0.043759\n",
       "red   up    1.585506 -0.046309  1.040026  1.022407\n",
       "      down -1.634805 -1.229201 -0.729493 -0.915426"
      ]
     },
     "execution_count": 52,
     "metadata": {},
     "output_type": "execute_result"
    }
   ],
   "source": [
    "mframe = pd.DataFrame(np.random.randn(16).reshape(4,4),index=[['white','white','red','red'], ['up','down','up','down']], columns=[['pen','pen','paper','paper'],[1,2,1,2]])\n",
    "mframe"
   ]
  },
  {
   "cell_type": "code",
   "execution_count": 53,
   "id": "79101bc2-bebb-443c-9375-e852fa159e1a",
   "metadata": {},
   "outputs": [
    {
     "data": {
      "text/html": [
       "<div>\n",
       "<style scoped>\n",
       "    .dataframe tbody tr th:only-of-type {\n",
       "        vertical-align: middle;\n",
       "    }\n",
       "\n",
       "    .dataframe tbody tr th {\n",
       "        vertical-align: top;\n",
       "    }\n",
       "\n",
       "    .dataframe thead tr th {\n",
       "        text-align: left;\n",
       "    }\n",
       "\n",
       "    .dataframe thead tr:last-of-type th {\n",
       "        text-align: right;\n",
       "    }\n",
       "</style>\n",
       "<table border=\"1\" class=\"dataframe\">\n",
       "  <thead>\n",
       "    <tr>\n",
       "      <th></th>\n",
       "      <th>objects</th>\n",
       "      <th colspan=\"2\" halign=\"left\">pen</th>\n",
       "      <th colspan=\"2\" halign=\"left\">paper</th>\n",
       "    </tr>\n",
       "    <tr>\n",
       "      <th></th>\n",
       "      <th>id</th>\n",
       "      <th>1</th>\n",
       "      <th>2</th>\n",
       "      <th>1</th>\n",
       "      <th>2</th>\n",
       "    </tr>\n",
       "    <tr>\n",
       "      <th>colors</th>\n",
       "      <th>status</th>\n",
       "      <th></th>\n",
       "      <th></th>\n",
       "      <th></th>\n",
       "      <th></th>\n",
       "    </tr>\n",
       "  </thead>\n",
       "  <tbody>\n",
       "    <tr>\n",
       "      <th rowspan=\"2\" valign=\"top\">white</th>\n",
       "      <th>up</th>\n",
       "      <td>-0.661014</td>\n",
       "      <td>1.687551</td>\n",
       "      <td>1.103645</td>\n",
       "      <td>-0.723735</td>\n",
       "    </tr>\n",
       "    <tr>\n",
       "      <th>down</th>\n",
       "      <td>1.894904</td>\n",
       "      <td>-0.225675</td>\n",
       "      <td>-0.379171</td>\n",
       "      <td>-0.043759</td>\n",
       "    </tr>\n",
       "    <tr>\n",
       "      <th rowspan=\"2\" valign=\"top\">red</th>\n",
       "      <th>up</th>\n",
       "      <td>1.585506</td>\n",
       "      <td>-0.046309</td>\n",
       "      <td>1.040026</td>\n",
       "      <td>1.022407</td>\n",
       "    </tr>\n",
       "    <tr>\n",
       "      <th>down</th>\n",
       "      <td>-1.634805</td>\n",
       "      <td>-1.229201</td>\n",
       "      <td>-0.729493</td>\n",
       "      <td>-0.915426</td>\n",
       "    </tr>\n",
       "  </tbody>\n",
       "</table>\n",
       "</div>"
      ],
      "text/plain": [
       "objects             pen               paper          \n",
       "id                    1         2         1         2\n",
       "colors status                                        \n",
       "white  up     -0.661014  1.687551  1.103645 -0.723735\n",
       "       down    1.894904 -0.225675 -0.379171 -0.043759\n",
       "red    up      1.585506 -0.046309  1.040026  1.022407\n",
       "       down   -1.634805 -1.229201 -0.729493 -0.915426"
      ]
     },
     "execution_count": 53,
     "metadata": {},
     "output_type": "execute_result"
    }
   ],
   "source": [
    "mframe.columns.names = ['objects','id']\n",
    "mframe.index.names = ['colors','status']\n",
    "mframe"
   ]
  },
  {
   "cell_type": "code",
   "execution_count": 54,
   "id": "e2fe49e4-acbb-4ce7-94fa-e7b2d8b8cfc4",
   "metadata": {},
   "outputs": [
    {
     "data": {
      "text/html": [
       "<div>\n",
       "<style scoped>\n",
       "    .dataframe tbody tr th:only-of-type {\n",
       "        vertical-align: middle;\n",
       "    }\n",
       "\n",
       "    .dataframe tbody tr th {\n",
       "        vertical-align: top;\n",
       "    }\n",
       "\n",
       "    .dataframe thead tr th {\n",
       "        text-align: left;\n",
       "    }\n",
       "\n",
       "    .dataframe thead tr:last-of-type th {\n",
       "        text-align: right;\n",
       "    }\n",
       "</style>\n",
       "<table border=\"1\" class=\"dataframe\">\n",
       "  <thead>\n",
       "    <tr>\n",
       "      <th></th>\n",
       "      <th>objects</th>\n",
       "      <th colspan=\"2\" halign=\"left\">pen</th>\n",
       "      <th colspan=\"2\" halign=\"left\">paper</th>\n",
       "    </tr>\n",
       "    <tr>\n",
       "      <th></th>\n",
       "      <th>id</th>\n",
       "      <th>1</th>\n",
       "      <th>2</th>\n",
       "      <th>1</th>\n",
       "      <th>2</th>\n",
       "    </tr>\n",
       "    <tr>\n",
       "      <th>status</th>\n",
       "      <th>colors</th>\n",
       "      <th></th>\n",
       "      <th></th>\n",
       "      <th></th>\n",
       "      <th></th>\n",
       "    </tr>\n",
       "  </thead>\n",
       "  <tbody>\n",
       "    <tr>\n",
       "      <th>up</th>\n",
       "      <th>white</th>\n",
       "      <td>-0.661014</td>\n",
       "      <td>1.687551</td>\n",
       "      <td>1.103645</td>\n",
       "      <td>-0.723735</td>\n",
       "    </tr>\n",
       "    <tr>\n",
       "      <th>down</th>\n",
       "      <th>white</th>\n",
       "      <td>1.894904</td>\n",
       "      <td>-0.225675</td>\n",
       "      <td>-0.379171</td>\n",
       "      <td>-0.043759</td>\n",
       "    </tr>\n",
       "    <tr>\n",
       "      <th>up</th>\n",
       "      <th>red</th>\n",
       "      <td>1.585506</td>\n",
       "      <td>-0.046309</td>\n",
       "      <td>1.040026</td>\n",
       "      <td>1.022407</td>\n",
       "    </tr>\n",
       "    <tr>\n",
       "      <th>down</th>\n",
       "      <th>red</th>\n",
       "      <td>-1.634805</td>\n",
       "      <td>-1.229201</td>\n",
       "      <td>-0.729493</td>\n",
       "      <td>-0.915426</td>\n",
       "    </tr>\n",
       "  </tbody>\n",
       "</table>\n",
       "</div>"
      ],
      "text/plain": [
       "objects             pen               paper          \n",
       "id                    1         2         1         2\n",
       "status colors                                        \n",
       "up     white  -0.661014  1.687551  1.103645 -0.723735\n",
       "down   white   1.894904 -0.225675 -0.379171 -0.043759\n",
       "up     red     1.585506 -0.046309  1.040026  1.022407\n",
       "down   red    -1.634805 -1.229201 -0.729493 -0.915426"
      ]
     },
     "execution_count": 54,
     "metadata": {},
     "output_type": "execute_result"
    }
   ],
   "source": [
    "mframe.swaplevel('colors','status')"
   ]
  },
  {
   "cell_type": "code",
   "execution_count": 55,
   "id": "b52163a5-7e50-49e4-847c-1c8d15b2c6db",
   "metadata": {},
   "outputs": [
    {
     "data": {
      "text/html": [
       "<div>\n",
       "<style scoped>\n",
       "    .dataframe tbody tr th:only-of-type {\n",
       "        vertical-align: middle;\n",
       "    }\n",
       "\n",
       "    .dataframe tbody tr th {\n",
       "        vertical-align: top;\n",
       "    }\n",
       "\n",
       "    .dataframe thead tr th {\n",
       "        text-align: left;\n",
       "    }\n",
       "\n",
       "    .dataframe thead tr:last-of-type th {\n",
       "        text-align: right;\n",
       "    }\n",
       "</style>\n",
       "<table border=\"1\" class=\"dataframe\">\n",
       "  <thead>\n",
       "    <tr>\n",
       "      <th></th>\n",
       "      <th>objects</th>\n",
       "      <th colspan=\"2\" halign=\"left\">pen</th>\n",
       "      <th colspan=\"2\" halign=\"left\">paper</th>\n",
       "    </tr>\n",
       "    <tr>\n",
       "      <th></th>\n",
       "      <th>id</th>\n",
       "      <th>1</th>\n",
       "      <th>2</th>\n",
       "      <th>1</th>\n",
       "      <th>2</th>\n",
       "    </tr>\n",
       "    <tr>\n",
       "      <th>colors</th>\n",
       "      <th>status</th>\n",
       "      <th></th>\n",
       "      <th></th>\n",
       "      <th></th>\n",
       "      <th></th>\n",
       "    </tr>\n",
       "  </thead>\n",
       "  <tbody>\n",
       "    <tr>\n",
       "      <th rowspan=\"2\" valign=\"top\">red</th>\n",
       "      <th>down</th>\n",
       "      <td>-1.634805</td>\n",
       "      <td>-1.229201</td>\n",
       "      <td>-0.729493</td>\n",
       "      <td>-0.915426</td>\n",
       "    </tr>\n",
       "    <tr>\n",
       "      <th>up</th>\n",
       "      <td>1.585506</td>\n",
       "      <td>-0.046309</td>\n",
       "      <td>1.040026</td>\n",
       "      <td>1.022407</td>\n",
       "    </tr>\n",
       "    <tr>\n",
       "      <th rowspan=\"2\" valign=\"top\">white</th>\n",
       "      <th>down</th>\n",
       "      <td>1.894904</td>\n",
       "      <td>-0.225675</td>\n",
       "      <td>-0.379171</td>\n",
       "      <td>-0.043759</td>\n",
       "    </tr>\n",
       "    <tr>\n",
       "      <th>up</th>\n",
       "      <td>-0.661014</td>\n",
       "      <td>1.687551</td>\n",
       "      <td>1.103645</td>\n",
       "      <td>-0.723735</td>\n",
       "    </tr>\n",
       "  </tbody>\n",
       "</table>\n",
       "</div>"
      ],
      "text/plain": [
       "objects             pen               paper          \n",
       "id                    1         2         1         2\n",
       "colors status                                        \n",
       "red    down   -1.634805 -1.229201 -0.729493 -0.915426\n",
       "       up      1.585506 -0.046309  1.040026  1.022407\n",
       "white  down    1.894904 -0.225675 -0.379171 -0.043759\n",
       "       up     -0.661014  1.687551  1.103645 -0.723735"
      ]
     },
     "execution_count": 55,
     "metadata": {},
     "output_type": "execute_result"
    }
   ],
   "source": [
    "mframe.sort_index(level='colors',inplace=True)\n",
    "mframe"
   ]
  },
  {
   "cell_type": "code",
   "execution_count": 56,
   "id": "fcc352b8-46bb-4d8f-8263-265305b2e8bf",
   "metadata": {},
   "outputs": [
    {
     "name": "stderr",
     "output_type": "stream",
     "text": [
      "/var/folders/pb/ldktvl7n1cjb78yx2vbmbmdr0000gn/T/ipykernel_24607/1493203325.py:1: FutureWarning: Using the level keyword in DataFrame and Series aggregations is deprecated and will be removed in a future version. Use groupby instead. df.sum(level=1) should use df.groupby(level=1).sum().\n",
      "  mframe.sum(level='colors')\n"
     ]
    },
    {
     "data": {
      "text/html": [
       "<div>\n",
       "<style scoped>\n",
       "    .dataframe tbody tr th:only-of-type {\n",
       "        vertical-align: middle;\n",
       "    }\n",
       "\n",
       "    .dataframe tbody tr th {\n",
       "        vertical-align: top;\n",
       "    }\n",
       "\n",
       "    .dataframe thead tr th {\n",
       "        text-align: left;\n",
       "    }\n",
       "\n",
       "    .dataframe thead tr:last-of-type th {\n",
       "        text-align: right;\n",
       "    }\n",
       "</style>\n",
       "<table border=\"1\" class=\"dataframe\">\n",
       "  <thead>\n",
       "    <tr>\n",
       "      <th>objects</th>\n",
       "      <th colspan=\"2\" halign=\"left\">pen</th>\n",
       "      <th colspan=\"2\" halign=\"left\">paper</th>\n",
       "    </tr>\n",
       "    <tr>\n",
       "      <th>id</th>\n",
       "      <th>1</th>\n",
       "      <th>2</th>\n",
       "      <th>1</th>\n",
       "      <th>2</th>\n",
       "    </tr>\n",
       "    <tr>\n",
       "      <th>colors</th>\n",
       "      <th></th>\n",
       "      <th></th>\n",
       "      <th></th>\n",
       "      <th></th>\n",
       "    </tr>\n",
       "  </thead>\n",
       "  <tbody>\n",
       "    <tr>\n",
       "      <th>red</th>\n",
       "      <td>-0.049299</td>\n",
       "      <td>-1.275510</td>\n",
       "      <td>0.310533</td>\n",
       "      <td>0.106981</td>\n",
       "    </tr>\n",
       "    <tr>\n",
       "      <th>white</th>\n",
       "      <td>1.233889</td>\n",
       "      <td>1.461876</td>\n",
       "      <td>0.724474</td>\n",
       "      <td>-0.767495</td>\n",
       "    </tr>\n",
       "  </tbody>\n",
       "</table>\n",
       "</div>"
      ],
      "text/plain": [
       "objects       pen               paper          \n",
       "id              1         2         1         2\n",
       "colors                                         \n",
       "red     -0.049299 -1.275510  0.310533  0.106981\n",
       "white    1.233889  1.461876  0.724474 -0.767495"
      ]
     },
     "execution_count": 56,
     "metadata": {},
     "output_type": "execute_result"
    }
   ],
   "source": [
    "mframe.sum(level='colors')  "
   ]
  },
  {
   "cell_type": "code",
   "execution_count": 57,
   "id": "e2336e3a-dfec-4c14-93ba-b15e683bc829",
   "metadata": {},
   "outputs": [
    {
     "name": "stderr",
     "output_type": "stream",
     "text": [
      "/var/folders/pb/ldktvl7n1cjb78yx2vbmbmdr0000gn/T/ipykernel_24607/1148412209.py:1: FutureWarning: Using the level keyword in DataFrame and Series aggregations is deprecated and will be removed in a future version. Use groupby instead. df.sum(level=1) should use df.groupby(level=1).sum().\n",
      "  mframe.sum(level='id', axis=1)\n"
     ]
    },
    {
     "data": {
      "text/html": [
       "<div>\n",
       "<style scoped>\n",
       "    .dataframe tbody tr th:only-of-type {\n",
       "        vertical-align: middle;\n",
       "    }\n",
       "\n",
       "    .dataframe tbody tr th {\n",
       "        vertical-align: top;\n",
       "    }\n",
       "\n",
       "    .dataframe thead th {\n",
       "        text-align: right;\n",
       "    }\n",
       "</style>\n",
       "<table border=\"1\" class=\"dataframe\">\n",
       "  <thead>\n",
       "    <tr style=\"text-align: right;\">\n",
       "      <th></th>\n",
       "      <th>id</th>\n",
       "      <th>1</th>\n",
       "      <th>2</th>\n",
       "    </tr>\n",
       "    <tr>\n",
       "      <th>colors</th>\n",
       "      <th>status</th>\n",
       "      <th></th>\n",
       "      <th></th>\n",
       "    </tr>\n",
       "  </thead>\n",
       "  <tbody>\n",
       "    <tr>\n",
       "      <th rowspan=\"2\" valign=\"top\">red</th>\n",
       "      <th>down</th>\n",
       "      <td>-2.364298</td>\n",
       "      <td>-2.144627</td>\n",
       "    </tr>\n",
       "    <tr>\n",
       "      <th>up</th>\n",
       "      <td>2.625531</td>\n",
       "      <td>0.976098</td>\n",
       "    </tr>\n",
       "    <tr>\n",
       "      <th rowspan=\"2\" valign=\"top\">white</th>\n",
       "      <th>down</th>\n",
       "      <td>1.515733</td>\n",
       "      <td>-0.269435</td>\n",
       "    </tr>\n",
       "    <tr>\n",
       "      <th>up</th>\n",
       "      <td>0.442630</td>\n",
       "      <td>0.963816</td>\n",
       "    </tr>\n",
       "  </tbody>\n",
       "</table>\n",
       "</div>"
      ],
      "text/plain": [
       "id                    1         2\n",
       "colors status                    \n",
       "red    down   -2.364298 -2.144627\n",
       "       up      2.625531  0.976098\n",
       "white  down    1.515733 -0.269435\n",
       "       up      0.442630  0.963816"
      ]
     },
     "execution_count": 57,
     "metadata": {},
     "output_type": "execute_result"
    }
   ],
   "source": [
    "mframe.sum(level='id', axis=1)"
   ]
  },
  {
   "cell_type": "code",
   "execution_count": 49,
   "id": "26724835-5f65-4d9d-a952-0405e9c19986",
   "metadata": {},
   "outputs": [
    {
     "name": "stdout",
     "output_type": "stream",
     "text": [
      "FRAME 1\n"
     ]
    },
    {
     "data": {
      "text/html": [
       "<div>\n",
       "<style scoped>\n",
       "    .dataframe tbody tr th:only-of-type {\n",
       "        vertical-align: middle;\n",
       "    }\n",
       "\n",
       "    .dataframe tbody tr th {\n",
       "        vertical-align: top;\n",
       "    }\n",
       "\n",
       "    .dataframe thead th {\n",
       "        text-align: right;\n",
       "    }\n",
       "</style>\n",
       "<table border=\"1\" class=\"dataframe\">\n",
       "  <thead>\n",
       "    <tr style=\"text-align: right;\">\n",
       "      <th></th>\n",
       "      <th>id</th>\n",
       "      <th>color</th>\n",
       "      <th>brand</th>\n",
       "    </tr>\n",
       "  </thead>\n",
       "  <tbody>\n",
       "    <tr>\n",
       "      <th>0</th>\n",
       "      <td>ball</td>\n",
       "      <td>white</td>\n",
       "      <td>OMG</td>\n",
       "    </tr>\n",
       "    <tr>\n",
       "      <th>1</th>\n",
       "      <td>pencil</td>\n",
       "      <td>red</td>\n",
       "      <td>ABC</td>\n",
       "    </tr>\n",
       "    <tr>\n",
       "      <th>2</th>\n",
       "      <td>pen</td>\n",
       "      <td>red</td>\n",
       "      <td>ABC</td>\n",
       "    </tr>\n",
       "    <tr>\n",
       "      <th>3</th>\n",
       "      <td>mug</td>\n",
       "      <td>black</td>\n",
       "      <td>POD</td>\n",
       "    </tr>\n",
       "    <tr>\n",
       "      <th>4</th>\n",
       "      <td>ashtray</td>\n",
       "      <td>green</td>\n",
       "      <td>POD</td>\n",
       "    </tr>\n",
       "  </tbody>\n",
       "</table>\n",
       "</div>"
      ],
      "text/plain": [
       "        id  color brand\n",
       "0     ball  white   OMG\n",
       "1   pencil    red   ABC\n",
       "2      pen    red   ABC\n",
       "3      mug  black   POD\n",
       "4  ashtray  green   POD"
      ]
     },
     "metadata": {},
     "output_type": "display_data"
    },
    {
     "name": "stdout",
     "output_type": "stream",
     "text": [
      "FRAME 2\n"
     ]
    },
    {
     "data": {
      "text/html": [
       "<div>\n",
       "<style scoped>\n",
       "    .dataframe tbody tr th:only-of-type {\n",
       "        vertical-align: middle;\n",
       "    }\n",
       "\n",
       "    .dataframe tbody tr th {\n",
       "        vertical-align: top;\n",
       "    }\n",
       "\n",
       "    .dataframe thead th {\n",
       "        text-align: right;\n",
       "    }\n",
       "</style>\n",
       "<table border=\"1\" class=\"dataframe\">\n",
       "  <thead>\n",
       "    <tr style=\"text-align: right;\">\n",
       "      <th></th>\n",
       "      <th>id</th>\n",
       "      <th>brand</th>\n",
       "    </tr>\n",
       "  </thead>\n",
       "  <tbody>\n",
       "    <tr>\n",
       "      <th>0</th>\n",
       "      <td>pencil</td>\n",
       "      <td>OMG</td>\n",
       "    </tr>\n",
       "    <tr>\n",
       "      <th>1</th>\n",
       "      <td>pencil</td>\n",
       "      <td>ABC</td>\n",
       "    </tr>\n",
       "    <tr>\n",
       "      <th>2</th>\n",
       "      <td>ball</td>\n",
       "      <td>NaN</td>\n",
       "    </tr>\n",
       "    <tr>\n",
       "      <th>3</th>\n",
       "      <td>pen</td>\n",
       "      <td>POD</td>\n",
       "    </tr>\n",
       "  </tbody>\n",
       "</table>\n",
       "</div>"
      ],
      "text/plain": [
       "       id brand\n",
       "0  pencil   OMG\n",
       "1  pencil   ABC\n",
       "2    ball   NaN\n",
       "3     pen   POD"
      ]
     },
     "metadata": {},
     "output_type": "display_data"
    },
    {
     "name": "stdout",
     "output_type": "stream",
     "text": [
      "OUT (Todas)\n"
     ]
    },
    {
     "data": {
      "text/html": [
       "<div>\n",
       "<style scoped>\n",
       "    .dataframe tbody tr th:only-of-type {\n",
       "        vertical-align: middle;\n",
       "    }\n",
       "\n",
       "    .dataframe tbody tr th {\n",
       "        vertical-align: top;\n",
       "    }\n",
       "\n",
       "    .dataframe thead th {\n",
       "        text-align: right;\n",
       "    }\n",
       "</style>\n",
       "<table border=\"1\" class=\"dataframe\">\n",
       "  <thead>\n",
       "    <tr style=\"text-align: right;\">\n",
       "      <th></th>\n",
       "      <th>id</th>\n",
       "      <th>color</th>\n",
       "      <th>brand</th>\n",
       "    </tr>\n",
       "  </thead>\n",
       "  <tbody>\n",
       "    <tr>\n",
       "      <th>0</th>\n",
       "      <td>ball</td>\n",
       "      <td>white</td>\n",
       "      <td>OMG</td>\n",
       "    </tr>\n",
       "    <tr>\n",
       "      <th>1</th>\n",
       "      <td>pencil</td>\n",
       "      <td>red</td>\n",
       "      <td>ABC</td>\n",
       "    </tr>\n",
       "    <tr>\n",
       "      <th>2</th>\n",
       "      <td>pen</td>\n",
       "      <td>red</td>\n",
       "      <td>ABC</td>\n",
       "    </tr>\n",
       "    <tr>\n",
       "      <th>3</th>\n",
       "      <td>mug</td>\n",
       "      <td>black</td>\n",
       "      <td>POD</td>\n",
       "    </tr>\n",
       "    <tr>\n",
       "      <th>4</th>\n",
       "      <td>ashtray</td>\n",
       "      <td>green</td>\n",
       "      <td>POD</td>\n",
       "    </tr>\n",
       "    <tr>\n",
       "      <th>5</th>\n",
       "      <td>pencil</td>\n",
       "      <td>NaN</td>\n",
       "      <td>OMG</td>\n",
       "    </tr>\n",
       "    <tr>\n",
       "      <th>6</th>\n",
       "      <td>ball</td>\n",
       "      <td>NaN</td>\n",
       "      <td>NaN</td>\n",
       "    </tr>\n",
       "    <tr>\n",
       "      <th>7</th>\n",
       "      <td>pen</td>\n",
       "      <td>NaN</td>\n",
       "      <td>POD</td>\n",
       "    </tr>\n",
       "  </tbody>\n",
       "</table>\n",
       "</div>"
      ],
      "text/plain": [
       "        id  color brand\n",
       "0     ball  white   OMG\n",
       "1   pencil    red   ABC\n",
       "2      pen    red   ABC\n",
       "3      mug  black   POD\n",
       "4  ashtray  green   POD\n",
       "5   pencil    NaN   OMG\n",
       "6     ball    NaN   NaN\n",
       "7      pen    NaN   POD"
      ]
     },
     "metadata": {},
     "output_type": "display_data"
    },
    {
     "name": "stdout",
     "output_type": "stream",
     "text": [
      "LEFT\n"
     ]
    },
    {
     "data": {
      "text/html": [
       "<div>\n",
       "<style scoped>\n",
       "    .dataframe tbody tr th:only-of-type {\n",
       "        vertical-align: middle;\n",
       "    }\n",
       "\n",
       "    .dataframe tbody tr th {\n",
       "        vertical-align: top;\n",
       "    }\n",
       "\n",
       "    .dataframe thead th {\n",
       "        text-align: right;\n",
       "    }\n",
       "</style>\n",
       "<table border=\"1\" class=\"dataframe\">\n",
       "  <thead>\n",
       "    <tr style=\"text-align: right;\">\n",
       "      <th></th>\n",
       "      <th>id</th>\n",
       "      <th>color</th>\n",
       "      <th>brand</th>\n",
       "    </tr>\n",
       "  </thead>\n",
       "  <tbody>\n",
       "    <tr>\n",
       "      <th>0</th>\n",
       "      <td>ball</td>\n",
       "      <td>white</td>\n",
       "      <td>OMG</td>\n",
       "    </tr>\n",
       "    <tr>\n",
       "      <th>1</th>\n",
       "      <td>pencil</td>\n",
       "      <td>red</td>\n",
       "      <td>ABC</td>\n",
       "    </tr>\n",
       "    <tr>\n",
       "      <th>2</th>\n",
       "      <td>pen</td>\n",
       "      <td>red</td>\n",
       "      <td>ABC</td>\n",
       "    </tr>\n",
       "    <tr>\n",
       "      <th>3</th>\n",
       "      <td>mug</td>\n",
       "      <td>black</td>\n",
       "      <td>POD</td>\n",
       "    </tr>\n",
       "    <tr>\n",
       "      <th>4</th>\n",
       "      <td>ashtray</td>\n",
       "      <td>green</td>\n",
       "      <td>POD</td>\n",
       "    </tr>\n",
       "  </tbody>\n",
       "</table>\n",
       "</div>"
      ],
      "text/plain": [
       "        id  color brand\n",
       "0     ball  white   OMG\n",
       "1   pencil    red   ABC\n",
       "2      pen    red   ABC\n",
       "3      mug  black   POD\n",
       "4  ashtray  green   POD"
      ]
     },
     "metadata": {},
     "output_type": "display_data"
    },
    {
     "name": "stdout",
     "output_type": "stream",
     "text": [
      "RIGHT\n"
     ]
    },
    {
     "data": {
      "text/html": [
       "<div>\n",
       "<style scoped>\n",
       "    .dataframe tbody tr th:only-of-type {\n",
       "        vertical-align: middle;\n",
       "    }\n",
       "\n",
       "    .dataframe tbody tr th {\n",
       "        vertical-align: top;\n",
       "    }\n",
       "\n",
       "    .dataframe thead th {\n",
       "        text-align: right;\n",
       "    }\n",
       "</style>\n",
       "<table border=\"1\" class=\"dataframe\">\n",
       "  <thead>\n",
       "    <tr style=\"text-align: right;\">\n",
       "      <th></th>\n",
       "      <th>id</th>\n",
       "      <th>color</th>\n",
       "      <th>brand</th>\n",
       "    </tr>\n",
       "  </thead>\n",
       "  <tbody>\n",
       "    <tr>\n",
       "      <th>0</th>\n",
       "      <td>pencil</td>\n",
       "      <td>NaN</td>\n",
       "      <td>OMG</td>\n",
       "    </tr>\n",
       "    <tr>\n",
       "      <th>1</th>\n",
       "      <td>pencil</td>\n",
       "      <td>red</td>\n",
       "      <td>ABC</td>\n",
       "    </tr>\n",
       "    <tr>\n",
       "      <th>2</th>\n",
       "      <td>ball</td>\n",
       "      <td>NaN</td>\n",
       "      <td>NaN</td>\n",
       "    </tr>\n",
       "    <tr>\n",
       "      <th>3</th>\n",
       "      <td>pen</td>\n",
       "      <td>NaN</td>\n",
       "      <td>POD</td>\n",
       "    </tr>\n",
       "  </tbody>\n",
       "</table>\n",
       "</div>"
      ],
      "text/plain": [
       "       id color brand\n",
       "0  pencil   NaN   OMG\n",
       "1  pencil   red   ABC\n",
       "2    ball   NaN   NaN\n",
       "3     pen   NaN   POD"
      ]
     },
     "metadata": {},
     "output_type": "display_data"
    },
    {
     "name": "stdout",
     "output_type": "stream",
     "text": [
      "JOIN\n"
     ]
    },
    {
     "data": {
      "text/html": [
       "<div>\n",
       "<style scoped>\n",
       "    .dataframe tbody tr th:only-of-type {\n",
       "        vertical-align: middle;\n",
       "    }\n",
       "\n",
       "    .dataframe tbody tr th {\n",
       "        vertical-align: top;\n",
       "    }\n",
       "\n",
       "    .dataframe thead th {\n",
       "        text-align: right;\n",
       "    }\n",
       "</style>\n",
       "<table border=\"1\" class=\"dataframe\">\n",
       "  <thead>\n",
       "    <tr style=\"text-align: right;\">\n",
       "      <th></th>\n",
       "      <th>id</th>\n",
       "      <th>color</th>\n",
       "      <th>brand</th>\n",
       "      <th>brand2</th>\n",
       "      <th>id2</th>\n",
       "    </tr>\n",
       "  </thead>\n",
       "  <tbody>\n",
       "    <tr>\n",
       "      <th>0</th>\n",
       "      <td>ball</td>\n",
       "      <td>white</td>\n",
       "      <td>OMG</td>\n",
       "      <td>pencil</td>\n",
       "      <td>OMG</td>\n",
       "    </tr>\n",
       "    <tr>\n",
       "      <th>1</th>\n",
       "      <td>pencil</td>\n",
       "      <td>red</td>\n",
       "      <td>ABC</td>\n",
       "      <td>pencil</td>\n",
       "      <td>ABC</td>\n",
       "    </tr>\n",
       "    <tr>\n",
       "      <th>2</th>\n",
       "      <td>pen</td>\n",
       "      <td>red</td>\n",
       "      <td>ABC</td>\n",
       "      <td>ball</td>\n",
       "      <td>NaN</td>\n",
       "    </tr>\n",
       "    <tr>\n",
       "      <th>3</th>\n",
       "      <td>mug</td>\n",
       "      <td>black</td>\n",
       "      <td>POD</td>\n",
       "      <td>pen</td>\n",
       "      <td>POD</td>\n",
       "    </tr>\n",
       "    <tr>\n",
       "      <th>4</th>\n",
       "      <td>ashtray</td>\n",
       "      <td>green</td>\n",
       "      <td>POD</td>\n",
       "      <td>NaN</td>\n",
       "      <td>NaN</td>\n",
       "    </tr>\n",
       "  </tbody>\n",
       "</table>\n",
       "</div>"
      ],
      "text/plain": [
       "        id  color brand  brand2  id2\n",
       "0     ball  white   OMG  pencil  OMG\n",
       "1   pencil    red   ABC  pencil  ABC\n",
       "2      pen    red   ABC    ball  NaN\n",
       "3      mug  black   POD     pen  POD\n",
       "4  ashtray  green   POD     NaN  NaN"
      ]
     },
     "metadata": {},
     "output_type": "display_data"
    }
   ],
   "source": [
    "frame1 = pd.DataFrame( {'id':['ball','pencil','pen','mug','ashtray'],\n",
    "                        'color': ['white','red','red','black','green'],\n",
    "                        'brand': ['OMG','ABC','ABC','POD','POD']})\n",
    "frame2 = pd.DataFrame( {'id':['pencil','pencil','ball','pen'],\n",
    "                        'brand': ['OMG','ABC',np.nan,'POD']})\n",
    "out = pd.merge(frame1,frame2,on=['id','brand'],how='outer')\n",
    "left = pd.merge(frame1,frame2,on=['id','brand'],how='left')\n",
    "right= pd.merge(frame1,frame2,on=['id','brand'],how='right')\n",
    "print(\"FRAME 1\")\n",
    "display(frame1)\n",
    "print(\"FRAME 2\")\n",
    "display(frame2)\n",
    "print(\"OUT (Todas)\")\n",
    "display(out)\n",
    "print(\"LEFT\")\n",
    "display(left)\n",
    "print(\"RIGHT\")\n",
    "display(right)\n",
    "frame2.columns = ['brand2','id2']\n",
    "print(\"JOIN\")\n",
    "display(frame1.join(frame2))"
   ]
  },
  {
   "cell_type": "code",
   "execution_count": 60,
   "id": "f44e7dee-6290-4a32-af28-2f7d6225aaf6",
   "metadata": {},
   "outputs": [
    {
     "name": "stdout",
     "output_type": "stream",
     "text": [
      "FRAME 1\n"
     ]
    },
    {
     "data": {
      "text/html": [
       "<div>\n",
       "<style scoped>\n",
       "    .dataframe tbody tr th:only-of-type {\n",
       "        vertical-align: middle;\n",
       "    }\n",
       "\n",
       "    .dataframe tbody tr th {\n",
       "        vertical-align: top;\n",
       "    }\n",
       "\n",
       "    .dataframe thead th {\n",
       "        text-align: right;\n",
       "    }\n",
       "</style>\n",
       "<table border=\"1\" class=\"dataframe\">\n",
       "  <thead>\n",
       "    <tr style=\"text-align: right;\">\n",
       "      <th></th>\n",
       "      <th>A</th>\n",
       "      <th>B</th>\n",
       "      <th>C</th>\n",
       "    </tr>\n",
       "  </thead>\n",
       "  <tbody>\n",
       "    <tr>\n",
       "      <th>1</th>\n",
       "      <td>0.093554</td>\n",
       "      <td>0.560788</td>\n",
       "      <td>0.139528</td>\n",
       "    </tr>\n",
       "    <tr>\n",
       "      <th>2</th>\n",
       "      <td>0.877486</td>\n",
       "      <td>0.392468</td>\n",
       "      <td>0.699404</td>\n",
       "    </tr>\n",
       "    <tr>\n",
       "      <th>3</th>\n",
       "      <td>0.544861</td>\n",
       "      <td>0.905430</td>\n",
       "      <td>0.649009</td>\n",
       "    </tr>\n",
       "  </tbody>\n",
       "</table>\n",
       "</div>"
      ],
      "text/plain": [
       "          A         B         C\n",
       "1  0.093554  0.560788  0.139528\n",
       "2  0.877486  0.392468  0.699404\n",
       "3  0.544861  0.905430  0.649009"
      ]
     },
     "metadata": {},
     "output_type": "display_data"
    },
    {
     "name": "stdout",
     "output_type": "stream",
     "text": [
      "FRAME 2\n"
     ]
    },
    {
     "data": {
      "text/html": [
       "<div>\n",
       "<style scoped>\n",
       "    .dataframe tbody tr th:only-of-type {\n",
       "        vertical-align: middle;\n",
       "    }\n",
       "\n",
       "    .dataframe tbody tr th {\n",
       "        vertical-align: top;\n",
       "    }\n",
       "\n",
       "    .dataframe thead th {\n",
       "        text-align: right;\n",
       "    }\n",
       "</style>\n",
       "<table border=\"1\" class=\"dataframe\">\n",
       "  <thead>\n",
       "    <tr style=\"text-align: right;\">\n",
       "      <th></th>\n",
       "      <th>A</th>\n",
       "      <th>B</th>\n",
       "      <th>C</th>\n",
       "    </tr>\n",
       "  </thead>\n",
       "  <tbody>\n",
       "    <tr>\n",
       "      <th>4</th>\n",
       "      <td>0.801583</td>\n",
       "      <td>0.295725</td>\n",
       "      <td>0.220421</td>\n",
       "    </tr>\n",
       "    <tr>\n",
       "      <th>5</th>\n",
       "      <td>0.869147</td>\n",
       "      <td>0.685576</td>\n",
       "      <td>0.564311</td>\n",
       "    </tr>\n",
       "    <tr>\n",
       "      <th>6</th>\n",
       "      <td>0.814722</td>\n",
       "      <td>0.258053</td>\n",
       "      <td>0.387467</td>\n",
       "    </tr>\n",
       "  </tbody>\n",
       "</table>\n",
       "</div>"
      ],
      "text/plain": [
       "          A         B         C\n",
       "4  0.801583  0.295725  0.220421\n",
       "5  0.869147  0.685576  0.564311\n",
       "6  0.814722  0.258053  0.387467"
      ]
     },
     "metadata": {},
     "output_type": "display_data"
    },
    {
     "name": "stdout",
     "output_type": "stream",
     "text": [
      "CONCAT\n"
     ]
    },
    {
     "data": {
      "text/html": [
       "<div>\n",
       "<style scoped>\n",
       "    .dataframe tbody tr th:only-of-type {\n",
       "        vertical-align: middle;\n",
       "    }\n",
       "\n",
       "    .dataframe tbody tr th {\n",
       "        vertical-align: top;\n",
       "    }\n",
       "\n",
       "    .dataframe thead th {\n",
       "        text-align: right;\n",
       "    }\n",
       "</style>\n",
       "<table border=\"1\" class=\"dataframe\">\n",
       "  <thead>\n",
       "    <tr style=\"text-align: right;\">\n",
       "      <th></th>\n",
       "      <th>A</th>\n",
       "      <th>B</th>\n",
       "      <th>C</th>\n",
       "    </tr>\n",
       "  </thead>\n",
       "  <tbody>\n",
       "    <tr>\n",
       "      <th>1</th>\n",
       "      <td>0.093554</td>\n",
       "      <td>0.560788</td>\n",
       "      <td>0.139528</td>\n",
       "    </tr>\n",
       "    <tr>\n",
       "      <th>2</th>\n",
       "      <td>0.877486</td>\n",
       "      <td>0.392468</td>\n",
       "      <td>0.699404</td>\n",
       "    </tr>\n",
       "    <tr>\n",
       "      <th>3</th>\n",
       "      <td>0.544861</td>\n",
       "      <td>0.905430</td>\n",
       "      <td>0.649009</td>\n",
       "    </tr>\n",
       "    <tr>\n",
       "      <th>4</th>\n",
       "      <td>0.801583</td>\n",
       "      <td>0.295725</td>\n",
       "      <td>0.220421</td>\n",
       "    </tr>\n",
       "    <tr>\n",
       "      <th>5</th>\n",
       "      <td>0.869147</td>\n",
       "      <td>0.685576</td>\n",
       "      <td>0.564311</td>\n",
       "    </tr>\n",
       "    <tr>\n",
       "      <th>6</th>\n",
       "      <td>0.814722</td>\n",
       "      <td>0.258053</td>\n",
       "      <td>0.387467</td>\n",
       "    </tr>\n",
       "  </tbody>\n",
       "</table>\n",
       "</div>"
      ],
      "text/plain": [
       "          A         B         C\n",
       "1  0.093554  0.560788  0.139528\n",
       "2  0.877486  0.392468  0.699404\n",
       "3  0.544861  0.905430  0.649009\n",
       "4  0.801583  0.295725  0.220421\n",
       "5  0.869147  0.685576  0.564311\n",
       "6  0.814722  0.258053  0.387467"
      ]
     },
     "metadata": {},
     "output_type": "display_data"
    }
   ],
   "source": [
    "frame1 = pd.DataFrame(np.random.rand(9).reshape(3,3), index=[1,2,3],\n",
    "columns=['A','B','C'])\n",
    "frame2 = pd.DataFrame(np.random.rand(9).reshape(3,3), index=[4,5,6],\n",
    "columns=['A','B','C'])\n",
    "print(\"FRAME 1\")\n",
    "display(frame1)\n",
    "print(\"FRAME 2\")\n",
    "display(frame2)\n",
    "print(\"CONCAT\")\n",
    "display(pd.concat([frame1, frame2]))"
   ]
  },
  {
   "cell_type": "code",
   "execution_count": 61,
   "id": "d50b19d4-53c5-4a8d-beff-62c0c01275a1",
   "metadata": {},
   "outputs": [
    {
     "name": "stdout",
     "output_type": "stream",
     "text": [
      "FRAME 1\n"
     ]
    },
    {
     "data": {
      "text/html": [
       "<div>\n",
       "<style scoped>\n",
       "    .dataframe tbody tr th:only-of-type {\n",
       "        vertical-align: middle;\n",
       "    }\n",
       "\n",
       "    .dataframe tbody tr th {\n",
       "        vertical-align: top;\n",
       "    }\n",
       "\n",
       "    .dataframe thead th {\n",
       "        text-align: right;\n",
       "    }\n",
       "</style>\n",
       "<table border=\"1\" class=\"dataframe\">\n",
       "  <thead>\n",
       "    <tr style=\"text-align: right;\">\n",
       "      <th></th>\n",
       "      <th>ball</th>\n",
       "      <th>pen</th>\n",
       "      <th>pencil</th>\n",
       "    </tr>\n",
       "  </thead>\n",
       "  <tbody>\n",
       "    <tr>\n",
       "      <th>white</th>\n",
       "      <td>0</td>\n",
       "      <td>1</td>\n",
       "      <td>2</td>\n",
       "    </tr>\n",
       "    <tr>\n",
       "      <th>black</th>\n",
       "      <td>3</td>\n",
       "      <td>4</td>\n",
       "      <td>5</td>\n",
       "    </tr>\n",
       "    <tr>\n",
       "      <th>red</th>\n",
       "      <td>6</td>\n",
       "      <td>7</td>\n",
       "      <td>8</td>\n",
       "    </tr>\n",
       "  </tbody>\n",
       "</table>\n",
       "</div>"
      ],
      "text/plain": [
       "       ball  pen  pencil\n",
       "white     0    1       2\n",
       "black     3    4       5\n",
       "red       6    7       8"
      ]
     },
     "metadata": {},
     "output_type": "display_data"
    },
    {
     "name": "stdout",
     "output_type": "stream",
     "text": [
      "STACK\n"
     ]
    },
    {
     "data": {
      "text/plain": [
       "white  ball      0\n",
       "       pen       1\n",
       "       pencil    2\n",
       "black  ball      3\n",
       "       pen       4\n",
       "       pencil    5\n",
       "red    ball      6\n",
       "       pen       7\n",
       "       pencil    8\n",
       "dtype: int64"
      ]
     },
     "metadata": {},
     "output_type": "display_data"
    },
    {
     "name": "stdout",
     "output_type": "stream",
     "text": [
      "UNSTACK\n"
     ]
    },
    {
     "data": {
      "text/html": [
       "<div>\n",
       "<style scoped>\n",
       "    .dataframe tbody tr th:only-of-type {\n",
       "        vertical-align: middle;\n",
       "    }\n",
       "\n",
       "    .dataframe tbody tr th {\n",
       "        vertical-align: top;\n",
       "    }\n",
       "\n",
       "    .dataframe thead th {\n",
       "        text-align: right;\n",
       "    }\n",
       "</style>\n",
       "<table border=\"1\" class=\"dataframe\">\n",
       "  <thead>\n",
       "    <tr style=\"text-align: right;\">\n",
       "      <th></th>\n",
       "      <th>ball</th>\n",
       "      <th>pen</th>\n",
       "      <th>pencil</th>\n",
       "    </tr>\n",
       "  </thead>\n",
       "  <tbody>\n",
       "    <tr>\n",
       "      <th>white</th>\n",
       "      <td>0</td>\n",
       "      <td>1</td>\n",
       "      <td>2</td>\n",
       "    </tr>\n",
       "    <tr>\n",
       "      <th>black</th>\n",
       "      <td>3</td>\n",
       "      <td>4</td>\n",
       "      <td>5</td>\n",
       "    </tr>\n",
       "    <tr>\n",
       "      <th>red</th>\n",
       "      <td>6</td>\n",
       "      <td>7</td>\n",
       "      <td>8</td>\n",
       "    </tr>\n",
       "  </tbody>\n",
       "</table>\n",
       "</div>"
      ],
      "text/plain": [
       "       ball  pen  pencil\n",
       "white     0    1       2\n",
       "black     3    4       5\n",
       "red       6    7       8"
      ]
     },
     "metadata": {},
     "output_type": "display_data"
    }
   ],
   "source": [
    "frame1 = pd.DataFrame(np.arange(9).reshape(3,3), index=['white','black','red'],\n",
    "                      columns=['ball','pen','pencil'])\n",
    "print(\"FRAME 1\")\n",
    "display(frame1)\n",
    "ser5 = frame1.stack()\n",
    "print(\"STACK\")\n",
    "display(ser5)\n",
    "ser5.unstack()\n",
    "print(\"UNSTACK\")\n",
    "display(ser5.unstack())"
   ]
  },
  {
   "cell_type": "code",
   "execution_count": 22,
   "id": "2f1e2b60-ef6f-4ef6-b16c-bb8f8d4a7481",
   "metadata": {},
   "outputs": [
    {
     "name": "stdout",
     "output_type": "stream",
     "text": [
      "longframe\n"
     ]
    },
    {
     "data": {
      "text/html": [
       "<div>\n",
       "<style scoped>\n",
       "    .dataframe tbody tr th:only-of-type {\n",
       "        vertical-align: middle;\n",
       "    }\n",
       "\n",
       "    .dataframe tbody tr th {\n",
       "        vertical-align: top;\n",
       "    }\n",
       "\n",
       "    .dataframe thead th {\n",
       "        text-align: right;\n",
       "    }\n",
       "</style>\n",
       "<table border=\"1\" class=\"dataframe\">\n",
       "  <thead>\n",
       "    <tr style=\"text-align: right;\">\n",
       "      <th></th>\n",
       "      <th>color</th>\n",
       "      <th>item</th>\n",
       "      <th>value</th>\n",
       "    </tr>\n",
       "  </thead>\n",
       "  <tbody>\n",
       "    <tr>\n",
       "      <th>0</th>\n",
       "      <td>white</td>\n",
       "      <td>ball</td>\n",
       "      <td>0.540590</td>\n",
       "    </tr>\n",
       "    <tr>\n",
       "      <th>1</th>\n",
       "      <td>white</td>\n",
       "      <td>pen</td>\n",
       "      <td>0.047129</td>\n",
       "    </tr>\n",
       "    <tr>\n",
       "      <th>2</th>\n",
       "      <td>white</td>\n",
       "      <td>mug</td>\n",
       "      <td>0.787824</td>\n",
       "    </tr>\n",
       "    <tr>\n",
       "      <th>3</th>\n",
       "      <td>red</td>\n",
       "      <td>ball</td>\n",
       "      <td>0.957644</td>\n",
       "    </tr>\n",
       "    <tr>\n",
       "      <th>4</th>\n",
       "      <td>red</td>\n",
       "      <td>pen</td>\n",
       "      <td>0.540190</td>\n",
       "    </tr>\n",
       "    <tr>\n",
       "      <th>5</th>\n",
       "      <td>red</td>\n",
       "      <td>mug</td>\n",
       "      <td>0.549897</td>\n",
       "    </tr>\n",
       "    <tr>\n",
       "      <th>6</th>\n",
       "      <td>black</td>\n",
       "      <td>ball</td>\n",
       "      <td>0.269922</td>\n",
       "    </tr>\n",
       "    <tr>\n",
       "      <th>7</th>\n",
       "      <td>black</td>\n",
       "      <td>pen</td>\n",
       "      <td>0.556397</td>\n",
       "    </tr>\n",
       "    <tr>\n",
       "      <th>8</th>\n",
       "      <td>black</td>\n",
       "      <td>mug</td>\n",
       "      <td>0.099079</td>\n",
       "    </tr>\n",
       "  </tbody>\n",
       "</table>\n",
       "</div>"
      ],
      "text/plain": [
       "   color  item     value\n",
       "0  white  ball  0.540590\n",
       "1  white   pen  0.047129\n",
       "2  white   mug  0.787824\n",
       "3    red  ball  0.957644\n",
       "4    red   pen  0.540190\n",
       "5    red   mug  0.549897\n",
       "6  black  ball  0.269922\n",
       "7  black   pen  0.556397\n",
       "8  black   mug  0.099079"
      ]
     },
     "metadata": {},
     "output_type": "display_data"
    },
    {
     "name": "stdout",
     "output_type": "stream",
     "text": [
      "WIDE\n"
     ]
    },
    {
     "data": {
      "text/html": [
       "<div>\n",
       "<style scoped>\n",
       "    .dataframe tbody tr th:only-of-type {\n",
       "        vertical-align: middle;\n",
       "    }\n",
       "\n",
       "    .dataframe tbody tr th {\n",
       "        vertical-align: top;\n",
       "    }\n",
       "\n",
       "    .dataframe thead tr th {\n",
       "        text-align: left;\n",
       "    }\n",
       "\n",
       "    .dataframe thead tr:last-of-type th {\n",
       "        text-align: right;\n",
       "    }\n",
       "</style>\n",
       "<table border=\"1\" class=\"dataframe\">\n",
       "  <thead>\n",
       "    <tr>\n",
       "      <th></th>\n",
       "      <th colspan=\"3\" halign=\"left\">value</th>\n",
       "    </tr>\n",
       "    <tr>\n",
       "      <th>item</th>\n",
       "      <th>ball</th>\n",
       "      <th>mug</th>\n",
       "      <th>pen</th>\n",
       "    </tr>\n",
       "    <tr>\n",
       "      <th>color</th>\n",
       "      <th></th>\n",
       "      <th></th>\n",
       "      <th></th>\n",
       "    </tr>\n",
       "  </thead>\n",
       "  <tbody>\n",
       "    <tr>\n",
       "      <th>black</th>\n",
       "      <td>0.269922</td>\n",
       "      <td>0.099079</td>\n",
       "      <td>0.556397</td>\n",
       "    </tr>\n",
       "    <tr>\n",
       "      <th>red</th>\n",
       "      <td>0.957644</td>\n",
       "      <td>0.549897</td>\n",
       "      <td>0.540190</td>\n",
       "    </tr>\n",
       "    <tr>\n",
       "      <th>white</th>\n",
       "      <td>0.540590</td>\n",
       "      <td>0.787824</td>\n",
       "      <td>0.047129</td>\n",
       "    </tr>\n",
       "  </tbody>\n",
       "</table>\n",
       "</div>"
      ],
      "text/plain": [
       "          value                    \n",
       "item       ball       mug       pen\n",
       "color                              \n",
       "black  0.269922  0.099079  0.556397\n",
       "red    0.957644  0.549897  0.540190\n",
       "white  0.540590  0.787824  0.047129"
      ]
     },
     "metadata": {},
     "output_type": "display_data"
    }
   ],
   "source": [
    "longframe = pd.DataFrame({ 'color':['white','white','white','red','red','red',\n",
    "                                    'black','black','black'],\n",
    "                          'item':['ball','pen','mug','ball','pen','mug','ball',\n",
    "                                  'pen','mug'], 'value': np.random.rand(9)})\n",
    "print(\"longframe\")\n",
    "display(longframe)\n",
    "print(\"WIDE\")\n",
    "display(longframe.pivot('color','item'))"
   ]
  },
  {
   "cell_type": "code",
   "execution_count": 175,
   "id": "37f3eca7-c702-4339-82b4-aed5d54f11ec",
   "metadata": {},
   "outputs": [
    {
     "data": {
      "text/html": [
       "<div>\n",
       "<style scoped>\n",
       "    .dataframe tbody tr th:only-of-type {\n",
       "        vertical-align: middle;\n",
       "    }\n",
       "\n",
       "    .dataframe tbody tr th {\n",
       "        vertical-align: top;\n",
       "    }\n",
       "\n",
       "    .dataframe thead th {\n",
       "        text-align: right;\n",
       "    }\n",
       "</style>\n",
       "<table border=\"1\" class=\"dataframe\">\n",
       "  <thead>\n",
       "    <tr style=\"text-align: right;\">\n",
       "      <th></th>\n",
       "      <th>item</th>\n",
       "      <th>color</th>\n",
       "      <th>price</th>\n",
       "    </tr>\n",
       "  </thead>\n",
       "  <tbody>\n",
       "    <tr>\n",
       "      <th>0</th>\n",
       "      <td>rosso</td>\n",
       "      <td>white</td>\n",
       "      <td>5.56</td>\n",
       "    </tr>\n",
       "    <tr>\n",
       "      <th>1</th>\n",
       "      <td>mug</td>\n",
       "      <td>rosso</td>\n",
       "      <td>4.20</td>\n",
       "    </tr>\n",
       "    <tr>\n",
       "      <th>2</th>\n",
       "      <td>pen</td>\n",
       "      <td>verde</td>\n",
       "      <td>1.30</td>\n",
       "    </tr>\n",
       "    <tr>\n",
       "      <th>3</th>\n",
       "      <td>pencil</td>\n",
       "      <td>black</td>\n",
       "      <td>0.56</td>\n",
       "    </tr>\n",
       "    <tr>\n",
       "      <th>4</th>\n",
       "      <td>ashtray</td>\n",
       "      <td>yellow</td>\n",
       "      <td>2.75</td>\n",
       "    </tr>\n",
       "  </tbody>\n",
       "</table>\n",
       "</div>"
      ],
      "text/plain": [
       "      item   color  price\n",
       "0    rosso   white   5.56\n",
       "1      mug   rosso   4.20\n",
       "2      pen   verde   1.30\n",
       "3   pencil   black   0.56\n",
       "4  ashtray  yellow   2.75"
      ]
     },
     "execution_count": 175,
     "metadata": {},
     "output_type": "execute_result"
    }
   ],
   "source": [
    "frame = pd.DataFrame({ 'item':['rosso','mug','pen','pencil','ashtray'],\n",
    "                      'color':['white','rosso','verde','black','yellow'],\n",
    "                      'price':[5.56,4.20,1.30,0.56,2.75]})\n",
    "frame"
   ]
  },
  {
   "cell_type": "code",
   "execution_count": 176,
   "id": "8ce2c40a-47a2-4574-a51e-923ba11563fb",
   "metadata": {},
   "outputs": [
    {
     "name": "stdout",
     "output_type": "stream",
     "text": [
      "replace columna\n"
     ]
    },
    {
     "data": {
      "text/html": [
       "<div>\n",
       "<style scoped>\n",
       "    .dataframe tbody tr th:only-of-type {\n",
       "        vertical-align: middle;\n",
       "    }\n",
       "\n",
       "    .dataframe tbody tr th {\n",
       "        vertical-align: top;\n",
       "    }\n",
       "\n",
       "    .dataframe thead th {\n",
       "        text-align: right;\n",
       "    }\n",
       "</style>\n",
       "<table border=\"1\" class=\"dataframe\">\n",
       "  <thead>\n",
       "    <tr style=\"text-align: right;\">\n",
       "      <th></th>\n",
       "      <th>item</th>\n",
       "      <th>color</th>\n",
       "      <th>price</th>\n",
       "    </tr>\n",
       "  </thead>\n",
       "  <tbody>\n",
       "    <tr>\n",
       "      <th>0</th>\n",
       "      <td>rosso</td>\n",
       "      <td>white</td>\n",
       "      <td>5.56</td>\n",
       "    </tr>\n",
       "    <tr>\n",
       "      <th>1</th>\n",
       "      <td>mug</td>\n",
       "      <td>red</td>\n",
       "      <td>4.20</td>\n",
       "    </tr>\n",
       "    <tr>\n",
       "      <th>2</th>\n",
       "      <td>pen</td>\n",
       "      <td>green</td>\n",
       "      <td>1.30</td>\n",
       "    </tr>\n",
       "    <tr>\n",
       "      <th>3</th>\n",
       "      <td>pencil</td>\n",
       "      <td>black</td>\n",
       "      <td>0.56</td>\n",
       "    </tr>\n",
       "    <tr>\n",
       "      <th>4</th>\n",
       "      <td>ashtray</td>\n",
       "      <td>yellow</td>\n",
       "      <td>2.75</td>\n",
       "    </tr>\n",
       "  </tbody>\n",
       "</table>\n",
       "</div>"
      ],
      "text/plain": [
       "      item   color  price\n",
       "0    rosso   white   5.56\n",
       "1      mug     red   4.20\n",
       "2      pen   green   1.30\n",
       "3   pencil   black   0.56\n",
       "4  ashtray  yellow   2.75"
      ]
     },
     "metadata": {},
     "output_type": "display_data"
    },
    {
     "name": "stdout",
     "output_type": "stream",
     "text": [
      "replace\n"
     ]
    },
    {
     "data": {
      "text/html": [
       "<div>\n",
       "<style scoped>\n",
       "    .dataframe tbody tr th:only-of-type {\n",
       "        vertical-align: middle;\n",
       "    }\n",
       "\n",
       "    .dataframe tbody tr th {\n",
       "        vertical-align: top;\n",
       "    }\n",
       "\n",
       "    .dataframe thead th {\n",
       "        text-align: right;\n",
       "    }\n",
       "</style>\n",
       "<table border=\"1\" class=\"dataframe\">\n",
       "  <thead>\n",
       "    <tr style=\"text-align: right;\">\n",
       "      <th></th>\n",
       "      <th>item</th>\n",
       "      <th>color</th>\n",
       "      <th>price</th>\n",
       "    </tr>\n",
       "  </thead>\n",
       "  <tbody>\n",
       "    <tr>\n",
       "      <th>0</th>\n",
       "      <td>red</td>\n",
       "      <td>white</td>\n",
       "      <td>5.56</td>\n",
       "    </tr>\n",
       "    <tr>\n",
       "      <th>1</th>\n",
       "      <td>mug</td>\n",
       "      <td>red</td>\n",
       "      <td>4.20</td>\n",
       "    </tr>\n",
       "    <tr>\n",
       "      <th>2</th>\n",
       "      <td>pen</td>\n",
       "      <td>green</td>\n",
       "      <td>1.30</td>\n",
       "    </tr>\n",
       "    <tr>\n",
       "      <th>3</th>\n",
       "      <td>pencil</td>\n",
       "      <td>black</td>\n",
       "      <td>0.56</td>\n",
       "    </tr>\n",
       "    <tr>\n",
       "      <th>4</th>\n",
       "      <td>ashtray</td>\n",
       "      <td>yellow</td>\n",
       "      <td>2.75</td>\n",
       "    </tr>\n",
       "  </tbody>\n",
       "</table>\n",
       "</div>"
      ],
      "text/plain": [
       "      item   color  price\n",
       "0      red   white   5.56\n",
       "1      mug     red   4.20\n",
       "2      pen   green   1.30\n",
       "3   pencil   black   0.56\n",
       "4  ashtray  yellow   2.75"
      ]
     },
     "metadata": {},
     "output_type": "display_data"
    },
    {
     "name": "stdout",
     "output_type": "stream",
     "text": [
      "rename\n"
     ]
    },
    {
     "data": {
      "text/html": [
       "<div>\n",
       "<style scoped>\n",
       "    .dataframe tbody tr th:only-of-type {\n",
       "        vertical-align: middle;\n",
       "    }\n",
       "\n",
       "    .dataframe tbody tr th {\n",
       "        vertical-align: top;\n",
       "    }\n",
       "\n",
       "    .dataframe thead th {\n",
       "        text-align: right;\n",
       "    }\n",
       "</style>\n",
       "<table border=\"1\" class=\"dataframe\">\n",
       "  <thead>\n",
       "    <tr style=\"text-align: right;\">\n",
       "      <th></th>\n",
       "      <th>item</th>\n",
       "      <th>color</th>\n",
       "      <th>price</th>\n",
       "    </tr>\n",
       "  </thead>\n",
       "  <tbody>\n",
       "    <tr>\n",
       "      <th>first</th>\n",
       "      <td>red</td>\n",
       "      <td>white</td>\n",
       "      <td>5.56</td>\n",
       "    </tr>\n",
       "    <tr>\n",
       "      <th>second</th>\n",
       "      <td>mug</td>\n",
       "      <td>red</td>\n",
       "      <td>4.20</td>\n",
       "    </tr>\n",
       "    <tr>\n",
       "      <th>third</th>\n",
       "      <td>pen</td>\n",
       "      <td>green</td>\n",
       "      <td>1.30</td>\n",
       "    </tr>\n",
       "    <tr>\n",
       "      <th>fourth</th>\n",
       "      <td>pencil</td>\n",
       "      <td>black</td>\n",
       "      <td>0.56</td>\n",
       "    </tr>\n",
       "    <tr>\n",
       "      <th>fifth</th>\n",
       "      <td>ashtray</td>\n",
       "      <td>yellow</td>\n",
       "      <td>2.75</td>\n",
       "    </tr>\n",
       "  </tbody>\n",
       "</table>\n",
       "</div>"
      ],
      "text/plain": [
       "           item   color  price\n",
       "first       red   white   5.56\n",
       "second      mug     red   4.20\n",
       "third       pen   green   1.30\n",
       "fourth   pencil   black   0.56\n",
       "fifth   ashtray  yellow   2.75"
      ]
     },
     "metadata": {},
     "output_type": "display_data"
    },
    {
     "name": "stdout",
     "output_type": "stream",
     "text": [
      "rename column\n"
     ]
    },
    {
     "data": {
      "text/html": [
       "<div>\n",
       "<style scoped>\n",
       "    .dataframe tbody tr th:only-of-type {\n",
       "        vertical-align: middle;\n",
       "    }\n",
       "\n",
       "    .dataframe tbody tr th {\n",
       "        vertical-align: top;\n",
       "    }\n",
       "\n",
       "    .dataframe thead th {\n",
       "        text-align: right;\n",
       "    }\n",
       "</style>\n",
       "<table border=\"1\" class=\"dataframe\">\n",
       "  <thead>\n",
       "    <tr style=\"text-align: right;\">\n",
       "      <th></th>\n",
       "      <th>object</th>\n",
       "      <th>color</th>\n",
       "      <th>value</th>\n",
       "    </tr>\n",
       "  </thead>\n",
       "  <tbody>\n",
       "    <tr>\n",
       "      <th>first</th>\n",
       "      <td>red</td>\n",
       "      <td>white</td>\n",
       "      <td>5.56</td>\n",
       "    </tr>\n",
       "    <tr>\n",
       "      <th>second</th>\n",
       "      <td>mug</td>\n",
       "      <td>red</td>\n",
       "      <td>4.20</td>\n",
       "    </tr>\n",
       "    <tr>\n",
       "      <th>third</th>\n",
       "      <td>pen</td>\n",
       "      <td>green</td>\n",
       "      <td>1.30</td>\n",
       "    </tr>\n",
       "    <tr>\n",
       "      <th>fourth</th>\n",
       "      <td>pencil</td>\n",
       "      <td>black</td>\n",
       "      <td>0.56</td>\n",
       "    </tr>\n",
       "    <tr>\n",
       "      <th>fifth</th>\n",
       "      <td>ashtray</td>\n",
       "      <td>yellow</td>\n",
       "      <td>2.75</td>\n",
       "    </tr>\n",
       "  </tbody>\n",
       "</table>\n",
       "</div>"
      ],
      "text/plain": [
       "         object   color  value\n",
       "first       red   white   5.56\n",
       "second      mug     red   4.20\n",
       "third       pen   green   1.30\n",
       "fourth   pencil   black   0.56\n",
       "fifth   ashtray  yellow   2.75"
      ]
     },
     "metadata": {},
     "output_type": "display_data"
    }
   ],
   "source": [
    "newcolors = {'rosso': 'red', 'verde': 'green'}\n",
    "frame.color=frame.color.replace(newcolors)\n",
    "print(\"replace columna\")\n",
    "display(frame)\n",
    "\n",
    "frame=frame.replace(newcolors)\n",
    "print(\"replace\")\n",
    "display(frame)\n",
    "\n",
    "\n",
    "reindex = {0: 'first', 1: 'second', 2: 'third', 3: 'fourth', 4: 'fifth'}\n",
    "frame.rename(reindex,inplace=True)\n",
    "print(\"rename\")\n",
    "display(frame)\n",
    "\n",
    "\n",
    "recolumn = {'item':'object','price': 'value'}\n",
    "frame.rename(index=reindex, columns=recolumn, inplace=True)\n",
    "print(\"rename column\")\n",
    "display(frame)"
   ]
  },
  {
   "cell_type": "markdown",
   "id": "ee68bf59-3972-448f-8062-2756c2e8d36d",
   "metadata": {
    "jp-MarkdownHeadingCollapsed": true
   },
   "source": [
    "### Binning (Opcional)"
   ]
  },
  {
   "cell_type": "code",
   "execution_count": 63,
   "id": "e301fa17-d888-4d59-b855-34521e584c81",
   "metadata": {},
   "outputs": [
    {
     "data": {
      "text/plain": [
       "['Q1', 'Q2', 'Q3', 'Q3', 'Q2', ..., 'Q4', 'Q1', 'Q2', 'Q4', 'Q4']\n",
       "Length: 17\n",
       "Categories (4, object): ['Q1' < 'Q2' < 'Q3' < 'Q4']"
      ]
     },
     "execution_count": 63,
     "metadata": {},
     "output_type": "execute_result"
    }
   ],
   "source": [
    "results = [12,34,67,55,28,90,99,12,3,56,74,44,87,23,49,89,87]\n",
    "bins = [0,25,50,75,100]\n",
    "cat = pd.cut(results, bins)\n",
    "cat2 = pd.cut(results, bins, labels=['Q1', 'Q2', 'Q3', 'Q4'])\n",
    "cat2"
   ]
  },
  {
   "cell_type": "code",
   "execution_count": 64,
   "id": "fd585e32-0b3a-41c9-8ef6-dc908e01cec6",
   "metadata": {},
   "outputs": [
    {
     "data": {
      "text/plain": [
       "Interval(0, 25, closed='right')"
      ]
     },
     "execution_count": 64,
     "metadata": {},
     "output_type": "execute_result"
    }
   ],
   "source": [
    "cat[0]"
   ]
  },
  {
   "cell_type": "code",
   "execution_count": 65,
   "id": "2ab7eb4b-8a42-4c76-97f0-f945fc9e2f15",
   "metadata": {},
   "outputs": [
    {
     "data": {
      "text/plain": [
       "IntervalIndex([(0, 25], (25, 50], (50, 75], (75, 100]], dtype='interval[int64, right]')"
      ]
     },
     "execution_count": 65,
     "metadata": {},
     "output_type": "execute_result"
    }
   ],
   "source": [
    "cat.categories"
   ]
  },
  {
   "cell_type": "code",
   "execution_count": 66,
   "id": "409db727-80ff-4e3c-922d-5970ebd6a181",
   "metadata": {},
   "outputs": [
    {
     "data": {
      "text/plain": [
       "array([0, 1, 2, 2, 1, 3, 3, 0, 0, 2, 2, 1, 3, 0, 1, 3, 3], dtype=int8)"
      ]
     },
     "execution_count": 66,
     "metadata": {},
     "output_type": "execute_result"
    }
   ],
   "source": [
    "cat.codes"
   ]
  },
  {
   "cell_type": "code",
   "execution_count": 67,
   "id": "bc563a56-8cd9-4e17-9072-56f48363bf8a",
   "metadata": {},
   "outputs": [
    {
     "data": {
      "text/plain": [
       "(75, 100]    5\n",
       "(0, 25]      4\n",
       "(25, 50]     4\n",
       "(50, 75]     4\n",
       "dtype: int64"
      ]
     },
     "execution_count": 67,
     "metadata": {},
     "output_type": "execute_result"
    }
   ],
   "source": [
    "pd.value_counts(cat)"
   ]
  },
  {
   "cell_type": "code",
   "execution_count": 68,
   "id": "c8bf66e5-47ac-452c-ba7b-d1c55548fb34",
   "metadata": {},
   "outputs": [
    {
     "data": {
      "text/html": [
       "<div>\n",
       "<style scoped>\n",
       "    .dataframe tbody tr th:only-of-type {\n",
       "        vertical-align: middle;\n",
       "    }\n",
       "\n",
       "    .dataframe tbody tr th {\n",
       "        vertical-align: top;\n",
       "    }\n",
       "\n",
       "    .dataframe thead th {\n",
       "        text-align: right;\n",
       "    }\n",
       "</style>\n",
       "<table border=\"1\" class=\"dataframe\">\n",
       "  <thead>\n",
       "    <tr style=\"text-align: right;\">\n",
       "      <th></th>\n",
       "      <th>A</th>\n",
       "      <th>B</th>\n",
       "      <th>C</th>\n",
       "    </tr>\n",
       "  </thead>\n",
       "  <tbody>\n",
       "    <tr>\n",
       "      <th>4</th>\n",
       "      <td>0.801583</td>\n",
       "      <td>0.295725</td>\n",
       "      <td>0.220421</td>\n",
       "    </tr>\n",
       "    <tr>\n",
       "      <th>5</th>\n",
       "      <td>0.869147</td>\n",
       "      <td>0.685576</td>\n",
       "      <td>0.564311</td>\n",
       "    </tr>\n",
       "    <tr>\n",
       "      <th>6</th>\n",
       "      <td>0.814722</td>\n",
       "      <td>0.258053</td>\n",
       "      <td>0.387467</td>\n",
       "    </tr>\n",
       "  </tbody>\n",
       "</table>\n",
       "</div>"
      ],
      "text/plain": [
       "          A         B         C\n",
       "4  0.801583  0.295725  0.220421\n",
       "5  0.869147  0.685576  0.564311\n",
       "6  0.814722  0.258053  0.387467"
      ]
     },
     "execution_count": 68,
     "metadata": {},
     "output_type": "execute_result"
    }
   ],
   "source": [
    "frame2"
   ]
  },
  {
   "cell_type": "markdown",
   "id": "22764579-235b-4e6f-860c-4b556e2aaa2b",
   "metadata": {
    "jp-MarkdownHeadingCollapsed": true
   },
   "source": [
    "### Filtrado"
   ]
  },
  {
   "cell_type": "code",
   "execution_count": 57,
   "id": "e2f68ce1",
   "metadata": {},
   "outputs": [
    {
     "data": {
      "text/html": [
       "<div>\n",
       "<style scoped>\n",
       "    .dataframe tbody tr th:only-of-type {\n",
       "        vertical-align: middle;\n",
       "    }\n",
       "\n",
       "    .dataframe tbody tr th {\n",
       "        vertical-align: top;\n",
       "    }\n",
       "\n",
       "    .dataframe thead th {\n",
       "        text-align: right;\n",
       "    }\n",
       "</style>\n",
       "<table border=\"1\" class=\"dataframe\">\n",
       "  <thead>\n",
       "    <tr style=\"text-align: right;\">\n",
       "      <th></th>\n",
       "      <th>0</th>\n",
       "      <th>1</th>\n",
       "      <th>2</th>\n",
       "    </tr>\n",
       "  </thead>\n",
       "  <tbody>\n",
       "    <tr>\n",
       "      <th>0</th>\n",
       "      <td>-0.526403</td>\n",
       "      <td>-1.464163</td>\n",
       "      <td>1.234919</td>\n",
       "    </tr>\n",
       "    <tr>\n",
       "      <th>1</th>\n",
       "      <td>-1.105482</td>\n",
       "      <td>2.110995</td>\n",
       "      <td>-0.498713</td>\n",
       "    </tr>\n",
       "    <tr>\n",
       "      <th>2</th>\n",
       "      <td>0.942864</td>\n",
       "      <td>0.516139</td>\n",
       "      <td>-1.314773</td>\n",
       "    </tr>\n",
       "    <tr>\n",
       "      <th>3</th>\n",
       "      <td>-1.132941</td>\n",
       "      <td>0.896081</td>\n",
       "      <td>-0.683323</td>\n",
       "    </tr>\n",
       "    <tr>\n",
       "      <th>4</th>\n",
       "      <td>0.198571</td>\n",
       "      <td>-0.850291</td>\n",
       "      <td>0.031619</td>\n",
       "    </tr>\n",
       "    <tr>\n",
       "      <th>...</th>\n",
       "      <td>...</td>\n",
       "      <td>...</td>\n",
       "      <td>...</td>\n",
       "    </tr>\n",
       "    <tr>\n",
       "      <th>995</th>\n",
       "      <td>-0.489340</td>\n",
       "      <td>-0.502594</td>\n",
       "      <td>-0.157798</td>\n",
       "    </tr>\n",
       "    <tr>\n",
       "      <th>996</th>\n",
       "      <td>-1.903588</td>\n",
       "      <td>0.331248</td>\n",
       "      <td>2.564801</td>\n",
       "    </tr>\n",
       "    <tr>\n",
       "      <th>997</th>\n",
       "      <td>-0.384935</td>\n",
       "      <td>-0.691550</td>\n",
       "      <td>-1.449774</td>\n",
       "    </tr>\n",
       "    <tr>\n",
       "      <th>998</th>\n",
       "      <td>0.353178</td>\n",
       "      <td>0.044816</td>\n",
       "      <td>0.033116</td>\n",
       "    </tr>\n",
       "    <tr>\n",
       "      <th>999</th>\n",
       "      <td>0.025385</td>\n",
       "      <td>1.930338</td>\n",
       "      <td>1.577012</td>\n",
       "    </tr>\n",
       "  </tbody>\n",
       "</table>\n",
       "<p>1000 rows × 3 columns</p>\n",
       "</div>"
      ],
      "text/plain": [
       "            0         1         2\n",
       "0   -0.526403 -1.464163  1.234919\n",
       "1   -1.105482  2.110995 -0.498713\n",
       "2    0.942864  0.516139 -1.314773\n",
       "3   -1.132941  0.896081 -0.683323\n",
       "4    0.198571 -0.850291  0.031619\n",
       "..        ...       ...       ...\n",
       "995 -0.489340 -0.502594 -0.157798\n",
       "996 -1.903588  0.331248  2.564801\n",
       "997 -0.384935 -0.691550 -1.449774\n",
       "998  0.353178  0.044816  0.033116\n",
       "999  0.025385  1.930338  1.577012\n",
       "\n",
       "[1000 rows x 3 columns]"
      ]
     },
     "execution_count": 57,
     "metadata": {},
     "output_type": "execute_result"
    }
   ],
   "source": [
    "randframe = pd.DataFrame(np.random.randn(1000,3))\n",
    "randframe"
   ]
  },
  {
   "cell_type": "code",
   "execution_count": 79,
   "id": "0cb9ba90-84bd-4c2d-b6a1-ceeb09a02008",
   "metadata": {},
   "outputs": [
    {
     "name": "stderr",
     "output_type": "stream",
     "text": [
      "/var/folders/pb/ldktvl7n1cjb78yx2vbmbmdr0000gn/T/ipykernel_42978/3962663039.py:2: FutureWarning: In a future version of pandas all arguments of DataFrame.any and Series.any will be keyword-only.\n",
      "  randframe[(np.abs(randframe) > (3*randframe.std())).any(1)]\n"
     ]
    },
    {
     "data": {
      "text/html": [
       "<div>\n",
       "<style scoped>\n",
       "    .dataframe tbody tr th:only-of-type {\n",
       "        vertical-align: middle;\n",
       "    }\n",
       "\n",
       "    .dataframe tbody tr th {\n",
       "        vertical-align: top;\n",
       "    }\n",
       "\n",
       "    .dataframe thead th {\n",
       "        text-align: right;\n",
       "    }\n",
       "</style>\n",
       "<table border=\"1\" class=\"dataframe\">\n",
       "  <thead>\n",
       "    <tr style=\"text-align: right;\">\n",
       "      <th></th>\n",
       "      <th>0</th>\n",
       "      <th>1</th>\n",
       "      <th>2</th>\n",
       "    </tr>\n",
       "  </thead>\n",
       "  <tbody>\n",
       "    <tr>\n",
       "      <th>104</th>\n",
       "      <td>-3.085160</td>\n",
       "      <td>2.045520</td>\n",
       "      <td>0.163031</td>\n",
       "    </tr>\n",
       "    <tr>\n",
       "      <th>195</th>\n",
       "      <td>-0.319128</td>\n",
       "      <td>-0.860155</td>\n",
       "      <td>3.194570</td>\n",
       "    </tr>\n",
       "    <tr>\n",
       "      <th>307</th>\n",
       "      <td>-3.163107</td>\n",
       "      <td>-0.359247</td>\n",
       "      <td>0.344462</td>\n",
       "    </tr>\n",
       "    <tr>\n",
       "      <th>388</th>\n",
       "      <td>-3.149224</td>\n",
       "      <td>-1.111448</td>\n",
       "      <td>-0.919865</td>\n",
       "    </tr>\n",
       "    <tr>\n",
       "      <th>561</th>\n",
       "      <td>-0.330889</td>\n",
       "      <td>3.338095</td>\n",
       "      <td>-0.911389</td>\n",
       "    </tr>\n",
       "    <tr>\n",
       "      <th>727</th>\n",
       "      <td>-0.806514</td>\n",
       "      <td>-3.447043</td>\n",
       "      <td>-0.939692</td>\n",
       "    </tr>\n",
       "    <tr>\n",
       "      <th>752</th>\n",
       "      <td>-0.409433</td>\n",
       "      <td>-0.577185</td>\n",
       "      <td>3.608534</td>\n",
       "    </tr>\n",
       "    <tr>\n",
       "      <th>793</th>\n",
       "      <td>1.517832</td>\n",
       "      <td>-0.645239</td>\n",
       "      <td>3.685057</td>\n",
       "    </tr>\n",
       "    <tr>\n",
       "      <th>948</th>\n",
       "      <td>0.099583</td>\n",
       "      <td>-0.800142</td>\n",
       "      <td>3.166418</td>\n",
       "    </tr>\n",
       "  </tbody>\n",
       "</table>\n",
       "</div>"
      ],
      "text/plain": [
       "            0         1         2\n",
       "104 -3.085160  2.045520  0.163031\n",
       "195 -0.319128 -0.860155  3.194570\n",
       "307 -3.163107 -0.359247  0.344462\n",
       "388 -3.149224 -1.111448 -0.919865\n",
       "561 -0.330889  3.338095 -0.911389\n",
       "727 -0.806514 -3.447043 -0.939692\n",
       "752 -0.409433 -0.577185  3.608534\n",
       "793  1.517832 -0.645239  3.685057\n",
       "948  0.099583 -0.800142  3.166418"
      ]
     },
     "execution_count": 79,
     "metadata": {},
     "output_type": "execute_result"
    }
   ],
   "source": [
    "randframe = pd.DataFrame(np.random.randn(1000,3))\n",
    "randframe[(np.abs(randframe) > (3*randframe.std())).any(1)]"
   ]
  },
  {
   "cell_type": "markdown",
   "id": "31a74485-1f3c-4035-a636-17b9a64a4c8a",
   "metadata": {},
   "source": [
    "#### Random sampling (Opcional)"
   ]
  },
  {
   "cell_type": "code",
   "execution_count": 71,
   "id": "5d80b419-c0ee-4d18-a99d-4e77fa8be394",
   "metadata": {},
   "outputs": [
    {
     "data": {
      "text/plain": [
       "5"
      ]
     },
     "execution_count": 71,
     "metadata": {},
     "output_type": "execute_result"
    }
   ],
   "source": [
    "len(nframe)"
   ]
  },
  {
   "cell_type": "code",
   "execution_count": 73,
   "id": "af0270c2-a0a7-428e-87cb-2a97abf447f0",
   "metadata": {},
   "outputs": [
    {
     "data": {
      "text/plain": [
       "array([2, 1, 2])"
      ]
     },
     "execution_count": 73,
     "metadata": {},
     "output_type": "execute_result"
    }
   ],
   "source": [
    "sample = np.random.randint(0,len(nframe),size=3)\n",
    "sample"
   ]
  },
  {
   "cell_type": "code",
   "execution_count": 74,
   "id": "29b1b610-d429-40d5-869a-90776a5c6922",
   "metadata": {},
   "outputs": [
    {
     "data": {
      "text/html": [
       "<div>\n",
       "<style scoped>\n",
       "    .dataframe tbody tr th:only-of-type {\n",
       "        vertical-align: middle;\n",
       "    }\n",
       "\n",
       "    .dataframe tbody tr th {\n",
       "        vertical-align: top;\n",
       "    }\n",
       "\n",
       "    .dataframe thead th {\n",
       "        text-align: right;\n",
       "    }\n",
       "</style>\n",
       "<table border=\"1\" class=\"dataframe\">\n",
       "  <thead>\n",
       "    <tr style=\"text-align: right;\">\n",
       "      <th></th>\n",
       "      <th>0</th>\n",
       "      <th>1</th>\n",
       "      <th>2</th>\n",
       "      <th>3</th>\n",
       "      <th>4</th>\n",
       "    </tr>\n",
       "  </thead>\n",
       "  <tbody>\n",
       "    <tr>\n",
       "      <th>2</th>\n",
       "      <td>10</td>\n",
       "      <td>11</td>\n",
       "      <td>12</td>\n",
       "      <td>13</td>\n",
       "      <td>14</td>\n",
       "    </tr>\n",
       "    <tr>\n",
       "      <th>1</th>\n",
       "      <td>5</td>\n",
       "      <td>6</td>\n",
       "      <td>7</td>\n",
       "      <td>8</td>\n",
       "      <td>9</td>\n",
       "    </tr>\n",
       "    <tr>\n",
       "      <th>2</th>\n",
       "      <td>10</td>\n",
       "      <td>11</td>\n",
       "      <td>12</td>\n",
       "      <td>13</td>\n",
       "      <td>14</td>\n",
       "    </tr>\n",
       "  </tbody>\n",
       "</table>\n",
       "</div>"
      ],
      "text/plain": [
       "    0   1   2   3   4\n",
       "2  10  11  12  13  14\n",
       "1   5   6   7   8   9\n",
       "2  10  11  12  13  14"
      ]
     },
     "execution_count": 74,
     "metadata": {},
     "output_type": "execute_result"
    }
   ],
   "source": [
    "nframe.take(sample)"
   ]
  },
  {
   "cell_type": "markdown",
   "id": "f5d9de6b",
   "metadata": {},
   "source": [
    "### Dummy Variables"
   ]
  },
  {
   "cell_type": "code",
   "execution_count": 6,
   "id": "f499669b",
   "metadata": {},
   "outputs": [
    {
     "data": {
      "text/html": [
       "<div>\n",
       "<style scoped>\n",
       "    .dataframe tbody tr th:only-of-type {\n",
       "        vertical-align: middle;\n",
       "    }\n",
       "\n",
       "    .dataframe tbody tr th {\n",
       "        vertical-align: top;\n",
       "    }\n",
       "\n",
       "    .dataframe thead th {\n",
       "        text-align: right;\n",
       "    }\n",
       "</style>\n",
       "<table border=\"1\" class=\"dataframe\">\n",
       "  <thead>\n",
       "    <tr style=\"text-align: right;\">\n",
       "      <th></th>\n",
       "      <th>Temperature</th>\n",
       "    </tr>\n",
       "  </thead>\n",
       "  <tbody>\n",
       "    <tr>\n",
       "      <th>0</th>\n",
       "      <td>Hot</td>\n",
       "    </tr>\n",
       "    <tr>\n",
       "      <th>1</th>\n",
       "      <td>Cold</td>\n",
       "    </tr>\n",
       "    <tr>\n",
       "      <th>2</th>\n",
       "      <td>Warm</td>\n",
       "    </tr>\n",
       "    <tr>\n",
       "      <th>3</th>\n",
       "      <td>Cold</td>\n",
       "    </tr>\n",
       "    <tr>\n",
       "      <th>4</th>\n",
       "      <td>Warm</td>\n",
       "    </tr>\n",
       "    <tr>\n",
       "      <th>5</th>\n",
       "      <td>Cold</td>\n",
       "    </tr>\n",
       "    <tr>\n",
       "      <th>6</th>\n",
       "      <td>Warm</td>\n",
       "    </tr>\n",
       "    <tr>\n",
       "      <th>7</th>\n",
       "      <td>Cold</td>\n",
       "    </tr>\n",
       "  </tbody>\n",
       "</table>\n",
       "</div>"
      ],
      "text/plain": [
       "  Temperature\n",
       "0         Hot\n",
       "1        Cold\n",
       "2        Warm\n",
       "3        Cold\n",
       "4        Warm\n",
       "5        Cold\n",
       "6        Warm\n",
       "7        Cold"
      ]
     },
     "metadata": {},
     "output_type": "display_data"
    },
    {
     "data": {
      "text/html": [
       "<div>\n",
       "<style scoped>\n",
       "    .dataframe tbody tr th:only-of-type {\n",
       "        vertical-align: middle;\n",
       "    }\n",
       "\n",
       "    .dataframe tbody tr th {\n",
       "        vertical-align: top;\n",
       "    }\n",
       "\n",
       "    .dataframe thead th {\n",
       "        text-align: right;\n",
       "    }\n",
       "</style>\n",
       "<table border=\"1\" class=\"dataframe\">\n",
       "  <thead>\n",
       "    <tr style=\"text-align: right;\">\n",
       "      <th></th>\n",
       "      <th>Temperature_Cold</th>\n",
       "      <th>Temperature_Hot</th>\n",
       "      <th>Temperature_Warm</th>\n",
       "    </tr>\n",
       "  </thead>\n",
       "  <tbody>\n",
       "    <tr>\n",
       "      <th>0</th>\n",
       "      <td>0</td>\n",
       "      <td>1</td>\n",
       "      <td>0</td>\n",
       "    </tr>\n",
       "    <tr>\n",
       "      <th>1</th>\n",
       "      <td>1</td>\n",
       "      <td>0</td>\n",
       "      <td>0</td>\n",
       "    </tr>\n",
       "    <tr>\n",
       "      <th>2</th>\n",
       "      <td>0</td>\n",
       "      <td>0</td>\n",
       "      <td>1</td>\n",
       "    </tr>\n",
       "    <tr>\n",
       "      <th>3</th>\n",
       "      <td>1</td>\n",
       "      <td>0</td>\n",
       "      <td>0</td>\n",
       "    </tr>\n",
       "    <tr>\n",
       "      <th>4</th>\n",
       "      <td>0</td>\n",
       "      <td>0</td>\n",
       "      <td>1</td>\n",
       "    </tr>\n",
       "    <tr>\n",
       "      <th>5</th>\n",
       "      <td>1</td>\n",
       "      <td>0</td>\n",
       "      <td>0</td>\n",
       "    </tr>\n",
       "    <tr>\n",
       "      <th>6</th>\n",
       "      <td>0</td>\n",
       "      <td>0</td>\n",
       "      <td>1</td>\n",
       "    </tr>\n",
       "    <tr>\n",
       "      <th>7</th>\n",
       "      <td>1</td>\n",
       "      <td>0</td>\n",
       "      <td>0</td>\n",
       "    </tr>\n",
       "  </tbody>\n",
       "</table>\n",
       "</div>"
      ],
      "text/plain": [
       "   Temperature_Cold  Temperature_Hot  Temperature_Warm\n",
       "0                 0                1                 0\n",
       "1                 1                0                 0\n",
       "2                 0                0                 1\n",
       "3                 1                0                 0\n",
       "4                 0                0                 1\n",
       "5                 1                0                 0\n",
       "6                 0                0                 1\n",
       "7                 1                0                 0"
      ]
     },
     "execution_count": 6,
     "metadata": {},
     "output_type": "execute_result"
    }
   ],
   "source": [
    "import pandas as pd\n",
    " \n",
    "# create dataset\n",
    "df = pd.DataFrame({'Temperature': ['Hot', 'Cold', 'Warm', 'Cold',  'Warm', 'Cold',  'Warm', 'Cold'],\n",
    "                   })\n",
    " \n",
    "# display dataset\n",
    "display(df)\n",
    " \n",
    "# create dummy variables\n",
    "pd.get_dummies(df)"
   ]
  },
  {
   "cell_type": "code",
   "execution_count": 8,
   "id": "c4ff2650",
   "metadata": {},
   "outputs": [
    {
     "data": {
      "text/html": [
       "<div>\n",
       "<style scoped>\n",
       "    .dataframe tbody tr th:only-of-type {\n",
       "        vertical-align: middle;\n",
       "    }\n",
       "\n",
       "    .dataframe tbody tr th {\n",
       "        vertical-align: top;\n",
       "    }\n",
       "\n",
       "    .dataframe thead th {\n",
       "        text-align: right;\n",
       "    }\n",
       "</style>\n",
       "<table border=\"1\" class=\"dataframe\">\n",
       "  <thead>\n",
       "    <tr style=\"text-align: right;\">\n",
       "      <th></th>\n",
       "      <th>A</th>\n",
       "      <th>B</th>\n",
       "      <th>C</th>\n",
       "    </tr>\n",
       "  </thead>\n",
       "  <tbody>\n",
       "    <tr>\n",
       "      <th>0</th>\n",
       "      <td>hello</td>\n",
       "      <td>vignan</td>\n",
       "      <td>1</td>\n",
       "    </tr>\n",
       "    <tr>\n",
       "      <th>1</th>\n",
       "      <td>vignan</td>\n",
       "      <td>hello</td>\n",
       "      <td>2</td>\n",
       "    </tr>\n",
       "    <tr>\n",
       "      <th>2</th>\n",
       "      <td>geeks</td>\n",
       "      <td>hello</td>\n",
       "      <td>3</td>\n",
       "    </tr>\n",
       "  </tbody>\n",
       "</table>\n",
       "</div>"
      ],
      "text/plain": [
       "        A       B  C\n",
       "0   hello  vignan  1\n",
       "1  vignan   hello  2\n",
       "2   geeks   hello  3"
      ]
     },
     "metadata": {},
     "output_type": "display_data"
    },
    {
     "data": {
      "text/html": [
       "<div>\n",
       "<style scoped>\n",
       "    .dataframe tbody tr th:only-of-type {\n",
       "        vertical-align: middle;\n",
       "    }\n",
       "\n",
       "    .dataframe tbody tr th {\n",
       "        vertical-align: top;\n",
       "    }\n",
       "\n",
       "    .dataframe thead th {\n",
       "        text-align: right;\n",
       "    }\n",
       "</style>\n",
       "<table border=\"1\" class=\"dataframe\">\n",
       "  <thead>\n",
       "    <tr style=\"text-align: right;\">\n",
       "      <th></th>\n",
       "      <th>C</th>\n",
       "      <th>A_geeks</th>\n",
       "      <th>A_hello</th>\n",
       "      <th>A_vignan</th>\n",
       "      <th>B_hello</th>\n",
       "      <th>B_vignan</th>\n",
       "    </tr>\n",
       "  </thead>\n",
       "  <tbody>\n",
       "    <tr>\n",
       "      <th>0</th>\n",
       "      <td>1</td>\n",
       "      <td>0</td>\n",
       "      <td>1</td>\n",
       "      <td>0</td>\n",
       "      <td>0</td>\n",
       "      <td>1</td>\n",
       "    </tr>\n",
       "    <tr>\n",
       "      <th>1</th>\n",
       "      <td>2</td>\n",
       "      <td>0</td>\n",
       "      <td>0</td>\n",
       "      <td>1</td>\n",
       "      <td>1</td>\n",
       "      <td>0</td>\n",
       "    </tr>\n",
       "    <tr>\n",
       "      <th>2</th>\n",
       "      <td>3</td>\n",
       "      <td>1</td>\n",
       "      <td>0</td>\n",
       "      <td>0</td>\n",
       "      <td>1</td>\n",
       "      <td>0</td>\n",
       "    </tr>\n",
       "  </tbody>\n",
       "</table>\n",
       "</div>"
      ],
      "text/plain": [
       "   C  A_geeks  A_hello  A_vignan  B_hello  B_vignan\n",
       "0  1        0        1         0        0         1\n",
       "1  2        0        0         1        1         0\n",
       "2  3        1        0         0        1         0"
      ]
     },
     "execution_count": 8,
     "metadata": {},
     "output_type": "execute_result"
    }
   ],
   "source": [
    "import pandas as pd\n",
    " \n",
    "# create dataset\n",
    "df = pd.DataFrame({'A': ['hello', 'vignan', 'geeks'],\n",
    "                   'B': ['vignan', 'hello', 'hello'],\n",
    "                   'C': [1, 2, 3]})\n",
    " \n",
    "# display dataset\n",
    "display(df)\n",
    " \n",
    "# create dummy variables\n",
    "pd.get_dummies(df)"
   ]
  },
  {
   "cell_type": "markdown",
   "id": "f8174f10-c723-4929-b171-3e37529c2d1d",
   "metadata": {
    "jp-MarkdownHeadingCollapsed": true
   },
   "source": [
    "### Groupby (Opcional)"
   ]
  },
  {
   "cell_type": "code",
   "execution_count": 9,
   "id": "91211c71-6745-4275-9a86-e7ca0ab2f596",
   "metadata": {},
   "outputs": [
    {
     "data": {
      "text/html": [
       "<div>\n",
       "<style scoped>\n",
       "    .dataframe tbody tr th:only-of-type {\n",
       "        vertical-align: middle;\n",
       "    }\n",
       "\n",
       "    .dataframe tbody tr th {\n",
       "        vertical-align: top;\n",
       "    }\n",
       "\n",
       "    .dataframe thead th {\n",
       "        text-align: right;\n",
       "    }\n",
       "</style>\n",
       "<table border=\"1\" class=\"dataframe\">\n",
       "  <thead>\n",
       "    <tr style=\"text-align: right;\">\n",
       "      <th></th>\n",
       "      <th>color</th>\n",
       "      <th>object</th>\n",
       "      <th>price1</th>\n",
       "      <th>price2</th>\n",
       "    </tr>\n",
       "  </thead>\n",
       "  <tbody>\n",
       "    <tr>\n",
       "      <th>0</th>\n",
       "      <td>white</td>\n",
       "      <td>pen</td>\n",
       "      <td>5.56</td>\n",
       "      <td>4.75</td>\n",
       "    </tr>\n",
       "    <tr>\n",
       "      <th>1</th>\n",
       "      <td>red</td>\n",
       "      <td>pencil</td>\n",
       "      <td>4.20</td>\n",
       "      <td>4.12</td>\n",
       "    </tr>\n",
       "    <tr>\n",
       "      <th>2</th>\n",
       "      <td>green</td>\n",
       "      <td>pencil</td>\n",
       "      <td>1.30</td>\n",
       "      <td>1.60</td>\n",
       "    </tr>\n",
       "    <tr>\n",
       "      <th>3</th>\n",
       "      <td>red</td>\n",
       "      <td>ashtray</td>\n",
       "      <td>0.56</td>\n",
       "      <td>0.75</td>\n",
       "    </tr>\n",
       "    <tr>\n",
       "      <th>4</th>\n",
       "      <td>green</td>\n",
       "      <td>pen</td>\n",
       "      <td>2.75</td>\n",
       "      <td>3.15</td>\n",
       "    </tr>\n",
       "  </tbody>\n",
       "</table>\n",
       "</div>"
      ],
      "text/plain": [
       "   color   object  price1  price2\n",
       "0  white      pen    5.56    4.75\n",
       "1    red   pencil    4.20    4.12\n",
       "2  green   pencil    1.30    1.60\n",
       "3    red  ashtray    0.56    0.75\n",
       "4  green      pen    2.75    3.15"
      ]
     },
     "execution_count": 9,
     "metadata": {},
     "output_type": "execute_result"
    }
   ],
   "source": [
    "frame = pd.DataFrame({ 'color': ['white','red','green','red','green'], 'object': ['pen','pencil','pencil','ashtray','pen'], 'price1' : [5.56,4.20,1.30,0.56,2.75], 'price2' : [4.75,4.12,1.60,0.75,3.15]})\n",
    "frame"
   ]
  },
  {
   "cell_type": "code",
   "execution_count": 20,
   "id": "c7a25964-ff9e-4c96-9567-c092373f7587",
   "metadata": {},
   "outputs": [
    {
     "data": {
      "text/html": [
       "<div>\n",
       "<style scoped>\n",
       "    .dataframe tbody tr th:only-of-type {\n",
       "        vertical-align: middle;\n",
       "    }\n",
       "\n",
       "    .dataframe tbody tr th {\n",
       "        vertical-align: top;\n",
       "    }\n",
       "\n",
       "    .dataframe thead th {\n",
       "        text-align: right;\n",
       "    }\n",
       "</style>\n",
       "<table border=\"1\" class=\"dataframe\">\n",
       "  <thead>\n",
       "    <tr style=\"text-align: right;\">\n",
       "      <th></th>\n",
       "      <th>price1</th>\n",
       "    </tr>\n",
       "    <tr>\n",
       "      <th>color</th>\n",
       "      <th></th>\n",
       "    </tr>\n",
       "  </thead>\n",
       "  <tbody>\n",
       "    <tr>\n",
       "      <th>green</th>\n",
       "      <td>2.75</td>\n",
       "    </tr>\n",
       "    <tr>\n",
       "      <th>red</th>\n",
       "      <td>4.20</td>\n",
       "    </tr>\n",
       "    <tr>\n",
       "      <th>white</th>\n",
       "      <td>5.56</td>\n",
       "    </tr>\n",
       "  </tbody>\n",
       "</table>\n",
       "</div>"
      ],
      "text/plain": [
       "       price1\n",
       "color        \n",
       "green    2.75\n",
       "red      4.20\n",
       "white    5.56"
      ]
     },
     "execution_count": 20,
     "metadata": {},
     "output_type": "execute_result"
    }
   ],
   "source": [
    "group = frame['price1'].groupby(frame['color'])\n",
    "group.max().to_frame()"
   ]
  },
  {
   "cell_type": "code",
   "execution_count": 21,
   "id": "04c38151-d772-47f3-bc6a-5d2790ec893f",
   "metadata": {},
   "outputs": [
    {
     "data": {
      "text/html": [
       "<div>\n",
       "<style scoped>\n",
       "    .dataframe tbody tr th:only-of-type {\n",
       "        vertical-align: middle;\n",
       "    }\n",
       "\n",
       "    .dataframe tbody tr th {\n",
       "        vertical-align: top;\n",
       "    }\n",
       "\n",
       "    .dataframe thead th {\n",
       "        text-align: right;\n",
       "    }\n",
       "</style>\n",
       "<table border=\"1\" class=\"dataframe\">\n",
       "  <thead>\n",
       "    <tr style=\"text-align: right;\">\n",
       "      <th></th>\n",
       "      <th></th>\n",
       "      <th>price1</th>\n",
       "    </tr>\n",
       "    <tr>\n",
       "      <th>color</th>\n",
       "      <th>object</th>\n",
       "      <th></th>\n",
       "    </tr>\n",
       "  </thead>\n",
       "  <tbody>\n",
       "    <tr>\n",
       "      <th rowspan=\"2\" valign=\"top\">green</th>\n",
       "      <th>pen</th>\n",
       "      <td>2.75</td>\n",
       "    </tr>\n",
       "    <tr>\n",
       "      <th>pencil</th>\n",
       "      <td>1.30</td>\n",
       "    </tr>\n",
       "    <tr>\n",
       "      <th rowspan=\"2\" valign=\"top\">red</th>\n",
       "      <th>ashtray</th>\n",
       "      <td>0.56</td>\n",
       "    </tr>\n",
       "    <tr>\n",
       "      <th>pencil</th>\n",
       "      <td>4.20</td>\n",
       "    </tr>\n",
       "    <tr>\n",
       "      <th>white</th>\n",
       "      <th>pen</th>\n",
       "      <td>5.56</td>\n",
       "    </tr>\n",
       "  </tbody>\n",
       "</table>\n",
       "</div>"
      ],
      "text/plain": [
       "               price1\n",
       "color object         \n",
       "green pen        2.75\n",
       "      pencil     1.30\n",
       "red   ashtray    0.56\n",
       "      pencil     4.20\n",
       "white pen        5.56"
      ]
     },
     "execution_count": 21,
     "metadata": {},
     "output_type": "execute_result"
    }
   ],
   "source": [
    "group2 = frame['price1'].groupby([frame['color'],frame['object']])\n",
    "group2.mean().to_frame()"
   ]
  },
  {
   "cell_type": "code",
   "execution_count": 24,
   "id": "a3b30697-a199-4556-b6ab-df31d2abb72f",
   "metadata": {},
   "outputs": [
    {
     "data": {
      "text/html": [
       "<div>\n",
       "<style scoped>\n",
       "    .dataframe tbody tr th:only-of-type {\n",
       "        vertical-align: middle;\n",
       "    }\n",
       "\n",
       "    .dataframe tbody tr th {\n",
       "        vertical-align: top;\n",
       "    }\n",
       "\n",
       "    .dataframe thead th {\n",
       "        text-align: right;\n",
       "    }\n",
       "</style>\n",
       "<table border=\"1\" class=\"dataframe\">\n",
       "  <thead>\n",
       "    <tr style=\"text-align: right;\">\n",
       "      <th></th>\n",
       "      <th>mean_price1</th>\n",
       "      <th>mean_price2</th>\n",
       "    </tr>\n",
       "    <tr>\n",
       "      <th>color</th>\n",
       "      <th></th>\n",
       "      <th></th>\n",
       "    </tr>\n",
       "  </thead>\n",
       "  <tbody>\n",
       "    <tr>\n",
       "      <th>green</th>\n",
       "      <td>2.025</td>\n",
       "      <td>2.375</td>\n",
       "    </tr>\n",
       "    <tr>\n",
       "      <th>red</th>\n",
       "      <td>2.380</td>\n",
       "      <td>2.435</td>\n",
       "    </tr>\n",
       "    <tr>\n",
       "      <th>white</th>\n",
       "      <td>5.560</td>\n",
       "      <td>4.750</td>\n",
       "    </tr>\n",
       "  </tbody>\n",
       "</table>\n",
       "</div>"
      ],
      "text/plain": [
       "       mean_price1  mean_price2\n",
       "color                          \n",
       "green        2.025        2.375\n",
       "red          2.380        2.435\n",
       "white        5.560        4.750"
      ]
     },
     "execution_count": 24,
     "metadata": {},
     "output_type": "execute_result"
    }
   ],
   "source": [
    "frame[['price1','price2']].groupby(frame['color']).mean().add_prefix('mean_') "
   ]
  },
  {
   "cell_type": "code",
   "execution_count": 79,
   "id": "0b62a5d4-28f4-4db7-bcaa-c76936ebaa95",
   "metadata": {},
   "outputs": [
    {
     "data": {
      "text/plain": [
       "DatetimeIndex(['2015-01-01 00:00:00', '2015-01-01 01:00:00',\n",
       "               '2015-01-01 02:00:00', '2015-01-01 03:00:00',\n",
       "               '2015-01-01 04:00:00', '2015-01-01 05:00:00',\n",
       "               '2015-01-01 06:00:00', '2015-01-01 07:00:00',\n",
       "               '2015-01-01 08:00:00', '2015-01-01 09:00:00'],\n",
       "              dtype='datetime64[ns]', freq='H')"
      ]
     },
     "execution_count": 79,
     "metadata": {},
     "output_type": "execute_result"
    }
   ],
   "source": [
    "temp = pd.date_range('1/1/2015', periods=10, freq= 'H')\n",
    "temp"
   ]
  },
  {
   "cell_type": "markdown",
   "id": "d56b4501-bd4c-4066-bc9e-3a13e503b200",
   "metadata": {
    "jp-MarkdownHeadingCollapsed": true
   },
   "source": [
    "### Datetime"
   ]
  },
  {
   "cell_type": "code",
   "execution_count": 30,
   "id": "c21e5b6a-c5f9-4288-9d26-a6f36ebde938",
   "metadata": {},
   "outputs": [
    {
     "data": {
      "text/plain": [
       "Timestamp('2000-12-13 00:00:00')"
      ]
     },
     "execution_count": 30,
     "metadata": {},
     "output_type": "execute_result"
    }
   ],
   "source": [
    "import datetime\n",
    "#datetime.datetime.strptime(\"12-13/2000\", \"%m-%d/%Y\")\n",
    "pd.to_datetime(\"12-13/2000\")"
   ]
  },
  {
   "cell_type": "code",
   "execution_count": 87,
   "id": "69694ac9-e32a-49f0-b8ec-593e834fab47",
   "metadata": {},
   "outputs": [
    {
     "data": {
      "text/plain": [
       "'2000 de  - 01 para el mes 01'"
      ]
     },
     "execution_count": 87,
     "metadata": {},
     "output_type": "execute_result"
    }
   ],
   "source": [
    "datetime.datetime(2000,1,1,0,0).strftime(\"%Y de  - %d para el mes %m\")"
   ]
  },
  {
   "cell_type": "code",
   "execution_count": 82,
   "id": "0d94b34e-569a-4e8d-adda-ef7a44678870",
   "metadata": {},
   "outputs": [
    {
     "data": {
      "text/plain": [
       "Timestamp('2015-07-04 00:00:00')"
      ]
     },
     "execution_count": 82,
     "metadata": {},
     "output_type": "execute_result"
    }
   ],
   "source": [
    "pd.to_datetime(\"2015 4th of July\")"
   ]
  },
  {
   "cell_type": "code",
   "execution_count": 83,
   "id": "1d6edcd0-0a57-4c5c-a48d-802e2b085267",
   "metadata": {},
   "outputs": [
    {
     "name": "stderr",
     "output_type": "stream",
     "text": [
      "/var/folders/pb/ldktvl7n1cjb78yx2vbmbmdr0000gn/T/ipykernel_24607/1908145606.py:1: UserWarning: Parsing dates in DD/MM/YYYY format when dayfirst=False (the default) was specified. This may lead to inconsistently parsed dates! Specify a format to ensure consistent parsing.\n",
      "  pd.to_datetime(\"13.01.2000\")\n"
     ]
    },
    {
     "data": {
      "text/plain": [
       "Timestamp('2000-01-13 00:00:00')"
      ]
     },
     "execution_count": 83,
     "metadata": {},
     "output_type": "execute_result"
    }
   ],
   "source": [
    "pd.to_datetime(\"13.01.2000\")"
   ]
  },
  {
   "cell_type": "code",
   "execution_count": 35,
   "id": "d7b4bb73-213b-414f-a151-cadf6e5aa0a6",
   "metadata": {},
   "outputs": [
    {
     "data": {
      "text/plain": [
       "7"
      ]
     },
     "execution_count": 35,
     "metadata": {},
     "output_type": "execute_result"
    }
   ],
   "source": [
    "pd.to_datetime(\"7/8/2021\", dayfirst=True).day"
   ]
  },
  {
   "cell_type": "code",
   "execution_count": 85,
   "id": "8269cb31-45ae-4f67-bcc3-e4d00ada372d",
   "metadata": {},
   "outputs": [
    {
     "data": {
      "text/plain": [
       "DatetimeIndex(['2015-01-01', '2015-02-02', '2015-03-02', '2015-04-01',\n",
       "               '2015-05-01', '2015-06-01', '2015-07-01', '2015-08-03',\n",
       "               '2015-09-01', '2015-10-01', '2015-11-02', '2015-12-01',\n",
       "               '2016-01-01', '2016-02-01', '2016-03-01'],\n",
       "              dtype='datetime64[ns]', freq='BMS')"
      ]
     },
     "execution_count": 85,
     "metadata": {},
     "output_type": "execute_result"
    }
   ],
   "source": [
    "temp = pd.date_range('1/1/2015', periods=15, freq= 'BMS')\n",
    "temp"
   ]
  },
  {
   "cell_type": "code",
   "execution_count": 89,
   "id": "c7b83e4b-a859-4616-b33a-d40a19915e66",
   "metadata": {},
   "outputs": [
    {
     "name": "stderr",
     "output_type": "stream",
     "text": [
      "/var/folders/pb/ldktvl7n1cjb78yx2vbmbmdr0000gn/T/ipykernel_42978/4084037069.py:2: FutureWarning: The pandas.datetime class is deprecated and will be removed from pandas in a future version. Import from datetime module instead.\n",
      "  day_range = pd.date_range(pd.datetime(2016,9,12,18),pd.datetime.now(),freq=cbh)\n"
     ]
    },
    {
     "data": {
      "text/plain": [
       "DatetimeIndex(['2000-01-03', '2000-01-04', '2000-01-05', '2000-01-06',\n",
       "               '2000-01-07', '2000-01-10', '2000-01-11', '2000-01-12',\n",
       "               '2000-01-13', '2000-01-14', '2000-01-17', '2000-01-18',\n",
       "               '2000-01-19', '2000-01-20', '2000-01-21', '2000-01-24',\n",
       "               '2000-01-25', '2000-01-26', '2000-01-27', '2000-01-28'],\n",
       "              dtype='datetime64[ns]', freq='B')"
      ]
     },
     "metadata": {},
     "output_type": "display_data"
    }
   ],
   "source": [
    "cbh = pd.offsets.CustomBusinessHour(start='06:00', end='16:00', weekmask='Mon Tue Wed Thu Fri Sat')\n",
    "day_range = pd.date_range(pd.datetime(2016,9,12,18),pd.datetime.now(),freq=cbh)\n",
    "index = pd.date_range(start='2000-01-01',periods=20,freq='B')\n",
    "display(index)"
   ]
  },
  {
   "cell_type": "code",
   "execution_count": 87,
   "id": "9514a000-7739-470b-8130-82a2d59d504d",
   "metadata": {},
   "outputs": [
    {
     "name": "stderr",
     "output_type": "stream",
     "text": [
      "/var/folders/pb/ldktvl7n1cjb78yx2vbmbmdr0000gn/T/ipykernel_24607/627754903.py:1: FutureWarning: The pandas.datetime class is deprecated and will be removed from pandas in a future version. Import from datetime module instead.\n",
      "  pd.datetime.now()\n"
     ]
    },
    {
     "data": {
      "text/plain": [
       "datetime.datetime(2023, 10, 2, 15, 45, 11, 571748)"
      ]
     },
     "execution_count": 87,
     "metadata": {},
     "output_type": "execute_result"
    }
   ],
   "source": [
    "pd.datetime.now()"
   ]
  },
  {
   "cell_type": "code",
   "execution_count": 88,
   "id": "c975ae1b-4abc-4303-8085-1fee44152cd8",
   "metadata": {},
   "outputs": [
    {
     "data": {
      "text/plain": [
       "DatetimeIndex(['2016-09-13 06:00:00', '2016-09-13 07:00:00',\n",
       "               '2016-09-13 08:00:00', '2016-09-13 09:00:00',\n",
       "               '2016-09-13 10:00:00', '2016-09-13 11:00:00',\n",
       "               '2016-09-13 12:00:00', '2016-09-13 13:00:00',\n",
       "               '2016-09-13 14:00:00', '2016-09-13 15:00:00',\n",
       "               ...\n",
       "               '2023-10-02 06:00:00', '2023-10-02 07:00:00',\n",
       "               '2023-10-02 08:00:00', '2023-10-02 09:00:00',\n",
       "               '2023-10-02 10:00:00', '2023-10-02 11:00:00',\n",
       "               '2023-10-02 12:00:00', '2023-10-02 13:00:00',\n",
       "               '2023-10-02 14:00:00', '2023-10-02 15:00:00'],\n",
       "              dtype='datetime64[ns]', length=22080, freq='CBH')"
      ]
     },
     "execution_count": 88,
     "metadata": {},
     "output_type": "execute_result"
    }
   ],
   "source": [
    "day_range"
   ]
  },
  {
   "cell_type": "code",
   "execution_count": 42,
   "id": "2fdfc8df-946b-49ab-bb52-b88d3e851db4",
   "metadata": {},
   "outputs": [
    {
     "name": "stderr",
     "output_type": "stream",
     "text": [
      "/var/folders/pb/ldktvl7n1cjb78yx2vbmbmdr0000gn/T/ipykernel_59385/2132220850.py:3: FutureWarning: The pandas.datetime class is deprecated and will be removed from pandas in a future version. Import from datetime module instead.\n",
      "  day_range = pd.date_range(pd.datetime(2016,9,12,18),pd.datetime.now(),freq=cbh)\n"
     ]
    },
    {
     "data": {
      "text/plain": [
       "<Axes: >"
      ]
     },
     "execution_count": 42,
     "metadata": {},
     "output_type": "execute_result"
    },
    {
     "data": {
      "image/png": "[encoded data removed]",
      "text/plain": [
       "<Figure size 640x480 with 1 Axes>"
      ]
     },
     "metadata": {},
     "output_type": "display_data"
    }
   ],
   "source": [
    "import numpy as np\n",
    "cbh = pd.offsets.CustomBusinessHour(start='06:00', end='16:00', weekmask='Mon Tue Wed Thu Fri Sat')\n",
    "day_range = pd.date_range(pd.datetime(2016,9,12,18),pd.datetime.now(),freq=cbh)\n",
    "index = pd.date_range(start='2000-01-01',periods=500,freq='B')\n",
    "ts = pd.Series(np.random.randn(len(index)),index=index)\n",
    "walk = ts.cumsum()\n",
    "walk.plot()"
   ]
  },
  {
   "cell_type": "code",
   "execution_count": 90,
   "id": "32d701d8-7819-4899-ade2-78f15ae256fa",
   "metadata": {},
   "outputs": [
    {
     "data": {
      "text/plain": [
       "2000-01-03   -1.861962\n",
       "2000-01-04    1.650040\n",
       "2000-01-05    0.090001\n",
       "2000-01-06    0.881006\n",
       "Freq: B, dtype: float64"
      ]
     },
     "execution_count": 90,
     "metadata": {},
     "output_type": "execute_result"
    }
   ],
   "source": [
    "ts['2000-01-03':'2000-01-06']"
   ]
  },
  {
   "cell_type": "markdown",
   "id": "5701064d-266d-480e-83d0-b90befc47c04",
   "metadata": {},
   "source": [
    "#### Downsampling"
   ]
  },
  {
   "cell_type": "code",
   "execution_count": 91,
   "id": "9d8c98b8-4d49-42e3-8108-855421039961",
   "metadata": {},
   "outputs": [
    {
     "data": {
      "text/plain": [
       "2015-04-29 08:00:00    40\n",
       "2015-04-29 08:01:00    37\n",
       "2015-04-29 08:02:00    21\n",
       "2015-04-29 08:03:00     2\n",
       "2015-04-29 08:04:00    81\n",
       "Freq: T, dtype: int64"
      ]
     },
     "execution_count": 91,
     "metadata": {},
     "output_type": "execute_result"
    }
   ],
   "source": [
    "rng = pd.date_range('4/29/2015 8:00', periods=600, freq='T')\n",
    "ts = pd.Series(np.random.randint(0,100, len(rng)), index=rng)\n",
    "ts.head()"
   ]
  },
  {
   "cell_type": "code",
   "execution_count": 92,
   "id": "184e325f-c89f-49d4-b1b6-ca27c6427ded",
   "metadata": {},
   "outputs": [
    {
     "data": {
      "text/plain": [
       "2015-04-29 08:00:00    347\n",
       "2015-04-29 08:10:00    417\n",
       "2015-04-29 08:20:00    501\n",
       "2015-04-29 08:30:00    520\n",
       "2015-04-29 08:40:00    367\n",
       "2015-04-29 08:50:00    326\n",
       "2015-04-29 09:00:00    519\n",
       "2015-04-29 09:10:00    721\n",
       "2015-04-29 09:20:00    434\n",
       "2015-04-29 09:30:00    382\n",
       "2015-04-29 09:40:00    571\n",
       "2015-04-29 09:50:00    442\n",
       "2015-04-29 10:00:00    527\n",
       "2015-04-29 10:10:00    564\n",
       "2015-04-29 10:20:00    393\n",
       "2015-04-29 10:30:00    455\n",
       "2015-04-29 10:40:00    572\n",
       "2015-04-29 10:50:00    435\n",
       "2015-04-29 11:00:00    614\n",
       "2015-04-29 11:10:00    532\n",
       "2015-04-29 11:20:00    502\n",
       "2015-04-29 11:30:00    480\n",
       "2015-04-29 11:40:00    597\n",
       "2015-04-29 11:50:00    590\n",
       "2015-04-29 12:00:00    491\n",
       "2015-04-29 12:10:00    567\n",
       "2015-04-29 12:20:00    614\n",
       "2015-04-29 12:30:00    467\n",
       "2015-04-29 12:40:00    630\n",
       "2015-04-29 12:50:00    594\n",
       "2015-04-29 13:00:00    214\n",
       "2015-04-29 13:10:00    397\n",
       "2015-04-29 13:20:00    239\n",
       "2015-04-29 13:30:00    566\n",
       "2015-04-29 13:40:00    571\n",
       "2015-04-29 13:50:00    419\n",
       "2015-04-29 14:00:00    602\n",
       "2015-04-29 14:10:00    497\n",
       "2015-04-29 14:20:00    471\n",
       "2015-04-29 14:30:00    400\n",
       "2015-04-29 14:40:00    482\n",
       "2015-04-29 14:50:00    634\n",
       "2015-04-29 15:00:00    460\n",
       "2015-04-29 15:10:00    401\n",
       "2015-04-29 15:20:00    609\n",
       "2015-04-29 15:30:00    452\n",
       "2015-04-29 15:40:00    554\n",
       "2015-04-29 15:50:00    375\n",
       "2015-04-29 16:00:00    498\n",
       "2015-04-29 16:10:00    404\n",
       "2015-04-29 16:20:00    594\n",
       "2015-04-29 16:30:00    307\n",
       "2015-04-29 16:40:00    491\n",
       "2015-04-29 16:50:00    439\n",
       "2015-04-29 17:00:00    622\n",
       "2015-04-29 17:10:00    563\n",
       "2015-04-29 17:20:00    494\n",
       "2015-04-29 17:30:00    356\n",
       "2015-04-29 17:40:00    404\n",
       "2015-04-29 17:50:00    466\n",
       "Freq: 10T, dtype: int64"
      ]
     },
     "execution_count": 92,
     "metadata": {},
     "output_type": "execute_result"
    }
   ],
   "source": [
    "ts.resample('10min').sum()"
   ]
  },
  {
   "cell_type": "markdown",
   "id": "110bfe28-cf0c-4a84-849f-43b319dbacba",
   "metadata": {},
   "source": [
    "#### Upsampling"
   ]
  },
  {
   "cell_type": "code",
   "execution_count": 93,
   "id": "21fad49b-d118-4b48-ba3b-077b30f93072",
   "metadata": {},
   "outputs": [],
   "source": [
    "rng = pd.date_range('4/29/2015 8:00', periods=10, freq='H')\n",
    "ts = pd.Series(np.random.randint(0,100, len(rng)), index=rng)"
   ]
  },
  {
   "cell_type": "code",
   "execution_count": 94,
   "id": "32453b17-d869-4ff4-9606-3873b0d88e5c",
   "metadata": {},
   "outputs": [
    {
     "data": {
      "text/plain": [
       "2015-04-29 08:00:00    17.0\n",
       "2015-04-29 08:15:00     NaN\n",
       "2015-04-29 08:30:00     NaN\n",
       "2015-04-29 08:45:00     NaN\n",
       "2015-04-29 09:00:00    70.0\n",
       "2015-04-29 09:15:00     NaN\n",
       "2015-04-29 09:30:00     NaN\n",
       "2015-04-29 09:45:00     NaN\n",
       "2015-04-29 10:00:00    98.0\n",
       "2015-04-29 10:15:00     NaN\n",
       "Freq: 15T, dtype: float64"
      ]
     },
     "execution_count": 94,
     "metadata": {},
     "output_type": "execute_result"
    }
   ],
   "source": [
    "ts.resample('15min').first().head(10)"
   ]
  },
  {
   "cell_type": "code",
   "execution_count": 95,
   "id": "42418fc7-dfff-41b1-80c7-49e47432280d",
   "metadata": {},
   "outputs": [
    {
     "data": {
      "text/plain": [
       "2015-04-29 08:00:00    17.00\n",
       "2015-04-29 08:15:00    30.25\n",
       "2015-04-29 08:30:00    43.50\n",
       "2015-04-29 08:45:00    56.75\n",
       "2015-04-29 09:00:00    70.00\n",
       "2015-04-29 09:15:00    77.00\n",
       "2015-04-29 09:30:00    84.00\n",
       "2015-04-29 09:45:00    91.00\n",
       "2015-04-29 10:00:00    98.00\n",
       "2015-04-29 10:15:00    76.75\n",
       "Freq: 15T, dtype: float64"
      ]
     },
     "execution_count": 95,
     "metadata": {},
     "output_type": "execute_result"
    }
   ],
   "source": [
    "ts.resample('15min').interpolate().head(10)"
   ]
  },
  {
   "cell_type": "code",
   "execution_count": 96,
   "id": "7fe0f84e-4f43-434f-a229-a330734e75ba",
   "metadata": {},
   "outputs": [
    {
     "data": {
      "text/plain": [
       "2015-04-29 08:00:00    17\n",
       "2015-04-29 08:15:00    70\n",
       "2015-04-29 08:30:00    70\n",
       "2015-04-29 08:45:00    70\n",
       "2015-04-29 09:00:00    70\n",
       "2015-04-29 09:15:00    98\n",
       "2015-04-29 09:30:00    98\n",
       "2015-04-29 09:45:00    98\n",
       "2015-04-29 10:00:00    98\n",
       "2015-04-29 10:15:00    13\n",
       "Freq: 15T, dtype: int64"
      ]
     },
     "execution_count": 96,
     "metadata": {},
     "output_type": "execute_result"
    }
   ],
   "source": [
    "ts.resample('15min').bfill().head(10)"
   ]
  },
  {
   "cell_type": "code",
   "execution_count": 97,
   "id": "21bb1563-9386-406b-a001-0cb01fe045bd",
   "metadata": {},
   "outputs": [
    {
     "data": {
      "text/plain": [
       "2015-04-29 08:00:00    17.0\n",
       "2015-04-29 08:15:00    17.0\n",
       "2015-04-29 08:30:00    17.0\n",
       "2015-04-29 08:45:00     NaN\n",
       "2015-04-29 09:00:00    70.0\n",
       "2015-04-29 09:15:00    70.0\n",
       "2015-04-29 09:30:00    70.0\n",
       "2015-04-29 09:45:00     NaN\n",
       "2015-04-29 10:00:00    98.0\n",
       "2015-04-29 10:15:00    98.0\n",
       "Freq: 15T, dtype: float64"
      ]
     },
     "execution_count": 97,
     "metadata": {},
     "output_type": "execute_result"
    }
   ],
   "source": [
    "ts.resample('15min').ffill(limit=2).head(10)"
   ]
  },
  {
   "cell_type": "markdown",
   "id": "0db26714-af6d-4593-835e-bff0c09aac7f",
   "metadata": {},
   "source": [
    "#### Zona horaria y time deltas"
   ]
  },
  {
   "cell_type": "code",
   "execution_count": 99,
   "id": "9eae77a5-4557-4047-a380-dd86caeb64e5",
   "metadata": {},
   "outputs": [],
   "source": [
    "tz1 = pytz.timezone('Europe/London')\n",
    "tz2 = pytz.timezone('America/Bogota')\n",
    "time = pd.date_range('1/1/2021 00:00', periods=10, tz=tz1)\n",
    "time2 = time.tz_convert(tz2)"
   ]
  },
  {
   "cell_type": "code",
   "execution_count": 100,
   "id": "04b789d8-fabc-49e8-b875-89a6318e66f3",
   "metadata": {},
   "outputs": [
    {
     "data": {
      "text/plain": [
       "DatetimeIndex(['2021-01-01 00:00:00+00:00', '2021-01-02 00:00:00+00:00',\n",
       "               '2021-01-03 00:00:00+00:00', '2021-01-04 00:00:00+00:00',\n",
       "               '2021-01-05 00:00:00+00:00', '2021-01-06 00:00:00+00:00',\n",
       "               '2021-01-07 00:00:00+00:00', '2021-01-08 00:00:00+00:00',\n",
       "               '2021-01-09 00:00:00+00:00', '2021-01-10 00:00:00+00:00'],\n",
       "              dtype='datetime64[ns, Europe/London]', freq='D')"
      ]
     },
     "execution_count": 100,
     "metadata": {},
     "output_type": "execute_result"
    }
   ],
   "source": [
    "time"
   ]
  },
  {
   "cell_type": "code",
   "execution_count": 101,
   "id": "7fc151b5-f019-480b-86c0-d39fa84b6d14",
   "metadata": {},
   "outputs": [
    {
     "data": {
      "text/plain": [
       "DatetimeIndex(['2020-12-31 19:00:00-05:00', '2021-01-01 19:00:00-05:00',\n",
       "               '2021-01-02 19:00:00-05:00', '2021-01-03 19:00:00-05:00',\n",
       "               '2021-01-04 19:00:00-05:00', '2021-01-05 19:00:00-05:00',\n",
       "               '2021-01-06 19:00:00-05:00', '2021-01-07 19:00:00-05:00',\n",
       "               '2021-01-08 19:00:00-05:00', '2021-01-09 19:00:00-05:00'],\n",
       "              dtype='datetime64[ns, America/Bogota]', freq='D')"
      ]
     },
     "execution_count": 101,
     "metadata": {},
     "output_type": "execute_result"
    }
   ],
   "source": [
    "time2"
   ]
  },
  {
   "cell_type": "code",
   "execution_count": 102,
   "id": "e77851de-651b-4c8a-95a3-d69a637b837d",
   "metadata": {},
   "outputs": [
    {
     "data": {
      "text/plain": [
       "Timestamp('2021-01-04 19:00:00-0500', tz='America/Bogota', freq='D')"
      ]
     },
     "execution_count": 102,
     "metadata": {},
     "output_type": "execute_result"
    }
   ],
   "source": [
    "time[2]-time2[1]+time2[3]"
   ]
  },
  {
   "cell_type": "code",
   "execution_count": 103,
   "id": "8598fc6c-f2a8-4d92-a4e7-ebe11f29c87d",
   "metadata": {},
   "outputs": [
    {
     "data": {
      "text/plain": [
       "Timestamp('2021-01-01 21:04:08.000034-0500', tz='America/Bogota', freq='D')"
      ]
     },
     "execution_count": 103,
     "metadata": {},
     "output_type": "execute_result"
    }
   ],
   "source": [
    "td = pd.Timedelta('1day 2 hour 4min 8s 34us')\n",
    "time2[0]+td"
   ]
  },
  {
   "cell_type": "code",
   "execution_count": 104,
   "id": "5f7909a5-b8e1-4b96-b56d-93db05c8c80f",
   "metadata": {},
   "outputs": [
    {
     "data": {
      "text/plain": [
       "TimedeltaIndex(['0 days 00:00:00', '0 days 01:00:00', '0 days 02:00:00',\n",
       "                '0 days 03:00:00', '0 days 04:00:00', '0 days 05:00:00',\n",
       "                '0 days 06:00:00'],\n",
       "               dtype='timedelta64[ns]', freq=None)"
      ]
     },
     "execution_count": 104,
     "metadata": {},
     "output_type": "execute_result"
    }
   ],
   "source": [
    "pd.to_timedelta(np.arange(7), unit='H')"
   ]
  },
  {
   "cell_type": "markdown",
   "id": "ef86a517-d2da-44cf-9f0b-6973f42b3be1",
   "metadata": {},
   "source": [
    "### Importando y manipulando DataFrames"
   ]
  },
  {
   "cell_type": "markdown",
   "id": "b7958ac7-5a8b-4cd6-b7c9-f21ccb29cec9",
   "metadata": {},
   "source": [
    "#### CSV"
   ]
  },
  {
   "cell_type": "code",
   "execution_count": 9,
   "id": "81ccb5bf-30bb-4194-b3b8-9ac7afd7a68e",
   "metadata": {},
   "outputs": [
    {
     "ename": "TimeoutError",
     "evalue": "[Errno 60] Operation timed out",
     "output_type": "error",
     "traceback": [
      "\u001b[0;31m---------------------------------------------------------------------------\u001b[0m",
      "\u001b[0;31mTimeoutError\u001b[0m                              Traceback (most recent call last)",
      "\u001b[1;32m/Users/itnas/Documents/UQ/Programacion/REPO/Codigos/Clase_Pandas/practica_pandas.ipynb Cell 124\u001b[0m line \u001b[0;36m1\n\u001b[0;32m----> <a href='vscode-notebook-cell:/Users/itnas/Documents/UQ/Programacion/REPO/Codigos/Clase_Pandas/practica_pandas.ipynb#Y234sZmlsZQ%3D%3D?line=0'>1</a>\u001b[0m covid \u001b[39m=\u001b[39m pd\u001b[39m.\u001b[39;49mread_csv(\u001b[39m'\u001b[39;49m\u001b[39mCOVID19.csv\u001b[39;49m\u001b[39m'\u001b[39;49m)\n\u001b[1;32m      <a href='vscode-notebook-cell:/Users/itnas/Documents/UQ/Programacion/REPO/Codigos/Clase_Pandas/practica_pandas.ipynb#Y234sZmlsZQ%3D%3D?line=1'>2</a>\u001b[0m \u001b[39m#covid.head(5)\u001b[39;00m\n",
      "File \u001b[0;32m~/miniconda3/envs/tensorflow/lib/python3.10/site-packages/pandas/util/_decorators.py:211\u001b[0m, in \u001b[0;36mdeprecate_kwarg.<locals>._deprecate_kwarg.<locals>.wrapper\u001b[0;34m(*args, **kwargs)\u001b[0m\n\u001b[1;32m    209\u001b[0m     \u001b[39melse\u001b[39;00m:\n\u001b[1;32m    210\u001b[0m         kwargs[new_arg_name] \u001b[39m=\u001b[39m new_arg_value\n\u001b[0;32m--> 211\u001b[0m \u001b[39mreturn\u001b[39;00m func(\u001b[39m*\u001b[39;49margs, \u001b[39m*\u001b[39;49m\u001b[39m*\u001b[39;49mkwargs)\n",
      "File \u001b[0;32m~/miniconda3/envs/tensorflow/lib/python3.10/site-packages/pandas/util/_decorators.py:331\u001b[0m, in \u001b[0;36mdeprecate_nonkeyword_arguments.<locals>.decorate.<locals>.wrapper\u001b[0;34m(*args, **kwargs)\u001b[0m\n\u001b[1;32m    325\u001b[0m \u001b[39mif\u001b[39;00m \u001b[39mlen\u001b[39m(args) \u001b[39m>\u001b[39m num_allow_args:\n\u001b[1;32m    326\u001b[0m     warnings\u001b[39m.\u001b[39mwarn(\n\u001b[1;32m    327\u001b[0m         msg\u001b[39m.\u001b[39mformat(arguments\u001b[39m=\u001b[39m_format_argument_list(allow_args)),\n\u001b[1;32m    328\u001b[0m         \u001b[39mFutureWarning\u001b[39;00m,\n\u001b[1;32m    329\u001b[0m         stacklevel\u001b[39m=\u001b[39mfind_stack_level(),\n\u001b[1;32m    330\u001b[0m     )\n\u001b[0;32m--> 331\u001b[0m \u001b[39mreturn\u001b[39;00m func(\u001b[39m*\u001b[39;49margs, \u001b[39m*\u001b[39;49m\u001b[39m*\u001b[39;49mkwargs)\n",
      "File \u001b[0;32m~/miniconda3/envs/tensorflow/lib/python3.10/site-packages/pandas/io/parsers/readers.py:950\u001b[0m, in \u001b[0;36mread_csv\u001b[0;34m(filepath_or_buffer, sep, delimiter, header, names, index_col, usecols, squeeze, prefix, mangle_dupe_cols, dtype, engine, converters, true_values, false_values, skipinitialspace, skiprows, skipfooter, nrows, na_values, keep_default_na, na_filter, verbose, skip_blank_lines, parse_dates, infer_datetime_format, keep_date_col, date_parser, dayfirst, cache_dates, iterator, chunksize, compression, thousands, decimal, lineterminator, quotechar, quoting, doublequote, escapechar, comment, encoding, encoding_errors, dialect, error_bad_lines, warn_bad_lines, on_bad_lines, delim_whitespace, low_memory, memory_map, float_precision, storage_options)\u001b[0m\n\u001b[1;32m    935\u001b[0m kwds_defaults \u001b[39m=\u001b[39m _refine_defaults_read(\n\u001b[1;32m    936\u001b[0m     dialect,\n\u001b[1;32m    937\u001b[0m     delimiter,\n\u001b[0;32m   (...)\u001b[0m\n\u001b[1;32m    946\u001b[0m     defaults\u001b[39m=\u001b[39m{\u001b[39m\"\u001b[39m\u001b[39mdelimiter\u001b[39m\u001b[39m\"\u001b[39m: \u001b[39m\"\u001b[39m\u001b[39m,\u001b[39m\u001b[39m\"\u001b[39m},\n\u001b[1;32m    947\u001b[0m )\n\u001b[1;32m    948\u001b[0m kwds\u001b[39m.\u001b[39mupdate(kwds_defaults)\n\u001b[0;32m--> 950\u001b[0m \u001b[39mreturn\u001b[39;00m _read(filepath_or_buffer, kwds)\n",
      "File \u001b[0;32m~/miniconda3/envs/tensorflow/lib/python3.10/site-packages/pandas/io/parsers/readers.py:605\u001b[0m, in \u001b[0;36m_read\u001b[0;34m(filepath_or_buffer, kwds)\u001b[0m\n\u001b[1;32m    602\u001b[0m _validate_names(kwds\u001b[39m.\u001b[39mget(\u001b[39m\"\u001b[39m\u001b[39mnames\u001b[39m\u001b[39m\"\u001b[39m, \u001b[39mNone\u001b[39;00m))\n\u001b[1;32m    604\u001b[0m \u001b[39m# Create the parser.\u001b[39;00m\n\u001b[0;32m--> 605\u001b[0m parser \u001b[39m=\u001b[39m TextFileReader(filepath_or_buffer, \u001b[39m*\u001b[39;49m\u001b[39m*\u001b[39;49mkwds)\n\u001b[1;32m    607\u001b[0m \u001b[39mif\u001b[39;00m chunksize \u001b[39mor\u001b[39;00m iterator:\n\u001b[1;32m    608\u001b[0m     \u001b[39mreturn\u001b[39;00m parser\n",
      "File \u001b[0;32m~/miniconda3/envs/tensorflow/lib/python3.10/site-packages/pandas/io/parsers/readers.py:1442\u001b[0m, in \u001b[0;36mTextFileReader.__init__\u001b[0;34m(self, f, engine, **kwds)\u001b[0m\n\u001b[1;32m   1439\u001b[0m     \u001b[39mself\u001b[39m\u001b[39m.\u001b[39moptions[\u001b[39m\"\u001b[39m\u001b[39mhas_index_names\u001b[39m\u001b[39m\"\u001b[39m] \u001b[39m=\u001b[39m kwds[\u001b[39m\"\u001b[39m\u001b[39mhas_index_names\u001b[39m\u001b[39m\"\u001b[39m]\n\u001b[1;32m   1441\u001b[0m \u001b[39mself\u001b[39m\u001b[39m.\u001b[39mhandles: IOHandles \u001b[39m|\u001b[39m \u001b[39mNone\u001b[39;00m \u001b[39m=\u001b[39m \u001b[39mNone\u001b[39;00m\n\u001b[0;32m-> 1442\u001b[0m \u001b[39mself\u001b[39m\u001b[39m.\u001b[39m_engine \u001b[39m=\u001b[39m \u001b[39mself\u001b[39;49m\u001b[39m.\u001b[39;49m_make_engine(f, \u001b[39mself\u001b[39;49m\u001b[39m.\u001b[39;49mengine)\n",
      "File \u001b[0;32m~/miniconda3/envs/tensorflow/lib/python3.10/site-packages/pandas/io/parsers/readers.py:1753\u001b[0m, in \u001b[0;36mTextFileReader._make_engine\u001b[0;34m(self, f, engine)\u001b[0m\n\u001b[1;32m   1750\u001b[0m     \u001b[39mraise\u001b[39;00m \u001b[39mValueError\u001b[39;00m(msg)\n\u001b[1;32m   1752\u001b[0m \u001b[39mtry\u001b[39;00m:\n\u001b[0;32m-> 1753\u001b[0m     \u001b[39mreturn\u001b[39;00m mapping[engine](f, \u001b[39m*\u001b[39;49m\u001b[39m*\u001b[39;49m\u001b[39mself\u001b[39;49m\u001b[39m.\u001b[39;49moptions)\n\u001b[1;32m   1754\u001b[0m \u001b[39mexcept\u001b[39;00m \u001b[39mException\u001b[39;00m:\n\u001b[1;32m   1755\u001b[0m     \u001b[39mif\u001b[39;00m \u001b[39mself\u001b[39m\u001b[39m.\u001b[39mhandles \u001b[39mis\u001b[39;00m \u001b[39mnot\u001b[39;00m \u001b[39mNone\u001b[39;00m:\n",
      "File \u001b[0;32m~/miniconda3/envs/tensorflow/lib/python3.10/site-packages/pandas/io/parsers/c_parser_wrapper.py:79\u001b[0m, in \u001b[0;36mCParserWrapper.__init__\u001b[0;34m(self, src, **kwds)\u001b[0m\n\u001b[1;32m     76\u001b[0m     kwds\u001b[39m.\u001b[39mpop(key, \u001b[39mNone\u001b[39;00m)\n\u001b[1;32m     78\u001b[0m kwds[\u001b[39m\"\u001b[39m\u001b[39mdtype\u001b[39m\u001b[39m\"\u001b[39m] \u001b[39m=\u001b[39m ensure_dtype_objs(kwds\u001b[39m.\u001b[39mget(\u001b[39m\"\u001b[39m\u001b[39mdtype\u001b[39m\u001b[39m\"\u001b[39m, \u001b[39mNone\u001b[39;00m))\n\u001b[0;32m---> 79\u001b[0m \u001b[39mself\u001b[39m\u001b[39m.\u001b[39m_reader \u001b[39m=\u001b[39m parsers\u001b[39m.\u001b[39;49mTextReader(src, \u001b[39m*\u001b[39;49m\u001b[39m*\u001b[39;49mkwds)\n\u001b[1;32m     81\u001b[0m \u001b[39mself\u001b[39m\u001b[39m.\u001b[39munnamed_cols \u001b[39m=\u001b[39m \u001b[39mself\u001b[39m\u001b[39m.\u001b[39m_reader\u001b[39m.\u001b[39munnamed_cols\n\u001b[1;32m     83\u001b[0m \u001b[39m# error: Cannot determine type of 'names'\u001b[39;00m\n",
      "File \u001b[0;32m~/miniconda3/envs/tensorflow/lib/python3.10/site-packages/pandas/_libs/parsers.pyx:547\u001b[0m, in \u001b[0;36mpandas._libs.parsers.TextReader.__cinit__\u001b[0;34m()\u001b[0m\n",
      "File \u001b[0;32m~/miniconda3/envs/tensorflow/lib/python3.10/site-packages/pandas/_libs/parsers.pyx:636\u001b[0m, in \u001b[0;36mpandas._libs.parsers.TextReader._get_header\u001b[0;34m()\u001b[0m\n",
      "File \u001b[0;32m~/miniconda3/envs/tensorflow/lib/python3.10/site-packages/pandas/_libs/parsers.pyx:852\u001b[0m, in \u001b[0;36mpandas._libs.parsers.TextReader._tokenize_rows\u001b[0;34m()\u001b[0m\n",
      "File \u001b[0;32m~/miniconda3/envs/tensorflow/lib/python3.10/site-packages/pandas/_libs/parsers.pyx:1965\u001b[0m, in \u001b[0;36mpandas._libs.parsers.raise_parser_error\u001b[0;34m()\u001b[0m\n",
      "\u001b[0;31mTimeoutError\u001b[0m: [Errno 60] Operation timed out"
     ]
    }
   ],
   "source": [
    "covid = pd.read_csv('COVID19.csv')\n",
    "#covid.head(5)"
   ]
  },
  {
   "cell_type": "code",
   "execution_count": 187,
   "id": "ad0a2ef7-58e2-45a3-aab6-ea2ca432ba99",
   "metadata": {},
   "outputs": [
    {
     "data": {
      "text/plain": [
       "5003977"
      ]
     },
     "execution_count": 187,
     "metadata": {},
     "output_type": "execute_result"
    }
   ],
   "source": [
    "len(covid)"
   ]
  },
  {
   "cell_type": "code",
   "execution_count": 206,
   "id": "a017ade1",
   "metadata": {},
   "outputs": [
    {
     "name": "stderr",
     "output_type": "stream",
     "text": [
      "/var/folders/pb/ldktvl7n1cjb78yx2vbmbmdr0000gn/T/ipykernel_24607/2606739618.py:1: FutureWarning: null_counts is deprecated. Use show_counts instead\n",
      "  covid.info(null_counts=True)\n"
     ]
    },
    {
     "name": "stdout",
     "output_type": "stream",
     "text": [
      "<class 'pandas.core.frame.DataFrame'>\n",
      "RangeIndex: 5003977 entries, 0 to 5003976\n",
      "Data columns (total 23 columns):\n",
      " #   Column                        Non-Null Count    Dtype  \n",
      "---  ------                        --------------    -----  \n",
      " 0   fecha reporte web             5003977 non-null  object \n",
      " 1   ID de caso                    5003977 non-null  int64  \n",
      " 2   Fecha de notificación         5003977 non-null  object \n",
      " 3   Código DIVIPOLA departamento  5003977 non-null  int64  \n",
      " 4   Nombre departamento           5003977 non-null  object \n",
      " 5   Código DIVIPOLA municipio     5003977 non-null  int64  \n",
      " 6   Nombre municipio              5003977 non-null  object \n",
      " 7   Edad                          5003977 non-null  int64  \n",
      " 8   Unidad de medida de edad      5003977 non-null  int64  \n",
      " 9   Sexo                          5003977 non-null  object \n",
      " 10  Tipo de contagio              5003977 non-null  object \n",
      " 11  Ubicación del caso            4984005 non-null  object \n",
      " 12  Estado                        4984005 non-null  object \n",
      " 13  Código ISO del país           3140 non-null     float64\n",
      " 14  Nombre del país               3148 non-null     object \n",
      " 15  Recuperado                    4987192 non-null  object \n",
      " 16  Fecha de inicio de síntomas   4521268 non-null  object \n",
      " 17  Fecha de muerte               147288 non-null   object \n",
      " 18  Fecha de diagnóstico          4999871 non-null  object \n",
      " 19  Fecha de recuperación         4847218 non-null  object \n",
      " 20  Tipo de recuperación          4847333 non-null  object \n",
      " 21  Pertenencia étnica            4997444 non-null  float64\n",
      " 22  Nombre del grupo étnico       70765 non-null    object \n",
      "dtypes: float64(2), int64(5), object(16)\n",
      "memory usage: 878.1+ MB\n"
     ]
    }
   ],
   "source": [
    "covid.info(null_counts=True)"
   ]
  },
  {
   "cell_type": "code",
   "execution_count": 205,
   "id": "fb7fb0bf",
   "metadata": {},
   "outputs": [
    {
     "name": "stdout",
     "output_type": "stream",
     "text": [
      "<class 'pandas.core.frame.DataFrame'>\n",
      "RangeIndex: 5003977 entries, 0 to 5003976\n",
      "Data columns (total 7 columns):\n",
      " #   Column                        Non-Null Count    Dtype  \n",
      "---  ------                        --------------    -----  \n",
      " 0   ID de caso                    5003977 non-null  int64  \n",
      " 1   Código DIVIPOLA departamento  5003977 non-null  int64  \n",
      " 2   Código DIVIPOLA municipio     5003977 non-null  int64  \n",
      " 3   Edad                          5003977 non-null  int64  \n",
      " 4   Unidad de medida de edad      5003977 non-null  int64  \n",
      " 5   Código ISO del país           3140 non-null     float64\n",
      " 6   Pertenencia étnica            4997444 non-null  float64\n",
      "dtypes: float64(2), int64(5)\n",
      "memory usage: 267.2 MB\n"
     ]
    },
    {
     "name": "stderr",
     "output_type": "stream",
     "text": [
      "/var/folders/pb/ldktvl7n1cjb78yx2vbmbmdr0000gn/T/ipykernel_24607/1938621653.py:1: FutureWarning: null_counts is deprecated. Use show_counts instead\n",
      "  covid[covid.columns[covid.dtypes!=object]].info(null_counts=True)\n"
     ]
    }
   ],
   "source": [
    "covid[covid.columns[covid.dtypes!=object]].info(null_counts=True)"
   ]
  },
  {
   "cell_type": "code",
   "execution_count": 121,
   "id": "1f60e43e-9c94-4648-be31-708dda1bd752",
   "metadata": {},
   "outputs": [
    {
     "data": {
      "text/plain": [
       "F    2626882\n",
       "M    2377084\n",
       "m          6\n",
       "f          5\n",
       "Name: Sexo, dtype: int64"
      ]
     },
     "execution_count": 121,
     "metadata": {},
     "output_type": "execute_result"
    }
   ],
   "source": [
    "covid[covid.columns[(covid.dtypes==object)]]['Sexo'].value_counts()"
   ]
  },
  {
   "cell_type": "code",
   "execution_count": 122,
   "id": "e070c95a-a629-4d69-ab91-fc6727e2d14d",
   "metadata": {},
   "outputs": [
    {
     "data": {
      "text/html": [
       "<div>\n",
       "<style scoped>\n",
       "    .dataframe tbody tr th:only-of-type {\n",
       "        vertical-align: middle;\n",
       "    }\n",
       "\n",
       "    .dataframe tbody tr th {\n",
       "        vertical-align: top;\n",
       "    }\n",
       "\n",
       "    .dataframe thead th {\n",
       "        text-align: right;\n",
       "    }\n",
       "</style>\n",
       "<table border=\"1\" class=\"dataframe\">\n",
       "  <thead>\n",
       "    <tr style=\"text-align: right;\">\n",
       "      <th></th>\n",
       "      <th>Código ISO del país</th>\n",
       "      <th>Pertenencia étnica</th>\n",
       "    </tr>\n",
       "  </thead>\n",
       "  <tbody>\n",
       "    <tr>\n",
       "      <th>0</th>\n",
       "      <td>380.0</td>\n",
       "      <td>6.0</td>\n",
       "    </tr>\n",
       "    <tr>\n",
       "      <th>1</th>\n",
       "      <td>724.0</td>\n",
       "      <td>5.0</td>\n",
       "    </tr>\n",
       "    <tr>\n",
       "      <th>2</th>\n",
       "      <td>724.0</td>\n",
       "      <td>6.0</td>\n",
       "    </tr>\n",
       "    <tr>\n",
       "      <th>3</th>\n",
       "      <td>NaN</td>\n",
       "      <td>6.0</td>\n",
       "    </tr>\n",
       "    <tr>\n",
       "      <th>4</th>\n",
       "      <td>NaN</td>\n",
       "      <td>6.0</td>\n",
       "    </tr>\n",
       "    <tr>\n",
       "      <th>...</th>\n",
       "      <td>...</td>\n",
       "      <td>...</td>\n",
       "    </tr>\n",
       "    <tr>\n",
       "      <th>5003972</th>\n",
       "      <td>NaN</td>\n",
       "      <td>NaN</td>\n",
       "    </tr>\n",
       "    <tr>\n",
       "      <th>5003973</th>\n",
       "      <td>NaN</td>\n",
       "      <td>NaN</td>\n",
       "    </tr>\n",
       "    <tr>\n",
       "      <th>5003974</th>\n",
       "      <td>NaN</td>\n",
       "      <td>NaN</td>\n",
       "    </tr>\n",
       "    <tr>\n",
       "      <th>5003975</th>\n",
       "      <td>NaN</td>\n",
       "      <td>NaN</td>\n",
       "    </tr>\n",
       "    <tr>\n",
       "      <th>5003976</th>\n",
       "      <td>NaN</td>\n",
       "      <td>NaN</td>\n",
       "    </tr>\n",
       "  </tbody>\n",
       "</table>\n",
       "<p>5003977 rows × 2 columns</p>\n",
       "</div>"
      ],
      "text/plain": [
       "         Código ISO del país  Pertenencia étnica\n",
       "0                      380.0                 6.0\n",
       "1                      724.0                 5.0\n",
       "2                      724.0                 6.0\n",
       "3                        NaN                 6.0\n",
       "4                        NaN                 6.0\n",
       "...                      ...                 ...\n",
       "5003972                  NaN                 NaN\n",
       "5003973                  NaN                 NaN\n",
       "5003974                  NaN                 NaN\n",
       "5003975                  NaN                 NaN\n",
       "5003976                  NaN                 NaN\n",
       "\n",
       "[5003977 rows x 2 columns]"
      ]
     },
     "execution_count": 122,
     "metadata": {},
     "output_type": "execute_result"
    }
   ],
   "source": [
    "covid[covid.columns[(covid.dtypes==np.float64)]]"
   ]
  },
  {
   "cell_type": "markdown",
   "id": "dc8137f1-2a28-44cb-965f-207dd7655e5c",
   "metadata": {},
   "source": [
    "Requiere un archivo Json2.json guardado en el mismo directorio que contenga: \n",
    "\n",
    "[{\"writer\": \"Mark Ross\",\n",
    "\"nationality\": \"USA\",\n",
    "\"books\": [\n",
    "{\"title\": \"XML Cookbook\", \"price\": 23.56},\n",
    "{\"title\": \"Python Fundamentals\", \"price\": 50.70},\n",
    "{\"title\": \"The NumPy library\", \"price\": 12.30}\n",
    "]\n",
    "},{\"writer\": \"Barbara Bracket\",\n",
    "\"nationality\": \"UK\",\n",
    "\"books\": [\n",
    "{\"title\": \"Java Enterprise\", \"price\": 28.60},\n",
    "{\"title\": \"HTML5\", \"price\": 31.35},\n",
    "{\"title\": \"Python for Dummies\", \"price\": 28.00}\n",
    "]\n",
    "}]"
   ]
  },
  {
   "cell_type": "markdown",
   "id": "6c7fbb77-dac8-4134-b4b6-41172f6c3be0",
   "metadata": {},
   "source": [
    "#### json"
   ]
  },
  {
   "cell_type": "code",
   "execution_count": 123,
   "id": "d4bf5444-8470-4c55-aaf1-b5b8942edf27",
   "metadata": {},
   "outputs": [
    {
     "data": {
      "text/plain": [
       "[{'writer': 'Mark Ross',\n",
       "  'nationality': 'USA',\n",
       "  'books': [{'title': 'XML Cookbook', 'price': 23.56},\n",
       "   {'title': 'Python Fundamentals', 'price': 50.7},\n",
       "   {'title': 'The NumPy library', 'price': 12.3}]},\n",
       " {'writer': 'Barbara Bracket',\n",
       "  'nationality': 'UK',\n",
       "  'books': [{'title': 'Java Enterprise', 'price': 28.6},\n",
       "   {'title': 'HTML5', 'price': 31.35},\n",
       "   {'title': 'Python for Dummies', 'price': 28.0}]}]"
      ]
     },
     "execution_count": 123,
     "metadata": {},
     "output_type": "execute_result"
    }
   ],
   "source": [
    "file = open('Json2.json','r')\n",
    "text = file.read()\n",
    "text = json.loads(text)\n",
    "text"
   ]
  },
  {
   "cell_type": "code",
   "execution_count": 125,
   "id": "dd88c7ef-50b4-4b58-b660-f0fa687e9967",
   "metadata": {},
   "outputs": [
    {
     "name": "stderr",
     "output_type": "stream",
     "text": [
      "/var/folders/pb/ldktvl7n1cjb78yx2vbmbmdr0000gn/T/ipykernel_24607/3284362935.py:1: FutureWarning: pandas.io.json.json_normalize is deprecated, use pandas.json_normalize instead.\n",
      "  json_normalize(text,'books',['nationality','writer'])\n"
     ]
    },
    {
     "data": {
      "text/html": [
       "<div>\n",
       "<style scoped>\n",
       "    .dataframe tbody tr th:only-of-type {\n",
       "        vertical-align: middle;\n",
       "    }\n",
       "\n",
       "    .dataframe tbody tr th {\n",
       "        vertical-align: top;\n",
       "    }\n",
       "\n",
       "    .dataframe thead th {\n",
       "        text-align: right;\n",
       "    }\n",
       "</style>\n",
       "<table border=\"1\" class=\"dataframe\">\n",
       "  <thead>\n",
       "    <tr style=\"text-align: right;\">\n",
       "      <th></th>\n",
       "      <th>title</th>\n",
       "      <th>price</th>\n",
       "      <th>nationality</th>\n",
       "      <th>writer</th>\n",
       "    </tr>\n",
       "  </thead>\n",
       "  <tbody>\n",
       "    <tr>\n",
       "      <th>0</th>\n",
       "      <td>XML Cookbook</td>\n",
       "      <td>23.56</td>\n",
       "      <td>USA</td>\n",
       "      <td>Mark Ross</td>\n",
       "    </tr>\n",
       "    <tr>\n",
       "      <th>1</th>\n",
       "      <td>Python Fundamentals</td>\n",
       "      <td>50.70</td>\n",
       "      <td>USA</td>\n",
       "      <td>Mark Ross</td>\n",
       "    </tr>\n",
       "    <tr>\n",
       "      <th>2</th>\n",
       "      <td>The NumPy library</td>\n",
       "      <td>12.30</td>\n",
       "      <td>USA</td>\n",
       "      <td>Mark Ross</td>\n",
       "    </tr>\n",
       "    <tr>\n",
       "      <th>3</th>\n",
       "      <td>Java Enterprise</td>\n",
       "      <td>28.60</td>\n",
       "      <td>UK</td>\n",
       "      <td>Barbara Bracket</td>\n",
       "    </tr>\n",
       "    <tr>\n",
       "      <th>4</th>\n",
       "      <td>HTML5</td>\n",
       "      <td>31.35</td>\n",
       "      <td>UK</td>\n",
       "      <td>Barbara Bracket</td>\n",
       "    </tr>\n",
       "    <tr>\n",
       "      <th>5</th>\n",
       "      <td>Python for Dummies</td>\n",
       "      <td>28.00</td>\n",
       "      <td>UK</td>\n",
       "      <td>Barbara Bracket</td>\n",
       "    </tr>\n",
       "  </tbody>\n",
       "</table>\n",
       "</div>"
      ],
      "text/plain": [
       "                 title  price nationality           writer\n",
       "0         XML Cookbook  23.56         USA        Mark Ross\n",
       "1  Python Fundamentals  50.70         USA        Mark Ross\n",
       "2    The NumPy library  12.30         USA        Mark Ross\n",
       "3      Java Enterprise  28.60          UK  Barbara Bracket\n",
       "4                HTML5  31.35          UK  Barbara Bracket\n",
       "5   Python for Dummies  28.00          UK  Barbara Bracket"
      ]
     },
     "execution_count": 125,
     "metadata": {},
     "output_type": "execute_result"
    }
   ],
   "source": [
    "json_normalize(text,'books',['nationality','writer'])"
   ]
  },
  {
   "cell_type": "markdown",
   "id": "450b7f7c-8264-40e7-b3e8-d1dc03ff4b5d",
   "metadata": {},
   "source": [
    "Requiere un archivo Json2.json guardado en el mismo directorio que contenga: {\"up\":{\"white\":0,\"black\":4,\"red\":8,\"blue\":12},\"down\":{\"white\":1,\"black\":5,\n",
    "\"red\":9,\"blue\":13},\"right\":{\"white\":2,\"black\":6,\"red\":10,\"blue\":14},\n",
    "\"left\":{\"white\":3,\"black\":7,\"red\":11,\"blue\":15}}"
   ]
  },
  {
   "cell_type": "code",
   "execution_count": 128,
   "id": "eb6e4a84-5196-4f87-b329-d2efb76abfa9",
   "metadata": {},
   "outputs": [
    {
     "data": {
      "text/html": [
       "<div>\n",
       "<style scoped>\n",
       "    .dataframe tbody tr th:only-of-type {\n",
       "        vertical-align: middle;\n",
       "    }\n",
       "\n",
       "    .dataframe tbody tr th {\n",
       "        vertical-align: top;\n",
       "    }\n",
       "\n",
       "    .dataframe thead th {\n",
       "        text-align: right;\n",
       "    }\n",
       "</style>\n",
       "<table border=\"1\" class=\"dataframe\">\n",
       "  <thead>\n",
       "    <tr style=\"text-align: right;\">\n",
       "      <th></th>\n",
       "      <th>up</th>\n",
       "      <th>down</th>\n",
       "      <th>right</th>\n",
       "      <th>left</th>\n",
       "    </tr>\n",
       "  </thead>\n",
       "  <tbody>\n",
       "    <tr>\n",
       "      <th>white</th>\n",
       "      <td>0</td>\n",
       "      <td>1</td>\n",
       "      <td>2</td>\n",
       "      <td>3</td>\n",
       "    </tr>\n",
       "    <tr>\n",
       "      <th>black</th>\n",
       "      <td>4</td>\n",
       "      <td>5</td>\n",
       "      <td>6</td>\n",
       "      <td>7</td>\n",
       "    </tr>\n",
       "    <tr>\n",
       "      <th>red</th>\n",
       "      <td>8</td>\n",
       "      <td>9</td>\n",
       "      <td>10</td>\n",
       "      <td>11</td>\n",
       "    </tr>\n",
       "    <tr>\n",
       "      <th>blue</th>\n",
       "      <td>12</td>\n",
       "      <td>13</td>\n",
       "      <td>14</td>\n",
       "      <td>15</td>\n",
       "    </tr>\n",
       "  </tbody>\n",
       "</table>\n",
       "</div>"
      ],
      "text/plain": [
       "       up  down  right  left\n",
       "white   0     1      2     3\n",
       "black   4     5      6     7\n",
       "red     8     9     10    11\n",
       "blue   12    13     14    15"
      ]
     },
     "execution_count": 128,
     "metadata": {},
     "output_type": "execute_result"
    }
   ],
   "source": [
    "pd.read_json('Json1.json')"
   ]
  }
 ],
 "metadata": {
  "kernelspec": {
   "display_name": "Python 3",
   "language": "python",
   "name": "python3"
  },
  "language_info": {
   "codemirror_mode": {
    "name": "ipython",
    "version": 3
   },
   "file_extension": ".py",
   "mimetype": "text/x-python",
   "name": "python",
   "nbconvert_exporter": "python",
   "pygments_lexer": "ipython3",
   "version": "3.11.2"
  }
 },
 "nbformat": 4,
 "nbformat_minor": 5
}
