{
 "cells": [
  {
   "cell_type": "markdown",
   "id": "d5d682d5-c8c3-4c89-a293-4addab34bdcc",
   "metadata": {},
   "source": [
    "# Notebook de regresión lineal\n",
    "\n",
    "## Física Computacional I.\n",
    "\n",
    "**Elaborado por Santiago Echeverri Arteaga**"
   ]
  },
  {
   "cell_type": "code",
   "execution_count": 10,
   "id": "f755d536-9f29-46a8-b85c-e63ccae61dd0",
   "metadata": {},
   "outputs": [],
   "source": [
    "import numpy as np\n",
    "import pandas as pd\n",
    "import matplotlib.pyplot as plt\n",
    "from scipy.stats import boxcox\n",
    "from scipy.special import inv_boxcox"
   ]
  },
  {
   "cell_type": "code",
   "execution_count": 11,
   "id": "57991659-e3ca-41b7-b5a1-cdbfd1a56b10",
   "metadata": {},
   "outputs": [],
   "source": [
    "import warnings\n",
    "warnings.simplefilter(\"ignore\")"
   ]
  },
  {
   "cell_type": "markdown",
   "id": "5120416e-f40d-4796-a900-07e6f619f3f6",
   "metadata": {},
   "source": [
    "### Linear Regression"
   ]
  },
  {
   "cell_type": "code",
   "execution_count": 12,
   "id": "66aed3ae-0e1b-4fc2-b393-74e2e2b94fcd",
   "metadata": {},
   "outputs": [],
   "source": [
    "from sklearn.linear_model import LinearRegression\n",
    "from sklearn.metrics import r2_score\n",
    "from sklearn.model_selection import train_test_split\n",
    "from sklearn.preprocessing import (StandardScaler, PolynomialFeatures)"
   ]
  },
  {
   "cell_type": "code",
   "execution_count": 13,
   "id": "e7d32936-8dd1-4a18-a81e-ad55f65fb2fc",
   "metadata": {},
   "outputs": [],
   "source": [
    "lr = LinearRegression()"
   ]
  },
  {
   "cell_type": "markdown",
   "id": "1fafc29f-8b30-4da3-b2ef-a52a7cd70017",
   "metadata": {},
   "source": [
    "#### Regresión Lineal con OneHotEncoding -- Análsis de la compensación Bias-Variace"
   ]
  },
  {
   "cell_type": "code",
   "execution_count": 14,
   "id": "71a7bd77",
   "metadata": {},
   "outputs": [
    {
     "data": {
      "text/plain": [
       "['AmesHousing.csv']"
      ]
     },
     "execution_count": 14,
     "metadata": {},
     "output_type": "execute_result"
    }
   ],
   "source": [
    "import os\n",
    "csv= [i for i in os.listdir() if \".csv\" in i]\n",
    "csv"
   ]
  },
  {
   "cell_type": "code",
   "execution_count": 15,
   "id": "15c0c32a-26c4-437d-b325-184cea8bd81c",
   "metadata": {},
   "outputs": [
    {
     "data": {
      "text/html": [
       "<div>\n",
       "<style scoped>\n",
       "    .dataframe tbody tr th:only-of-type {\n",
       "        vertical-align: middle;\n",
       "    }\n",
       "\n",
       "    .dataframe tbody tr th {\n",
       "        vertical-align: top;\n",
       "    }\n",
       "\n",
       "    .dataframe thead th {\n",
       "        text-align: right;\n",
       "    }\n",
       "</style>\n",
       "<table border=\"1\" class=\"dataframe\">\n",
       "  <thead>\n",
       "    <tr style=\"text-align: right;\">\n",
       "      <th></th>\n",
       "      <th>Order</th>\n",
       "      <th>PID</th>\n",
       "      <th>MS SubClass</th>\n",
       "      <th>MS Zoning</th>\n",
       "      <th>Lot Frontage</th>\n",
       "      <th>Lot Area</th>\n",
       "      <th>Street</th>\n",
       "      <th>Alley</th>\n",
       "      <th>Lot Shape</th>\n",
       "      <th>Land Contour</th>\n",
       "      <th>...</th>\n",
       "      <th>Pool Area</th>\n",
       "      <th>Pool QC</th>\n",
       "      <th>Fence</th>\n",
       "      <th>Misc Feature</th>\n",
       "      <th>Misc Val</th>\n",
       "      <th>Mo Sold</th>\n",
       "      <th>Yr Sold</th>\n",
       "      <th>Sale Type</th>\n",
       "      <th>Sale Condition</th>\n",
       "      <th>SalePrice</th>\n",
       "    </tr>\n",
       "  </thead>\n",
       "  <tbody>\n",
       "    <tr>\n",
       "      <th>0</th>\n",
       "      <td>1</td>\n",
       "      <td>526301100</td>\n",
       "      <td>20</td>\n",
       "      <td>RL</td>\n",
       "      <td>141.0</td>\n",
       "      <td>31770</td>\n",
       "      <td>Pave</td>\n",
       "      <td>NaN</td>\n",
       "      <td>IR1</td>\n",
       "      <td>Lvl</td>\n",
       "      <td>...</td>\n",
       "      <td>0</td>\n",
       "      <td>NaN</td>\n",
       "      <td>NaN</td>\n",
       "      <td>NaN</td>\n",
       "      <td>0</td>\n",
       "      <td>5</td>\n",
       "      <td>2010</td>\n",
       "      <td>WD</td>\n",
       "      <td>Normal</td>\n",
       "      <td>215000</td>\n",
       "    </tr>\n",
       "    <tr>\n",
       "      <th>1</th>\n",
       "      <td>2</td>\n",
       "      <td>526350040</td>\n",
       "      <td>20</td>\n",
       "      <td>RH</td>\n",
       "      <td>80.0</td>\n",
       "      <td>11622</td>\n",
       "      <td>Pave</td>\n",
       "      <td>NaN</td>\n",
       "      <td>Reg</td>\n",
       "      <td>Lvl</td>\n",
       "      <td>...</td>\n",
       "      <td>0</td>\n",
       "      <td>NaN</td>\n",
       "      <td>MnPrv</td>\n",
       "      <td>NaN</td>\n",
       "      <td>0</td>\n",
       "      <td>6</td>\n",
       "      <td>2010</td>\n",
       "      <td>WD</td>\n",
       "      <td>Normal</td>\n",
       "      <td>105000</td>\n",
       "    </tr>\n",
       "    <tr>\n",
       "      <th>2</th>\n",
       "      <td>3</td>\n",
       "      <td>526351010</td>\n",
       "      <td>20</td>\n",
       "      <td>RL</td>\n",
       "      <td>81.0</td>\n",
       "      <td>14267</td>\n",
       "      <td>Pave</td>\n",
       "      <td>NaN</td>\n",
       "      <td>IR1</td>\n",
       "      <td>Lvl</td>\n",
       "      <td>...</td>\n",
       "      <td>0</td>\n",
       "      <td>NaN</td>\n",
       "      <td>NaN</td>\n",
       "      <td>Gar2</td>\n",
       "      <td>12500</td>\n",
       "      <td>6</td>\n",
       "      <td>2010</td>\n",
       "      <td>WD</td>\n",
       "      <td>Normal</td>\n",
       "      <td>172000</td>\n",
       "    </tr>\n",
       "    <tr>\n",
       "      <th>3</th>\n",
       "      <td>4</td>\n",
       "      <td>526353030</td>\n",
       "      <td>20</td>\n",
       "      <td>RL</td>\n",
       "      <td>93.0</td>\n",
       "      <td>11160</td>\n",
       "      <td>Pave</td>\n",
       "      <td>NaN</td>\n",
       "      <td>Reg</td>\n",
       "      <td>Lvl</td>\n",
       "      <td>...</td>\n",
       "      <td>0</td>\n",
       "      <td>NaN</td>\n",
       "      <td>NaN</td>\n",
       "      <td>NaN</td>\n",
       "      <td>0</td>\n",
       "      <td>4</td>\n",
       "      <td>2010</td>\n",
       "      <td>WD</td>\n",
       "      <td>Normal</td>\n",
       "      <td>244000</td>\n",
       "    </tr>\n",
       "    <tr>\n",
       "      <th>4</th>\n",
       "      <td>5</td>\n",
       "      <td>527105010</td>\n",
       "      <td>60</td>\n",
       "      <td>RL</td>\n",
       "      <td>74.0</td>\n",
       "      <td>13830</td>\n",
       "      <td>Pave</td>\n",
       "      <td>NaN</td>\n",
       "      <td>IR1</td>\n",
       "      <td>Lvl</td>\n",
       "      <td>...</td>\n",
       "      <td>0</td>\n",
       "      <td>NaN</td>\n",
       "      <td>MnPrv</td>\n",
       "      <td>NaN</td>\n",
       "      <td>0</td>\n",
       "      <td>3</td>\n",
       "      <td>2010</td>\n",
       "      <td>WD</td>\n",
       "      <td>Normal</td>\n",
       "      <td>189900</td>\n",
       "    </tr>\n",
       "  </tbody>\n",
       "</table>\n",
       "<p>5 rows × 82 columns</p>\n",
       "</div>"
      ],
      "text/plain": [
       "   Order        PID  MS SubClass MS Zoning  Lot Frontage  Lot Area Street  \\\n",
       "0      1  526301100           20        RL         141.0     31770   Pave   \n",
       "1      2  526350040           20        RH          80.0     11622   Pave   \n",
       "2      3  526351010           20        RL          81.0     14267   Pave   \n",
       "3      4  526353030           20        RL          93.0     11160   Pave   \n",
       "4      5  527105010           60        RL          74.0     13830   Pave   \n",
       "\n",
       "  Alley Lot Shape Land Contour  ... Pool Area Pool QC  Fence Misc Feature  \\\n",
       "0   NaN       IR1          Lvl  ...         0     NaN    NaN          NaN   \n",
       "1   NaN       Reg          Lvl  ...         0     NaN  MnPrv          NaN   \n",
       "2   NaN       IR1          Lvl  ...         0     NaN    NaN         Gar2   \n",
       "3   NaN       Reg          Lvl  ...         0     NaN    NaN          NaN   \n",
       "4   NaN       IR1          Lvl  ...         0     NaN  MnPrv          NaN   \n",
       "\n",
       "  Misc Val Mo Sold Yr Sold Sale Type  Sale Condition  SalePrice  \n",
       "0        0       5    2010       WD           Normal     215000  \n",
       "1        0       6    2010       WD           Normal     105000  \n",
       "2    12500       6    2010       WD           Normal     172000  \n",
       "3        0       4    2010       WD           Normal     244000  \n",
       "4        0       3    2010       WD           Normal     189900  \n",
       "\n",
       "[5 rows x 82 columns]"
      ]
     },
     "execution_count": 15,
     "metadata": {},
     "output_type": "execute_result"
    }
   ],
   "source": [
    "import os\n",
    "import pandas as pd\n",
    "import numpy as np\n",
    "\n",
    "# Importar datos usando una ruta de donde están los archivos (Lista de cadenas) y el nombre del documento\n",
    "filepath = os.path.join(os.getcwd(),csv[0])\n",
    "data = pd.read_csv(filepath)\n",
    "\n",
    "data.head()"
   ]
  },
  {
   "cell_type": "code",
   "execution_count": 16,
   "id": "f524ac98",
   "metadata": {},
   "outputs": [
    {
     "data": {
      "text/plain": [
       "array(['NAmes', 'Gilbert', 'StoneBr', 'NWAmes', 'Somerst', 'BrDale',\n",
       "       'NPkVill', 'NridgHt', 'Blmngtn', 'NoRidge', 'SawyerW', 'Sawyer',\n",
       "       'Greens', 'BrkSide', 'OldTown', 'IDOTRR', 'ClearCr', 'SWISU',\n",
       "       'Edwards', 'CollgCr', 'Crawfor', 'Blueste', 'Mitchel', 'Timber',\n",
       "       'MeadowV', 'Veenker', 'GrnHill', 'Landmrk'], dtype=object)"
      ]
     },
     "execution_count": 16,
     "metadata": {},
     "output_type": "execute_result"
    }
   ],
   "source": [
    "data.Neighborhood.unique()"
   ]
  },
  {
   "cell_type": "code",
   "execution_count": 17,
   "id": "c5cd7f6e",
   "metadata": {},
   "outputs": [
    {
     "name": "stdout",
     "output_type": "stream",
     "text": [
      "<class 'pandas.core.frame.DataFrame'>\n",
      "RangeIndex: 2930 entries, 0 to 2929\n",
      "Data columns (total 82 columns):\n",
      " #   Column           Non-Null Count  Dtype  \n",
      "---  ------           --------------  -----  \n",
      " 0   Order            2930 non-null   int64  \n",
      " 1   PID              2930 non-null   int64  \n",
      " 2   MS SubClass      2930 non-null   int64  \n",
      " 3   MS Zoning        2930 non-null   object \n",
      " 4   Lot Frontage     2440 non-null   float64\n",
      " 5   Lot Area         2930 non-null   int64  \n",
      " 6   Street           2930 non-null   object \n",
      " 7   Alley            198 non-null    object \n",
      " 8   Lot Shape        2930 non-null   object \n",
      " 9   Land Contour     2930 non-null   object \n",
      " 10  Utilities        2930 non-null   object \n",
      " 11  Lot Config       2930 non-null   object \n",
      " 12  Land Slope       2930 non-null   object \n",
      " 13  Neighborhood     2930 non-null   object \n",
      " 14  Condition 1      2930 non-null   object \n",
      " 15  Condition 2      2930 non-null   object \n",
      " 16  Bldg Type        2930 non-null   object \n",
      " 17  House Style      2930 non-null   object \n",
      " 18  Overall Qual     2930 non-null   int64  \n",
      " 19  Overall Cond     2930 non-null   int64  \n",
      " 20  Year Built       2930 non-null   int64  \n",
      " 21  Year Remod/Add   2930 non-null   int64  \n",
      " 22  Roof Style       2930 non-null   object \n",
      " 23  Roof Matl        2930 non-null   object \n",
      " 24  Exterior 1st     2930 non-null   object \n",
      " 25  Exterior 2nd     2930 non-null   object \n",
      " 26  Mas Vnr Type     2907 non-null   object \n",
      " 27  Mas Vnr Area     2907 non-null   float64\n",
      " 28  Exter Qual       2930 non-null   object \n",
      " 29  Exter Cond       2930 non-null   object \n",
      " 30  Foundation       2930 non-null   object \n",
      " 31  Bsmt Qual        2850 non-null   object \n",
      " 32  Bsmt Cond        2850 non-null   object \n",
      " 33  Bsmt Exposure    2847 non-null   object \n",
      " 34  BsmtFin Type 1   2850 non-null   object \n",
      " 35  BsmtFin SF 1     2929 non-null   float64\n",
      " 36  BsmtFin Type 2   2849 non-null   object \n",
      " 37  BsmtFin SF 2     2929 non-null   float64\n",
      " 38  Bsmt Unf SF      2929 non-null   float64\n",
      " 39  Total Bsmt SF    2929 non-null   float64\n",
      " 40  Heating          2930 non-null   object \n",
      " 41  Heating QC       2930 non-null   object \n",
      " 42  Central Air      2930 non-null   object \n",
      " 43  Electrical       2929 non-null   object \n",
      " 44  1st Flr SF       2930 non-null   int64  \n",
      " 45  2nd Flr SF       2930 non-null   int64  \n",
      " 46  Low Qual Fin SF  2930 non-null   int64  \n",
      " 47  Gr Liv Area      2930 non-null   int64  \n",
      " 48  Bsmt Full Bath   2928 non-null   float64\n",
      " 49  Bsmt Half Bath   2928 non-null   float64\n",
      " 50  Full Bath        2930 non-null   int64  \n",
      " 51  Half Bath        2930 non-null   int64  \n",
      " 52  Bedroom AbvGr    2930 non-null   int64  \n",
      " 53  Kitchen AbvGr    2930 non-null   int64  \n",
      " 54  Kitchen Qual     2930 non-null   object \n",
      " 55  TotRms AbvGrd    2930 non-null   int64  \n",
      " 56  Functional       2930 non-null   object \n",
      " 57  Fireplaces       2930 non-null   int64  \n",
      " 58  Fireplace Qu     1508 non-null   object \n",
      " 59  Garage Type      2773 non-null   object \n",
      " 60  Garage Yr Blt    2771 non-null   float64\n",
      " 61  Garage Finish    2771 non-null   object \n",
      " 62  Garage Cars      2929 non-null   float64\n",
      " 63  Garage Area      2929 non-null   float64\n",
      " 64  Garage Qual      2771 non-null   object \n",
      " 65  Garage Cond      2771 non-null   object \n",
      " 66  Paved Drive      2930 non-null   object \n",
      " 67  Wood Deck SF     2930 non-null   int64  \n",
      " 68  Open Porch SF    2930 non-null   int64  \n",
      " 69  Enclosed Porch   2930 non-null   int64  \n",
      " 70  3Ssn Porch       2930 non-null   int64  \n",
      " 71  Screen Porch     2930 non-null   int64  \n",
      " 72  Pool Area        2930 non-null   int64  \n",
      " 73  Pool QC          13 non-null     object \n",
      " 74  Fence            572 non-null    object \n",
      " 75  Misc Feature     106 non-null    object \n",
      " 76  Misc Val         2930 non-null   int64  \n",
      " 77  Mo Sold          2930 non-null   int64  \n",
      " 78  Yr Sold          2930 non-null   int64  \n",
      " 79  Sale Type        2930 non-null   object \n",
      " 80  Sale Condition   2930 non-null   object \n",
      " 81  SalePrice        2930 non-null   int64  \n",
      "dtypes: float64(11), int64(28), object(43)\n",
      "memory usage: 1.8+ MB\n"
     ]
    }
   ],
   "source": [
    "data.info(null_counts=True)"
   ]
  },
  {
   "cell_type": "code",
   "execution_count": 18,
   "id": "0f2722c8-6311-4057-89b4-cb29bbcb6b80",
   "metadata": {},
   "outputs": [
    {
     "data": {
      "text/plain": [
       "object     43\n",
       "int64      28\n",
       "float64    11\n",
       "dtype: int64"
      ]
     },
     "execution_count": 18,
     "metadata": {},
     "output_type": "execute_result"
    }
   ],
   "source": [
    "data.dtypes.value_counts()"
   ]
  },
  {
   "cell_type": "code",
   "execution_count": 19,
   "id": "51719061-6d07-48cc-9e42-df41c3b43495",
   "metadata": {},
   "outputs": [
    {
     "data": {
      "text/plain": [
       "Index(['MS Zoning', 'Street', 'Alley', 'Lot Shape', 'Land Contour',\n",
       "       'Utilities', 'Lot Config', 'Land Slope', 'Neighborhood', 'Condition 1',\n",
       "       'Condition 2', 'Bldg Type', 'House Style', 'Roof Style', 'Roof Matl',\n",
       "       'Exterior 1st', 'Exterior 2nd', 'Mas Vnr Type', 'Exter Qual',\n",
       "       'Exter Cond', 'Foundation', 'Bsmt Qual', 'Bsmt Cond', 'Bsmt Exposure',\n",
       "       'BsmtFin Type 1', 'BsmtFin Type 2', 'Heating', 'Heating QC',\n",
       "       'Central Air', 'Electrical', 'Kitchen Qual', 'Functional',\n",
       "       'Fireplace Qu', 'Garage Type', 'Garage Finish', 'Garage Qual',\n",
       "       'Garage Cond', 'Paved Drive', 'Pool QC', 'Fence', 'Misc Feature',\n",
       "       'Sale Type', 'Sale Condition'],\n",
       "      dtype='object')"
      ]
     },
     "execution_count": 19,
     "metadata": {},
     "output_type": "execute_result"
    }
   ],
   "source": [
    "# Select the object (string) columns\n",
    "mask = data.dtypes == object\n",
    "categorical_cols = data.columns[mask]\n",
    "categorical_cols"
   ]
  },
  {
   "cell_type": "code",
   "execution_count": 20,
   "id": "271d4c94-0da9-461b-9de1-623ad7f916f4",
   "metadata": {},
   "outputs": [
    {
     "data": {
      "text/plain": [
       "Neighborhood      28\n",
       "Exterior 2nd      17\n",
       "Exterior 1st      16\n",
       "Sale Type         10\n",
       "Condition 1        9\n",
       "Functional         8\n",
       "Condition 2        8\n",
       "House Style        8\n",
       "Roof Matl          8\n",
       "MS Zoning          7\n",
       "Garage Type        6\n",
       "Heating            6\n",
       "BsmtFin Type 2     6\n",
       "BsmtFin Type 1     6\n",
       "Foundation         6\n",
       "Sale Condition     6\n",
       "Roof Style         6\n",
       "Lot Config         5\n",
       "Misc Feature       5\n",
       "Garage Cond        5\n",
       "Garage Qual        5\n",
       "Fireplace Qu       5\n",
       "Kitchen Qual       5\n",
       "Mas Vnr Type       5\n",
       "Heating QC         5\n",
       "Electrical         5\n",
       "Bsmt Qual          5\n",
       "Bsmt Cond          5\n",
       "Bldg Type          5\n",
       "Exter Cond         5\n",
       "Exter Qual         4\n",
       "Bsmt Exposure      4\n",
       "Land Contour       4\n",
       "Fence              4\n",
       "Lot Shape          4\n",
       "Pool QC            4\n",
       "Paved Drive        3\n",
       "Utilities          3\n",
       "Land Slope         3\n",
       "Garage Finish      3\n",
       "Street             2\n",
       "Central Air        2\n",
       "Alley              2\n",
       "dtype: int64"
      ]
     },
     "metadata": {},
     "output_type": "display_data"
    },
    {
     "data": {
      "text/plain": [
       "225"
      ]
     },
     "execution_count": 20,
     "metadata": {},
     "output_type": "execute_result"
    }
   ],
   "source": [
    "# Cuántos valores únicos hay en cada categoría? Ordenados de mayor a menor\n",
    "num_ohc_cols = (data[categorical_cols].apply(lambda x: x.nunique()).sort_values(ascending=False))\n",
    "display(num_ohc_cols)\n",
    "# Filtrar las que tienen más de un valor\n",
    "small_num_ohc_cols = num_ohc_cols.loc[num_ohc_cols>1]\n",
    "\n",
    "# Se eliminaría una de las creadas por OneHotEncoding para que no se de overfitting\n",
    "small_num_ohc_cols -= 1\n",
    "\n",
    "# ¿Cuántas habría?\n",
    "small_num_ohc_cols.sum()"
   ]
  },
  {
   "cell_type": "markdown",
   "id": "1d8996e0-3471-4e2e-8761-64cff84038cc",
   "metadata": {},
   "source": [
    "***Las siguientes líneas son para explicar lo que hace el ciclo for que sigue***"
   ]
  },
  {
   "cell_type": "code",
   "execution_count": 21,
   "id": "1ccbcc57-2dba-4600-90fe-c8daa2443c39",
   "metadata": {},
   "outputs": [
    {
     "data": {
      "text/plain": [
       "2930"
      ]
     },
     "execution_count": 21,
     "metadata": {},
     "output_type": "execute_result"
    }
   ],
   "source": [
    "from sklearn.preprocessing import OneHotEncoder, LabelEncoder\n",
    "data_ohc = data.copy()\n",
    "\n",
    "# Los encoders\n",
    "le = LabelEncoder()\n",
    "ohc = OneHotEncoder()\n",
    "#display(len(data_ohc['Neighborhood'].unique()))\n",
    "#display(len(data_ohc['Neighborhood']))\n",
    "len(le.fit_transform(data_ohc['Neighborhood']).astype(int))"
   ]
  },
  {
   "cell_type": "code",
   "execution_count": 22,
   "id": "31cfb4b3",
   "metadata": {},
   "outputs": [
    {
     "data": {
      "text/plain": [
       "0      NAmes\n",
       "1      NAmes\n",
       "2      NAmes\n",
       "3      NAmes\n",
       "4    Gilbert\n",
       "5    Gilbert\n",
       "6    StoneBr\n",
       "7    StoneBr\n",
       "8    StoneBr\n",
       "9    Gilbert\n",
       "Name: Neighborhood, dtype: object"
      ]
     },
     "execution_count": 22,
     "metadata": {},
     "output_type": "execute_result"
    }
   ],
   "source": [
    "data_ohc['Neighborhood'][:10]"
   ]
  },
  {
   "cell_type": "code",
   "execution_count": 23,
   "id": "28751469",
   "metadata": {},
   "outputs": [
    {
     "data": {
      "text/plain": [
       "array([15, 15, 15, 15,  8,  8, 25, 25, 25,  8])"
      ]
     },
     "execution_count": 23,
     "metadata": {},
     "output_type": "execute_result"
    }
   ],
   "source": [
    "le.fit_transform(data_ohc['Neighborhood']).astype(int)[:10]"
   ]
  },
  {
   "cell_type": "code",
   "execution_count": 24,
   "id": "4a0b1f21",
   "metadata": {},
   "outputs": [
    {
     "data": {
      "text/plain": [
       "array([[15],\n",
       "       [15],\n",
       "       [15],\n",
       "       ...,\n",
       "       [14],\n",
       "       [14],\n",
       "       [14]])"
      ]
     },
     "metadata": {},
     "output_type": "display_data"
    }
   ],
   "source": [
    "dat = le.fit_transform(data_ohc['Neighborhood']).astype(int)\n",
    "\n",
    "display(dat.reshape(-1,1))"
   ]
  },
  {
   "cell_type": "code",
   "execution_count": 25,
   "id": "2ea55f43-06f2-4885-a0b9-51ae61f7d41d",
   "metadata": {},
   "outputs": [
    {
     "name": "stdout",
     "output_type": "stream",
     "text": [
      "  (0, 15)\t1.0\n",
      "  (1, 15)\t1.0\n",
      "  (2, 15)\t1.0\n",
      "  (3, 15)\t1.0\n",
      "  (4, 8)\t1.0\n",
      "  (5, 8)\t1.0\n",
      "  (6, 25)\t1.0\n",
      "  (7, 25)\t1.0\n",
      "  (8, 25)\t1.0\n",
      "  (9, 8)\t1.0\n",
      "  (10, 8)\t1.0\n",
      "  (11, 8)\t1.0\n",
      "  (12, 8)\t1.0\n",
      "  (13, 8)\t1.0\n",
      "  (14, 25)\t1.0\n",
      "  (15, 25)\t1.0\n",
      "  (16, 8)\t1.0\n",
      "  (17, 25)\t1.0\n",
      "  (18, 8)\t1.0\n",
      "  (19, 17)\t1.0\n",
      "  (20, 17)\t1.0\n",
      "  (21, 17)\t1.0\n",
      "  (22, 24)\t1.0\n",
      "  (23, 15)\t1.0\n",
      "  (24, 15)\t1.0\n",
      "  :\t:\n",
      "  (2905, 14)\t1.0\n",
      "  (2906, 14)\t1.0\n",
      "  (2907, 14)\t1.0\n",
      "  (2908, 13)\t1.0\n",
      "  (2909, 13)\t1.0\n",
      "  (2910, 13)\t1.0\n",
      "  (2911, 14)\t1.0\n",
      "  (2912, 14)\t1.0\n",
      "  (2913, 13)\t1.0\n",
      "  (2914, 13)\t1.0\n",
      "  (2915, 14)\t1.0\n",
      "  (2916, 13)\t1.0\n",
      "  (2917, 13)\t1.0\n",
      "  (2918, 13)\t1.0\n",
      "  (2919, 13)\t1.0\n",
      "  (2920, 13)\t1.0\n",
      "  (2921, 14)\t1.0\n",
      "  (2922, 14)\t1.0\n",
      "  (2923, 14)\t1.0\n",
      "  (2924, 14)\t1.0\n",
      "  (2925, 14)\t1.0\n",
      "  (2926, 14)\t1.0\n",
      "  (2927, 14)\t1.0\n",
      "  (2928, 14)\t1.0\n",
      "  (2929, 14)\t1.0\n",
      "SHAPE (2930, 28)\n"
     ]
    },
    {
     "data": {
      "text/plain": [
       "['Neighborhood_0',\n",
       " 'Neighborhood_1',\n",
       " 'Neighborhood_2',\n",
       " 'Neighborhood_3',\n",
       " 'Neighborhood_4',\n",
       " 'Neighborhood_5',\n",
       " 'Neighborhood_6',\n",
       " 'Neighborhood_7',\n",
       " 'Neighborhood_8',\n",
       " 'Neighborhood_9',\n",
       " 'Neighborhood_10',\n",
       " 'Neighborhood_11',\n",
       " 'Neighborhood_12',\n",
       " 'Neighborhood_13',\n",
       " 'Neighborhood_14',\n",
       " 'Neighborhood_15',\n",
       " 'Neighborhood_16',\n",
       " 'Neighborhood_17',\n",
       " 'Neighborhood_18',\n",
       " 'Neighborhood_19',\n",
       " 'Neighborhood_20',\n",
       " 'Neighborhood_21',\n",
       " 'Neighborhood_22',\n",
       " 'Neighborhood_23',\n",
       " 'Neighborhood_24',\n",
       " 'Neighborhood_25',\n",
       " 'Neighborhood_26',\n",
       " 'Neighborhood_27']"
      ]
     },
     "execution_count": 25,
     "metadata": {},
     "output_type": "execute_result"
    }
   ],
   "source": [
    "# Codificando valores categóricos a valores enteros\n",
    "dat = le.fit_transform(data_ohc['Neighborhood']).astype(int)\n",
    "# One hot encoding. Esto regresa un sparse array\n",
    "new_dat = ohc.fit_transform(dat.reshape(-1,1))\n",
    "print(new_dat)\n",
    "print(\"SHAPE\",new_dat.shape)\n",
    "# Crea los nombres de las columnas\n",
    "n_cols = new_dat.shape[1] # Cantidad de filas nuevas\n",
    "['_'.join(['Neighborhood', str(x)]) for x in range(n_cols)]\n"
   ]
  },
  {
   "cell_type": "code",
   "execution_count": 26,
   "id": "7a212b41-9f81-4821-b2fc-2bbb26e01170",
   "metadata": {},
   "outputs": [],
   "source": [
    "from sklearn.preprocessing import OneHotEncoder, LabelEncoder\n",
    "\n",
    "# Copy of the data\n",
    "data_ohc = data.copy()\n",
    "\n",
    "# The encoders\n",
    "le = LabelEncoder()\n",
    "ohc = OneHotEncoder()\n",
    "\n",
    "for col in num_ohc_cols.index:\n",
    "    \n",
    "    # Codificando valores categóricos a valores enteros\n",
    "    dat = le.fit_transform(data_ohc[col]).astype(int)\n",
    "    \n",
    "    # Eliminar la columna original\n",
    "    data_ohc = data_ohc.drop(col, axis=1)\n",
    "\n",
    "    # One hot encoding. Esto regresa un sparse array\n",
    "    new_dat = ohc.fit_transform(dat.reshape(-1,1))\n",
    "\n",
    "    # Crea los nombres de las columnas\n",
    "    n_cols = new_dat.shape[1] # Cantidad de filas nuevas\n",
    "    col_names = ['_'.join([col, str(x)]) for x in range(n_cols)] # Nombre ColumnaVieja_i para i desde 0 a n_cols-1\n",
    "\n",
    "    # Crea el DataFrame\n",
    "    new_df = pd.DataFrame(new_dat.toarray(), index=data_ohc.index, columns=col_names)\n",
    "\n",
    "    # Append the new data to the dataframe\n",
    "    data_ohc = pd.concat([data_ohc, new_df], axis=1)"
   ]
  },
  {
   "cell_type": "code",
   "execution_count": 27,
   "id": "c0b6eb14-6f91-4495-be8c-d73567062c9f",
   "metadata": {},
   "outputs": [
    {
     "data": {
      "text/plain": [
       "241"
      ]
     },
     "execution_count": 27,
     "metadata": {},
     "output_type": "execute_result"
    }
   ],
   "source": [
    "data_ohc.shape[1] - data.shape[1]"
   ]
  },
  {
   "cell_type": "code",
   "execution_count": 28,
   "id": "5ccc3b1c-9320-4c1d-b0c9-36af1e9ff349",
   "metadata": {},
   "outputs": [
    {
     "data": {
      "text/html": [
       "<div>\n",
       "<style scoped>\n",
       "    .dataframe tbody tr th:only-of-type {\n",
       "        vertical-align: middle;\n",
       "    }\n",
       "\n",
       "    .dataframe tbody tr th {\n",
       "        vertical-align: top;\n",
       "    }\n",
       "\n",
       "    .dataframe thead th {\n",
       "        text-align: right;\n",
       "    }\n",
       "</style>\n",
       "<table border=\"1\" class=\"dataframe\">\n",
       "  <thead>\n",
       "    <tr style=\"text-align: right;\">\n",
       "      <th></th>\n",
       "      <th>Order</th>\n",
       "      <th>PID</th>\n",
       "      <th>MS SubClass</th>\n",
       "      <th>Lot Frontage</th>\n",
       "      <th>Lot Area</th>\n",
       "      <th>Overall Qual</th>\n",
       "      <th>Overall Cond</th>\n",
       "      <th>Year Built</th>\n",
       "      <th>Year Remod/Add</th>\n",
       "      <th>Mas Vnr Area</th>\n",
       "      <th>...</th>\n",
       "      <th>Garage Finish_1</th>\n",
       "      <th>Garage Finish_2</th>\n",
       "      <th>Garage Finish_3</th>\n",
       "      <th>Street_0</th>\n",
       "      <th>Street_1</th>\n",
       "      <th>Central Air_0</th>\n",
       "      <th>Central Air_1</th>\n",
       "      <th>Alley_0</th>\n",
       "      <th>Alley_1</th>\n",
       "      <th>Alley_2</th>\n",
       "    </tr>\n",
       "  </thead>\n",
       "  <tbody>\n",
       "    <tr>\n",
       "      <th>0</th>\n",
       "      <td>1</td>\n",
       "      <td>526301100</td>\n",
       "      <td>20</td>\n",
       "      <td>141.0</td>\n",
       "      <td>31770</td>\n",
       "      <td>6</td>\n",
       "      <td>5</td>\n",
       "      <td>1960</td>\n",
       "      <td>1960</td>\n",
       "      <td>112.0</td>\n",
       "      <td>...</td>\n",
       "      <td>0.0</td>\n",
       "      <td>0.0</td>\n",
       "      <td>0.0</td>\n",
       "      <td>0.0</td>\n",
       "      <td>1.0</td>\n",
       "      <td>0.0</td>\n",
       "      <td>1.0</td>\n",
       "      <td>0.0</td>\n",
       "      <td>0.0</td>\n",
       "      <td>1.0</td>\n",
       "    </tr>\n",
       "    <tr>\n",
       "      <th>1</th>\n",
       "      <td>2</td>\n",
       "      <td>526350040</td>\n",
       "      <td>20</td>\n",
       "      <td>80.0</td>\n",
       "      <td>11622</td>\n",
       "      <td>5</td>\n",
       "      <td>6</td>\n",
       "      <td>1961</td>\n",
       "      <td>1961</td>\n",
       "      <td>0.0</td>\n",
       "      <td>...</td>\n",
       "      <td>0.0</td>\n",
       "      <td>1.0</td>\n",
       "      <td>0.0</td>\n",
       "      <td>0.0</td>\n",
       "      <td>1.0</td>\n",
       "      <td>0.0</td>\n",
       "      <td>1.0</td>\n",
       "      <td>0.0</td>\n",
       "      <td>0.0</td>\n",
       "      <td>1.0</td>\n",
       "    </tr>\n",
       "    <tr>\n",
       "      <th>2</th>\n",
       "      <td>3</td>\n",
       "      <td>526351010</td>\n",
       "      <td>20</td>\n",
       "      <td>81.0</td>\n",
       "      <td>14267</td>\n",
       "      <td>6</td>\n",
       "      <td>6</td>\n",
       "      <td>1958</td>\n",
       "      <td>1958</td>\n",
       "      <td>108.0</td>\n",
       "      <td>...</td>\n",
       "      <td>0.0</td>\n",
       "      <td>1.0</td>\n",
       "      <td>0.0</td>\n",
       "      <td>0.0</td>\n",
       "      <td>1.0</td>\n",
       "      <td>0.0</td>\n",
       "      <td>1.0</td>\n",
       "      <td>0.0</td>\n",
       "      <td>0.0</td>\n",
       "      <td>1.0</td>\n",
       "    </tr>\n",
       "    <tr>\n",
       "      <th>3</th>\n",
       "      <td>4</td>\n",
       "      <td>526353030</td>\n",
       "      <td>20</td>\n",
       "      <td>93.0</td>\n",
       "      <td>11160</td>\n",
       "      <td>7</td>\n",
       "      <td>5</td>\n",
       "      <td>1968</td>\n",
       "      <td>1968</td>\n",
       "      <td>0.0</td>\n",
       "      <td>...</td>\n",
       "      <td>0.0</td>\n",
       "      <td>0.0</td>\n",
       "      <td>0.0</td>\n",
       "      <td>0.0</td>\n",
       "      <td>1.0</td>\n",
       "      <td>0.0</td>\n",
       "      <td>1.0</td>\n",
       "      <td>0.0</td>\n",
       "      <td>0.0</td>\n",
       "      <td>1.0</td>\n",
       "    </tr>\n",
       "    <tr>\n",
       "      <th>4</th>\n",
       "      <td>5</td>\n",
       "      <td>527105010</td>\n",
       "      <td>60</td>\n",
       "      <td>74.0</td>\n",
       "      <td>13830</td>\n",
       "      <td>5</td>\n",
       "      <td>5</td>\n",
       "      <td>1997</td>\n",
       "      <td>1998</td>\n",
       "      <td>0.0</td>\n",
       "      <td>...</td>\n",
       "      <td>0.0</td>\n",
       "      <td>0.0</td>\n",
       "      <td>0.0</td>\n",
       "      <td>0.0</td>\n",
       "      <td>1.0</td>\n",
       "      <td>0.0</td>\n",
       "      <td>1.0</td>\n",
       "      <td>0.0</td>\n",
       "      <td>0.0</td>\n",
       "      <td>1.0</td>\n",
       "    </tr>\n",
       "  </tbody>\n",
       "</table>\n",
       "<p>5 rows × 323 columns</p>\n",
       "</div>"
      ],
      "text/plain": [
       "   Order        PID  MS SubClass  Lot Frontage  Lot Area  Overall Qual  \\\n",
       "0      1  526301100           20         141.0     31770             6   \n",
       "1      2  526350040           20          80.0     11622             5   \n",
       "2      3  526351010           20          81.0     14267             6   \n",
       "3      4  526353030           20          93.0     11160             7   \n",
       "4      5  527105010           60          74.0     13830             5   \n",
       "\n",
       "   Overall Cond  Year Built  Year Remod/Add  Mas Vnr Area  ...  \\\n",
       "0             5        1960            1960         112.0  ...   \n",
       "1             6        1961            1961           0.0  ...   \n",
       "2             6        1958            1958         108.0  ...   \n",
       "3             5        1968            1968           0.0  ...   \n",
       "4             5        1997            1998           0.0  ...   \n",
       "\n",
       "   Garage Finish_1  Garage Finish_2  Garage Finish_3  Street_0  Street_1  \\\n",
       "0              0.0              0.0              0.0       0.0       1.0   \n",
       "1              0.0              1.0              0.0       0.0       1.0   \n",
       "2              0.0              1.0              0.0       0.0       1.0   \n",
       "3              0.0              0.0              0.0       0.0       1.0   \n",
       "4              0.0              0.0              0.0       0.0       1.0   \n",
       "\n",
       "   Central Air_0  Central Air_1  Alley_0  Alley_1  Alley_2  \n",
       "0            0.0            1.0      0.0      0.0      1.0  \n",
       "1            0.0            1.0      0.0      0.0      1.0  \n",
       "2            0.0            1.0      0.0      0.0      1.0  \n",
       "3            0.0            1.0      0.0      0.0      1.0  \n",
       "4            0.0            1.0      0.0      0.0      1.0  \n",
       "\n",
       "[5 rows x 323 columns]"
      ]
     },
     "execution_count": 28,
     "metadata": {},
     "output_type": "execute_result"
    }
   ],
   "source": [
    "data_ohc.head()"
   ]
  },
  {
   "cell_type": "code",
   "execution_count": 29,
   "id": "f91f7767-15fb-4702-8ffe-156885a43247",
   "metadata": {},
   "outputs": [
    {
     "name": "stdout",
     "output_type": "stream",
     "text": [
      "82\n",
      "39\n"
     ]
    }
   ],
   "source": [
    "print(data.shape[1])\n",
    "\n",
    "# Remover del DataFrame original las columnas tipo string\n",
    "data = data.drop(num_ohc_cols.index, axis=1)\n",
    "\n",
    "print(data.shape[1])"
   ]
  },
  {
   "cell_type": "code",
   "execution_count": 30,
   "id": "36bc7d06",
   "metadata": {},
   "outputs": [],
   "source": [
    "data = data.dropna()\n",
    "data_ohc = data_ohc.dropna()"
   ]
  },
  {
   "cell_type": "markdown",
   "id": "22315678-1fef-4d9c-a500-2ad36a27ab93",
   "metadata": {},
   "source": [
    "***Dividir los dos DataFrames en Entrenamiento/Prueba***"
   ]
  },
  {
   "cell_type": "code",
   "execution_count": 46,
   "id": "0e95419c-6a36-49f4-9b32-70a91c5af028",
   "metadata": {},
   "outputs": [],
   "source": [
    "from sklearn.model_selection import train_test_split\n",
    "\n",
    "y_col = 'SalePrice'\n",
    "\n",
    "# Split the data that is not one-hot encoded\n",
    "feature_cols = [x for x in data.columns if x != y_col]\n",
    "X_data = data[feature_cols]\n",
    "y_data = data[y_col]\n",
    "\n",
    "X_train, X_test, y_train, y_test = train_test_split(X_data, y_data, \n",
    "                                                    test_size=0.3, random_state=43)\n",
    "# Split the data that is one-hot encoded\n",
    "feature_cols = [x for x in data_ohc.columns if x != y_col]\n",
    "X_data_ohc = data_ohc[feature_cols]\n",
    "y_data_ohc = data_ohc[y_col]\n",
    "\n",
    "X_train_ohc, X_test_ohc, y_train_ohc, y_test_ohc = train_test_split(X_data_ohc, y_data_ohc, \n",
    "                                                    test_size=0.3, random_state=43)"
   ]
  },
  {
   "cell_type": "code",
   "execution_count": 49,
   "id": "88a39bb8",
   "metadata": {},
   "outputs": [
    {
     "name": "stdout",
     "output_type": "stream",
     "text": [
      "(1591, 38)+(683, 38)=(2274, 38)\n"
     ]
    }
   ],
   "source": [
    "print(f\"{X_train.shape}+{X_test.shape}={X_data.shape}\")"
   ]
  },
  {
   "cell_type": "code",
   "execution_count": 47,
   "id": "75de664b-e0da-4128-a0c4-1ed88435b9b7",
   "metadata": {},
   "outputs": [
    {
     "data": {
      "text/plain": [
       "True"
      ]
     },
     "execution_count": 47,
     "metadata": {},
     "output_type": "execute_result"
    }
   ],
   "source": [
    "# Al poner el mismo estado aleatorio inicial se seleccionan los mismos conjuntos de datos\n",
    "(X_train_ohc.index == X_train.index).all()"
   ]
  },
  {
   "cell_type": "markdown",
   "id": "15ad5202-8050-44ea-845c-29110270667a",
   "metadata": {},
   "source": [
    "***Error cuadrático medio en ambos casos para los conjuntos de Entremaniento y Prueba***\n",
    "\n",
    "Esto se hace para determinar que tanto overfitting se tiene\n",
    "\n",
    "El mejor valor posible del coeficiente de determinación R2 (NO ES PEARSON) es 1.0 y no tiene cota inferior, pues el modelo puede ser arbitrariamente malo"
   ]
  },
  {
   "cell_type": "code",
   "execution_count": 59,
   "id": "c5692b26-baf2-4f7e-86ed-733b9e63882b",
   "metadata": {},
   "outputs": [
    {
     "name": "stdout",
     "output_type": "stream",
     "text": [
      "0.06460690498352051\n"
     ]
    },
    {
     "data": {
      "text/html": [
       "<div>\n",
       "<style scoped>\n",
       "    .dataframe tbody tr th:only-of-type {\n",
       "        vertical-align: middle;\n",
       "    }\n",
       "\n",
       "    .dataframe tbody tr th {\n",
       "        vertical-align: top;\n",
       "    }\n",
       "\n",
       "    .dataframe thead th {\n",
       "        text-align: right;\n",
       "    }\n",
       "</style>\n",
       "<table border=\"1\" class=\"dataframe\">\n",
       "  <thead>\n",
       "    <tr style=\"text-align: right;\">\n",
       "      <th></th>\n",
       "      <th>no enc</th>\n",
       "      <th>one-hot enc</th>\n",
       "    </tr>\n",
       "  </thead>\n",
       "  <tbody>\n",
       "    <tr>\n",
       "      <th>train</th>\n",
       "      <td>0.89</td>\n",
       "      <td>0.95</td>\n",
       "    </tr>\n",
       "    <tr>\n",
       "      <th>test</th>\n",
       "      <td>0.63</td>\n",
       "      <td>0.69</td>\n",
       "    </tr>\n",
       "  </tbody>\n",
       "</table>\n",
       "</div>"
      ],
      "text/plain": [
       "      no enc one-hot enc\n",
       "train   0.89        0.95\n",
       "test    0.63        0.69"
      ]
     },
     "execution_count": 59,
     "metadata": {},
     "output_type": "execute_result"
    }
   ],
   "source": [
    "from sklearn.linear_model import LinearRegression\n",
    "from sklearn.metrics import mean_squared_error, r2_score\n",
    "from time import time\n",
    "\n",
    "LR = LinearRegression()\n",
    "LR2 = LinearRegression()\n",
    "# Storage for error values\n",
    "error_df = list()\n",
    "\n",
    "# Data that have not been one-hot encoded\n",
    "t0 = time()\n",
    "LR = LR.fit(X_train, y_train)\n",
    "print(time() - t0)\n",
    "y_train_pred = LR.predict(X_train)\n",
    "y_test_pred = LR.predict(X_test)\n",
    "\n",
    "error_df.append(pd.Series({'train': '{:.2f}'.format(r2_score(y_train, y_train_pred)),\n",
    "                           'test' : '{:.2f}'.format(r2_score(y_test,  y_test_pred))},\n",
    "                           name='no enc'))\n",
    "\n",
    "# Data that have been one-hot encoded\n",
    "LR2 = LR2.fit(X_train_ohc, y_train_ohc)\n",
    "y_train_ohc_pred = LR2.predict(X_train_ohc)\n",
    "y_test_ohc_pred = LR2.predict(X_test_ohc)\n",
    "\n",
    "error_df.append(pd.Series({'train': '{:.2f}'.format(r2_score(y_train_ohc, y_train_ohc_pred)),\n",
    "                           'test' : '{:.2f}'.format(r2_score(y_test_ohc,  y_test_ohc_pred))},\n",
    "                          name='one-hot enc'))\n",
    "\n",
    "# Assemble the results\n",
    "error_df = pd.concat(error_df, axis=1)\n",
    "error_df"
   ]
  },
  {
   "cell_type": "code",
   "execution_count": 52,
   "id": "abbd05a2",
   "metadata": {},
   "outputs": [
    {
     "data": {
      "text/plain": [
       "array([-1.95492042e+01,  4.97610803e-06, -1.74080995e+02, -1.37900407e+02,\n",
       "        6.85073327e-01,  1.88928614e+04,  2.79903737e+03,  2.66201401e+02,\n",
       "        2.04092532e+02,  3.88040449e+01,  8.36204414e+00,  4.80963418e+00,\n",
       "       -5.80069477e+00,  7.37098356e+00,  2.11667591e+01,  9.20126896e+00,\n",
       "        2.09757281e+00,  3.24656008e+01,  8.11632030e+03, -2.34556077e+03,\n",
       "        2.50995262e+03,  3.56110337e+03, -8.53069074e+03, -2.89757639e+04,\n",
       "        5.43464686e+03,  3.33721981e+03, -6.84187557e+01,  8.87399188e+03,\n",
       "        3.00350472e+01,  2.01636308e+01, -5.44509560e+00,  2.02448326e+01,\n",
       "       -8.58090926e+00,  7.81052981e+01, -1.58383048e+02, -2.54968279e-01,\n",
       "       -4.80875959e+01, -1.32303804e+04])"
      ]
     },
     "execution_count": 52,
     "metadata": {},
     "output_type": "execute_result"
    }
   ],
   "source": [
    "LR.coef_"
   ]
  },
  {
   "cell_type": "code",
   "execution_count": 58,
   "id": "928c6238-9a12-4903-a784-6b748e23c5a4",
   "metadata": {},
   "outputs": [
    {
     "data": {
      "image/png": "[encoded data removed]",
      "text/plain": [
       "<Figure size 640x480 with 1 Axes>"
      ]
     },
     "metadata": {},
     "output_type": "display_data"
    }
   ],
   "source": [
    "import matplotlib.pyplot as plt\n",
    "import seaborn as sns\n",
    "%matplotlib inline\n",
    "\n",
    "\n",
    "sns.set_context('talk')\n",
    "sns.set_style('ticks')\n",
    "sns.set_palette('dark')\n",
    "\n",
    "ax = plt.axes()\n",
    "# we are going to use y_test, y_test_pred\n",
    "ax.scatter(y_test, y_test_pred, alpha=.5)\n",
    "\n",
    "ax.set(xlabel='Ground truth', \n",
    "       ylabel='Predictions',\n",
    "       title='Ames, Iowa House Price Predictions vs Truth, using Linear Regression');"
   ]
  },
  {
   "cell_type": "markdown",
   "id": "d0da4510-bb75-4c05-aa61-49f7a4e6acbc",
   "metadata": {},
   "source": [
    "**GUARDAR E IMPORTAR MODELOS**"
   ]
  },
  {
   "cell_type": "code",
   "execution_count": 60,
   "id": "dc6294c8-270b-4831-9de8-481db3bf2563",
   "metadata": {},
   "outputs": [],
   "source": [
    "import pickle\n",
    "pickle.dump(LR, open('Modelo_lr1.p', 'wb'))"
   ]
  },
  {
   "cell_type": "code",
   "execution_count": 61,
   "id": "cdae5782-f3c9-4605-8313-27fbfdeee2a0",
   "metadata": {},
   "outputs": [
    {
     "data": {
      "image/png": "[encoded data removed]",
      "text/plain": [
       "<Figure size 640x480 with 1 Axes>"
      ]
     },
     "metadata": {},
     "output_type": "display_data"
    }
   ],
   "source": [
    "LR_loaded = pickle.load(open('Modelo_lr1.p', 'rb'))\n",
    "y_NEW_pred = LR_loaded.predict(X_test)\n",
    "ax = plt.axes()\n",
    "# we are going to use y_test, y_test_pred\n",
    "ax.scatter(y_test, y_NEW_pred, alpha=.5)\n",
    "\n",
    "ax.set(xlabel='Ground truth', \n",
    "       ylabel='Predictions',\n",
    "       title='Ames, Iowa House Price Predictions vs Truth, using Linear Regression');"
   ]
  }
 ],
 "metadata": {
  "kernelspec": {
   "display_name": "Python 3 (ipykernel)",
   "language": "python",
   "name": "python3"
  },
  "language_info": {
   "codemirror_mode": {
    "name": "ipython",
    "version": 3
   },
   "file_extension": ".py",
   "mimetype": "text/x-python",
   "name": "python",
   "nbconvert_exporter": "python",
   "pygments_lexer": "ipython3",
   "version": "3.10.9"
  }
 },
 "nbformat": 4,
 "nbformat_minor": 5
}
