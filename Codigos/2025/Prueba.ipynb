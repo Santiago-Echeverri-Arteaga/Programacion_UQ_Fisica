{
  "nbformat": 4,
  "nbformat_minor": 0,
  "metadata": {
    "colab": {
      "provenance": [],
      "authorship_tag": "ABX9TyNvJXSBXOhTSbwXvc/ayGHR",
      "include_colab_link": true
    },
    "kernelspec": {
      "name": "python3",
      "display_name": "Python 3"
    },
    "language_info": {
      "name": "python"
    }
  },
  "cells": [
    {
      "cell_type": "markdown",
      "metadata": {
        "id": "view-in-github",
        "colab_type": "text"
      },
      "source": [
        "<a href=\"https://colab.research.google.com/github/Santiago-Echeverri-Arteaga/fantastic-parakeet/blob/master/Prueba.ipynb\" target=\"_parent\"><img src=\"https://colab.research.google.com/assets/colab-badge.svg\" alt=\"Open In Colab\"/></a>"
      ]
    },
    {
      "cell_type": "code",
      "execution_count": 1,
      "metadata": {
        "id": "cwMjpLAfRalm",
        "colab": {
          "base_uri": "https://localhost:8080/"
        },
        "outputId": "09f8caf1-b01d-46a0-fb9a-d566035b7141"
      },
      "outputs": [
        {
          "output_type": "stream",
          "name": "stdout",
          "text": [
            "Hola Mundo 2025\n"
          ]
        }
      ],
      "source": [
        "print(\"Hola Mundo 2025\")"
      ]
    }
  ]
}