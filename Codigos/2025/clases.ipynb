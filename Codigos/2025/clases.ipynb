{
 "cells": [
  {
   "cell_type": "code",
   "execution_count": 20,
   "metadata": {},
   "outputs": [
    {
     "name": "stdout",
     "output_type": "stream",
     "text": [
      "Help on built-in function atan2 in module math:\n",
      "\n",
      "atan2(y, x, /)\n",
      "    Return the arc tangent (measured in radians) of y/x.\n",
      "    \n",
      "    Unlike atan(y/x), the signs of both x and y are considered.\n",
      "\n"
     ]
    }
   ],
   "source": [
    "from math import atan2\n",
    "help(atan2)"
   ]
  },
  {
   "cell_type": "code",
   "execution_count": 61,
   "metadata": {},
   "outputs": [],
   "source": [
    "class vector():\n",
    "    def __init__(self, nombre:str, unidades:str, Coordenada_x:float, Coordenada_y:float):\n",
    "        \"\"\"\n",
    "        Clase Vector ......\n",
    "        \"\"\"\n",
    "        self.x = Coordenada_x\n",
    "        self.y = Coordenada_y\n",
    "        self.name = nombre\n",
    "        self.units = unidades\n",
    "        self.magnitud = (self.x**2+self.y**2)**0.5\n",
    "        from math import atan2\n",
    "        self.angulo = atan2(self.y,self.x)\n",
    "    def __str__(self):\n",
    "        cadena = f\"Vector {self.name}\\n({self.x:.2f},\\\n",
    "{self.y:.2f}){self.units}\\nMagnitud: {self.magnitud:.2f}\\nÁngulo: {self.angulo:.2f}\\n\"\n",
    "        return(cadena)\n",
    "    def producto_escalar(self, otro):\n",
    "        \"\"\"Calcula el producto escalar ....\n",
    "        \"\"\"\n",
    "        return(self.x*otro.x+self.y*otro.y)\n",
    "    def producto_por_escalar(self, escalar):\n",
    "        respuesta = vector(self.name, self.units, escalar*self.x, escalar*self.y)\n",
    "        return(respuesta)\n",
    "    def __add__(self, otro):\n",
    "        if self.units != otro.units:\n",
    "            return\n",
    "        else:\n",
    "            return(vector(self.name+\" + \"+otro.name,self.units, self.x+otro.x,self.y+otro.y))"
   ]
  },
  {
   "cell_type": "code",
   "execution_count": 60,
   "metadata": {},
   "outputs": [
    {
     "name": "stdout",
     "output_type": "stream",
     "text": [
      "Vector Fuerza 1 + Fuerza 2 + Fuerza 3 + Fuerza 4 + Fuerza 5\n",
      "(21.70,36.40)N\n",
      "Magnitud: 42.38\n",
      "Ángulo: 1.03\n",
      "\n",
      "278.6\n"
     ]
    }
   ],
   "source": [
    "v1 = vector(\"Fuerza 1\",\"N\",12,13)\n",
    "v2 = vector(\"Fuerza 2\",\"N\",-1.6,10)\n",
    "v3 = vector(\"Fuerza 3\",\"N\",14.7,13.4)\n",
    "v4 = vector(\"Fuerza 4\",\"N\",-12,-13)\n",
    "v5 = vector(\"Fuerza 5\",\"N\",8.6,13)\n",
    "v6= vector(\"Velocidad\",\"m/s\",12,0.5)\n",
    "v7 = vector()\n",
    "print(v1 + v2 + v3 + v4 + v5)\n",
    "print(v6.producto_escalar(v1 + v2 + v3 + v4 + v5))\n",
    "#print(type(v1))\n",
    "#print(v1.magnitud)\n",
    "#print(v2.magnitud)"
   ]
  },
  {
   "cell_type": "code",
   "execution_count": 41,
   "metadata": {},
   "outputs": [
    {
     "name": "stdout",
     "output_type": "stream",
     "text": [
      "Vector Posición\n",
      "(12,13)m\n",
      "Magnitud: 17.69180601295413\n",
      "Ángulo: 0.8253768505207384\n",
      "\n",
      "Vector Velocidad\n",
      "(12,0)m/s\n",
      "Magnitud: 12.0\n",
      "Ángulo: 0.0\n",
      "\n",
      "144\n",
      "Producto por escalar\n",
      "Vector Posición\n",
      "(36,39)m\n",
      "Magnitud: 53.075418038862395\n",
      "Ángulo: 0.8253768505207384\n",
      "\n"
     ]
    }
   ],
   "source": [
    "print(v1)\n",
    "print(v2)\n",
    "print(v1.producto_escalar(v2))\n",
    "print(\"Producto por escalar\")\n",
    "print(v1.producto_por_escalar(3))"
   ]
  }
 ],
 "metadata": {
  "kernelspec": {
   "display_name": "base",
   "language": "python",
   "name": "python3"
  },
  "language_info": {
   "codemirror_mode": {
    "name": "ipython",
    "version": 3
   },
   "file_extension": ".py",
   "mimetype": "text/x-python",
   "name": "python",
   "nbconvert_exporter": "python",
   "pygments_lexer": "ipython3",
   "version": "3.10.9"
  }
 },
 "nbformat": 4,
 "nbformat_minor": 2
}
