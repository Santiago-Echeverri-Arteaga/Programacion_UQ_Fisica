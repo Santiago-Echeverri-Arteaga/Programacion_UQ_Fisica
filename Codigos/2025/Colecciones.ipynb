{
 "cells": [
  {
   "cell_type": "code",
   "execution_count": 10,
   "metadata": {},
   "outputs": [],
   "source": [
    "set = {\"Pera\",\"Manzana\",1,3,4,2.5,1.5,12,True}\n",
    "#set = {\"Pera\",\"Manzana\",{1,3,4},2.5,1.5,12,True} # Esta línea da error porque\n",
    "#no puedo poner un conjunto dentro de otro conjunto\n",
    "lista = [\"Pera\",\"Manzana\",[1,3,4],2.5,1.5,12,True]\n",
    "diccionario = {\"Gato\":\"Caza ratones\",\"Perro\":\"Defiende la casa\",\"Ratón\":\"Come queso\"}\n",
    "tupla =  (\"Pera\",\"Manzana\",[1,3,4],2.5,1.5,12,True)\n",
    "cadena = \"Hola Mundo\""
   ]
  },
  {
   "cell_type": "markdown",
   "metadata": {},
   "source": [
    "## Indexación [] No aplica a conjuntos"
   ]
  },
  {
   "cell_type": "code",
   "execution_count": 11,
   "metadata": {},
   "outputs": [
    {
     "name": "stdout",
     "output_type": "stream",
     "text": [
      "[1, 3, 4]\n",
      "Caza ratones\n",
      "2.5\n",
      "M\n"
     ]
    }
   ],
   "source": [
    "print(lista[2])\n",
    "print(diccionario[\"Gato\"])\n",
    "print(tupla[3])\n",
    "print(cadena[5])"
   ]
  },
  {
   "cell_type": "markdown",
   "metadata": {},
   "source": [
    "## Repetición No aplica a diccionarios ni a conjuntos"
   ]
  },
  {
   "cell_type": "code",
   "execution_count": 15,
   "metadata": {},
   "outputs": [
    {
     "name": "stdout",
     "output_type": "stream",
     "text": [
      "['Pera', 'Manzana', [1, 3, 4], 2.5, 1.5, 12, True, 'Pera', 'Manzana', [1, 3, 4], 2.5, 1.5, 12, True, 'Pera', 'Manzana', [1, 3, 4], 2.5, 1.5, 12, True]\n",
      "('Pera', 'Manzana', [1, 3, 4], 2.5, 1.5, 12, True, 'Pera', 'Manzana', [1, 3, 4], 2.5, 1.5, 12, True, 'Pera', 'Manzana', [1, 3, 4], 2.5, 1.5, 12, True)\n",
      "Hola MundoHola MundoHola Mundo\n"
     ]
    }
   ],
   "source": [
    "print(lista*3)\n",
    "print(tupla*3)\n",
    "print(cadena*3)"
   ]
  },
  {
   "cell_type": "markdown",
   "metadata": {},
   "source": [
    "## Concatenación No aplica a diccionarios ni a conjuntos"
   ]
  },
  {
   "cell_type": "code",
   "execution_count": 20,
   "metadata": {},
   "outputs": [
    {
     "name": "stdout",
     "output_type": "stream",
     "text": [
      "[1, 2, 3, 4, 5, 6]\n",
      "(1, 2, 3, 4, 5, 6)\n",
      "HolaMundo\n"
     ]
    }
   ],
   "source": [
    "print([1,2,3]+[4,5,6])\n",
    "print((1,2,3)+(4,5,6))\n",
    "print(\"Hola\"+\"Mundo\")"
   ]
  },
  {
   "cell_type": "markdown",
   "metadata": {},
   "source": [
    "## Membership"
   ]
  },
  {
   "cell_type": "code",
   "execution_count": 23,
   "metadata": {},
   "outputs": [
    {
     "name": "stdout",
     "output_type": "stream",
     "text": [
      "True\n",
      "False\n",
      "True\n",
      "True\n",
      "True\n"
     ]
    }
   ],
   "source": [
    "print([1,3,4] in lista)\n",
    "print(\"Gatos\" in diccionario)\n",
    "print(2.5 in tupla)\n",
    "print(\"Pera\" in set)\n",
    "print(\"Hola\" in \"Hola Mundo\")"
   ]
  },
  {
   "cell_type": "markdown",
   "metadata": {},
   "source": [
    "## Length"
   ]
  },
  {
   "cell_type": "code",
   "execution_count": 24,
   "metadata": {},
   "outputs": [
    {
     "name": "stdout",
     "output_type": "stream",
     "text": [
      "7\n",
      "3\n",
      "7\n",
      "10\n",
      "8\n"
     ]
    }
   ],
   "source": [
    "print(len(lista))\n",
    "print(len(diccionario))\n",
    "print(len(tupla))\n",
    "print(len(cadena))\n",
    "print(len(set))"
   ]
  },
  {
   "cell_type": "markdown",
   "metadata": {},
   "source": [
    "## Slicing No aplica a diccionarios ni a sets"
   ]
  },
  {
   "cell_type": "code",
   "execution_count": 29,
   "metadata": {},
   "outputs": [
    {
     "name": "stdout",
     "output_type": "stream",
     "text": [
      "['Pera', 'Manzana', [1, 3, 4], 2.5, 1.5, 12, True]\n",
      "[[1, 3, 4], 2.5, 1.5, 12, True]\n",
      "('Pera', 'Manzana', [1, 3, 4], 2.5, 1.5, 12, True)\n",
      "('Pera', 'Manzana', [1, 3, 4], 2.5, 1.5)\n",
      "Hola Mundo\n",
      "Hola Mundo\n"
     ]
    }
   ],
   "source": [
    "print(lista)\n",
    "print(lista[2:])\n",
    "print(tupla)\n",
    "print(tupla[:5])\n",
    "print(cadena)\n",
    "print(cadena[:])"
   ]
  },
  {
   "cell_type": "markdown",
   "metadata": {},
   "source": [
    "## Mutabilidad"
   ]
  },
  {
   "cell_type": "code",
   "execution_count": 32,
   "metadata": {},
   "outputs": [
    {
     "data": {
      "text/plain": [
       "('Pera', 'Manzana', [1, 3, 4], 2.5, 1.5, 12, True)"
      ]
     },
     "execution_count": 32,
     "metadata": {},
     "output_type": "execute_result"
    }
   ],
   "source": [
    "tupla"
   ]
  },
  {
   "cell_type": "code",
   "execution_count": 34,
   "metadata": {},
   "outputs": [
    {
     "name": "stdout",
     "output_type": "stream",
     "text": [
      "['Pera', 'Manzana', 0, 2.5, 1.5, 12, True]\n"
     ]
    }
   ],
   "source": [
    "lista[2]=0\n",
    "print(lista)"
   ]
  },
  {
   "cell_type": "code",
   "execution_count": 36,
   "metadata": {},
   "outputs": [
    {
     "data": {
      "text/plain": [
       "('Pera', 'Manzana', 0, 2.5, 1.5, 12, True)"
      ]
     },
     "execution_count": 36,
     "metadata": {},
     "output_type": "execute_result"
    }
   ],
   "source": [
    "tupla[:2]+(0,)+tupla[3:]"
   ]
  },
  {
   "cell_type": "markdown",
   "metadata": {},
   "source": [
    "## Métodos de Listas"
   ]
  },
  {
   "cell_type": "code",
   "execution_count": 84,
   "metadata": {},
   "outputs": [
    {
     "name": "stdout",
     "output_type": "stream",
     "text": [
      "lista.count(1): 3\n",
      "lista.append(200): [1, 1, 2, 3, 1, 5, 6, 7, 12, 200]\n",
      "[1, 1, 1, 2, 3, 5, 6, 7, 12, 200]\n",
      "[200, 12, 7, 6, 5, 3, 2, 1, 1, 1]\n",
      "200 1\n",
      "238\n",
      "Index:2\n",
      "lista: [200, 12, 6, 5, 3, 2, 1, 1, 1] pop: 7\n",
      "lista: [200, 12, 900, 6, 5, 3, 2, 1, 1, 1]\n"
     ]
    }
   ],
   "source": [
    "lista = [1,1,2,3,1,5,6,7,12]\n",
    "count = lista.count(1)\n",
    "lista.append(200)\n",
    "print(f\"lista.count(1): {count}\\nlista.append(200): {lista}\")\n",
    "lista.sort()\n",
    "print(lista)\n",
    "lista.reverse()\n",
    "print(lista)\n",
    "maximo = max(lista)\n",
    "minimo = min(lista)\n",
    "print(maximo,minimo)\n",
    "print(sum(lista))\n",
    "print(f\"Index:{lista.index(7)}\")\n",
    "pop = lista.pop(2)\n",
    "print(f\"lista: {lista} pop: {pop}\")\n",
    "lista.insert(2,900)\n",
    "print(f\"lista: {lista}\")"
   ]
  },
  {
   "cell_type": "code",
   "execution_count": 98,
   "metadata": {},
   "outputs": [
    {
     "name": "stdout",
     "output_type": "stream",
     "text": [
      "['Hola', 'Mundo', 'yo', 'soy', 'Santiago']\n",
      "['HOLA', 'MUNDO', 'YO', 'SOY', 'SANTIAGO']\n",
      "32 26\n"
     ]
    }
   ],
   "source": [
    "\"Hola\"+\"Mundo\"+str(347)\n",
    "cadena= \"   Hola, Mundo, yo, soy, Santiago   \"\n",
    "cadena= cadena.replace(\",\",\"\")\n",
    "print(cadena.split())\n",
    "print(cadena.strip().upper().split())\n",
    "print(len(cadena),len(cadena.strip()))"
   ]
  },
  {
   "cell_type": "code",
   "execution_count": 103,
   "metadata": {},
   "outputs": [
    {
     "name": "stdout",
     "output_type": "stream",
     "text": [
      "Hola\n",
      "Mundo\n"
     ]
    }
   ],
   "source": [
    "lista = [\"Hola\",\"Mundo\"]\n",
    "print(\"\\n\".join(lista))"
   ]
  },
  {
   "cell_type": "code",
   "execution_count": 104,
   "metadata": {},
   "outputs": [
    {
     "data": {
      "text/plain": [
       "{'Gato': 'Caza ratones', 'Perro': 'Defiende la casa', 'Ratón': 'Come queso'}"
      ]
     },
     "execution_count": 104,
     "metadata": {},
     "output_type": "execute_result"
    }
   ],
   "source": [
    "diccionario"
   ]
  },
  {
   "cell_type": "code",
   "execution_count": 106,
   "metadata": {},
   "outputs": [
    {
     "data": {
      "text/plain": [
       "{'Gato': 'Mascota domestica tipo felino',\n",
       " 'Perro': 'Defiende la casa',\n",
       " 'Ratón': 'Come queso',\n",
       " 'Pez': 'Mascota que nada'}"
      ]
     },
     "execution_count": 106,
     "metadata": {},
     "output_type": "execute_result"
    }
   ],
   "source": [
    "diccionario[\"Gato\"]=\"Mascota domestica tipo felino\"\n",
    "diccionario[\"Pez\"]=\"Mascota que nada\"\n",
    "diccionario"
   ]
  },
  {
   "cell_type": "code",
   "execution_count": 111,
   "metadata": {},
   "outputs": [
    {
     "data": {
      "text/plain": [
       "'NA'"
      ]
     },
     "execution_count": 111,
     "metadata": {},
     "output_type": "execute_result"
    }
   ],
   "source": [
    "diccionario.get(\"Boa\",\"NA\")"
   ]
  },
  {
   "cell_type": "code",
   "execution_count": 119,
   "metadata": {},
   "outputs": [
    {
     "data": {
      "text/plain": [
       "dict_keys(['Gato', 'Perro', 'Ratón', 'Pez'])"
      ]
     },
     "execution_count": 119,
     "metadata": {},
     "output_type": "execute_result"
    }
   ],
   "source": [
    "diccionario.keys()\n"
   ]
  },
  {
   "cell_type": "code",
   "execution_count": 120,
   "metadata": {},
   "outputs": [
    {
     "data": {
      "text/plain": [
       "dict_values(['Mascota domestica tipo felino', 'Defiende la casa', 'Come queso', 'Mascota que nada'])"
      ]
     },
     "execution_count": 120,
     "metadata": {},
     "output_type": "execute_result"
    }
   ],
   "source": [
    "diccionario.values()\n"
   ]
  },
  {
   "cell_type": "code",
   "execution_count": 121,
   "metadata": {},
   "outputs": [
    {
     "data": {
      "text/plain": [
       "dict_items([('Gato', 'Mascota domestica tipo felino'), ('Perro', 'Defiende la casa'), ('Ratón', 'Come queso'), ('Pez', 'Mascota que nada')])"
      ]
     },
     "execution_count": 121,
     "metadata": {},
     "output_type": "execute_result"
    }
   ],
   "source": [
    "diccionario.items()"
   ]
  },
  {
   "cell_type": "code",
   "execution_count": 122,
   "metadata": {},
   "outputs": [
    {
     "name": "stdout",
     "output_type": "stream",
     "text": [
      "i:Gato j:Mascota domestica tipo felino\n",
      "i:Perro j:Defiende la casa\n",
      "i:Ratón j:Come queso\n",
      "i:Pez j:Mascota que nada\n"
     ]
    }
   ],
   "source": [
    "for i,j in diccionario.items():\n",
    "    print(f\"i:{i} j:{j}\")"
   ]
  }
 ],
 "metadata": {
  "kernelspec": {
   "display_name": "base",
   "language": "python",
   "name": "python3"
  },
  "language_info": {
   "codemirror_mode": {
    "name": "ipython",
    "version": 3
   },
   "file_extension": ".py",
   "mimetype": "text/x-python",
   "name": "python",
   "nbconvert_exporter": "python",
   "pygments_lexer": "ipython3",
   "version": "3.10.9"
  }
 },
 "nbformat": 4,
 "nbformat_minor": 2
}
