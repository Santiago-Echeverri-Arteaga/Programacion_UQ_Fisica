{
 "cells": [
  {
   "cell_type": "markdown",
   "metadata": {
    "id": "LUmSlgd5Su81"
   },
   "source": [
    "## Timing Decorator"
   ]
  },
  {
   "cell_type": "code",
   "execution_count": 16,
   "metadata": {
    "id": "0hdJxTj0Sya9"
   },
   "outputs": [],
   "source": [
    "# Function decorator that times execution\n",
    "from time import time, sleep\n",
    "\n",
    "def timer(func):\n",
    "    # Nested wrapper function\n",
    "    def wrapper():\n",
    "        start = time()\n",
    "        result = func()\n",
    "        end = time()\n",
    "        print(f\"\\tBienvenido a la función {func.__name__}\")\n",
    "        print(\"Cargando sistema\")\n",
    "        for i in range(10):\n",
    "            print(\"*\",end='')\n",
    "            sleep(1)\n",
    "        print(f\"\\nDuration: {end-start}\")\n",
    "        return result\n",
    "    return wrapper"
   ]
  },
  {
   "cell_type": "code",
   "execution_count": 17,
   "metadata": {
    "colab": {
     "base_uri": "https://localhost:8080/"
    },
    "id": "kDuWzY0sS1On",
    "outputId": "101cf504-8eea-46c4-cb05-32c45f39bc56"
   },
   "outputs": [
    {
     "name": "stdout",
     "output_type": "stream",
     "text": [
      "\tBienvenido a la función sum_nums\n",
      "Cargando sistema\n",
      "**********\n",
      "Duration: 6.9141387939453125e-06\n",
      "4950\n"
     ]
    }
   ],
   "source": [
    "@timer\n",
    "def sum_nums():\n",
    "    result = 0\n",
    "    for x in range(100):\n",
    "        result += x\n",
    "    return result\n",
    "\n",
    "print(sum_nums())"
   ]
  },
  {
   "cell_type": "markdown",
   "metadata": {
    "id": "XKZtlHukSVgL"
   },
   "source": [
    "## Logging Decorator"
   ]
  },
  {
   "cell_type": "code",
   "execution_count": 15,
   "metadata": {
    "id": "HjNIcA0ELut2"
   },
   "outputs": [],
   "source": [
    "def logger(func):\n",
    "    def wrapper(*args, **kwargs):\n",
    "        print(f\"Ran {func.__name__} with args: {args}, and kwargs: {kwargs}\")\n",
    "        return func(*args, **kwargs)\n",
    "    return wrapper"
   ]
  },
  {
   "cell_type": "code",
   "execution_count": 23,
   "metadata": {
    "colab": {
     "base_uri": "https://localhost:8080/"
    },
    "id": "4LinzMaSSl8U",
    "outputId": "240b87f7-2501-4141-8e3a-e18aad6eaeed"
   },
   "outputs": [
    {
     "name": "stdout",
     "output_type": "stream",
     "text": [
      "Ran add with args: (10, 20, 30, 1, 200, 12, 122, 123), and kwargs: {'c': 40, 'color': 'blue', 'linewidth': 0.1}\n",
      "Para la función los args son: (30, 1, 200, 12, 122, 123)\n",
      "Para la función los kwargs son: {'c': 40, 'color': 'blue', 'linewidth': 0.1}\n",
      "4900\n",
      "Ran sub with args: (30, 20), and kwargs: {}\n",
      "10\n"
     ]
    }
   ],
   "source": [
    "@logger\n",
    "def add(x, y, *a, **b):\n",
    "    print(f\"Para la función los args son: {a}\")\n",
    "    print(f\"Para la función los kwargs son: {b}\")\n",
    "    return x*sum(a) + y\n",
    "\n",
    "@logger\n",
    "def sub(x, y):\n",
    "    return x - y\n",
    "\n",
    "print(add(10, 20, 30, 1,200,12,122,123, c=40, color=\"blue\", linewidth=0.1))\n",
    "print(sub(30, 20))"
   ]
  },
  {
   "cell_type": "markdown",
   "metadata": {
    "id": "VDGksWR2TbWy"
   },
   "source": [
    "## Caching Decorator"
   ]
  },
  {
   "cell_type": "code",
   "execution_count": 2,
   "metadata": {
    "id": "jPt4JN7_TdWg"
   },
   "outputs": [],
   "source": [
    "import functools\n",
    "\n",
    "def cache(func):\n",
    "    cache_data = {}\n",
    "    @functools.wraps(func) # Using functools.wraps() in Python provides several benefits:\n",
    "                            #Maintains the original function’s metadata.\n",
    "                            #Improves the readability of the code for future maintenance.\n",
    "                            #Ensures that pickling and other serialization processes work as expected.\n",
    "    def wrapper(*args, **kwargs):\n",
    "        key = args + tuple(kwargs.items())\n",
    "        if key not in cache_data:\n",
    "            cache_data[key] = func(*args, **kwargs)\n",
    "            print(cache_data)\n",
    "        return cache_data[key]\n",
    "    return wrapper\n"
   ]
  },
  {
   "cell_type": "code",
   "execution_count": 6,
   "metadata": {
    "id": "09TjFm8JT3yF"
   },
   "outputs": [],
   "source": [
    "import time\n",
    "@cache\n",
    "def expensive_func(*x,**a):\n",
    "    start_time = time.time()\n",
    "    time.sleep(2)\n",
    "    #print(f\"{expensive_func.__name__} ran in {time.time() - start_time:.2f} secs\")\n",
    "    return sum(x)\n",
    "\n",
    "\n"
   ]
  },
  {
   "cell_type": "code",
   "execution_count": 27,
   "metadata": {
    "colab": {
     "base_uri": "https://localhost:8080/"
    },
    "id": "7TWoNRcMUnhu",
    "outputId": "dcb1d20d-b05e-45fd-9e30-6197951bf1b2"
   },
   "outputs": [
    {
     "name": "stdout",
     "output_type": "stream",
     "text": [
      "1. Resultado: 6\n",
      "2. Resultado: 6\n",
      "3. Resultado: 3\n",
      "4. Resultado: 10\n",
      "5. Resultado: 3\n",
      "6. Resultado: 10\n"
     ]
    }
   ],
   "source": [
    "print(\"1. Resultado:\",expensive_func(1,2,3))\n",
    "print(\"2. Resultado:\",expensive_func(1,2,3))\n",
    "print(\"3. Resultado:\",expensive_func(1,2))\n",
    "print(\"4. Resultado:\",expensive_func(1,2,3,4))\n",
    "print(\"5. Resultado:\",expensive_func(1,2))\n",
    "print(\"6. Resultado:\",expensive_func(1,2,3,4))"
   ]
  },
  {
   "cell_type": "code",
   "execution_count": 4,
   "metadata": {
    "id": "XkQvAeY4Tgvq"
   },
   "outputs": [],
   "source": [
    "@cache\n",
    "def fibonacci(n):\n",
    "    if n < 2:\n",
    "        return 1\n",
    "    else:\n",
    "        return fibonacci(n-1) + fibonacci(n-2)"
   ]
  },
  {
   "cell_type": "code",
   "execution_count": 7,
   "metadata": {
    "colab": {
     "base_uri": "https://localhost:8080/"
    },
    "id": "8Fu2C8QKTjVP",
    "outputId": "aa9826e9-59d5-4493-9262-5f3580b9dfbe"
   },
   "outputs": [
    {
     "name": "stdout",
     "output_type": "stream",
     "text": [
      "573147844013817084101\n",
      "CPU times: user 141 µs, sys: 125 µs, total: 266 µs\n",
      "Wall time: 260 µs\n",
      "573147844013817084101\n",
      "CPU times: user 10 µs, sys: 7 µs, total: 17 µs\n",
      "Wall time: 20 µs\n",
      "453973694165307953197296969697410619233826\n",
      "CPU times: user 7 µs, sys: 0 ns, total: 7 µs\n",
      "Wall time: 10 µs\n"
     ]
    }
   ],
   "source": [
    "%time print(fibonacci(100))\n",
    "%time print(fibonacci(100))\n",
    "%time print(fibonacci(200))"
   ]
  },
  {
   "cell_type": "markdown",
   "metadata": {
    "id": "e1MhijB9VUhv"
   },
   "source": [
    "## Delay"
   ]
  },
  {
   "cell_type": "code",
   "execution_count": 8,
   "metadata": {
    "id": "ZsMUnd-rVWfO"
   },
   "outputs": [],
   "source": [
    "import time\n",
    "from functools import wraps\n",
    "\n",
    "def delay(seconds):\n",
    "    def inner(func):\n",
    "        @wraps(func)\n",
    "        def wrapper(*args, **kwargs):\n",
    "            print(f\"Sleeping for {seconds} seconds before running {func.__name__}\")\n",
    "            time.sleep(seconds)\n",
    "            return func(*args, **kwargs)\n",
    "        return wrapper\n",
    "    return inner"
   ]
  },
  {
   "cell_type": "code",
   "execution_count": 15,
   "metadata": {
    "colab": {
     "base_uri": "https://localhost:8080/"
    },
    "id": "bWrBTjKRVYoX",
    "outputId": "04fd8ed8-c925-4ab5-a3e5-f2e41ff91e58"
   },
   "outputs": [
    {
     "name": "stdout",
     "output_type": "stream",
     "text": [
      "Sleeping for 1 seconds before running print_text\n",
      "Hello World\n",
      "args: (1, 2, 3, 4, 5, 6, 7)\n",
      "kwargs: {'c': 1, 'd': 3, 'a': 'sdsd', 'b': [1, 2, 4]}\n"
     ]
    }
   ],
   "source": [
    "@delay(1)\n",
    "def print_text(*a,**b):\n",
    "    print(\"Hello World\")\n",
    "    print(f\"args: {a}\")\n",
    "    print(f\"kwargs: {b}\")\n",
    "\n",
    "print_text(1,2,3,4,5,6,7,c=1,d=3,a=\"sdsd\",b=[1,2,4])"
   ]
  },
  {
   "cell_type": "code",
   "execution_count": null,
   "metadata": {},
   "outputs": [],
   "source": []
  },
  {
   "cell_type": "code",
   "execution_count": null,
   "metadata": {},
   "outputs": [],
   "source": []
  }
 ],
 "metadata": {
  "colab": {
   "provenance": []
  },
  "kernelspec": {
   "display_name": "Python 3",
   "language": "python",
   "name": "python3"
  },
  "language_info": {
   "codemirror_mode": {
    "name": "ipython",
    "version": 3
   },
   "file_extension": ".py",
   "mimetype": "text/x-python",
   "name": "python",
   "nbconvert_exporter": "python",
   "pygments_lexer": "ipython3",
   "version": "3.10.9"
  }
 },
 "nbformat": 4,
 "nbformat_minor": 1
}
