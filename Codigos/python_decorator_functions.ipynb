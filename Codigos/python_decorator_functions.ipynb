{
 "cells": [
  {
   "cell_type": "markdown",
   "metadata": {
    "id": "LUmSlgd5Su81"
   },
   "source": [
    "## Timing Decorator"
   ]
  },
  {
   "cell_type": "code",
   "execution_count": 22,
   "metadata": {
    "id": "0hdJxTj0Sya9"
   },
   "outputs": [],
   "source": [
    "# Function decorator that times execution\n",
    "from time import time\n",
    "\n",
    "def timer(func):\n",
    "    # Nested wrapper function\n",
    "    def wrapper():\n",
    "        start = time()\n",
    "        result = func()\n",
    "        end = time()\n",
    "        print(f\"Duration: {end-start}\")\n",
    "        return result\n",
    "    return wrapper"
   ]
  },
  {
   "cell_type": "code",
   "execution_count": 23,
   "metadata": {
    "colab": {
     "base_uri": "https://localhost:8080/"
    },
    "id": "kDuWzY0sS1On",
    "outputId": "101cf504-8eea-46c4-cb05-32c45f39bc56"
   },
   "outputs": [
    {
     "name": "stdout",
     "output_type": "stream",
     "text": [
      "Duration: 6.198883056640625e-06\n",
      "4950\n"
     ]
    }
   ],
   "source": [
    "@timer\n",
    "def sum_nums():\n",
    "    result = 0\n",
    "    for x in range(100):\n",
    "        result += x\n",
    "    return result\n",
    "\n",
    "print(sum_nums())"
   ]
  },
  {
   "cell_type": "markdown",
   "metadata": {
    "id": "XKZtlHukSVgL"
   },
   "source": [
    "## Logging Decorator"
   ]
  },
  {
   "cell_type": "code",
   "execution_count": 3,
   "metadata": {
    "id": "HjNIcA0ELut2"
   },
   "outputs": [],
   "source": [
    "def logger(func):\n",
    "    def wrapper(*args, **kwargs):\n",
    "        print(f\"Ran {func.__name__} with args: {args}, and kwargs: {kwargs}\")\n",
    "        return func(*args, **kwargs)\n",
    "    return wrapper"
   ]
  },
  {
   "cell_type": "code",
   "execution_count": 28,
   "metadata": {
    "colab": {
     "base_uri": "https://localhost:8080/"
    },
    "id": "4LinzMaSSl8U",
    "outputId": "240b87f7-2501-4141-8e3a-e18aad6eaeed"
   },
   "outputs": [
    {
     "name": "stdout",
     "output_type": "stream",
     "text": [
      "Ran add with args: (10, 20, 30), and kwargs: {'c': 40}\n",
      "30\n",
      "Ran sub with args: (30, 20), and kwargs: {}\n",
      "10\n"
     ]
    }
   ],
   "source": [
    "@logger\n",
    "def add(x, y, *a, **b):\n",
    "    return x + y\n",
    "\n",
    "@logger\n",
    "def sub(x, y):\n",
    "    return x - y\n",
    "\n",
    "print(add(10, 20, 30, c=40))\n",
    "print(sub(30, 20))"
   ]
  },
  {
   "cell_type": "markdown",
   "metadata": {
    "id": "VDGksWR2TbWy"
   },
   "source": [
    "## Caching Decorator"
   ]
  },
  {
   "cell_type": "code",
   "execution_count": 57,
   "metadata": {
    "id": "jPt4JN7_TdWg"
   },
   "outputs": [],
   "source": [
    "import functools\n",
    "\n",
    "def cache(func):\n",
    "    cache_data = {}\n",
    "    @functools.wraps(func) # Using functools.wraps() in Python provides several benefits:\n",
    "                            #Maintains the original function’s metadata.\n",
    "                            #Improves the readability of the code for future maintenance.\n",
    "                            #Ensures that pickling and other serialization processes work as expected.\n",
    "    def wrapper(*args, **kwargs):\n",
    "        key = args + tuple(kwargs.items())\n",
    "        if key not in cache_data:\n",
    "            cache_data[key] = func(*args, **kwargs)\n",
    "            print(cache_data)\n",
    "        return cache_data[key]\n",
    "    return wrapper\n"
   ]
  },
  {
   "cell_type": "code",
   "execution_count": 62,
   "metadata": {
    "id": "09TjFm8JT3yF"
   },
   "outputs": [],
   "source": [
    "import time\n",
    "@cache\n",
    "def expensive_func(*x,**a):\n",
    "    start_time = time.time()\n",
    "    time.sleep(2)\n",
    "    print(f\"{expensive_func.__name__} ran in {time.time() - start_time:.2f} secs\")\n",
    "    return sum(x)\n",
    "\n",
    "\n"
   ]
  },
  {
   "cell_type": "code",
   "execution_count": 63,
   "metadata": {
    "colab": {
     "base_uri": "https://localhost:8080/"
    },
    "id": "7TWoNRcMUnhu",
    "outputId": "dcb1d20d-b05e-45fd-9e30-6197951bf1b2"
   },
   "outputs": [
    {
     "name": "stdout",
     "output_type": "stream",
     "text": [
      "expensive_func ran in 2.00 secs\n",
      "{(1, 2, 3): 6}\n",
      "1. Resultado: 6\n",
      "2. Resultado: 6\n",
      "expensive_func ran in 2.00 secs\n",
      "{(1, 2, 3): 6, (1, 2): 3}\n",
      "3. Resultado: 3\n",
      "expensive_func ran in 2.00 secs\n",
      "{(1, 2, 3): 6, (1, 2): 3, (1, 2, 3, 4): 10}\n",
      "4. Resultado: 10\n"
     ]
    }
   ],
   "source": [
    "print(\"1. Resultado:\",expensive_func(1,2,3))\n",
    "print(\"2. Resultado:\",expensive_func(1,2,3))\n",
    "print(\"3. Resultado:\",expensive_func(1,2))\n",
    "print(\"4. Resultado:\",expensive_func(1,2,3,4))"
   ]
  },
  {
   "cell_type": "code",
   "execution_count": 9,
   "metadata": {
    "id": "XkQvAeY4Tgvq"
   },
   "outputs": [],
   "source": [
    "@cache\n",
    "def fibonacci(n):\n",
    "    if n < 2:\n",
    "        return n\n",
    "    else:\n",
    "        return fibonacci(n-1) + fibonacci(n-2)"
   ]
  },
  {
   "cell_type": "code",
   "execution_count": 70,
   "metadata": {
    "colab": {
     "base_uri": "https://localhost:8080/"
    },
    "id": "8Fu2C8QKTjVP",
    "outputId": "aa9826e9-59d5-4493-9262-5f3580b9dfbe"
   },
   "outputs": [
    {
     "name": "stdout",
     "output_type": "stream",
     "text": [
      "43466557686937456435688527675040625802564660517371780402481729089536555417949051890403879840079255169295922593080322634775209689623239873322471161642996440906533187938298969649928516003704476137795166849228875\n",
      "CPU times: user 213 µs, sys: 6 µs, total: 219 µs\n",
      "Wall time: 192 µs\n",
      "43466557686937456435688527675040625802564660517371780402481729089536555417949051890403879840079255169295922593080322634775209689623239873322471161642996440906533187938298969649928516003704476137795166849228875\n",
      "CPU times: user 37 µs, sys: 0 ns, total: 37 µs\n",
      "Wall time: 36.7 µs\n",
      "4224696333392304878706725602341482782579852840250681098010280137314308584370130707224123599639141511088446087538909603607640194711643596029271983312598737326253555802606991585915229492453904998722256795316982874482472992263901833716778060607011615497886719879858311468870876264597369086722884023654422295243347964480139515349562972087652656069529806499841977448720155612802665404554171717881930324025204312082516817125\n",
      "CPU times: user 39 µs, sys: 0 ns, total: 39 µs\n",
      "Wall time: 37.4 µs\n"
     ]
    }
   ],
   "source": [
    "%time print(fibonacci(1000))\n",
    "%time print(fibonacci(1000))\n",
    "%time print(fibonacci(2000))"
   ]
  },
  {
   "cell_type": "markdown",
   "metadata": {
    "id": "e1MhijB9VUhv"
   },
   "source": [
    "## Delay"
   ]
  },
  {
   "cell_type": "code",
   "execution_count": 71,
   "metadata": {
    "id": "ZsMUnd-rVWfO"
   },
   "outputs": [],
   "source": [
    "import time\n",
    "from functools import wraps\n",
    "\n",
    "def delay(seconds):\n",
    "    def inner(func):\n",
    "        @wraps(func)\n",
    "        def wrapper(*args, **kwargs):\n",
    "            print(f\"Sleeping for {seconds} seconds before running {func.__name__}\")\n",
    "            time.sleep(seconds)\n",
    "            return func(*args, **kwargs)\n",
    "        return wrapper\n",
    "    return inner"
   ]
  },
  {
   "cell_type": "code",
   "execution_count": 72,
   "metadata": {
    "colab": {
     "base_uri": "https://localhost:8080/"
    },
    "id": "bWrBTjKRVYoX",
    "outputId": "04fd8ed8-c925-4ab5-a3e5-f2e41ff91e58"
   },
   "outputs": [
    {
     "name": "stdout",
     "output_type": "stream",
     "text": [
      "Sleeping for 3 seconds before running print_text\n",
      "Hello World\n"
     ]
    }
   ],
   "source": [
    "@delay(seconds=3)\n",
    "def print_text():\n",
    "    print(\"Hello World\")\n",
    "\n",
    "print_text()"
   ]
  },
  {
   "cell_type": "code",
   "execution_count": null,
   "metadata": {},
   "outputs": [],
   "source": []
  },
  {
   "cell_type": "code",
   "execution_count": null,
   "metadata": {},
   "outputs": [],
   "source": []
  }
 ],
 "metadata": {
  "colab": {
   "provenance": []
  },
  "kernelspec": {
   "display_name": "Python 3",
   "language": "python",
   "name": "python3"
  },
  "language_info": {
   "codemirror_mode": {
    "name": "ipython",
    "version": 3
   },
   "file_extension": ".py",
   "mimetype": "text/x-python",
   "name": "python",
   "nbconvert_exporter": "python",
   "pygments_lexer": "ipython3",
   "version": "3.7.6"
  }
 },
 "nbformat": 4,
 "nbformat_minor": 1
}
