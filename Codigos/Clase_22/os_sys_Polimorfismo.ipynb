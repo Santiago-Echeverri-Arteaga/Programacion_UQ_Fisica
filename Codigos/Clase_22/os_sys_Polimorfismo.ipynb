{
 "cells": [
  {
   "cell_type": "markdown",
   "metadata": {},
   "source": [
    "# Librería OS"
   ]
  },
  {
   "cell_type": "code",
   "execution_count": 15,
   "metadata": {},
   "outputs": [],
   "source": [
    "dir = os.path.join(os.getcwd(),\"Repositorio_Curso\",\"Codigos\")\n",
    "os.chdir(dir)"
   ]
  },
  {
   "cell_type": "code",
   "execution_count": 16,
   "metadata": {},
   "outputs": [
    {
     "name": "stdout",
     "output_type": "stream",
     "text": [
      "Directorio: .\n",
      "--------------------\n",
      "Directorio: ./Clase_5\n",
      "Archivos .py: ['Movimiento_parabolico.py']\n",
      "--------------------\n",
      "Directorio: ./Clase_18\n",
      "--------------------\n",
      "Directorio: ./Clase 4\n",
      "Archivos .py: ['main.py']\n",
      "--------------------\n",
      "Directorio: ./Clase 4/entorno_1\n",
      "--------------------\n",
      "Directorio: ./Clase_8\n",
      "Archivos .py: ['Mecanica.py', 'FuncionFisica.py']\n",
      "--------------------\n",
      "Directorio: ./Clase_22\n",
      "--------------------\n",
      "Directorio: ./Clase_7\n",
      "Archivos .py: ['mi_primer_Clase.py']\n",
      "--------------------\n",
      "Directorio: ./Clase_12_13\n",
      "--------------------\n",
      "Directorio: ./Clase_20_21\n",
      "--------------------\n"
     ]
    }
   ],
   "source": [
    "import os\n",
    "\n",
    "def listar_archivos_tipo(ruta, extension):\n",
    "    for dirpath, dirnames, filenames in os.walk(ruta):\n",
    "        print(f\"Directorio: {dirpath}\")\n",
    "        archivos_filtrados = [archivo for archivo in filenames if archivo.endswith(extension)]\n",
    "        if archivos_filtrados:\n",
    "            print(f\"Archivos {extension}: {archivos_filtrados}\")\n",
    "        print(\"-\" * 20)\n",
    "\n",
    "# Ejemplo de uso: listar solo archivos \".py\"\n",
    "listar_archivos_tipo(\".\", \".py\")"
   ]
  },
  {
   "cell_type": "code",
   "execution_count": 4,
   "metadata": {},
   "outputs": [
    {
     "data": {
      "text/plain": [
       "'/Users/itnas/Documents/UQ/Programacion'"
      ]
     },
     "execution_count": 4,
     "metadata": {},
     "output_type": "execute_result"
    }
   ],
   "source": [
    "os.chdir(\"../..\")\n",
    "os.getcwd()"
   ]
  },
  {
   "cell_type": "code",
   "execution_count": 5,
   "metadata": {},
   "outputs": [
    {
     "data": {
      "text/plain": [
       "environ{'COMMAND_MODE': 'unix2003',\n",
       "        'HOME': '/Users/itnas',\n",
       "        'HOMEBREW_CELLAR': '/opt/homebrew/Cellar',\n",
       "        'HOMEBREW_PREFIX': '/opt/homebrew',\n",
       "        'HOMEBREW_REPOSITORY': '/opt/homebrew',\n",
       "        'INFOPATH': '/opt/homebrew/share/info:',\n",
       "        'LESS': '-R',\n",
       "        'LOGNAME': 'itnas',\n",
       "        'LSCOLORS': 'Gxfxcxdxbxegedabagacad',\n",
       "        'LS_COLORS': 'di=1;36:ln=35:so=32:pi=33:ex=31:bd=34;46:cd=34;43:su=30;41:sg=30;46:tw=30;42:ow=30;43',\n",
       "        'LaunchInstanceID': '505F2750-9AAD-467B-9FCD-708EFB9FCC3C',\n",
       "        'MANPATH': '/opt/homebrew/share/man::',\n",
       "        'MallocNanoZone': '0',\n",
       "        'OLDPWD': '/',\n",
       "        'ORIGINAL_XDG_CURRENT_DESKTOP': 'undefined',\n",
       "        'PAGER': 'cat',\n",
       "        'PATH': '/Users/itnas/miniconda3/envs/tensorflow/bin:/Users/itnas/miniconda3/condabin:/Library/Frameworks/Python.framework/Versions/3.7/bin:/opt/homebrew/bin:/opt/homebrew/sbin:/usr/local/bin:/System/Cryptexes/App/usr/bin:/usr/bin:/bin:/usr/sbin:/sbin:/var/run/com.apple.security.cryptexd/codex.system/bootstrap/usr/local/bin:/var/run/com.apple.security.cryptexd/codex.system/bootstrap/usr/bin:/var/run/com.apple.security.cryptexd/codex.system/bootstrap/usr/appleinternal/bin:/Library/Apple/usr/bin:/Library/TeX/texbin:/Applications/Wireshark.app/Contents/MacOS:/usr/local/mysql/bin',\n",
       "        'PWD': '/',\n",
       "        'PYTHONPATH': '/usr/bin/python3',\n",
       "        'SECURITYSESSIONID': '186ab',\n",
       "        'SHELL': '/bin/zsh',\n",
       "        'SHLVL': '2',\n",
       "        'SSH_AUTH_SOCK': '/private/tmp/com.apple.launchd.6j9C0Z4Mrj/Listeners',\n",
       "        'TMPDIR': '/var/folders/pb/ldktvl7n1cjb78yx2vbmbmdr0000gn/T/',\n",
       "        'USER': 'itnas',\n",
       "        'VIRTUAL_ENV_DISABLE_PROMPT': '1',\n",
       "        'VSCODE_AMD_ENTRYPOINT': 'vs/workbench/api/node/extensionHostProcess',\n",
       "        'VSCODE_CODE_CACHE_PATH': '/Users/itnas/Library/Application Support/Code/CachedData/38c31bc77e0dd6ae88a4e9cc93428cc27a56ba40',\n",
       "        'VSCODE_CRASH_REPORTER_PROCESS_TYPE': 'extensionHost',\n",
       "        'VSCODE_CWD': '/',\n",
       "        'VSCODE_HANDLES_UNCAUGHT_ERRORS': 'true',\n",
       "        'VSCODE_IPC_HOOK': '/Users/itnas/Library/Application Support/Code/1.93-main.sock',\n",
       "        'VSCODE_NLS_CONFIG': '{\"userLocale\":\"es\",\"osLocale\":\"es-co\",\"resolvedLanguage\":\"es\",\"defaultMessagesFile\":\"/Applications/Visual Studio Code.app/Contents/Resources/app/out/nls.messages.json\",\"languagePack\":{\"translationsConfigFile\":\"/Users/itnas/Library/Application Support/Code/clp/eaa2fea9596bb553b799b0a62c988a50.es/tcf.json\",\"messagesFile\":\"/Users/itnas/Library/Application Support/Code/clp/eaa2fea9596bb553b799b0a62c988a50.es/38c31bc77e0dd6ae88a4e9cc93428cc27a56ba40/nls.messages.json\",\"corruptMarkerFile\":\"/Users/itnas/Library/Application Support/Code/clp/eaa2fea9596bb553b799b0a62c988a50.es/corrupted.info\"},\"locale\":\"es\",\"availableLanguages\":{\"*\":\"es\"},\"_languagePackId\":\"eaa2fea9596bb553b799b0a62c988a50.es\",\"_languagePackSupport\":true,\"_translationsConfigFile\":\"/Users/itnas/Library/Application Support/Code/clp/eaa2fea9596bb553b799b0a62c988a50.es/tcf.json\",\"_cacheRoot\":\"/Users/itnas/Library/Application Support/Code/clp/eaa2fea9596bb553b799b0a62c988a50.es\",\"_resolvedLanguagePackCoreLocation\":\"/Users/itnas/Library/Application Support/Code/clp/eaa2fea9596bb553b799b0a62c988a50.es/38c31bc77e0dd6ae88a4e9cc93428cc27a56ba40\",\"_corruptedFile\":\"/Users/itnas/Library/Application Support/Code/clp/eaa2fea9596bb553b799b0a62c988a50.es/corrupted.info\"}',\n",
       "        'VSCODE_PID': '1967',\n",
       "        'XPC_FLAGS': '0x0',\n",
       "        'XPC_SERVICE_NAME': '0',\n",
       "        'ZSH': '/Users/itnas/.oh-my-zsh',\n",
       "        '_': '/Users/itnas/miniconda3/envs/tensorflow/bin/python',\n",
       "        '__CFBundleIdentifier': 'com.microsoft.VSCode',\n",
       "        '__CF_USER_TEXT_ENCODING': '0x1F5:0x0:0x8',\n",
       "        'ELECTRON_RUN_AS_NODE': '1',\n",
       "        'APPLICATION_INSIGHTS_NO_DIAGNOSTIC_CHANNEL': '1',\n",
       "        '__TELEMETRY_CLIENT_ID': '3e407b74-a733-407b-88d9-cbbd7f3ab9dd',\n",
       "        'VSCODE_L10N_BUNDLE_LOCATION': 'file:///Users/itnas/.vscode/extensions/ms-ceintl.vscode-language-pack-es-1.93.2024091109/translations/extensions/vscode.json-language-features.i18n.json',\n",
       "        'AWS_SDK_LOAD_CONFIG': 'true',\n",
       "        'CONDA_SHLVL': '2',\n",
       "        'CONDA_PROMPT_MODIFIER': '(tensorflow) ',\n",
       "        'PYTHONUNBUFFERED': '1',\n",
       "        'PYTHONIOENCODING': 'utf-8',\n",
       "        'CONDA_EXE': '/Users/itnas/miniconda3/bin/conda',\n",
       "        '_CE_CONDA': '',\n",
       "        'CONDA_PREFIX_1': '/Users/itnas/miniconda3',\n",
       "        'CONDA_ROOT': '/Users/itnas/miniconda3',\n",
       "        'XML_CATALOG_FILES': 'file:///Users/itnas/miniconda3/envs/tensorflow/etc/xml/catalog file:///etc/xml/catalog',\n",
       "        'CONDA_PREFIX': '/Users/itnas/miniconda3/envs/tensorflow',\n",
       "        '_CE_M': '',\n",
       "        'CONDA_PYTHON_EXE': '/Users/itnas/miniconda3/bin/python',\n",
       "        'LC_CTYPE': 'UTF-8',\n",
       "        'CONDA_DEFAULT_ENV': 'tensorflow',\n",
       "        'PYDEVD_IPYTHON_COMPATIBLE_DEBUGGING': '1',\n",
       "        'PYTHON_FROZEN_MODULES': 'on',\n",
       "        'PYDEVD_USE_FRAME_EVAL': 'NO',\n",
       "        'TERM': 'xterm-color',\n",
       "        'CLICOLOR': '1',\n",
       "        'FORCE_COLOR': '1',\n",
       "        'CLICOLOR_FORCE': '1',\n",
       "        'GIT_PAGER': 'cat',\n",
       "        'MPLBACKEND': 'module://matplotlib_inline.backend_inline'}"
      ]
     },
     "execution_count": 5,
     "metadata": {},
     "output_type": "execute_result"
    }
   ],
   "source": [
    "os.environ"
   ]
  },
  {
   "cell_type": "code",
   "execution_count": 18,
   "metadata": {},
   "outputs": [
    {
     "data": {
      "text/plain": [
       "['.DS_Store',\n",
       " 'Clase_5',\n",
       " 'Clase_18',\n",
       " 'Clase 4',\n",
       " 'Clase_8',\n",
       " 'Clase_22',\n",
       " 'Clase_7',\n",
       " 'Clase_12_13',\n",
       " 'Clase_20_21']"
      ]
     },
     "execution_count": 18,
     "metadata": {},
     "output_type": "execute_result"
    }
   ],
   "source": [
    "os.listdir(os.getcwd())"
   ]
  },
  {
   "cell_type": "code",
   "execution_count": 19,
   "metadata": {},
   "outputs": [
    {
     "name": "stdout",
     "output_type": "stream",
     "text": [
      "Directorio creado: nuevo_directorio\n"
     ]
    }
   ],
   "source": [
    "import os\n",
    "\n",
    "def crear_directorio_si_no_existe(ruta_directorio):\n",
    "    if not os.path.exists(ruta_directorio):\n",
    "        os.makedirs(ruta_directorio)\n",
    "        print(f\"Directorio creado: {ruta_directorio}\")\n",
    "    else:\n",
    "        print(f\"El directorio ya existe: {ruta_directorio}\")\n",
    "\n",
    "# Ejemplo de uso\n",
    "crear_directorio_si_no_existe(\"nuevo_directorio\")"
   ]
  },
  {
   "cell_type": "code",
   "execution_count": 20,
   "metadata": {},
   "outputs": [
    {
     "data": {
      "text/plain": [
       "['.DS_Store',\n",
       " 'Clase_5',\n",
       " 'Clase_18',\n",
       " 'Clase 4',\n",
       " 'Clase_8',\n",
       " 'Clase_22',\n",
       " 'Clase_7',\n",
       " 'Clase_12_13',\n",
       " 'Clase_20_21',\n",
       " 'nuevo_directorio']"
      ]
     },
     "execution_count": 20,
     "metadata": {},
     "output_type": "execute_result"
    }
   ],
   "source": [
    "os.listdir()"
   ]
  },
  {
   "cell_type": "code",
   "execution_count": 21,
   "metadata": {},
   "outputs": [
    {
     "data": {
      "text/plain": [
       "['.DS_Store',\n",
       " 'Clase_5',\n",
       " 'Clase_18',\n",
       " 'Clase 4',\n",
       " 'Clase_8',\n",
       " 'Clase_22',\n",
       " 'Clase_7',\n",
       " 'Clase_12_13',\n",
       " 'Clase_20_21']"
      ]
     },
     "execution_count": 21,
     "metadata": {},
     "output_type": "execute_result"
    }
   ],
   "source": [
    "os.system(\"rm -rf nuevo_directorio\")\n",
    "os.listdir()"
   ]
  },
  {
   "cell_type": "markdown",
   "metadata": {},
   "source": [
    "# Librería SYS"
   ]
  },
  {
   "cell_type": "code",
   "execution_count": null,
   "metadata": {},
   "outputs": [],
   "source": []
  },
  {
   "cell_type": "markdown",
   "metadata": {},
   "source": [
    "# Polimorfismo"
   ]
  },
  {
   "cell_type": "code",
   "execution_count": null,
   "metadata": {},
   "outputs": [],
   "source": []
  }
 ],
 "metadata": {
  "kernelspec": {
   "display_name": "Python 3.10 (tensorflow)",
   "language": "python",
   "name": "tensorflow"
  },
  "language_info": {
   "codemirror_mode": {
    "name": "ipython",
    "version": 3
   },
   "file_extension": ".py",
   "mimetype": "text/x-python",
   "name": "python",
   "nbconvert_exporter": "python",
   "pygments_lexer": "ipython3",
   "version": "3.10.9"
  }
 },
 "nbformat": 4,
 "nbformat_minor": 2
}
