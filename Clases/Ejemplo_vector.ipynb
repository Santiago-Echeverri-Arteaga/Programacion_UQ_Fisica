{
  "nbformat": 4,
  "nbformat_minor": 0,
  "metadata": {
    "colab": {
      "provenance": []
    },
    "kernelspec": {
      "name": "python3",
      "display_name": "Python 3"
    },
    "language_info": {
      "name": "python"
    }
  },
  "cells": [
    {
      "cell_type": "markdown",
      "source": [
        "# Mi primer programa\n",
        "\n",
        "## Definición de objetos"
      ],
      "metadata": {
        "id": "gA65LKyGwJgw"
      }
    },
    {
      "cell_type": "code",
      "execution_count": null,
      "metadata": {
        "id": "EkRln4VEnoGe"
      },
      "outputs": [],
      "source": [
        "import math\n",
        "class Vector:\n",
        "  def __init__(self, coordenada_x, coordenada_y):\n",
        "    self.x = coordenada_x\n",
        "    self.y = coordenada_y\n",
        "    self.magnitud = (self.x**2 + self.y**2)**0.5\n",
        "    self.angulo = math.atan2(self.y,self.x)\n",
        "  def __str__(self):\n",
        "    respuesta = \"( \"+str(self.x)+\" , \"+str(self.y)+\" )\"\n",
        "    return(respuesta)\n",
        "  def suma(self, otra):\n",
        "    respuesta = Vector(self.x+otra.x,self.y+otra.y)\n",
        "    return(respuesta)\n",
        "  def escalar(self, otra):\n",
        "    return(self.x*otra.x+self.y*otra.y)"
      ]
    },
    {
      "cell_type": "markdown",
      "source": [
        "## Uso de Objetos"
      ],
      "metadata": {
        "id": "jfvJbZJMwT31"
      }
    },
    {
      "cell_type": "code",
      "source": [
        "1# Defino vectores\n",
        "x_1 = float(input(\"Ingrese coordenada X: \"))\n",
        "y_1 = float(input(\"Ingrese coordenada Y: \"))\n",
        "\n",
        "x_2 = float(input(\"Ingrese coordenada X: \"))\n",
        "y_2 = float(input(\"Ingrese coordenada Y: \"))\n",
        "\n",
        "vec_1=Vector(x_1, y_1)\n",
        "vec_2=Vector(x_2, y_2)\n",
        "print(\"Vector 1:\",vec_1)\n",
        "print(\"Vector 2:\",vec_2)\n",
        "print(\"Suma\",vec_1.suma(vec_2))\n",
        "print(vec_2.angulo)"
      ],
      "metadata": {
        "colab": {
          "base_uri": "https://localhost:8080/"
        },
        "id": "KJDgprK4vQQP",
        "outputId": "3c61e83e-555c-4382-ca62-a68a72e734cb"
      },
      "execution_count": null,
      "outputs": [
        {
          "output_type": "stream",
          "name": "stdout",
          "text": [
            "Ingrese coordenada X: 12\n",
            "Ingrese coordenada Y: 14\n",
            "Ingrese coordenada X: 12\n",
            "Ingrese coordenada Y: 15\n",
            "Vector 1: ( 12.0 , 14.0 )\n",
            "Vector 2: ( 12.0 , 15.0 )\n",
            "Suma ( 24.0 , 29.0 )\n",
            "0.8960553845713439\n"
          ]
        }
      ]
    },
    {
      "cell_type": "code",
      "source": [
        "1vec_1 = Vector(12,15)\n",
        "vec_2 = Vector(13.5,12.7)\n",
        "print(\"La componente\\\n",
        "\\\n",
        "en X es:\",\n",
        "vec_1.x, \"\\n\\n\", \"La componente en Y es:\",vec_1.y,end='\\n\\n')\n",
        "print(\"La magnitud es:\",vec_1.magnitud)\n",
        "print(\"La componente en X es:\",vec_2.x)\n",
        "print(\"La componente en Y es:\",vec_2.y)\n",
        "print(\"La magnitud es:\",vec_2.magnitud)"
      ],
      "metadata": {
        "colab": {
          "base_uri": "https://localhost:8080/"
        },
        "id": "-yH1PFPdptpX",
        "outputId": "f019fd49-170c-4c97-ce3b-ff50d9adf502"
      },
      "execution_count": null,
      "outputs": [
        {
          "output_type": "stream",
          "name": "stdout",
          "text": [
            "La componenteen X es: 12 \n",
            "\n",
            " La componente en Y es: 15\n",
            "\n",
            "La magnitud es: 19.209372712298546\n",
            "La componente en X es: 13.5\n",
            "La componente en Y es: 12.7\n",
            "La magnitud es: 18.534832073693032\n"
          ]
        }
      ]
    },
    {
      "cell_type": "code",
      "source": [
        "import math\n",
        "#help(math)"
      ],
      "metadata": {
        "id": "ld-DeuByqdC4"
      },
      "execution_count": null,
      "outputs": []
    },
    {
      "cell_type": "code",
      "source": [
        "]help(print)"
      ],
      "metadata": {
        "colab": {
          "base_uri": "https://localhost:8080/"
        },
        "id": "0ur8Ioqwrg6S",
        "outputId": "62d37732-56cf-4ae0-8524-e913c70ab587"
      },
      "execution_count": null,
      "outputs": [
        {
          "output_type": "stream",
          "name": "stdout",
          "text": [
            "Help on built-in function print in module builtins:\n",
            "\n",
            "print(...)\n",
            "    print(value, ..., sep=' ', end='\\n', file=sys.stdout, flush=False)\n",
            "    \n",
            "    Prints the values to a stream, or to sys.stdout by default.\n",
            "    Optional keyword arguments:\n",
            "    file:  a file-like object (stream); defaults to the current sys.stdout.\n",
            "    sep:   string inserted between values, default a space.\n",
            "    end:   string appended after the last value, default a newline.\n",
            "    flush: whether to forcibly flush the stream.\n",
            "\n"
          ]
        }
      ]
    },
    {
      "cell_type": "code",
      "source": [],
      "metadata": {
        "id": "A8W9ZU_Ur6xo"
      },
      "execution_count": null,
      "outputs": []
    }
  ]
}